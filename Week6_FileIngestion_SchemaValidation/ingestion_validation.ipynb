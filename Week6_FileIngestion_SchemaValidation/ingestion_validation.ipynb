{
 "cells": [
  {
   "cell_type": "code",
   "execution_count": 3,
   "metadata": {},
   "outputs": [],
   "source": [
    "import dask.dataframe as dd\n",
    "import numpy as np\n",
    "import seaborn as sb\n"
   ]
  },
  {
   "cell_type": "code",
   "execution_count": 4,
   "metadata": {},
   "outputs": [],
   "source": [
    "park_df = dd.read_csv('datasets/Parking_Violations_Issued_-_Fiscal_Year_2015.csv')"
   ]
  },
  {
   "cell_type": "code",
   "execution_count": 6,
   "metadata": {},
   "outputs": [
    {
     "data": {
      "text/html": [
       "<div><strong>Dask DataFrame Structure:</strong></div>\n",
       "<div>\n",
       "<style scoped>\n",
       "    .dataframe tbody tr th:only-of-type {\n",
       "        vertical-align: middle;\n",
       "    }\n",
       "\n",
       "    .dataframe tbody tr th {\n",
       "        vertical-align: top;\n",
       "    }\n",
       "\n",
       "    .dataframe thead th {\n",
       "        text-align: right;\n",
       "    }\n",
       "</style>\n",
       "<table border=\"1\" class=\"dataframe\">\n",
       "  <thead>\n",
       "    <tr style=\"text-align: right;\">\n",
       "      <th></th>\n",
       "      <th>Summons Number</th>\n",
       "      <th>Violation Code</th>\n",
       "      <th>Street Code1</th>\n",
       "      <th>Street Code2</th>\n",
       "      <th>Street Code3</th>\n",
       "      <th>Violation Location</th>\n",
       "      <th>Violation Precinct</th>\n",
       "      <th>Issuer Precinct</th>\n",
       "      <th>Issuer Code</th>\n",
       "      <th>Time First Observed</th>\n",
       "      <th>Law Section</th>\n",
       "      <th>Violation Legal Code</th>\n",
       "      <th>Unregistered Vehicle?</th>\n",
       "      <th>Vehicle Year</th>\n",
       "      <th>Meter Number</th>\n",
       "      <th>Feet From Curb</th>\n",
       "      <th>No Standing or Stopping Violation</th>\n",
       "      <th>Hydrant Violation</th>\n",
       "      <th>Double Parking Violation</th>\n",
       "      <th>Latitude</th>\n",
       "      <th>Longitude</th>\n",
       "      <th>Community Board</th>\n",
       "      <th>Community Council</th>\n",
       "      <th>Census Tract</th>\n",
       "      <th>BIN</th>\n",
       "      <th>BBL</th>\n",
       "      <th>NTA</th>\n",
       "    </tr>\n",
       "    <tr>\n",
       "      <th>npartitions=1</th>\n",
       "      <th></th>\n",
       "      <th></th>\n",
       "      <th></th>\n",
       "      <th></th>\n",
       "      <th></th>\n",
       "      <th></th>\n",
       "      <th></th>\n",
       "      <th></th>\n",
       "      <th></th>\n",
       "      <th></th>\n",
       "      <th></th>\n",
       "      <th></th>\n",
       "      <th></th>\n",
       "      <th></th>\n",
       "      <th></th>\n",
       "      <th></th>\n",
       "      <th></th>\n",
       "      <th></th>\n",
       "      <th></th>\n",
       "      <th></th>\n",
       "      <th></th>\n",
       "      <th></th>\n",
       "      <th></th>\n",
       "      <th></th>\n",
       "      <th></th>\n",
       "      <th></th>\n",
       "      <th></th>\n",
       "    </tr>\n",
       "  </thead>\n",
       "  <tbody>\n",
       "    <tr>\n",
       "      <th></th>\n",
       "      <td>float64</td>\n",
       "      <td>float64</td>\n",
       "      <td>float64</td>\n",
       "      <td>float64</td>\n",
       "      <td>float64</td>\n",
       "      <td>float64</td>\n",
       "      <td>float64</td>\n",
       "      <td>float64</td>\n",
       "      <td>float64</td>\n",
       "      <td>float64</td>\n",
       "      <td>float64</td>\n",
       "      <td>float64</td>\n",
       "      <td>float64</td>\n",
       "      <td>float64</td>\n",
       "      <td>float64</td>\n",
       "      <td>float64</td>\n",
       "      <td>float64</td>\n",
       "      <td>float64</td>\n",
       "      <td>float64</td>\n",
       "      <td>float64</td>\n",
       "      <td>float64</td>\n",
       "      <td>float64</td>\n",
       "      <td>float64</td>\n",
       "      <td>float64</td>\n",
       "      <td>float64</td>\n",
       "      <td>float64</td>\n",
       "      <td>float64</td>\n",
       "    </tr>\n",
       "    <tr>\n",
       "      <th></th>\n",
       "      <td>...</td>\n",
       "      <td>...</td>\n",
       "      <td>...</td>\n",
       "      <td>...</td>\n",
       "      <td>...</td>\n",
       "      <td>...</td>\n",
       "      <td>...</td>\n",
       "      <td>...</td>\n",
       "      <td>...</td>\n",
       "      <td>...</td>\n",
       "      <td>...</td>\n",
       "      <td>...</td>\n",
       "      <td>...</td>\n",
       "      <td>...</td>\n",
       "      <td>...</td>\n",
       "      <td>...</td>\n",
       "      <td>...</td>\n",
       "      <td>...</td>\n",
       "      <td>...</td>\n",
       "      <td>...</td>\n",
       "      <td>...</td>\n",
       "      <td>...</td>\n",
       "      <td>...</td>\n",
       "      <td>...</td>\n",
       "      <td>...</td>\n",
       "      <td>...</td>\n",
       "      <td>...</td>\n",
       "    </tr>\n",
       "  </tbody>\n",
       "</table>\n",
       "</div>\n",
       "<div>Dask Name: describe-numeric, 4102 tasks</div>"
      ],
      "text/plain": [
       "Dask DataFrame Structure:\n",
       "              Summons Number Violation Code Street Code1 Street Code2 Street Code3 Violation Location Violation Precinct Issuer Precinct Issuer Code Time First Observed Law Section Violation Legal Code Unregistered Vehicle? Vehicle Year Meter Number Feet From Curb No Standing or Stopping Violation Hydrant Violation Double Parking Violation Latitude Longitude Community Board Community Council  Census Tract      BIN      BBL      NTA\n",
       "npartitions=1                                                                                                                                                                                                                                                                                                                                                                                                                                      \n",
       "                     float64        float64      float64      float64      float64            float64            float64         float64     float64             float64     float64              float64               float64      float64      float64        float64                           float64           float64                  float64  float64   float64         float64            float64      float64  float64  float64  float64\n",
       "                         ...            ...          ...          ...          ...                ...                ...             ...         ...                 ...         ...                  ...                   ...          ...          ...            ...                               ...               ...                      ...      ...       ...             ...                ...          ...      ...      ...      ...\n",
       "Dask Name: describe-numeric, 4102 tasks"
      ]
     },
     "execution_count": 6,
     "metadata": {},
     "output_type": "execute_result"
    }
   ],
   "source": [
    "park_df.describe()"
   ]
  },
  {
   "cell_type": "code",
   "execution_count": 7,
   "metadata": {},
   "outputs": [
    {
     "data": {
      "text/plain": [
       "Dask Series Structure:\n",
       "npartitions=1\n",
       "    float64\n",
       "        ...\n",
       "Name: Violation Code, dtype: float64\n",
       "Dask Name: describe-numeric, 475 tasks"
      ]
     },
     "execution_count": 7,
     "metadata": {},
     "output_type": "execute_result"
    }
   ],
   "source": [
    "park_df['Violation Code'].describe()"
   ]
  },
  {
   "cell_type": "code",
   "execution_count": 10,
   "metadata": {},
   "outputs": [
    {
     "data": {
      "text/plain": [
       "Index(['Summons Number', 'Plate ID', 'Registration State', 'Plate Type',\n",
       "       'Issue Date', 'Violation Code', 'Vehicle Body Type', 'Vehicle Make',\n",
       "       'Issuing Agency', 'Street Code1', 'Street Code2', 'Street Code3',\n",
       "       'Vehicle Expiration Date', 'Violation Location', 'Violation Precinct',\n",
       "       'Issuer Precinct', 'Issuer Code', 'Issuer Command', 'Issuer Squad',\n",
       "       'Violation Time', 'Time First Observed', 'Violation County',\n",
       "       'Violation In Front Of Or Opposite', 'House Number', 'Street Name',\n",
       "       'Intersecting Street', 'Date First Observed', 'Law Section',\n",
       "       'Sub Division', 'Violation Legal Code', 'Days Parking In Effect    ',\n",
       "       'From Hours In Effect', 'To Hours In Effect', 'Vehicle Color',\n",
       "       'Unregistered Vehicle?', 'Vehicle Year', 'Meter Number',\n",
       "       'Feet From Curb', 'Violation Post Code', 'Violation Description',\n",
       "       'No Standing or Stopping Violation', 'Hydrant Violation',\n",
       "       'Double Parking Violation', 'Latitude', 'Longitude', 'Community Board',\n",
       "       'Community Council ', 'Census Tract', 'BIN', 'BBL', 'NTA'],\n",
       "      dtype='object')"
      ]
     },
     "execution_count": 10,
     "metadata": {},
     "output_type": "execute_result"
    }
   ],
   "source": [
    "park_df.columns"
   ]
  },
  {
   "cell_type": "code",
   "execution_count": 13,
   "metadata": {},
   "outputs": [
    {
     "ename": "AttributeError",
     "evalue": "'function' object has no attribute 'count'",
     "output_type": "error",
     "traceback": [
      "\u001b[1;31m---------------------------------------------------------------------------\u001b[0m",
      "\u001b[1;31mAttributeError\u001b[0m                            Traceback (most recent call last)",
      "\u001b[1;32m~\\AppData\\Local\\Temp/ipykernel_13844/3970080120.py\u001b[0m in \u001b[0;36m<module>\u001b[1;34m\u001b[0m\n\u001b[1;32m----> 1\u001b[1;33m \u001b[0mpark_df\u001b[0m\u001b[1;33m.\u001b[0m\u001b[0misnull\u001b[0m\u001b[1;33m.\u001b[0m\u001b[0mcount\u001b[0m\u001b[1;33m(\u001b[0m\u001b[1;33m)\u001b[0m\u001b[1;33m\u001b[0m\u001b[1;33m\u001b[0m\u001b[0m\n\u001b[0m",
      "\u001b[1;31mAttributeError\u001b[0m: 'function' object has no attribute 'count'"
     ]
    }
   ],
   "source": [
    "park_df."
   ]
  },
  {
   "cell_type": "code",
   "execution_count": null,
   "metadata": {},
   "outputs": [],
   "source": []
  }
 ],
 "metadata": {
  "interpreter": {
   "hash": "3725e8a8d1f2963f289da824bca102df5afc3c109908f193a09de07b132ed76c"
  },
  "kernelspec": {
   "display_name": "Python 3.9.7 64-bit ('DS_env': conda)",
   "name": "python3"
  },
  "language_info": {
   "codemirror_mode": {
    "name": "ipython",
    "version": 3
   },
   "file_extension": ".py",
   "mimetype": "text/x-python",
   "name": "python",
   "nbconvert_exporter": "python",
   "pygments_lexer": "ipython3",
   "version": "3.9.7"
  },
  "orig_nbformat": 4
 },
 "nbformat": 4,
 "nbformat_minor": 2
}
