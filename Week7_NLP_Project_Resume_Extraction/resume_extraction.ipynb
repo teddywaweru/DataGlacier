{
 "cells": [
  {
   "cell_type": "code",
   "execution_count": 13,
   "metadata": {},
   "outputs": [
    {
     "name": "stderr",
     "output_type": "stream",
     "text": [
      "[nltk_data] Downloading package punkt to\n",
      "[nltk_data]     C:\\Users\\teddy\\AppData\\Roaming\\nltk_data...\n",
      "[nltk_data]   Unzipping tokenizers\\punkt.zip.\n"
     ]
    },
    {
     "data": {
      "text/plain": [
       "True"
      ]
     },
     "execution_count": 13,
     "metadata": {},
     "output_type": "execute_result"
    }
   ],
   "source": [
    "from nltk.tokenize import word_tokenize\n",
    "nltk.download('punkt')"
   ]
  },
  {
   "cell_type": "code",
   "execution_count": 14,
   "metadata": {},
   "outputs": [],
   "source": [
    "sentence =\"\"\"\n",
    "At seventeen o'clock on Friday afternoon,\n",
    "Arthur did not feel very well\n",
    "\"\"\""
   ]
  },
  {
   "cell_type": "code",
   "execution_count": 16,
   "metadata": {},
   "outputs": [
    {
     "data": {
      "text/plain": [
       "['At',\n",
       " 'seventeen',\n",
       " \"o'clock\",\n",
       " 'on',\n",
       " 'Friday',\n",
       " 'afternoon',\n",
       " ',',\n",
       " 'Arthur',\n",
       " 'did',\n",
       " 'not',\n",
       " 'feel',\n",
       " 'very',\n",
       " 'well']"
      ]
     },
     "execution_count": 16,
     "metadata": {},
     "output_type": "execute_result"
    }
   ],
   "source": [
    "nltk.word_tokenize(sentence)"
   ]
  },
  {
   "cell_type": "code",
   "execution_count": 17,
   "metadata": {},
   "outputs": [
    {
     "data": {
      "text/plain": [
       "['At',\n",
       " 'seventeen',\n",
       " \"o'clock\",\n",
       " 'on',\n",
       " 'Friday',\n",
       " 'afternoon,',\n",
       " 'Arthur',\n",
       " 'did',\n",
       " 'not',\n",
       " 'feel',\n",
       " 'very',\n",
       " 'well']"
      ]
     },
     "execution_count": 17,
     "metadata": {},
     "output_type": "execute_result"
    }
   ],
   "source": [
    "sentence.split()"
   ]
  },
  {
   "cell_type": "code",
   "execution_count": null,
   "metadata": {},
   "outputs": [],
   "source": []
  }
 ],
 "metadata": {
  "interpreter": {
   "hash": "3725e8a8d1f2963f289da824bca102df5afc3c109908f193a09de07b132ed76c"
  },
  "kernelspec": {
   "display_name": "Python 3.9.7 64-bit ('DS_env': conda)",
   "language": "python",
   "name": "python3"
  },
  "language_info": {
   "codemirror_mode": {
    "name": "ipython",
    "version": 3
   },
   "file_extension": ".py",
   "mimetype": "text/x-python",
   "name": "python",
   "nbconvert_exporter": "python",
   "pygments_lexer": "ipython3",
   "version": "3.9.7"
  },
  "orig_nbformat": 4
 },
 "nbformat": 4,
 "nbformat_minor": 2
}
