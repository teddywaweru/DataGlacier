{
 "cells": [
  {
   "cell_type": "code",
   "execution_count": 1,
   "metadata": {},
   "outputs": [],
   "source": [
    "import pandas as pd\n",
    "from  pandas_profiling import ProfileReport as pr #data visualization\n",
    "import matplotlib.pyplot as mp\n",
    "import statsmodels.api as sm\n",
    "import seaborn as sb\n",
    "import datetime\n",
    "import sweetviz as sv #for data visualization\n",
    "sb.set()"
   ]
  },
  {
   "cell_type": "code",
   "execution_count": 2,
   "metadata": {},
   "outputs": [
    {
     "data": {
      "application/vnd.jupyter.widget-view+json": {
       "model_id": "72cc2314b61546c18027784b122048f8",
       "version_major": 2,
       "version_minor": 0
      },
      "text/plain": [
       "Summarize dataset:   0%|          | 0/21 [00:00<?, ?it/s]"
      ]
     },
     "metadata": {},
     "output_type": "display_data"
    },
    {
     "data": {
      "application/vnd.jupyter.widget-view+json": {
       "model_id": "3620ec30192644ab9dc1157167ec80d1",
       "version_major": 2,
       "version_minor": 0
      },
      "text/plain": [
       "Generate report structure:   0%|          | 0/1 [00:00<?, ?it/s]"
      ]
     },
     "metadata": {},
     "output_type": "display_data"
    },
    {
     "data": {
      "application/vnd.jupyter.widget-view+json": {
       "model_id": "97308d35c3754654bb66155a7e7e0c54",
       "version_major": 2,
       "version_minor": 0
      },
      "text/plain": [
       "Render HTML:   0%|          | 0/1 [00:00<?, ?it/s]"
      ]
     },
     "metadata": {},
     "output_type": "display_data"
    },
    {
     "data": {
      "application/vnd.jupyter.widget-view+json": {
       "model_id": "017b61fa2bba4b32a2e3b778926a4d90",
       "version_major": 2,
       "version_minor": 0
      },
      "text/plain": [
       "Export report to file:   0%|          | 0/1 [00:00<?, ?it/s]"
      ]
     },
     "metadata": {},
     "output_type": "display_data"
    },
    {
     "data": {
      "application/vnd.jupyter.widget-view+json": {
       "model_id": "cc6d0c745f17478194c790e278782fe1",
       "version_major": 2,
       "version_minor": 0
      },
      "text/plain": [
       "Summarize dataset:   0%|          | 0/18 [00:00<?, ?it/s]"
      ]
     },
     "metadata": {},
     "output_type": "display_data"
    },
    {
     "data": {
      "application/vnd.jupyter.widget-view+json": {
       "model_id": "d672ea105f8b4edebe9460009a522326",
       "version_major": 2,
       "version_minor": 0
      },
      "text/plain": [
       "Generate report structure:   0%|          | 0/1 [00:00<?, ?it/s]"
      ]
     },
     "metadata": {},
     "output_type": "display_data"
    },
    {
     "data": {
      "application/vnd.jupyter.widget-view+json": {
       "model_id": "10ec70d6e03d4cabb807b74ed471e50f",
       "version_major": 2,
       "version_minor": 0
      },
      "text/plain": [
       "Render HTML:   0%|          | 0/1 [00:00<?, ?it/s]"
      ]
     },
     "metadata": {},
     "output_type": "display_data"
    },
    {
     "data": {
      "application/vnd.jupyter.widget-view+json": {
       "model_id": "7fc0ee3b2b7c422db7842bb61c69e7c7",
       "version_major": 2,
       "version_minor": 0
      },
      "text/plain": [
       "Export report to file:   0%|          | 0/1 [00:00<?, ?it/s]"
      ]
     },
     "metadata": {},
     "output_type": "display_data"
    },
    {
     "data": {
      "application/vnd.jupyter.widget-view+json": {
       "model_id": "2acae1e925c1430698363cdec7b809d4",
       "version_major": 2,
       "version_minor": 0
      },
      "text/plain": [
       "Summarize dataset:   0%|          | 0/21 [00:00<?, ?it/s]"
      ]
     },
     "metadata": {},
     "output_type": "display_data"
    },
    {
     "data": {
      "application/vnd.jupyter.widget-view+json": {
       "model_id": "2cfb338cf2704f55846ffbc0283924d0",
       "version_major": 2,
       "version_minor": 0
      },
      "text/plain": [
       "Generate report structure:   0%|          | 0/1 [00:00<?, ?it/s]"
      ]
     },
     "metadata": {},
     "output_type": "display_data"
    },
    {
     "data": {
      "application/vnd.jupyter.widget-view+json": {
       "model_id": "160b7d3889e04704a8532fc5948c01dd",
       "version_major": 2,
       "version_minor": 0
      },
      "text/plain": [
       "Render HTML:   0%|          | 0/1 [00:00<?, ?it/s]"
      ]
     },
     "metadata": {},
     "output_type": "display_data"
    },
    {
     "data": {
      "application/vnd.jupyter.widget-view+json": {
       "model_id": "8212a3c59c0f41d1bca297d1cc070347",
       "version_major": 2,
       "version_minor": 0
      },
      "text/plain": [
       "Export report to file:   0%|          | 0/1 [00:00<?, ?it/s]"
      ]
     },
     "metadata": {},
     "output_type": "display_data"
    },
    {
     "data": {
      "application/vnd.jupyter.widget-view+json": {
       "model_id": "17d6cac9bd7d470f99466295307ad2fe",
       "version_major": 2,
       "version_minor": 0
      },
      "text/plain": [
       "Summarize dataset:   0%|          | 0/17 [00:00<?, ?it/s]"
      ]
     },
     "metadata": {},
     "output_type": "display_data"
    },
    {
     "data": {
      "application/vnd.jupyter.widget-view+json": {
       "model_id": "257de416120647dbbb2a89a4ed91affb",
       "version_major": 2,
       "version_minor": 0
      },
      "text/plain": [
       "Generate report structure:   0%|          | 0/1 [00:00<?, ?it/s]"
      ]
     },
     "metadata": {},
     "output_type": "display_data"
    },
    {
     "data": {
      "application/vnd.jupyter.widget-view+json": {
       "model_id": "8ab253bc11fe46b58b8c4b000853eaef",
       "version_major": 2,
       "version_minor": 0
      },
      "text/plain": [
       "Render HTML:   0%|          | 0/1 [00:00<?, ?it/s]"
      ]
     },
     "metadata": {},
     "output_type": "display_data"
    },
    {
     "data": {
      "application/vnd.jupyter.widget-view+json": {
       "model_id": "e8f6bf8a0ba4422e85d00ec22e6add20",
       "version_major": 2,
       "version_minor": 0
      },
      "text/plain": [
       "Export report to file:   0%|          | 0/1 [00:00<?, ?it/s]"
      ]
     },
     "metadata": {},
     "output_type": "display_data"
    },
    {
     "data": {
      "application/vnd.jupyter.widget-view+json": {
       "model_id": "76f627a13b1e4d9fba29d089d11f600f",
       "version_major": 2,
       "version_minor": 0
      },
      "text/plain": [
       "                                             |          | [  0%]   00:00 -> (? left)"
      ]
     },
     "metadata": {},
     "output_type": "display_data"
    },
    {
     "name": "stdout",
     "output_type": "stream",
     "text": [
      "Report cab_transaction_comp.html was generated! NOTEBOOK/COLAB USERS: the web browser MAY not pop up, regardless, the report IS saved in your notebook/colab files.\n"
     ]
    }
   ],
   "source": [
    "cab_data = pd.read_csv('Cab_Data.csv')\n",
    "city_list = pd.read_csv('City.csv')\n",
    "customer_id_data = pd.read_csv('Customer_ID.csv')\n",
    "transaction_id_data = pd.read_csv('Transaction_ID.csv')\n",
    "\n",
    " #Data Conversion for cab_data (from xlsx to datetime)\n",
    "cab_data['Date of Travel'] = pd.to_datetime(cab_data['Date of Travel'],\n",
    "                                                  unit = 'D',\n",
    "                                                  origin = '1899-12-30')\n",
    "\n",
    "    #Develop Profile Reports for the datasets\n",
    "# pr(cab_data).to_file('cab_data.html')\n",
    "# pr(customer_id_data).to_file('customer_id_data.html')\n",
    "# pr(cab_data).to_file('cab_data.html')\n",
    "# pr(city_list).to_file('city_list.html')\n",
    "\n",
    "#     #Develop comparative analysis for the datasets\n",
    "# sv.compare(cab_data,transaction_id_data).show_html('cab_transaction_comp.html')\n",
    "\n",
    "   "
   ]
  },
  {
   "cell_type": "code",
   "execution_count": 3,
   "metadata": {},
   "outputs": [],
   "source": [
    "# print(cab_data_copy.strftime(\"%d-%m-%y\"))\n",
    "\n",
    "    #Test - convert Users str to int & increment by 1\n",
    "#city_list_copy = city_list\n",
    "# print(city_list_copy.loc[:,'Users'][0])\n",
    "# print(type(city_list_copy.loc[:,'Users'][0]))\n",
    "# print(int(city_list_copy.loc[:,'Users'][0].replace(',','')))\n",
    "\n",
    "# for i in range(len(city_list_copy)):\n",
    "#     city_list_copy.loc[i].replace(to_replace = city_list_copy.loc[:,'City'][i],\n",
    "#                                   value = int(city_list_copy.loc[:,'Users'][i].replace(',','')) + 1,\n",
    "#                                   inplace = True )\n",
    "#     print(city_list_copy.loc[i])\n"
   ]
  },
  {
   "cell_type": "code",
   "execution_count": null,
   "metadata": {},
   "outputs": [],
   "source": []
  },
  {
   "cell_type": "code",
   "execution_count": null,
   "metadata": {},
   "outputs": [],
   "source": []
  },
  {
   "cell_type": "code",
   "execution_count": null,
   "metadata": {},
   "outputs": [],
   "source": []
  },
  {
   "cell_type": "code",
   "execution_count": null,
   "metadata": {},
   "outputs": [],
   "source": []
  },
  {
   "cell_type": "code",
   "execution_count": 4,
   "metadata": {},
   "outputs": [
    {
     "ename": "NameError",
     "evalue": "name 'cab_data_raw_dates' is not defined",
     "output_type": "error",
     "traceback": [
      "\u001b[1;31m---------------------------------------------------------------------------\u001b[0m",
      "\u001b[1;31mNameError\u001b[0m                                 Traceback (most recent call last)",
      "\u001b[1;32m<ipython-input-4-776c8954c2b4>\u001b[0m in \u001b[0;36m<module>\u001b[1;34m\u001b[0m\n\u001b[0;32m     16\u001b[0m \u001b[1;31m#     cab_data_raw_dates[i,'b'] = start_date + datetime.timedelta(cab_data_raw_dates.loc[i,'a'].item() - 42371)\u001b[0m\u001b[1;33m\u001b[0m\u001b[1;33m\u001b[0m\u001b[1;33m\u001b[0m\u001b[0m\n\u001b[0;32m     17\u001b[0m \u001b[1;33m\u001b[0m\u001b[0m\n\u001b[1;32m---> 18\u001b[1;33m \u001b[0mcab_data_raw_dates\u001b[0m\u001b[1;33m\u001b[0m\u001b[1;33m\u001b[0m\u001b[0m\n\u001b[0m\u001b[0;32m     19\u001b[0m \u001b[1;33m\u001b[0m\u001b[0m\n\u001b[0;32m     20\u001b[0m \u001b[1;31m# def date_calculate(ref):\u001b[0m\u001b[1;33m\u001b[0m\u001b[1;33m\u001b[0m\u001b[1;33m\u001b[0m\u001b[0m\n",
      "\u001b[1;31mNameError\u001b[0m: name 'cab_data_raw_dates' is not defined"
     ]
    }
   ],
   "source": [
    "                    #FAILED TRIALS\n",
    "# type(cab_data_copy.loc[:,'Date of Travel'][0].item())\n",
    "\n",
    "# for i in range(len(cab_data_copy)):\n",
    "#     print(type(cab_data_copy.loc[i,'Date of Travel']))\n",
    "# print(cab_data_copy.loc[0,'Date of Travel'])\n",
    "\n",
    "# type(cab_data_copy.loc[4,'Date of Travel'])\n",
    "\n",
    "# cab_data_copy.loc[4,'Date of Travel']\n",
    "\n",
    "# for i in range(len(cab_data_copy)):#Iterate through all values in the DataFrame\n",
    "#     #replace Date of Travel values\n",
    "\n",
    "# for i in range(len(cab_data_raw_dates)):\n",
    "#     cab_data_raw_dates[i,'b'] = start_date + datetime.timedelta(cab_data_raw_dates.loc[i,'a'].item() - 42371)\n",
    "    \n",
    "cab_data_raw_dates\n",
    "\n",
    "# def date_calculate(ref):\n",
    "#     for i in range(len(cab_data_copy)):\n",
    "#             start_date + datetime.timedelta(cab_data_dates.loc[i,'a'].item() - 42371)\n",
    "\n",
    "# print(type(cab_data_dates[i]))\n",
    "\n",
    "# for i in range(len(cab_data_dates)):#Iterate through all values in the DataFrame\n",
    "# #     cab_data_dates.replace(to_replace = cab_data_dates.loc[i],\n",
    "# #                          #Compare Date of Travel against Start Date & increment accordingly\n",
    "# #                          value = start_date + datetime.timedelta(cab_data_dates.loc[i].item() - 42371),\n",
    "# #                          #Replace value in DataFrame\n",
    "# #                         inplace = True)\n",
    "#                         print(type(cab_data_dates[i]))\n",
    "# cab_data_dates.loc[:,'a']\n",
    "#     cab_data_copy.replace(to_replace = cab_data_copy.loc[i,'Date of Travel'],\n",
    "#                          #Compare Date of Travel against Start Date & increment accordingly\n",
    "#                          value = 'x',\n",
    "# #                           start_date + datetime.timedelta(cab_data_copy.loc[i,'Date of Travel'].item() - 42371),\n",
    "#                          #Replace value in DataFrame\n",
    "#                         inplace = True)\n",
    "\n",
    "# print(start_date + datetime.timedelta(cab_data.loc[3,'Date of Travel'].item() - 42371)) \n",
    "\n",
    "# type(cab_data_copy.loc[5,'Date of Travel'])\n",
    "# cab_data.replace(to_replace = cab_data.loc[5,\"Date of Travel\"],\n",
    "#                        value = start_date + datetime.timedelta(cab_data.loc[3,'Date of Travel'].item() - 42371),\n",
    "#                        inplace = True)\n",
    "\n",
    "# cab_data.loc[5]\n",
    "    "
   ]
  }
 ],
 "metadata": {
  "interpreter": {
   "hash": "f61a70eb1e90afec4ed07757bad0d3737fc9ea78ef54538307c73c433a3f232f"
  },
  "kernelspec": {
   "display_name": "Python 3",
   "language": "python",
   "name": "python3"
  },
  "language_info": {
   "codemirror_mode": {
    "name": "ipython",
    "version": 3
   },
   "file_extension": ".py",
   "mimetype": "text/x-python",
   "name": "python",
   "nbconvert_exporter": "python",
   "pygments_lexer": "ipython3",
   "version": "3.8.8"
  }
 },
 "nbformat": 4,
 "nbformat_minor": 2
}
