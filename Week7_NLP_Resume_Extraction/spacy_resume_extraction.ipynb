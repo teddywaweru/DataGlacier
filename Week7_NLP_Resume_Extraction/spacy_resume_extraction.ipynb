{
 "cells": [
  {
   "cell_type": "code",
   "execution_count": 5,
   "metadata": {},
   "outputs": [],
   "source": [
    "import spacy\n",
    "from spacy import displacy\n",
    "nlp = spacy.load(\"en_core_web_sm\")"
   ]
  },
  {
   "cell_type": "code",
   "execution_count": 6,
   "metadata": {},
   "outputs": [],
   "source": [
    "test = \"\"\"European authorities fined Google a record $5.1 billion on Wednesday for\n",
    " abusing its power in the mobile phone market and ordered the company to alter its practices.\"\"\""
   ]
  },
  {
   "cell_type": "code",
   "execution_count": 16,
   "metadata": {},
   "outputs": [
    {
     "name": "stdout",
     "output_type": "stream",
     "text": [
      "[['European', 'ADJ'], ['authorities', 'NOUN'], ['fined', 'VERB'], ['Google', 'PROPN'], ['a', 'DET'], ['record', 'NOUN'], ['$', 'SYM'], ['5.1', 'NUM'], ['billion', 'NUM'], ['on', 'ADP'], ['Wednesday', 'PROPN'], ['for', 'ADP'], ['\\n ', 'SPACE'], ['abusing', 'VERB'], ['its', 'PRON'], ['power', 'NOUN'], ['in', 'ADP'], ['the', 'DET'], ['mobile', 'ADJ'], ['phone', 'NOUN'], ['market', 'NOUN'], ['and', 'CCONJ'], ['ordered', 'VERB'], ['the', 'DET'], ['company', 'NOUN'], ['to', 'PART'], ['alter', 'VERB'], ['its', 'PRON'], ['practices', 'NOUN'], ['.', 'PUNCT']]\n"
     ]
    }
   ],
   "source": [
    "doc = nlp(test)\n",
    "\n",
    "print([[X.text , X.pos_] for X in doc])"
   ]
  },
  {
   "cell_type": "code",
   "execution_count": null,
   "metadata": {},
   "outputs": [],
   "source": []
  }
 ],
 "metadata": {
  "interpreter": {
   "hash": "0e9b41925516d81d0c21765c74d27c062a8b54401018308de7a468fb50059a44"
  },
  "kernelspec": {
   "display_name": "Python 3.9.7 64-bit ('NLP_env': conda)",
   "language": "python",
   "name": "python3"
  },
  "language_info": {
   "codemirror_mode": {
    "name": "ipython",
    "version": 3
   },
   "file_extension": ".py",
   "mimetype": "text/x-python",
   "name": "python",
   "nbconvert_exporter": "python",
   "pygments_lexer": "ipython3",
   "version": "3.9.7"
  },
  "orig_nbformat": 4
 },
 "nbformat": 4,
 "nbformat_minor": 2
}
