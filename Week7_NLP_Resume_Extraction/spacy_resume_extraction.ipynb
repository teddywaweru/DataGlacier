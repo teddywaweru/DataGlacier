{
 "cells": [
  {
   "cell_type": "code",
   "execution_count": 1,
   "metadata": {},
   "outputs": [],
   "source": [
    "from data_manipulation import train_model_dt, train_model_sp, load_data, spacy_load_model, train_model_sc\n",
    "# nlp = spacy.load(\"en_core_web_sm\")\n"
   ]
  },
  {
   "cell_type": "code",
   "execution_count": 2,
   "metadata": {},
   "outputs": [],
   "source": [
    "# Load data in two formats: Spacy NLP, DataTurks respectively\n",
    "resume_sp , resume_dt = load_data('datasets/resume.json')"
   ]
  },
  {
   "cell_type": "code",
   "execution_count": 3,
   "metadata": {},
   "outputs": [
    {
     "name": "stdout",
     "output_type": "stream",
     "text": [
      "Starting iteration\n",
      "{'spancat': 3068.01416015625}\n"
     ]
    },
    {
     "name": "stderr",
     "output_type": "stream",
     "text": [
      "C:\\Users\\teddy\\miniconda3\\envs\\NLP_env\\lib\\site-packages\\spacy\\training\\iob_utils.py:141: UserWarning: [W030] Some entities could not be aligned in the text \"Raktim Podder\n",
      "6+ Exp in banking operations and cre...\" with entities \"[(8800, 8927, 'Skills'), (106, 149, 'Email Address...\". Use `spacy.training.offsets_to_biluo_tags(nlp.make_doc(text), entities)` to check the alignment. Misaligned entities ('-') will be ignored during training.\n",
      "  warnings.warn(\n"
     ]
    },
    {
     "name": "stdout",
     "output_type": "stream",
     "text": [
      "{'spancat': 20019.05322265625}\n",
      "{'spancat': 21141.8857421875}\n"
     ]
    },
    {
     "name": "stderr",
     "output_type": "stream",
     "text": [
      "C:\\Users\\teddy\\miniconda3\\envs\\NLP_env\\lib\\site-packages\\spacy\\training\\iob_utils.py:141: UserWarning: [W030] Some entities could not be aligned in the text \"Kandrapu Reddy\n",
      "Senior Travel Operations (Domestic,...\" with entities \"[(78, 112, 'Companies worked at'), (778, 812, 'Com...\". Use `spacy.training.offsets_to_biluo_tags(nlp.make_doc(text), entities)` to check the alignment. Misaligned entities ('-') will be ignored during training.\n",
      "  warnings.warn(\n"
     ]
    },
    {
     "name": "stdout",
     "output_type": "stream",
     "text": [
      "{'spancat': 27569.0791015625}\n",
      "{'spancat': 34979.91162109375}\n",
      "{'spancat': 36622.53210449219}\n"
     ]
    },
    {
     "name": "stderr",
     "output_type": "stream",
     "text": [
      "C:\\Users\\teddy\\miniconda3\\envs\\NLP_env\\lib\\site-packages\\spacy\\training\\iob_utils.py:141: UserWarning: [W030] Some entities could not be aligned in the text \"Kavitha K\n",
      "Senior System Engineer - Infosys Limited...\" with entities \"[(2194, 2243, 'Degree'), (2116, 2143, 'College Nam...\". Use `spacy.training.offsets_to_biluo_tags(nlp.make_doc(text), entities)` to check the alignment. Misaligned entities ('-') will be ignored during training.\n",
      "  warnings.warn(\n",
      "C:\\Users\\teddy\\miniconda3\\envs\\NLP_env\\lib\\site-packages\\spacy\\training\\iob_utils.py:141: UserWarning: [W030] Some entities could not be aligned in the text \"Srushti Bhadale\n",
      "Mumbai, Maharashtra - Email me on ...\" with entities \"[(1371, 1374, 'Degree'), (217, 237, 'Designation')...\". Use `spacy.training.offsets_to_biluo_tags(nlp.make_doc(text), entities)` to check the alignment. Misaligned entities ('-') will be ignored during training.\n",
      "  warnings.warn(\n"
     ]
    },
    {
     "name": "stdout",
     "output_type": "stream",
     "text": [
      "{'spancat': 38083.57971191406}\n",
      "{'spancat': 40561.13659667969}\n",
      "{'spancat': 40640.81561279297}\n",
      "{'spancat': 40707.85737609863}\n"
     ]
    },
    {
     "name": "stderr",
     "output_type": "stream",
     "text": [
      "C:\\Users\\teddy\\miniconda3\\envs\\NLP_env\\lib\\site-packages\\spacy\\training\\iob_utils.py:141: UserWarning: [W030] Some entities could not be aligned in the text \"Puran Mal\n",
      "Jaipur, Rajasthan - Email me on Indeed: ...\" with entities \"[(194, 511, 'Skills'), (50, 89, 'Email Address'), ...\". Use `spacy.training.offsets_to_biluo_tags(nlp.make_doc(text), entities)` to check the alignment. Misaligned entities ('-') will be ignored during training.\n",
      "  warnings.warn(\n"
     ]
    },
    {
     "name": "stdout",
     "output_type": "stream",
     "text": [
      "{'spancat': 40879.31149291992}\n",
      "{'spancat': 41054.25453186035}\n",
      "{'spancat': 41057.4267745018}\n",
      "{'spancat': 41060.56590461731}\n",
      "{'spancat': 41065.9540886879}\n"
     ]
    },
    {
     "name": "stderr",
     "output_type": "stream",
     "text": [
      "C:\\Users\\teddy\\miniconda3\\envs\\NLP_env\\lib\\site-packages\\spacy\\training\\iob_utils.py:141: UserWarning: [W030] Some entities could not be aligned in the text \"Avani Priya\n",
      "- Email me on Indeed: indeed.com/r/Ava...\" with entities \"[(314, 334, 'College Name'), (94, 103, 'Designatio...\". Use `spacy.training.offsets_to_biluo_tags(nlp.make_doc(text), entities)` to check the alignment. Misaligned entities ('-') will be ignored during training.\n",
      "  warnings.warn(\n"
     ]
    },
    {
     "name": "stdout",
     "output_type": "stream",
     "text": [
      "{'spancat': 41070.9063000679}\n"
     ]
    },
    {
     "name": "stderr",
     "output_type": "stream",
     "text": [
      "C:\\Users\\teddy\\miniconda3\\envs\\NLP_env\\lib\\site-packages\\spacy\\training\\iob_utils.py:141: UserWarning: [W030] Some entities could not be aligned in the text \"Nitin Tr\n",
      "PeopleSoft Consultant\n",
      "\n",
      "Bangalore Urban, K...\" with entities \"[(1206, 1212, 'Companies worked at'), (0, 8, 'Name...\". Use `spacy.training.offsets_to_biluo_tags(nlp.make_doc(text), entities)` to check the alignment. Misaligned entities ('-') will be ignored during training.\n",
      "  warnings.warn(\n"
     ]
    },
    {
     "name": "stdout",
     "output_type": "stream",
     "text": [
      "{'spancat': 41078.74682569504}\n"
     ]
    },
    {
     "name": "stderr",
     "output_type": "stream",
     "text": [
      "C:\\Users\\teddy\\miniconda3\\envs\\NLP_env\\lib\\site-packages\\spacy\\training\\iob_utils.py:141: UserWarning: [W030] Some entities could not be aligned in the text \"Madhava Konjeti\n",
      "HR Executive\n",
      "\n",
      "Bengaluru, Karnataka...\" with entities \"[(1562, 1574, 'Designation'), (1660, 1664, 'Gradua...\". Use `spacy.training.offsets_to_biluo_tags(nlp.make_doc(text), entities)` to check the alignment. Misaligned entities ('-') will be ignored during training.\n",
      "  warnings.warn(\n"
     ]
    },
    {
     "name": "stdout",
     "output_type": "stream",
     "text": [
      "{'spancat': 41081.16808462143}\n",
      "{'spancat': 41084.54841041565}\n",
      "{'spancat': 41085.498892724514}\n"
     ]
    },
    {
     "name": "stderr",
     "output_type": "stream",
     "text": [
      "C:\\Users\\teddy\\miniconda3\\envs\\NLP_env\\lib\\site-packages\\spacy\\training\\iob_utils.py:141: UserWarning: [W030] Some entities could not be aligned in the text \"Rajeev Kumar\n",
      "Senior Associate Consultant - Infosys...\" with entities \"[(1202, 1217, 'Companies worked at'), (1553, 1583,...\". Use `spacy.training.offsets_to_biluo_tags(nlp.make_doc(text), entities)` to check the alignment. Misaligned entities ('-') will be ignored during training.\n",
      "  warnings.warn(\n"
     ]
    },
    {
     "name": "stdout",
     "output_type": "stream",
     "text": [
      "{'spancat': 41087.48728007078}\n"
     ]
    },
    {
     "name": "stderr",
     "output_type": "stream",
     "text": [
      "C:\\Users\\teddy\\miniconda3\\envs\\NLP_env\\lib\\site-packages\\spacy\\training\\iob_utils.py:141: UserWarning: [W030] Some entities could not be aligned in the text \"Paul Rajiv\n",
      "Secunderabad, Andhra Pradesh - Email me...\" with entities \"[(62, 103, 'Email Address'), (0, 10, 'Name'), (174...\". Use `spacy.training.offsets_to_biluo_tags(nlp.make_doc(text), entities)` to check the alignment. Misaligned entities ('-') will be ignored during training.\n",
      "  warnings.warn(\n"
     ]
    },
    {
     "name": "stdout",
     "output_type": "stream",
     "text": [
      "{'spancat': 41089.24936443567}\n",
      "{'spancat': 41089.87780088186}\n",
      "{'spancat': 41091.23672670126}\n",
      "{'spancat': 41092.14369595051}\n"
     ]
    },
    {
     "name": "stderr",
     "output_type": "stream",
     "text": [
      "C:\\Users\\teddy\\miniconda3\\envs\\NLP_env\\lib\\site-packages\\spacy\\training\\iob_utils.py:141: UserWarning: [W030] Some entities could not be aligned in the text \"Mahesh Vijay\n",
      "Bengaluru, Karnataka - Email me on In...\" with entities \"[(1055, 1077, 'College Name'), (943, 972, 'Degree'...\". Use `spacy.training.offsets_to_biluo_tags(nlp.make_doc(text), entities)` to check the alignment. Misaligned entities ('-') will be ignored during training.\n",
      "  warnings.warn(\n"
     ]
    },
    {
     "name": "stdout",
     "output_type": "stream",
     "text": [
      "{'spancat': 41092.63055205345}\n"
     ]
    },
    {
     "name": "stderr",
     "output_type": "stream",
     "text": [
      "C:\\Users\\teddy\\miniconda3\\envs\\NLP_env\\lib\\site-packages\\spacy\\training\\iob_utils.py:141: UserWarning: [W030] Some entities could not be aligned in the text \"Koushik Katta\n",
      "Devops\n",
      "\n",
      "Hyderabad, Telangana - Email...\" with entities \"[(559, 568, 'Location'), (2957, 3073, 'Skills'), (...\". Use `spacy.training.offsets_to_biluo_tags(nlp.make_doc(text), entities)` to check the alignment. Misaligned entities ('-') will be ignored during training.\n",
      "  warnings.warn(\n"
     ]
    },
    {
     "name": "stdout",
     "output_type": "stream",
     "text": [
      "{'spancat': 41092.97804957628}\n"
     ]
    },
    {
     "name": "stderr",
     "output_type": "stream",
     "text": [
      "C:\\Users\\teddy\\miniconda3\\envs\\NLP_env\\lib\\site-packages\\spacy\\training\\iob_utils.py:141: UserWarning: [W030] Some entities could not be aligned in the text \"Aarti Pimplay\n",
      "Operations Center Shift Manager (OCS...\" with entities \"[(3054, 3363, 'Skills'), (0, 13, 'Name'), (2311, 2...\". Use `spacy.training.offsets_to_biluo_tags(nlp.make_doc(text), entities)` to check the alignment. Misaligned entities ('-') will be ignored during training.\n",
      "  warnings.warn(\n"
     ]
    },
    {
     "name": "stdout",
     "output_type": "stream",
     "text": [
      "{'spancat': 41093.20416097343}\n"
     ]
    },
    {
     "name": "stderr",
     "output_type": "stream",
     "text": [
      "C:\\Users\\teddy\\miniconda3\\envs\\NLP_env\\lib\\site-packages\\spacy\\training\\iob_utils.py:141: UserWarning: [W030] Some entities could not be aligned in the text \"Sudaya Puranik\n",
      "Principal Engineer Technical Staff ...\" with entities \"[(2656, 2688, 'Skills'), (1945, 1989, 'Email Addre...\". Use `spacy.training.offsets_to_biluo_tags(nlp.make_doc(text), entities)` to check the alignment. Misaligned entities ('-') will be ignored during training.\n",
      "  warnings.warn(\n"
     ]
    },
    {
     "name": "stdout",
     "output_type": "stream",
     "text": [
      "{'spancat': 41093.612261757255}\n",
      "{'spancat': 41093.73730546236}\n"
     ]
    },
    {
     "name": "stderr",
     "output_type": "stream",
     "text": [
      "C:\\Users\\teddy\\miniconda3\\envs\\NLP_env\\lib\\site-packages\\spacy\\training\\iob_utils.py:141: UserWarning: [W030] Some entities could not be aligned in the text \"Priyesh Dubey\n",
      "Azure Developer with 9 Yrs 8 months ...\" with entities \"[(2537, 2546, 'Companies worked at'), (308, 317, '...\". Use `spacy.training.offsets_to_biluo_tags(nlp.make_doc(text), entities)` to check the alignment. Misaligned entities ('-') will be ignored during training.\n",
      "  warnings.warn(\n"
     ]
    },
    {
     "name": "stdout",
     "output_type": "stream",
     "text": [
      "{'spancat': 41093.80968799442}\n",
      "{'spancat': 41093.83629836142}\n"
     ]
    },
    {
     "name": "stderr",
     "output_type": "stream",
     "text": [
      "C:\\Users\\teddy\\miniconda3\\envs\\NLP_env\\lib\\site-packages\\spacy\\training\\iob_utils.py:141: UserWarning: [W030] Some entities could not be aligned in the text \"Fenil Francis\n",
      "head of operation and logistics\n",
      "\n",
      "Tri...\" with entities \"[(0, 13, 'Name'), (438, 446, 'Location'), (14, 45,...\". Use `spacy.training.offsets_to_biluo_tags(nlp.make_doc(text), entities)` to check the alignment. Misaligned entities ('-') will be ignored during training.\n",
      "  warnings.warn(\n"
     ]
    },
    {
     "name": "stdout",
     "output_type": "stream",
     "text": [
      "{'spancat': 41093.868355326355}\n",
      "{'spancat': 41093.8986105714}\n"
     ]
    },
    {
     "name": "stderr",
     "output_type": "stream",
     "text": [
      "C:\\Users\\teddy\\miniconda3\\envs\\NLP_env\\lib\\site-packages\\spacy\\training\\iob_utils.py:141: UserWarning: [W030] Some entities could not be aligned in the text \"Divesh Singh\n",
      "Bengaluru, Karnataka - Email me on In...\" with entities \"[(833, 845, 'College Name'), (565, 574, 'Companies...\". Use `spacy.training.offsets_to_biluo_tags(nlp.make_doc(text), entities)` to check the alignment. Misaligned entities ('-') will be ignored during training.\n",
      "  warnings.warn(\n",
      "C:\\Users\\teddy\\miniconda3\\envs\\NLP_env\\lib\\site-packages\\spacy\\training\\iob_utils.py:141: UserWarning: [W030] Some entities could not be aligned in the text \"Sanand Pal\n",
      "SQL and MSBI Developer with experience ...\" with entities \"[(85, 95, 'Location'), (11, 33, 'Designation'), (6...\". Use `spacy.training.offsets_to_biluo_tags(nlp.make_doc(text), entities)` to check the alignment. Misaligned entities ('-') will be ignored during training.\n",
      "  warnings.warn(\n"
     ]
    },
    {
     "name": "stdout",
     "output_type": "stream",
     "text": [
      "{'spancat': 41093.95799651556}\n"
     ]
    },
    {
     "name": "stderr",
     "output_type": "stream",
     "text": [
      "C:\\Users\\teddy\\miniconda3\\envs\\NLP_env\\lib\\site-packages\\spacy\\training\\iob_utils.py:141: UserWarning: [W030] Some entities could not be aligned in the text \"Arpit Godha\n",
      "Senior Process Executive\n",
      "\n",
      "Jaipur, Raja...\" with entities \"[(3081, 3104, 'College Name'), (78, 119, 'Email Ad...\". Use `spacy.training.offsets_to_biluo_tags(nlp.make_doc(text), entities)` to check the alignment. Misaligned entities ('-') will be ignored during training.\n",
      "  warnings.warn(\n"
     ]
    },
    {
     "name": "stdout",
     "output_type": "stream",
     "text": [
      "{'spancat': 41094.02731619589}\n",
      "{'spancat': 41094.06713867746}\n"
     ]
    },
    {
     "name": "stderr",
     "output_type": "stream",
     "text": [
      "C:\\Users\\teddy\\miniconda3\\envs\\NLP_env\\lib\\site-packages\\spacy\\training\\iob_utils.py:141: UserWarning: [W030] Some entities could not be aligned in the text \"Urshila Lohani\n",
      "Senior Corporate Account Executive ...\" with entities \"[(52, 59, 'Companies worked at'), (1822, 1828, 'Co...\". Use `spacy.training.offsets_to_biluo_tags(nlp.make_doc(text), entities)` to check the alignment. Misaligned entities ('-') will be ignored during training.\n",
      "  warnings.warn(\n"
     ]
    },
    {
     "name": "stdout",
     "output_type": "stream",
     "text": [
      "{'spancat': 41094.16955976747}\n"
     ]
    },
    {
     "name": "stderr",
     "output_type": "stream",
     "text": [
      "C:\\Users\\teddy\\miniconda3\\envs\\NLP_env\\lib\\site-packages\\spacy\\training\\iob_utils.py:141: UserWarning: [W030] Some entities could not be aligned in the text \"Puneet Bhandari\n",
      "SAP SD lead - Microsoft IT\n",
      "\n",
      "Pune, ...\" with entities \"[(179, 190, 'Designation'), (6979, 6988, 'Companie...\". Use `spacy.training.offsets_to_biluo_tags(nlp.make_doc(text), entities)` to check the alignment. Misaligned entities ('-') will be ignored during training.\n",
      "  warnings.warn(\n"
     ]
    },
    {
     "name": "stdout",
     "output_type": "stream",
     "text": [
      "{'spancat': 41094.267284093425}\n",
      "{'spancat': 41094.31963753514}\n",
      "{'spancat': 41094.32172676083}\n",
      "{'spancat': 41094.32772294432}\n",
      "{'spancat': 41094.34151934646}\n"
     ]
    },
    {
     "name": "stderr",
     "output_type": "stream",
     "text": [
      "C:\\Users\\teddy\\miniconda3\\envs\\NLP_env\\lib\\site-packages\\spacy\\training\\iob_utils.py:141: UserWarning: [W030] Some entities could not be aligned in the text \"Ram Edupuganti\n",
      "Software Development Director - Ora...\" with entities \"[(4842, 4880, 'College Name'), (2041, 2053, 'Desig...\". Use `spacy.training.offsets_to_biluo_tags(nlp.make_doc(text), entities)` to check the alignment. Misaligned entities ('-') will be ignored during training.\n",
      "  warnings.warn(\n"
     ]
    },
    {
     "name": "stdout",
     "output_type": "stream",
     "text": [
      "{'spancat': 41094.37273271941}\n"
     ]
    },
    {
     "name": "stderr",
     "output_type": "stream",
     "text": [
      "C:\\Users\\teddy\\miniconda3\\envs\\NLP_env\\lib\\site-packages\\spacy\\training\\iob_utils.py:141: UserWarning: [W030] Some entities could not be aligned in the text \"Jyotirbindu Patnaik\n",
      "Associate consultant@SAP labs ...\" with entities \"[(0, 19, 'Name'), (3052, 3067, 'Skills'), (2993, 3...\". Use `spacy.training.offsets_to_biluo_tags(nlp.make_doc(text), entities)` to check the alignment. Misaligned entities ('-') will be ignored during training.\n",
      "  warnings.warn(\n"
     ]
    },
    {
     "name": "stdout",
     "output_type": "stream",
     "text": [
      "{'spancat': 41094.39038752578}\n",
      "{'spancat': 41094.395507893525}\n"
     ]
    },
    {
     "name": "stderr",
     "output_type": "stream",
     "text": [
      "C:\\Users\\teddy\\miniconda3\\envs\\NLP_env\\lib\\site-packages\\spacy\\training\\iob_utils.py:141: UserWarning: [W030] Some entities could not be aligned in the text \"Rahul Tayade\n",
      "Global Production Support Lead, - Inf...\" with entities \"[(85, 89, 'Location'), (2941, 2952, 'Companies wor...\". Use `spacy.training.offsets_to_biluo_tags(nlp.make_doc(text), entities)` to check the alignment. Misaligned entities ('-') will be ignored during training.\n",
      "  warnings.warn(\n"
     ]
    },
    {
     "name": "stdout",
     "output_type": "stream",
     "text": [
      "{'spancat': 41094.45504536759}\n"
     ]
    },
    {
     "name": "stderr",
     "output_type": "stream",
     "text": [
      "C:\\Users\\teddy\\miniconda3\\envs\\NLP_env\\lib\\site-packages\\spacy\\training\\iob_utils.py:141: UserWarning: [W030] Some entities could not be aligned in the text \"Rupesh Reddy\n",
      "Technology Consultant - EIT Services ...\" with entities \"[(3232, 3241, 'Location'), (6599, 6666, 'College N...\". Use `spacy.training.offsets_to_biluo_tags(nlp.make_doc(text), entities)` to check the alignment. Misaligned entities ('-') will be ignored during training.\n",
      "  warnings.warn(\n"
     ]
    },
    {
     "name": "stdout",
     "output_type": "stream",
     "text": [
      "{'spancat': 41094.48530357052}\n",
      "{'spancat': 41094.490470635705}\n"
     ]
    },
    {
     "name": "stderr",
     "output_type": "stream",
     "text": [
      "C:\\Users\\teddy\\miniconda3\\envs\\NLP_env\\lib\\site-packages\\spacy\\training\\iob_utils.py:141: UserWarning: [W030] Some entities could not be aligned in the text \"Gunjan Nayyar\n",
      "Hoshiarpur, Punjab - Email me on Ind...\" with entities \"[(0, 13, 'Name'), (1117, 1136, 'College Name'), (1...\". Use `spacy.training.offsets_to_biluo_tags(nlp.make_doc(text), entities)` to check the alignment. Misaligned entities ('-') will be ignored during training.\n",
      "  warnings.warn(\n",
      "C:\\Users\\teddy\\miniconda3\\envs\\NLP_env\\lib\\site-packages\\spacy\\training\\iob_utils.py:141: UserWarning: [W030] Some entities could not be aligned in the text \"Saurabh Sandhikar\n",
      "SAURABH SANDHIKAR\n",
      "\n",
      "Hyderabad, Te...\" with entities \"[(1514, 1527, 'Degree'), (1476, 1501, 'Designation...\". Use `spacy.training.offsets_to_biluo_tags(nlp.make_doc(text), entities)` to check the alignment. Misaligned entities ('-') will be ignored during training.\n",
      "  warnings.warn(\n"
     ]
    },
    {
     "name": "stdout",
     "output_type": "stream",
     "text": [
      "{'spancat': 41094.50115000922}\n",
      "{'spancat': 41094.50573476497}\n",
      "{'spancat': 41094.53212482575}\n",
      "{'spancat': 41094.543545619585}\n",
      "{'spancat': 41094.557338909246}\n",
      "{'spancat': 41094.56421272969}\n",
      "{'spancat': 41094.56780525483}\n"
     ]
    },
    {
     "name": "stderr",
     "output_type": "stream",
     "text": [
      "C:\\Users\\teddy\\miniconda3\\envs\\NLP_env\\lib\\site-packages\\spacy\\training\\iob_utils.py:141: UserWarning: [W030] Some entities could not be aligned in the text \"Dilliraja Baskaran\n",
      "Tamil Nadu - Email me on Indeed...\" with entities \"[(314, 349, 'Skills'), (275, 304, 'College Name'),...\". Use `spacy.training.offsets_to_biluo_tags(nlp.make_doc(text), entities)` to check the alignment. Misaligned entities ('-') will be ignored during training.\n",
      "  warnings.warn(\n"
     ]
    },
    {
     "name": "stdout",
     "output_type": "stream",
     "text": [
      "{'spancat': 41094.56865059701}\n",
      "{'spancat': 41094.58067808417}\n",
      "{'spancat': 41094.58634699858}\n",
      "{'spancat': 41094.59031691984}\n"
     ]
    },
    {
     "name": "stderr",
     "output_type": "stream",
     "text": [
      "C:\\Users\\teddy\\miniconda3\\envs\\NLP_env\\lib\\site-packages\\spacy\\training\\iob_utils.py:141: UserWarning: [W030] Some entities could not be aligned in the text \"Suresh Kanagala\n",
      "Architecture SharePoint/Office 365...\" with entities \"[(113, 159, 'Email Address'), (925, 945, 'College ...\". Use `spacy.training.offsets_to_biluo_tags(nlp.make_doc(text), entities)` to check the alignment. Misaligned entities ('-') will be ignored during training.\n",
      "  warnings.warn(\n"
     ]
    },
    {
     "name": "stdout",
     "output_type": "stream",
     "text": [
      "{'spancat': 41094.597810209496}\n",
      "{'spancat': 41094.60461529833}\n"
     ]
    },
    {
     "name": "stderr",
     "output_type": "stream",
     "text": [
      "C:\\Users\\teddy\\miniconda3\\envs\\NLP_env\\lib\\site-packages\\spacy\\training\\iob_utils.py:141: UserWarning: [W030] Some entities could not be aligned in the text \"Yogesh Ghatole\n",
      "Engineer / Electrical Supervisor, S...\" with entities \"[(2678, 2719, 'College Name'), (49, 100, 'Companie...\". Use `spacy.training.offsets_to_biluo_tags(nlp.make_doc(text), entities)` to check the alignment. Misaligned entities ('-') will be ignored during training.\n",
      "  warnings.warn(\n"
     ]
    },
    {
     "name": "stdout",
     "output_type": "stream",
     "text": [
      "{'spancat': 41094.613198848674}\n",
      "{'spancat': 41094.623204484815}\n",
      "{'spancat': 41094.625884226756}\n",
      "{'spancat': 41094.630275292555}\n",
      "{'spancat': 41094.63275531726}\n"
     ]
    },
    {
     "name": "stderr",
     "output_type": "stream",
     "text": [
      "C:\\Users\\teddy\\miniconda3\\envs\\NLP_env\\lib\\site-packages\\spacy\\training\\iob_utils.py:141: UserWarning: [W030] Some entities could not be aligned in the text \"amarjyot sodhi\n",
      "Voice and Accent Trainer :Masters i...\" with entities \"[(1130, 1174, 'Email Address'), (522, 537, 'Design...\". Use `spacy.training.offsets_to_biluo_tags(nlp.make_doc(text), entities)` to check the alignment. Misaligned entities ('-') will be ignored during training.\n",
      "  warnings.warn(\n"
     ]
    },
    {
     "name": "stdout",
     "output_type": "stream",
     "text": [
      "{'spancat': 41094.641982633155}\n",
      "{'spancat': 41094.6486637732}\n"
     ]
    },
    {
     "name": "stderr",
     "output_type": "stream",
     "text": [
      "C:\\Users\\teddy\\miniconda3\\envs\\NLP_env\\lib\\site-packages\\spacy\\training\\iob_utils.py:141: UserWarning: [W030] Some entities could not be aligned in the text \"Ganesh AlalaSundaram\n",
      "A Dev-Test Professional with ...\" with entities \"[(50, 56, 'Years of Experience'), (0, 20, 'Name'),...\". Use `spacy.training.offsets_to_biluo_tags(nlp.make_doc(text), entities)` to check the alignment. Misaligned entities ('-') will be ignored during training.\n",
      "  warnings.warn(\n"
     ]
    },
    {
     "name": "stdout",
     "output_type": "stream",
     "text": [
      "{'spancat': 41094.65251655574}\n",
      "{'spancat': 41094.6544380791}\n"
     ]
    },
    {
     "name": "stderr",
     "output_type": "stream",
     "text": [
      "C:\\Users\\teddy\\miniconda3\\envs\\NLP_env\\lib\\site-packages\\spacy\\training\\iob_utils.py:141: UserWarning: [W030] Some entities could not be aligned in the text \"Soumya Balan\n",
      "IT SUPPORT\n",
      "\n",
      "Sulthan Bathery, Kerala, ...\" with entities \"[(3750, 3754, 'Graduation Year'), (536, 545, 'Comp...\". Use `spacy.training.offsets_to_biluo_tags(nlp.make_doc(text), entities)` to check the alignment. Misaligned entities ('-') will be ignored during training.\n",
      "  warnings.warn(\n"
     ]
    },
    {
     "name": "stdout",
     "output_type": "stream",
     "text": [
      "{'spancat': 41094.662377001485}\n"
     ]
    },
    {
     "name": "stderr",
     "output_type": "stream",
     "text": [
      "C:\\Users\\teddy\\miniconda3\\envs\\NLP_env\\lib\\site-packages\\spacy\\training\\iob_utils.py:141: UserWarning: [W030] Some entities could not be aligned in the text \"Mayank Shukla\n",
      "Infosys group as a Test Analyst - In...\" with entities \"[(2105, 2148, 'Email Address'), (2192, 2234, 'Coll...\". Use `spacy.training.offsets_to_biluo_tags(nlp.make_doc(text), entities)` to check the alignment. Misaligned entities ('-') will be ignored during training.\n",
      "  warnings.warn(\n"
     ]
    },
    {
     "name": "stdout",
     "output_type": "stream",
     "text": [
      "{'spancat': 41094.66813923349}\n"
     ]
    },
    {
     "name": "stderr",
     "output_type": "stream",
     "text": [
      "C:\\Users\\teddy\\miniconda3\\envs\\NLP_env\\lib\\site-packages\\spacy\\training\\iob_utils.py:141: UserWarning: [W030] Some entities could not be aligned in the text \"Puneeth R\n",
      "Escalation Specialist - HiPower Support ...\" with entities \"[(2177, 2180, 'Degree'), (34, 56, 'Companies worke...\". Use `spacy.training.offsets_to_biluo_tags(nlp.make_doc(text), entities)` to check the alignment. Misaligned entities ('-') will be ignored during training.\n",
      "  warnings.warn(\n"
     ]
    },
    {
     "name": "stdout",
     "output_type": "stream",
     "text": [
      "{'spancat': 41094.672119004885}\n"
     ]
    },
    {
     "name": "stderr",
     "output_type": "stream",
     "text": [
      "C:\\Users\\teddy\\miniconda3\\envs\\NLP_env\\lib\\site-packages\\spacy\\training\\iob_utils.py:141: UserWarning: [W030] Some entities could not be aligned in the text \"Jaspreet Kaur\n",
      "Oceanic Consultants as a HR Executiv...\" with entities \"[(0, 13, 'Name'), (338, 357, 'Designation'), (14, ...\". Use `spacy.training.offsets_to_biluo_tags(nlp.make_doc(text), entities)` to check the alignment. Misaligned entities ('-') will be ignored during training.\n",
      "  warnings.warn(\n"
     ]
    },
    {
     "name": "stdout",
     "output_type": "stream",
     "text": [
      "{'spancat': 41094.682085749926}\n",
      "{'spancat': 41094.68537605158}\n",
      "{'spancat': 41094.689112814376}\n",
      "{'spancat': 41094.69010568713}\n"
     ]
    },
    {
     "name": "stderr",
     "output_type": "stream",
     "text": [
      "C:\\Users\\teddy\\miniconda3\\envs\\NLP_env\\lib\\site-packages\\spacy\\training\\iob_utils.py:141: UserWarning: [W030] Some entities could not be aligned in the text \"Sohan Dhakad\n",
      "Shivpuri, Madhya Pradesh - Email me o...\" with entities \"[(13, 21, 'Location'), (60, 103, 'Email Address'),...\". Use `spacy.training.offsets_to_biluo_tags(nlp.make_doc(text), entities)` to check the alignment. Misaligned entities ('-') will be ignored during training.\n",
      "  warnings.warn(\n"
     ]
    },
    {
     "name": "stdout",
     "output_type": "stream",
     "text": [
      "{'spancat': 41094.69182844972}\n",
      "{'spancat': 41094.69454643526}\n",
      "{'spancat': 41094.695199690876}\n"
     ]
    },
    {
     "name": "stderr",
     "output_type": "stream",
     "text": [
      "C:\\Users\\teddy\\miniconda3\\envs\\NLP_env\\lib\\site-packages\\spacy\\training\\iob_utils.py:141: UserWarning: [W030] Some entities could not be aligned in the text \"Mohini Gupta\n",
      "Server Support Engineer\n",
      "\n",
      "Gurgaon, Har...\" with entities \"[(1704, 1746, 'Email Address'), (300, 309, 'Compan...\". Use `spacy.training.offsets_to_biluo_tags(nlp.make_doc(text), entities)` to check the alignment. Misaligned entities ('-') will be ignored during training.\n",
      "  warnings.warn(\n"
     ]
    },
    {
     "name": "stdout",
     "output_type": "stream",
     "text": [
      "{'spancat': 41094.69933466951}\n",
      "{'spancat': 41094.704927321174}\n",
      "{'spancat': 41094.726446265006}\n"
     ]
    },
    {
     "name": "stderr",
     "output_type": "stream",
     "text": [
      "C:\\Users\\teddy\\miniconda3\\envs\\NLP_env\\lib\\site-packages\\spacy\\training\\iob_utils.py:141: UserWarning: [W030] Some entities could not be aligned in the text \"Asha Subbaiah\n",
      "(Microsoft Partner Readiness Operati...\" with entities \"[(0, 13, 'Name'), (3299, 3308, 'Location'), (2586,...\". Use `spacy.training.offsets_to_biluo_tags(nlp.make_doc(text), entities)` to check the alignment. Misaligned entities ('-') will be ignored during training.\n",
      "  warnings.warn(\n"
     ]
    },
    {
     "name": "stdout",
     "output_type": "stream",
     "text": [
      "{'spancat': 41094.731940322206}\n",
      "{'spancat': 41094.74778778723}\n"
     ]
    },
    {
     "name": "stderr",
     "output_type": "stream",
     "text": [
      "C:\\Users\\teddy\\miniconda3\\envs\\NLP_env\\lib\\site-packages\\spacy\\training\\iob_utils.py:141: UserWarning: [W030] Some entities could not be aligned in the text \"Laya A\n",
      "Cluster HR Manager - Velammal New\n",
      "\n",
      "Chennai,...\" with entities \"[(84, 120, 'Email Address'), (28, 40, 'Companies w...\". Use `spacy.training.offsets_to_biluo_tags(nlp.make_doc(text), entities)` to check the alignment. Misaligned entities ('-') will be ignored during training.\n",
      "  warnings.warn(\n"
     ]
    },
    {
     "name": "stdout",
     "output_type": "stream",
     "text": [
      "{'spancat': 41094.755117988796}\n",
      "{'spancat': 41094.756227207254}\n"
     ]
    },
    {
     "name": "stderr",
     "output_type": "stream",
     "text": [
      "C:\\Users\\teddy\\miniconda3\\envs\\NLP_env\\lib\\site-packages\\spacy\\training\\iob_utils.py:141: UserWarning: [W030] Some entities could not be aligned in the text \"VARUN AHLUWALIA\n",
      "Quantitative Analyst\n",
      "\n",
      "- Email me o...\" with entities \"[(0, 15, 'Name'), (736, 740, 'Graduation Year'), (...\". Use `spacy.training.offsets_to_biluo_tags(nlp.make_doc(text), entities)` to check the alignment. Misaligned entities ('-') will be ignored during training.\n",
      "  warnings.warn(\n",
      "C:\\Users\\teddy\\miniconda3\\envs\\NLP_env\\lib\\site-packages\\spacy\\training\\iob_utils.py:141: UserWarning: [W030] Some entities could not be aligned in the text \"Keshav Dhawale\n",
      "3 TCS Security guard Access Control...\" with entities \"[(145, 189, 'Email Address'), (17, 35, 'Designatio...\". Use `spacy.training.offsets_to_biluo_tags(nlp.make_doc(text), entities)` to check the alignment. Misaligned entities ('-') will be ignored during training.\n",
      "  warnings.warn(\n"
     ]
    },
    {
     "name": "stdout",
     "output_type": "stream",
     "text": [
      "{'spancat': 41094.75793257891}\n"
     ]
    },
    {
     "name": "stderr",
     "output_type": "stream",
     "text": [
      "C:\\Users\\teddy\\miniconda3\\envs\\NLP_env\\lib\\site-packages\\spacy\\training\\iob_utils.py:141: UserWarning: [W030] Some entities could not be aligned in the text \"Suman Biswas\n",
      "SAP UI5 Lead, Native HANA Developer -...\" with entities \"[(1402, 1406, 'Graduation Year'), (4512, 4534, 'Co...\". Use `spacy.training.offsets_to_biluo_tags(nlp.make_doc(text), entities)` to check the alignment. Misaligned entities ('-') will be ignored during training.\n",
      "  warnings.warn(\n"
     ]
    },
    {
     "name": "stdout",
     "output_type": "stream",
     "text": [
      "{'spancat': 41094.7687615098}\n",
      "{'spancat': 41094.77439558017}\n",
      "{'spancat': 41094.77715160255}\n"
     ]
    },
    {
     "name": "stderr",
     "output_type": "stream",
     "text": [
      "C:\\Users\\teddy\\miniconda3\\envs\\NLP_env\\lib\\site-packages\\spacy\\training\\iob_utils.py:141: UserWarning: [W030] Some entities could not be aligned in the text \"Zaheer Uddin\n",
      "Technical Project Manager\n",
      "\n",
      "Hyderabad,...\" with entities \"[(4901, 4910, 'Location'), (1369, 1402, 'Designati...\". Use `spacy.training.offsets_to_biluo_tags(nlp.make_doc(text), entities)` to check the alignment. Misaligned entities ('-') will be ignored during training.\n",
      "  warnings.warn(\n"
     ]
    },
    {
     "name": "stdout",
     "output_type": "stream",
     "text": [
      "{'spancat': 41094.783846016275}\n",
      "{'spancat': 41094.79222785984}\n",
      "{'spancat': 41094.79266786561}\n",
      "{'spancat': 41094.79625690481}\n",
      "{'spancat': 41094.802148503106}\n"
     ]
    },
    {
     "name": "stderr",
     "output_type": "stream",
     "text": [
      "C:\\Users\\teddy\\miniconda3\\envs\\NLP_env\\lib\\site-packages\\spacy\\training\\iob_utils.py:141: UserWarning: [W030] Some entities could not be aligned in the text \"Chhaya Prabhale\n",
      "Kharadi, Pune, 411014, IN - Email ...\" with entities \"[(16, 23, 'Location'), (478, 488, 'Designation'), ...\". Use `spacy.training.offsets_to_biluo_tags(nlp.make_doc(text), entities)` to check the alignment. Misaligned entities ('-') will be ignored during training.\n",
      "  warnings.warn(\n"
     ]
    },
    {
     "name": "stdout",
     "output_type": "stream",
     "text": [
      "{'spancat': 41094.80699286083}\n",
      "{'spancat': 41094.80787923021}\n"
     ]
    },
    {
     "name": "stderr",
     "output_type": "stream",
     "text": [
      "C:\\Users\\teddy\\miniconda3\\envs\\NLP_env\\lib\\site-packages\\spacy\\training\\iob_utils.py:141: UserWarning: [W030] Some entities could not be aligned in the text \"Anurag Asthana\n",
      "Pune, Maharashtra - Email me on Ind...\" with entities \"[(2439, 2443, 'Location'), (4695, 4717, 'Companies...\". Use `spacy.training.offsets_to_biluo_tags(nlp.make_doc(text), entities)` to check the alignment. Misaligned entities ('-') will be ignored during training.\n",
      "  warnings.warn(\n"
     ]
    },
    {
     "name": "stdout",
     "output_type": "stream",
     "text": [
      "{'spancat': 41094.81806027351}\n",
      "{'spancat': 41094.82219174618}\n"
     ]
    },
    {
     "name": "stderr",
     "output_type": "stream",
     "text": [
      "C:\\Users\\teddy\\miniconda3\\envs\\NLP_env\\lib\\site-packages\\spacy\\training\\iob_utils.py:141: UserWarning: [W030] Some entities could not be aligned in the text \"Yathishwaran P\n",
      "Maximo Consultant - Infosys Limited...\" with entities \"[(15, 32, 'Designation'), (19377, 19479, 'Skills')...\". Use `spacy.training.offsets_to_biluo_tags(nlp.make_doc(text), entities)` to check the alignment. Misaligned entities ('-') will be ignored during training.\n",
      "  warnings.warn(\n"
     ]
    },
    {
     "name": "stdout",
     "output_type": "stream",
     "text": [
      "{'spancat': 41094.84850683549}\n"
     ]
    },
    {
     "name": "stderr",
     "output_type": "stream",
     "text": [
      "C:\\Users\\teddy\\miniconda3\\envs\\NLP_env\\lib\\site-packages\\spacy\\training\\iob_utils.py:141: UserWarning: [W030] Some entities could not be aligned in the text \"Soumya Balan\n",
      "IT SUPPORT\n",
      "\n",
      "Sulthan Bathery, Kerala, ...\" with entities \"[(79, 122, 'Email Address'), (3880, 3884, 'Graduat...\". Use `spacy.training.offsets_to_biluo_tags(nlp.make_doc(text), entities)` to check the alignment. Misaligned entities ('-') will be ignored during training.\n",
      "  warnings.warn(\n"
     ]
    },
    {
     "name": "stdout",
     "output_type": "stream",
     "text": [
      "{'spancat': 41094.85436101325}\n",
      "{'spancat': 41094.8643892321}\n",
      "{'spancat': 41094.875057957805}\n"
     ]
    },
    {
     "name": "stderr",
     "output_type": "stream",
     "text": [
      "C:\\Users\\teddy\\miniconda3\\envs\\NLP_env\\lib\\site-packages\\spacy\\training\\iob_utils.py:141: UserWarning: [W030] Some entities could not be aligned in the text \"Jacob Philip\n",
      "Kottayam, Kerala - Email me on Indeed...\" with entities \"[(2145, 2155, 'Degree'), (13, 21, 'Location'), (17...\". Use `spacy.training.offsets_to_biluo_tags(nlp.make_doc(text), entities)` to check the alignment. Misaligned entities ('-') will be ignored during training.\n",
      "  warnings.warn(\n"
     ]
    },
    {
     "name": "stdout",
     "output_type": "stream",
     "text": [
      "{'spancat': 41094.87719532169}\n",
      "{'spancat': 41094.877481801435}\n"
     ]
    },
    {
     "name": "stderr",
     "output_type": "stream",
     "text": [
      "C:\\Users\\teddy\\miniconda3\\envs\\NLP_env\\lib\\site-packages\\spacy\\training\\iob_utils.py:141: UserWarning: [W030] Some entities could not be aligned in the text \"Sameer Kujur\n",
      "Orrisha - Email me on Indeed: indeed....\" with entities \"[(265, 307, 'Email Address'), (43, 85, 'Email Addr...\". Use `spacy.training.offsets_to_biluo_tags(nlp.make_doc(text), entities)` to check the alignment. Misaligned entities ('-') will be ignored during training.\n",
      "  warnings.warn(\n"
     ]
    },
    {
     "name": "stdout",
     "output_type": "stream",
     "text": [
      "{'spancat': 41094.87915580196}\n",
      "{'spancat': 41094.879392483854}\n",
      "{'spancat': 41094.87993386306}\n"
     ]
    },
    {
     "name": "stderr",
     "output_type": "stream",
     "text": [
      "C:\\Users\\teddy\\miniconda3\\envs\\NLP_env\\lib\\site-packages\\spacy\\training\\iob_utils.py:141: UserWarning: [W030] Some entities could not be aligned in the text \"Shreyanshu Gupta\n",
      "Software Development Engineer wit...\" with entities \"[(938, 946, 'Skills'), (443, 449, 'Companies worke...\". Use `spacy.training.offsets_to_biluo_tags(nlp.make_doc(text), entities)` to check the alignment. Misaligned entities ('-') will be ignored during training.\n",
      "  warnings.warn(\n"
     ]
    },
    {
     "name": "stdout",
     "output_type": "stream",
     "text": [
      "{'spancat': 41094.88472425437}\n"
     ]
    },
    {
     "name": "stderr",
     "output_type": "stream",
     "text": [
      "C:\\Users\\teddy\\miniconda3\\envs\\NLP_env\\lib\\site-packages\\spacy\\training\\iob_utils.py:141: UserWarning: [W030] Some entities could not be aligned in the text \"Ashish Indoriya\n",
      "Sr. Systems Engineer at Infosys Li...\" with entities \"[(1167, 1182, 'Companies worked at'), (3559, 3589,...\". Use `spacy.training.offsets_to_biluo_tags(nlp.make_doc(text), entities)` to check the alignment. Misaligned entities ('-') will be ignored during training.\n",
      "  warnings.warn(\n"
     ]
    },
    {
     "name": "stdout",
     "output_type": "stream",
     "text": [
      "{'spancat': 41094.88906140963}\n",
      "{'spancat': 41094.8943450019}\n"
     ]
    },
    {
     "name": "stderr",
     "output_type": "stream",
     "text": [
      "C:\\Users\\teddy\\miniconda3\\envs\\NLP_env\\lib\\site-packages\\spacy\\training\\iob_utils.py:141: UserWarning: [W030] Some entities could not be aligned in the text \"Vishwanath P\n",
      "Senior Executive (MIS & Audit) - Job ...\" with entities \"[(61, 93, 'Companies worked at'), (138, 180, 'Emai...\". Use `spacy.training.offsets_to_biluo_tags(nlp.make_doc(text), entities)` to check the alignment. Misaligned entities ('-') will be ignored during training.\n",
      "  warnings.warn(\n"
     ]
    },
    {
     "name": "stdout",
     "output_type": "stream",
     "text": [
      "{'spancat': 41094.90518823324}\n",
      "{'spancat': 41094.90591962362}\n"
     ]
    },
    {
     "name": "stderr",
     "output_type": "stream",
     "text": [
      "C:\\Users\\teddy\\miniconda3\\envs\\NLP_env\\lib\\site-packages\\spacy\\training\\iob_utils.py:141: UserWarning: [W030] Some entities could not be aligned in the text \"PRASHANTH BADALA\n",
      "Devops Engineer ,Cloud Engineer -...\" with entities \"[(3269, 3273, 'Skills'), (12696, 12702, 'Companies...\". Use `spacy.training.offsets_to_biluo_tags(nlp.make_doc(text), entities)` to check the alignment. Misaligned entities ('-') will be ignored during training.\n",
      "  warnings.warn(\n"
     ]
    },
    {
     "name": "stdout",
     "output_type": "stream",
     "text": [
      "{'spancat': 41094.92206129158}\n",
      "{'spancat': 41094.92451617989}\n",
      "{'spancat': 41094.93132471788}\n"
     ]
    },
    {
     "name": "stderr",
     "output_type": "stream",
     "text": [
      "C:\\Users\\teddy\\miniconda3\\envs\\NLP_env\\lib\\site-packages\\spacy\\training\\iob_utils.py:141: UserWarning: [W030] Some entities could not be aligned in the text \"Senthil Kumar\n",
      "Senior Technical Lead - HCL Cisco\n",
      "\n",
      "-...\" with entities \"[(6646, 7279, 'Skills'), (21, 35, 'Designation'), ...\". Use `spacy.training.offsets_to_biluo_tags(nlp.make_doc(text), entities)` to check the alignment. Misaligned entities ('-') will be ignored during training.\n",
      "  warnings.warn(\n"
     ]
    },
    {
     "name": "stdout",
     "output_type": "stream",
     "text": [
      "{'spancat': 41094.940518183925}\n",
      "{'spancat': 41094.94628209929}\n",
      "{'spancat': 41094.94704448432}\n",
      "{'spancat': 41094.95220734272}\n"
     ]
    },
    {
     "name": "stderr",
     "output_type": "stream",
     "text": [
      "C:\\Users\\teddy\\miniconda3\\envs\\NLP_env\\lib\\site-packages\\spacy\\training\\iob_utils.py:141: UserWarning: [W030] Some entities could not be aligned in the text \"Abdul B\n",
      "Arabic Language supporter (Content Analyst...\" with entities \"[(2331, 2339, 'Degree'), (921, 940, 'Companies wor...\". Use `spacy.training.offsets_to_biluo_tags(nlp.make_doc(text), entities)` to check the alignment. Misaligned entities ('-') will be ignored during training.\n",
      "  warnings.warn(\n"
     ]
    },
    {
     "name": "stdout",
     "output_type": "stream",
     "text": [
      "{'spancat': 41094.95670255972}\n"
     ]
    },
    {
     "name": "stderr",
     "output_type": "stream",
     "text": [
      "C:\\Users\\teddy\\miniconda3\\envs\\NLP_env\\lib\\site-packages\\spacy\\training\\iob_utils.py:141: UserWarning: [W030] Some entities could not be aligned in the text \"Roshan Sinha\n",
      "Application Developer - SAP ABAP\n",
      "\n",
      "Kol...\" with entities \"[(3190, 3194, 'Graduation Year'), (3142, 3165, 'Co...\". Use `spacy.training.offsets_to_biluo_tags(nlp.make_doc(text), entities)` to check the alignment. Misaligned entities ('-') will be ignored during training.\n",
      "  warnings.warn(\n"
     ]
    },
    {
     "name": "stdout",
     "output_type": "stream",
     "text": [
      "{'spancat': 41094.959889394464}\n",
      "{'spancat': 41094.96158356755}\n"
     ]
    },
    {
     "name": "stderr",
     "output_type": "stream",
     "text": [
      "C:\\Users\\teddy\\miniconda3\\envs\\NLP_env\\lib\\site-packages\\spacy\\training\\iob_utils.py:141: UserWarning: [W030] Some entities could not be aligned in the text \"Pradeeba V\n",
      "LEAD ENGINEER - CISCO\n",
      "\n",
      "- Email me on In...\" with entities \"[(906, 909, 'Skills'), (2487, 2497, 'Skills'), (19...\". Use `spacy.training.offsets_to_biluo_tags(nlp.make_doc(text), entities)` to check the alignment. Misaligned entities ('-') will be ignored during training.\n",
      "  warnings.warn(\n"
     ]
    },
    {
     "name": "stdout",
     "output_type": "stream",
     "text": [
      "{'spancat': 41094.96475463151}\n",
      "{'spancat': 41094.96584086213}\n"
     ]
    },
    {
     "name": "stderr",
     "output_type": "stream",
     "text": [
      "C:\\Users\\teddy\\miniconda3\\envs\\NLP_env\\lib\\site-packages\\spacy\\training\\iob_utils.py:141: UserWarning: [W030] Some entities could not be aligned in the text \"B. Gokul\n",
      "Gokul, Uttar Pradesh - Email me on Indeed...\" with entities \"[(0, 8, 'Name'), (863, 868, 'Location'), (9, 14, '...\". Use `spacy.training.offsets_to_biluo_tags(nlp.make_doc(text), entities)` to check the alignment. Misaligned entities ('-') will be ignored during training.\n",
      "  warnings.warn(\n",
      "C:\\Users\\teddy\\miniconda3\\envs\\NLP_env\\lib\\site-packages\\spacy\\training\\iob_utils.py:141: UserWarning: [W030] Some entities could not be aligned in the text \"Pawan Nag\n",
      "Microsoft Certified System Engineer\n",
      "\n",
      "Del...\" with entities \"[(47, 52, 'Location'), (150, 175, 'Designation'), ...\". Use `spacy.training.offsets_to_biluo_tags(nlp.make_doc(text), entities)` to check the alignment. Misaligned entities ('-') will be ignored during training.\n",
      "  warnings.warn(\n"
     ]
    },
    {
     "name": "stdout",
     "output_type": "stream",
     "text": [
      "{'spancat': 41094.96635677363}\n"
     ]
    },
    {
     "name": "stderr",
     "output_type": "stream",
     "text": [
      "C:\\Users\\teddy\\miniconda3\\envs\\NLP_env\\lib\\site-packages\\spacy\\training\\iob_utils.py:141: UserWarning: [W030] Some entities could not be aligned in the text \"Akshay Dubey\n",
      "Actively looking for opportunity in ....\" with entities \"[(107, 149, 'Email Address'), (2552, 2569, 'Colleg...\". Use `spacy.training.offsets_to_biluo_tags(nlp.make_doc(text), entities)` to check the alignment. Misaligned entities ('-') will be ignored during training.\n",
      "  warnings.warn(\n"
     ]
    },
    {
     "name": "stdout",
     "output_type": "stream",
     "text": [
      "{'spancat': 41094.96941524604}\n"
     ]
    },
    {
     "name": "stderr",
     "output_type": "stream",
     "text": [
      "C:\\Users\\teddy\\miniconda3\\envs\\NLP_env\\lib\\site-packages\\spacy\\training\\iob_utils.py:141: UserWarning: [W030] Some entities could not be aligned in the text \"Imgeeyaul Ansari\n",
      "java developer\n",
      "\n",
      "Pune, Maharashtra...\" with entities \"[(1276, 1325, 'Degree'), (145, 149, 'Location'), (...\". Use `spacy.training.offsets_to_biluo_tags(nlp.make_doc(text), entities)` to check the alignment. Misaligned entities ('-') will be ignored during training.\n",
      "  warnings.warn(\n"
     ]
    },
    {
     "name": "stdout",
     "output_type": "stream",
     "text": [
      "{'spancat': 41094.971652080305}\n",
      "{'spancat': 41094.97300552903}\n"
     ]
    },
    {
     "name": "stderr",
     "output_type": "stream",
     "text": [
      "C:\\Users\\teddy\\miniconda3\\envs\\NLP_env\\lib\\site-packages\\spacy\\training\\iob_utils.py:141: UserWarning: [W030] Some entities could not be aligned in the text \"Pavithra M\n",
      "\"Infosys\" internship\n",
      "\n",
      "Bengaluru, Karnat...\" with entities \"[(611, 984, 'Skills'), (12, 19, 'Companies worked ...\". Use `spacy.training.offsets_to_biluo_tags(nlp.make_doc(text), entities)` to check the alignment. Misaligned entities ('-') will be ignored during training.\n",
      "  warnings.warn(\n",
      "C:\\Users\\teddy\\miniconda3\\envs\\NLP_env\\lib\\site-packages\\spacy\\training\\iob_utils.py:141: UserWarning: [W030] Some entities could not be aligned in the text \"Srinivas VO\n",
      "Sr. Test Manager\n",
      "\n",
      "Mumbai, Maharashtra ...\" with entities \"[(72, 113, 'Email Address'), (11125, 11145, 'Colle...\". Use `spacy.training.offsets_to_biluo_tags(nlp.make_doc(text), entities)` to check the alignment. Misaligned entities ('-') will be ignored during training.\n",
      "  warnings.warn(\n"
     ]
    },
    {
     "name": "stdout",
     "output_type": "stream",
     "text": [
      "{'spancat': 41094.98837186629}\n"
     ]
    },
    {
     "name": "stderr",
     "output_type": "stream",
     "text": [
      "C:\\Users\\teddy\\miniconda3\\envs\\NLP_env\\lib\\site-packages\\spacy\\training\\iob_utils.py:141: UserWarning: [W030] Some entities could not be aligned in the text \"Ramakrishna Rao\n",
      "DevOps Consultant - Tech Mahindra ...\" with entities \"[(4681, 4695, 'Degree'), (4697, 4714, 'College Nam...\". Use `spacy.training.offsets_to_biluo_tags(nlp.make_doc(text), entities)` to check the alignment. Misaligned entities ('-') will be ignored during training.\n",
      "  warnings.warn(\n"
     ]
    },
    {
     "name": "stdout",
     "output_type": "stream",
     "text": [
      "{'spancat': 41094.99521078961}\n"
     ]
    },
    {
     "name": "stderr",
     "output_type": "stream",
     "text": [
      "C:\\Users\\teddy\\miniconda3\\envs\\NLP_env\\lib\\site-packages\\spacy\\training\\iob_utils.py:141: UserWarning: [W030] Some entities could not be aligned in the text \"Ravi Shivgond\n",
      "Bidar, Karnataka - Email me on Indee...\" with entities \"[(0, 13, 'Name'), (53, 96, 'Email Address'), (1131...\". Use `spacy.training.offsets_to_biluo_tags(nlp.make_doc(text), entities)` to check the alignment. Misaligned entities ('-') will be ignored during training.\n",
      "  warnings.warn(\n"
     ]
    },
    {
     "name": "stdout",
     "output_type": "stream",
     "text": [
      "{'spancat': 41094.99736113823}\n"
     ]
    },
    {
     "name": "stderr",
     "output_type": "stream",
     "text": [
      "C:\\Users\\teddy\\miniconda3\\envs\\NLP_env\\lib\\site-packages\\spacy\\training\\iob_utils.py:141: UserWarning: [W030] Some entities could not be aligned in the text \"Girish Acharya\n",
      "Technical Architect & Sr. Software ...\" with entities \"[(17772, 17791, 'Designation'), (10409, 10418, 'Co...\". Use `spacy.training.offsets_to_biluo_tags(nlp.make_doc(text), entities)` to check the alignment. Misaligned entities ('-') will be ignored during training.\n",
      "  warnings.warn(\n"
     ]
    },
    {
     "name": "stdout",
     "output_type": "stream",
     "text": [
      "{'spancat': 41095.01836415543}\n"
     ]
    },
    {
     "name": "stderr",
     "output_type": "stream",
     "text": [
      "C:\\Users\\teddy\\miniconda3\\envs\\NLP_env\\lib\\site-packages\\spacy\\training\\iob_utils.py:141: UserWarning: [W030] Some entities could not be aligned in the text \"Ravi Shankar\n",
      "Working as Escalation Engineer with M...\" with entities \"[(1076, 1085, 'Companies worked at'), (3220, 3229,...\". Use `spacy.training.offsets_to_biluo_tags(nlp.make_doc(text), entities)` to check the alignment. Misaligned entities ('-') will be ignored during training.\n",
      "  warnings.warn(\n"
     ]
    },
    {
     "name": "stdout",
     "output_type": "stream",
     "text": [
      "{'spancat': 41095.022130094}\n",
      "{'spancat': 41095.023076371755}\n"
     ]
    },
    {
     "name": "stderr",
     "output_type": "stream",
     "text": [
      "C:\\Users\\teddy\\miniconda3\\envs\\NLP_env\\lib\\site-packages\\spacy\\training\\iob_utils.py:141: UserWarning: [W030] Some entities could not be aligned in the text \"Nida Khan\n",
      "Tech Support Executive - Teleperformance...\" with entities \"[(106, 145, 'Email Address'), (66, 72, 'Location')...\". Use `spacy.training.offsets_to_biluo_tags(nlp.make_doc(text), entities)` to check the alignment. Misaligned entities ('-') will be ignored during training.\n",
      "  warnings.warn(\n",
      "C:\\Users\\teddy\\miniconda3\\envs\\NLP_env\\lib\\site-packages\\spacy\\training\\iob_utils.py:141: UserWarning: [W030] Some entities could not be aligned in the text \"Debasish Dasgupta\n",
      "Trainer-Finacle-Core Banking Sol...\" with entities \"[(2090, 2137, 'Email Address'), (93, 98, 'Location...\". Use `spacy.training.offsets_to_biluo_tags(nlp.make_doc(text), entities)` to check the alignment. Misaligned entities ('-') will be ignored during training.\n",
      "  warnings.warn(\n"
     ]
    },
    {
     "name": "stdout",
     "output_type": "stream",
     "text": [
      "{'spancat': 41095.031200186815}\n",
      "{'spancat': 41095.031441189116}\n",
      "{'spancat': 41095.03671114403}\n",
      "{'spancat': 41095.041827211855}\n"
     ]
    },
    {
     "name": "stderr",
     "output_type": "stream",
     "text": [
      "C:\\Users\\teddy\\miniconda3\\envs\\NLP_env\\lib\\site-packages\\spacy\\training\\iob_utils.py:141: UserWarning: [W030] Some entities could not be aligned in the text \"Karthik Gururaj\n",
      "Technical Lead at Infosys Ltd. - P...\" with entities \"[(34, 45, 'Companies worked at'), (1942, 1956, 'De...\". Use `spacy.training.offsets_to_biluo_tags(nlp.make_doc(text), entities)` to check the alignment. Misaligned entities ('-') will be ignored during training.\n",
      "  warnings.warn(\n"
     ]
    },
    {
     "name": "stdout",
     "output_type": "stream",
     "text": [
      "{'spancat': 41095.04449635488}\n",
      "{'spancat': 41095.045286577195}\n"
     ]
    },
    {
     "name": "stderr",
     "output_type": "stream",
     "text": [
      "C:\\Users\\teddy\\miniconda3\\envs\\NLP_env\\lib\\site-packages\\spacy\\training\\iob_utils.py:141: UserWarning: [W030] Some entities could not be aligned in the text \"Vinay Singhal\n",
      "New Delhi, Delhi - Email me on Indee...\" with entities \"[(0, 13, 'Name'), (53, 96, 'Email Address'), (580,...\". Use `spacy.training.offsets_to_biluo_tags(nlp.make_doc(text), entities)` to check the alignment. Misaligned entities ('-') will be ignored during training.\n",
      "  warnings.warn(\n",
      "C:\\Users\\teddy\\miniconda3\\envs\\NLP_env\\lib\\site-packages\\spacy\\training\\iob_utils.py:141: UserWarning: [W030] Some entities could not be aligned in the text \"Pankaj Bhosale\n",
      "Microsoft SQL-SERVER\n",
      "\n",
      "Dhule, Mahara...\" with entities \"[(1243, 1266, 'College Name'), (1331, 1336, 'Locat...\". Use `spacy.training.offsets_to_biluo_tags(nlp.make_doc(text), entities)` to check the alignment. Misaligned entities ('-') will be ignored during training.\n",
      "  warnings.warn(\n"
     ]
    },
    {
     "name": "stdout",
     "output_type": "stream",
     "text": [
      "{'spancat': 41095.046662281035}\n"
     ]
    },
    {
     "name": "stderr",
     "output_type": "stream",
     "text": [
      "C:\\Users\\teddy\\miniconda3\\envs\\NLP_env\\lib\\site-packages\\spacy\\training\\iob_utils.py:141: UserWarning: [W030] Some entities could not be aligned in the text \"Sai Dhir\n",
      "- Email me on Indeed: indeed.com/r/Sai-Dh...\" with entities \"[(0, 8, 'Name'), (2323, 2327, 'College Name'), (16...\". Use `spacy.training.offsets_to_biluo_tags(nlp.make_doc(text), entities)` to check the alignment. Misaligned entities ('-') will be ignored during training.\n",
      "  warnings.warn(\n"
     ]
    },
    {
     "name": "stdout",
     "output_type": "stream",
     "text": [
      "{'spancat': 41095.049646253}\n",
      "{'spancat': 41095.050032891304}\n",
      "{'spancat': 41095.05713765693}\n"
     ]
    },
    {
     "name": "stderr",
     "output_type": "stream",
     "text": [
      "C:\\Users\\teddy\\miniconda3\\envs\\NLP_env\\lib\\site-packages\\spacy\\training\\iob_utils.py:141: UserWarning: [W030] Some entities could not be aligned in the text \"Karthik G V\n",
      "Program Manager, Product Manager, Prod...\" with entities \"[(12, 28, 'Designation'), (136, 149, 'Location'), ...\". Use `spacy.training.offsets_to_biluo_tags(nlp.make_doc(text), entities)` to check the alignment. Misaligned entities ('-') will be ignored during training.\n",
      "  warnings.warn(\n"
     ]
    },
    {
     "name": "stdout",
     "output_type": "stream",
     "text": [
      "{'spancat': 41095.05874429885}\n",
      "{'spancat': 41095.060314460745}\n"
     ]
    },
    {
     "name": "stderr",
     "output_type": "stream",
     "text": [
      "C:\\Users\\teddy\\miniconda3\\envs\\NLP_env\\lib\\site-packages\\spacy\\training\\iob_utils.py:141: UserWarning: [W030] Some entities could not be aligned in the text \"Sharan Adla\n",
      "- Email me on Indeed: indeed.com/r/Sha...\" with entities \"[(2416, 2419, 'Degree'), (2421, 2450, 'College Nam...\". Use `spacy.training.offsets_to_biluo_tags(nlp.make_doc(text), entities)` to check the alignment. Misaligned entities ('-') will be ignored during training.\n",
      "  warnings.warn(\n"
     ]
    },
    {
     "name": "stdout",
     "output_type": "stream",
     "text": [
      "{'spancat': 41095.06268927324}\n",
      "{'spancat': 41095.06341385559}\n"
     ]
    },
    {
     "name": "stderr",
     "output_type": "stream",
     "text": [
      "C:\\Users\\teddy\\miniconda3\\envs\\NLP_env\\lib\\site-packages\\spacy\\training\\iob_utils.py:141: UserWarning: [W030] Some entities could not be aligned in the text \"Ajay Elango\n",
      "Software Engineer\n",
      "\n",
      "Bangalore City, Kar...\" with entities \"[(717, 748, 'College Name'), (6845, 6875, 'College...\". Use `spacy.training.offsets_to_biluo_tags(nlp.make_doc(text), entities)` to check the alignment. Misaligned entities ('-') will be ignored during training.\n",
      "  warnings.warn(\n"
     ]
    },
    {
     "name": "stdout",
     "output_type": "stream",
     "text": [
      "{'spancat': 41095.06976170602}\n",
      "{'spancat': 41095.071640586684}\n"
     ]
    },
    {
     "name": "stderr",
     "output_type": "stream",
     "text": [
      "C:\\Users\\teddy\\miniconda3\\envs\\NLP_env\\lib\\site-packages\\spacy\\training\\iob_utils.py:141: UserWarning: [W030] Some entities could not be aligned in the text \"Akansha Jain\n",
      "Pune, Maharashtra - Email me on Indee...\" with entities \"[(256, 265, 'Designation'), (53, 95, 'Email Addres...\". Use `spacy.training.offsets_to_biluo_tags(nlp.make_doc(text), entities)` to check the alignment. Misaligned entities ('-') will be ignored during training.\n",
      "  warnings.warn(\n"
     ]
    },
    {
     "name": "stdout",
     "output_type": "stream",
     "text": [
      "{'spancat': 41095.0731898837}\n"
     ]
    },
    {
     "name": "stderr",
     "output_type": "stream",
     "text": [
      "C:\\Users\\teddy\\miniconda3\\envs\\NLP_env\\lib\\site-packages\\spacy\\training\\iob_utils.py:141: UserWarning: [W030] Some entities could not be aligned in the text \"Arpit Jain\n",
      "Quality Analyst - ThoughtWorks Technolo...\" with entities \"[(792, 807, 'Designation'), (56, 60, 'Location'), ...\". Use `spacy.training.offsets_to_biluo_tags(nlp.make_doc(text), entities)` to check the alignment. Misaligned entities ('-') will be ignored during training.\n",
      "  warnings.warn(\n"
     ]
    },
    {
     "name": "stdout",
     "output_type": "stream",
     "text": [
      "{'spancat': 41095.07509897821}\n"
     ]
    },
    {
     "name": "stderr",
     "output_type": "stream",
     "text": [
      "C:\\Users\\teddy\\miniconda3\\envs\\NLP_env\\lib\\site-packages\\spacy\\training\\iob_utils.py:141: UserWarning: [W030] Some entities could not be aligned in the text \"Tejasri Gunnam\n",
      "Bengaluru, Karnataka - Email me on ...\" with entities \"[(3517, 3878, 'Skills'), (3225, 3247, 'College Nam...\". Use `spacy.training.offsets_to_biluo_tags(nlp.make_doc(text), entities)` to check the alignment. Misaligned entities ('-') will be ignored during training.\n",
      "  warnings.warn(\n"
     ]
    },
    {
     "name": "stdout",
     "output_type": "stream",
     "text": [
      "{'spancat': 41095.078228327766}\n"
     ]
    },
    {
     "name": "stderr",
     "output_type": "stream",
     "text": [
      "C:\\Users\\teddy\\miniconda3\\envs\\NLP_env\\lib\\site-packages\\spacy\\training\\iob_utils.py:141: UserWarning: [W030] Some entities could not be aligned in the text \"Nidhi Pandit\n",
      "Test Engineer - Infosys Limited\n",
      "\n",
      "- Em...\" with entities \"[(13, 26, 'Designation'), (3132, 3611, 'Skills'), ...\". Use `spacy.training.offsets_to_biluo_tags(nlp.make_doc(text), entities)` to check the alignment. Misaligned entities ('-') will be ignored during training.\n",
      "  warnings.warn(\n"
     ]
    },
    {
     "name": "stdout",
     "output_type": "stream",
     "text": [
      "{'spancat': 41095.0811407071}\n",
      "{'spancat': 41095.081416286965}\n",
      "{'spancat': 41095.08161455048}\n"
     ]
    },
    {
     "name": "stderr",
     "output_type": "stream",
     "text": [
      "C:\\Users\\teddy\\miniconda3\\envs\\NLP_env\\lib\\site-packages\\spacy\\training\\iob_utils.py:141: UserWarning: [W030] Some entities could not be aligned in the text \"Ramesh HP\n",
      "CES ASSOCIATE CONSULTANT\n",
      "\n",
      "Bangalore, Kar...\" with entities \"[(2618, 2638, 'College Name'), (1063, 1087, 'Desig...\". Use `spacy.training.offsets_to_biluo_tags(nlp.make_doc(text), entities)` to check the alignment. Misaligned entities ('-') will be ignored during training.\n",
      "  warnings.warn(\n"
     ]
    },
    {
     "name": "stdout",
     "output_type": "stream",
     "text": [
      "{'spancat': 41095.08396103843}\n",
      "{'spancat': 41095.08488453533}\n"
     ]
    },
    {
     "name": "stderr",
     "output_type": "stream",
     "text": [
      "C:\\Users\\teddy\\miniconda3\\envs\\NLP_env\\lib\\site-packages\\spacy\\training\\iob_utils.py:141: UserWarning: [W030] Some entities could not be aligned in the text \"Shraddha Achar\n",
      "Mathura, Uttar Pradesh - Email me o...\" with entities \"[(975, 1020, 'Skills'), (15, 22, 'Location'), (152...\". Use `spacy.training.offsets_to_biluo_tags(nlp.make_doc(text), entities)` to check the alignment. Misaligned entities ('-') will be ignored during training.\n",
      "  warnings.warn(\n",
      "C:\\Users\\teddy\\miniconda3\\envs\\NLP_env\\lib\\site-packages\\spacy\\training\\iob_utils.py:141: UserWarning: [W030] Some entities could not be aligned in the text \"Sridevi H\n",
      "Bangalore, Karnataka - Email me on Indee...\" with entities \"[(1978, 1985, 'Companies worked at'), (298, 305, '...\". Use `spacy.training.offsets_to_biluo_tags(nlp.make_doc(text), entities)` to check the alignment. Misaligned entities ('-') will be ignored during training.\n",
      "  warnings.warn(\n"
     ]
    },
    {
     "name": "stdout",
     "output_type": "stream",
     "text": [
      "{'spancat': 41095.09764918666}\n",
      "{'spancat': 41095.09800277736}\n",
      "{'spancat': 41095.098743558556}\n",
      "{'spancat': 41095.09895600479}\n"
     ]
    },
    {
     "name": "stderr",
     "output_type": "stream",
     "text": [
      "C:\\Users\\teddy\\miniconda3\\envs\\NLP_env\\lib\\site-packages\\spacy\\training\\iob_utils.py:141: UserWarning: [W030] Some entities could not be aligned in the text \"Chaban kumar Debbarma\n",
      "Tripura - Email me on Indeed...\" with entities \"[(22, 29, 'Location'), (139, 146, 'Location'), (0,...\". Use `spacy.training.offsets_to_biluo_tags(nlp.make_doc(text), entities)` to check the alignment. Misaligned entities ('-') will be ignored during training.\n",
      "  warnings.warn(\n",
      "C:\\Users\\teddy\\miniconda3\\envs\\NLP_env\\lib\\site-packages\\spacy\\training\\iob_utils.py:141: UserWarning: [W030] Some entities could not be aligned in the text \"Praveen Bhaskar\n",
      "Program Manager (Software Delivery...\" with entities \"[(173, 208, 'Designation'), (0, 15, 'Name'), (4398...\". Use `spacy.training.offsets_to_biluo_tags(nlp.make_doc(text), entities)` to check the alignment. Misaligned entities ('-') will be ignored during training.\n",
      "  warnings.warn(\n"
     ]
    },
    {
     "name": "stdout",
     "output_type": "stream",
     "text": [
      "{'spancat': 41095.102994605506}\n"
     ]
    },
    {
     "name": "stderr",
     "output_type": "stream",
     "text": [
      "C:\\Users\\teddy\\miniconda3\\envs\\NLP_env\\lib\\site-packages\\spacy\\training\\iob_utils.py:141: UserWarning: [W030] Some entities could not be aligned in the text \"Mohammed Murtuza\n",
      "Major Incident Manager / Escalati...\" with entities \"[(17, 60, 'Designation'), (234, 249, 'Companies wo...\". Use `spacy.training.offsets_to_biluo_tags(nlp.make_doc(text), entities)` to check the alignment. Misaligned entities ('-') will be ignored during training.\n",
      "  warnings.warn(\n"
     ]
    },
    {
     "name": "stdout",
     "output_type": "stream",
     "text": [
      "{'spancat': 41095.109559691584}\n"
     ]
    },
    {
     "name": "stderr",
     "output_type": "stream",
     "text": [
      "C:\\Users\\teddy\\miniconda3\\envs\\NLP_env\\lib\\site-packages\\spacy\\training\\iob_utils.py:141: UserWarning: [W030] Some entities could not be aligned in the text \"Shaik Tazuddin\n",
      "Senior Process Executive - STAR Ind...\" with entities \"[(97, 141, 'Email Address'), (54, 63, 'Location'),...\". Use `spacy.training.offsets_to_biluo_tags(nlp.make_doc(text), entities)` to check the alignment. Misaligned entities ('-') will be ignored during training.\n",
      "  warnings.warn(\n"
     ]
    },
    {
     "name": "stdout",
     "output_type": "stream",
     "text": [
      "{'spancat': 41095.111866570616}\n",
      "{'spancat': 41095.118525508864}\n"
     ]
    },
    {
     "name": "stderr",
     "output_type": "stream",
     "text": [
      "C:\\Users\\teddy\\miniconda3\\envs\\NLP_env\\lib\\site-packages\\spacy\\training\\iob_utils.py:141: UserWarning: [W030] Some entities could not be aligned in the text \"Kavya U.\n",
      "Network Ops Associate - Accenture\n",
      "\n",
      "Bengal...\" with entities \"[(0, 8, 'Name'), (1153, 1183, 'College Name'), (17...\". Use `spacy.training.offsets_to_biluo_tags(nlp.make_doc(text), entities)` to check the alignment. Misaligned entities ('-') will be ignored during training.\n",
      "  warnings.warn(\n"
     ]
    },
    {
     "name": "stdout",
     "output_type": "stream",
     "text": [
      "{'spancat': 41095.119831799486}\n"
     ]
    },
    {
     "name": "stderr",
     "output_type": "stream",
     "text": [
      "C:\\Users\\teddy\\miniconda3\\envs\\NLP_env\\lib\\site-packages\\spacy\\training\\iob_utils.py:141: UserWarning: [W030] Some entities could not be aligned in the text \"Pratibha P\n",
      "Principal Consultant at Oracle\n",
      "\n",
      "Bengalu...\" with entities \"[(1646, 1652, 'Companies worked at'), (910, 916, '...\". Use `spacy.training.offsets_to_biluo_tags(nlp.make_doc(text), entities)` to check the alignment. Misaligned entities ('-') will be ignored during training.\n",
      "  warnings.warn(\n"
     ]
    },
    {
     "name": "stdout",
     "output_type": "stream",
     "text": [
      "{'spancat': 41095.122654994906}\n",
      "{'spancat': 41095.12333031652}\n"
     ]
    },
    {
     "name": "stderr",
     "output_type": "stream",
     "text": [
      "C:\\Users\\teddy\\miniconda3\\envs\\NLP_env\\lib\\site-packages\\spacy\\training\\iob_utils.py:141: UserWarning: [W030] Some entities could not be aligned in the text \"Palani S\n",
      "Senior Technology Support Executive at In...\" with entities \"[(0, 8, 'Name'), (370, 405, 'Designation'), (3546,...\". Use `spacy.training.offsets_to_biluo_tags(nlp.make_doc(text), entities)` to check the alignment. Misaligned entities ('-') will be ignored during training.\n",
      "  warnings.warn(\n"
     ]
    },
    {
     "name": "stdout",
     "output_type": "stream",
     "text": [
      "{'spancat': 41095.12634024631}\n",
      "{'spancat': 41095.12686822175}\n"
     ]
    },
    {
     "name": "stderr",
     "output_type": "stream",
     "text": [
      "C:\\Users\\teddy\\miniconda3\\envs\\NLP_env\\lib\\site-packages\\spacy\\training\\iob_utils.py:141: UserWarning: [W030] Some entities could not be aligned in the text \"Ramya. P\n",
      "Hyderabad, Telangana - Email me on Indeed...\" with entities \"[(0, 8, 'Name'), (3787, 3793, 'Skills'), (3603, 36...\". Use `spacy.training.offsets_to_biluo_tags(nlp.make_doc(text), entities)` to check the alignment. Misaligned entities ('-') will be ignored during training.\n",
      "  warnings.warn(\n"
     ]
    },
    {
     "name": "stdout",
     "output_type": "stream",
     "text": [
      "{'spancat': 41095.13032777801}\n"
     ]
    },
    {
     "name": "stderr",
     "output_type": "stream",
     "text": [
      "C:\\Users\\teddy\\miniconda3\\envs\\NLP_env\\lib\\site-packages\\spacy\\training\\iob_utils.py:141: UserWarning: [W030] Some entities could not be aligned in the text \"Vineeth Vijayan\n",
      "\"Store Executive\" - Orange City Ho...\" with entities \"[(700, 715, 'Designation'), (134, 180, 'Email Addr...\". Use `spacy.training.offsets_to_biluo_tags(nlp.make_doc(text), entities)` to check the alignment. Misaligned entities ('-') will be ignored during training.\n",
      "  warnings.warn(\n"
     ]
    },
    {
     "name": "stdout",
     "output_type": "stream",
     "text": [
      "{'spancat': 41095.13615344379}\n"
     ]
    },
    {
     "name": "stderr",
     "output_type": "stream",
     "text": [
      "C:\\Users\\teddy\\miniconda3\\envs\\NLP_env\\lib\\site-packages\\spacy\\training\\iob_utils.py:141: UserWarning: [W030] Some entities could not be aligned in the text \"Angad Waghmare\n",
      "Pune, Maharashtra - Email me on Ind...\" with entities \"[(3878, 3937, 'Degree'), (465, 469, 'Location'), (...\". Use `spacy.training.offsets_to_biluo_tags(nlp.make_doc(text), entities)` to check the alignment. Misaligned entities ('-') will be ignored during training.\n",
      "  warnings.warn(\n"
     ]
    },
    {
     "name": "stdout",
     "output_type": "stream",
     "text": [
      "{'spancat': 41095.13896345168}\n",
      "{'spancat': 41095.13911613848}\n"
     ]
    },
    {
     "name": "stderr",
     "output_type": "stream",
     "text": [
      "C:\\Users\\teddy\\miniconda3\\envs\\NLP_env\\lib\\site-packages\\spacy\\training\\iob_utils.py:141: UserWarning: [W030] Some entities could not be aligned in the text \"Krishna Prasad\n",
      "Patna, Bihar - Email me on Indeed: ...\" with entities \"[(15, 20, 'Location'), (120, 125, 'Location'), (16...\". Use `spacy.training.offsets_to_biluo_tags(nlp.make_doc(text), entities)` to check the alignment. Misaligned entities ('-') will be ignored during training.\n",
      "  warnings.warn(\n",
      "C:\\Users\\teddy\\miniconda3\\envs\\NLP_env\\lib\\site-packages\\spacy\\training\\iob_utils.py:141: UserWarning: [W030] Some entities could not be aligned in the text \"Nitin Verma\n",
      "Assisting Microsoft Partners - Exchang...\" with entities \"[(1277, 1281, 'Location'), (1308, 1349, 'Email Add...\". Use `spacy.training.offsets_to_biluo_tags(nlp.make_doc(text), entities)` to check the alignment. Misaligned entities ('-') will be ignored during training.\n",
      "  warnings.warn(\n"
     ]
    },
    {
     "name": "stdout",
     "output_type": "stream",
     "text": [
      "{'spancat': 41095.14000713479}\n",
      "{'spancat': 41095.148932366894}\n",
      "{'spancat': 41095.14917400965}\n",
      "{'spancat': 41095.14989857245}\n"
     ]
    },
    {
     "name": "stderr",
     "output_type": "stream",
     "text": [
      "C:\\Users\\teddy\\miniconda3\\envs\\NLP_env\\lib\\site-packages\\spacy\\training\\iob_utils.py:141: UserWarning: [W030] Some entities could not be aligned in the text \"Hartej Kathuria\n",
      "Data Analyst Intern - Oracle Retai...\" with entities \"[(233, 252, 'Designation'), (773, 830, 'Degree'), ...\". Use `spacy.training.offsets_to_biluo_tags(nlp.make_doc(text), entities)` to check the alignment. Misaligned entities ('-') will be ignored during training.\n",
      "  warnings.warn(\n"
     ]
    },
    {
     "name": "stdout",
     "output_type": "stream",
     "text": [
      "{'spancat': 41095.15161437387}\n",
      "{'spancat': 41095.15263125833}\n",
      "{'spancat': 41095.15486513378}\n",
      "{'spancat': 41095.15560318375}\n"
     ]
    },
    {
     "name": "stderr",
     "output_type": "stream",
     "text": [
      "C:\\Users\\teddy\\miniconda3\\envs\\NLP_env\\lib\\site-packages\\spacy\\training\\iob_utils.py:141: UserWarning: [W030] Some entities could not be aligned in the text \"Puneet Singh\n",
      "Associate Software Engineer\n",
      "\n",
      "Bengalur...\" with entities \"[(677, 684, 'Skills'), (13, 40, 'Designation'), (7...\". Use `spacy.training.offsets_to_biluo_tags(nlp.make_doc(text), entities)` to check the alignment. Misaligned entities ('-') will be ignored during training.\n",
      "  warnings.warn(\n"
     ]
    },
    {
     "name": "stdout",
     "output_type": "stream",
     "text": [
      "{'spancat': 41095.15663524679}\n",
      "{'spancat': 41095.162643556105}\n"
     ]
    },
    {
     "name": "stderr",
     "output_type": "stream",
     "text": [
      "C:\\Users\\teddy\\miniconda3\\envs\\NLP_env\\lib\\site-packages\\spacy\\training\\iob_utils.py:141: UserWarning: [W030] Some entities could not be aligned in the text \"Navas Koya\n",
      "Test Engineer\n",
      "\n",
      "Mangalore, Karnataka - E...\" with entities \"[(0, 10, 'Name'), (11, 24, 'Designation'), (1829, ...\". Use `spacy.training.offsets_to_biluo_tags(nlp.make_doc(text), entities)` to check the alignment. Misaligned entities ('-') will be ignored during training.\n",
      "  warnings.warn(\n"
     ]
    },
    {
     "name": "stdout",
     "output_type": "stream",
     "text": [
      "{'spancat': 41095.164344696765}\n",
      "{'spancat': 41095.16590279559}\n",
      "{'spancat': 41095.17008497132}\n",
      "{'spancat': 41095.17265334338}\n",
      "{'spancat': 41095.172914430645}\n"
     ]
    },
    {
     "name": "stderr",
     "output_type": "stream",
     "text": [
      "C:\\Users\\teddy\\miniconda3\\envs\\NLP_env\\lib\\site-packages\\spacy\\training\\iob_utils.py:141: UserWarning: [W030] Some entities could not be aligned in the text \"Siddhartha Chetri\n",
      "7 years of experience in IT Netw...\" with entities \"[(5369, 5423, 'College Name'), (270, 279, 'Locatio...\". Use `spacy.training.offsets_to_biluo_tags(nlp.make_doc(text), entities)` to check the alignment. Misaligned entities ('-') will be ignored during training.\n",
      "  warnings.warn(\n"
     ]
    },
    {
     "name": "stdout",
     "output_type": "stream",
     "text": [
      "{'spancat': 41095.17697749814}\n",
      "{'spancat': 41095.18110852936}\n",
      "{'spancat': 41095.18390794532}\n"
     ]
    },
    {
     "name": "stderr",
     "output_type": "stream",
     "text": [
      "C:\\Users\\teddy\\miniconda3\\envs\\NLP_env\\lib\\site-packages\\spacy\\training\\iob_utils.py:141: UserWarning: [W030] Some entities could not be aligned in the text \"Madhuri Sripathi\n",
      "Banglore, Karnataka, Karnataka - ...\" with entities \"[(2613, 2618, 'Companies worked at'), (2737, 2742,...\". Use `spacy.training.offsets_to_biluo_tags(nlp.make_doc(text), entities)` to check the alignment. Misaligned entities ('-') will be ignored during training.\n",
      "  warnings.warn(\n"
     ]
    },
    {
     "name": "stdout",
     "output_type": "stream",
     "text": [
      "{'spancat': 41095.18709298331}\n"
     ]
    },
    {
     "name": "stderr",
     "output_type": "stream",
     "text": [
      "C:\\Users\\teddy\\miniconda3\\envs\\NLP_env\\lib\\site-packages\\spacy\\training\\iob_utils.py:141: UserWarning: [W030] Some entities could not be aligned in the text \"Jatin Arora\n",
      "SDET Automation Engineer, Infosys - CR...\" with entities \"[(1566, 1590, 'Designation'), (887, 894, 'Companie...\". Use `spacy.training.offsets_to_biluo_tags(nlp.make_doc(text), entities)` to check the alignment. Misaligned entities ('-') will be ignored during training.\n",
      "  warnings.warn(\n"
     ]
    },
    {
     "name": "stdout",
     "output_type": "stream",
     "text": [
      "{'spancat': 41095.18960151603}\n",
      "{'spancat': 41095.18982509493}\n",
      "Starting iteration\n",
      "{'spancat': 0.0011078992392867804}\n",
      "{'spancat': 0.0023387910332530737}\n",
      "{'spancat': 0.004236551001667976}\n",
      "{'spancat': 0.00445833413687069}\n",
      "{'spancat': 0.006867870528367348}\n",
      "{'spancat': 0.007784231987898238}\n",
      "{'spancat': 0.012871745930169709}\n",
      "{'spancat': 0.013651756758918054}\n",
      "{'spancat': 0.01439150569785852}\n",
      "{'spancat': 0.0190827237238409}\n",
      "{'spancat': 0.02380110749800224}\n",
      "{'spancat': 0.024272262075101025}\n",
      "{'spancat': 0.025491650754702277}\n",
      "{'spancat': 0.02815503867168445}\n",
      "{'spancat': 0.030993919659522362}\n",
      "{'spancat': 0.032472364910063334}\n",
      "{'spancat': 0.03432978208002169}\n",
      "{'spancat': 0.036637360070017166}\n",
      "{'spancat': 0.03842160229396541}\n",
      "{'spancat': 0.03857909778889734}\n",
      "{'spancat': 0.04179082794871647}\n",
      "{'spancat': 0.044213651985046454}\n",
      "{'spancat': 0.04933895201247651}\n",
      "{'spancat': 0.05093714427493978}\n",
      "{'spancat': 0.05125549707736354}\n",
      "{'spancat': 0.05586348187352996}\n",
      "{'spancat': 0.05626586654398125}\n",
      "{'spancat': 0.05665769382903818}\n",
      "{'spancat': 0.05691261800529901}\n",
      "{'spancat': 0.0600322079990292}\n",
      "{'spancat': 0.061636468293727376}\n",
      "{'spancat': 0.07206604805833194}\n",
      "{'spancat': 0.07272548643231858}\n",
      "{'spancat': 0.0730752812960418}\n",
      "{'spancat': 0.07532101155084092}\n",
      "{'spancat': 0.07717202098865528}\n",
      "{'spancat': 0.08002723621029872}\n",
      "{'spancat': 0.08083786164934281}\n",
      "{'spancat': 0.08443281009385828}\n",
      "{'spancat': 0.08558449767588172}\n",
      "{'spancat': 0.08768955351843033}\n",
      "{'spancat': 0.09229510849399958}\n",
      "{'spancat': 0.09344038671406452}\n",
      "{'spancat': 0.0936569695622893}\n",
      "{'spancat': 0.09408247600367758}\n",
      "{'spancat': 0.09516476317367051}\n",
      "{'spancat': 0.09717135516984854}\n",
      "{'spancat': 0.09758539429458324}\n",
      "{'spancat': 0.09783968159172218}\n",
      "{'spancat': 0.09960885769396555}\n",
      "{'spancat': 0.10316102117940318}\n",
      "{'spancat': 0.1048463875631569}\n",
      "{'spancat': 0.10627117419790011}\n",
      "{'spancat': 0.10636867227003677}\n",
      "{'spancat': 0.10813062503439141}\n",
      "{'spancat': 0.1087257617546129}\n",
      "{'spancat': 0.10898869510128861}\n",
      "{'spancat': 0.11049892243318027}\n",
      "{'spancat': 0.11186168484709924}\n",
      "{'spancat': 0.11358261855639284}\n",
      "{'spancat': 0.11476414967182791}\n",
      "{'spancat': 0.11493995715136407}\n",
      "{'spancat': 0.11546596715197666}\n",
      "{'spancat': 0.11586821910896106}\n",
      "{'spancat': 0.11785815416806145}\n",
      "{'spancat': 0.11948842455603881}\n",
      "{'spancat': 0.12218792217754526}\n",
      "{'spancat': 0.12332508357212646}\n",
      "{'spancat': 0.12951168574363692}\n",
      "{'spancat': 0.13123208417528076}\n",
      "{'spancat': 0.13134701076342026}\n",
      "{'spancat': 0.13181528053974034}\n",
      "{'spancat': 0.13269082899932982}\n",
      "{'spancat': 0.1335875960139674}\n",
      "{'spancat': 0.1364631205869955}\n",
      "{'spancat': 0.14250470745173516}\n",
      "{'spancat': 0.14568848536146106}\n",
      "{'spancat': 0.14673717623372795}\n",
      "{'spancat': 0.1472524047785555}\n",
      "{'spancat': 0.1488244856664096}\n",
      "{'spancat': 0.14918702864815714}\n",
      "{'spancat': 0.14974569902551593}\n",
      "{'spancat': 0.15025178972427966}\n",
      "{'spancat': 0.15402751370129408}\n",
      "{'spancat': 0.1622809986656648}\n",
      "{'spancat': 0.162747537404357}\n",
      "{'spancat': 0.16371802407229552}\n",
      "{'spancat': 0.16566934114234755}\n",
      "{'spancat': 0.16671888987912098}\n",
      "{'spancat': 0.16714453823078657}\n",
      "{'spancat': 0.16902723452221835}\n",
      "{'spancat': 0.1715667663156637}\n",
      "{'spancat': 0.17308140229579294}\n",
      "{'spancat': 0.1763657907504239}\n",
      "{'spancat': 0.1769905847395421}\n",
      "{'spancat': 0.17908016642468283}\n",
      "{'spancat': 0.1791774483062909}\n",
      "{'spancat': 0.18094688180281082}\n",
      "{'spancat': 0.1810611471082666}\n",
      "{'spancat': 0.1815236784532317}\n",
      "{'spancat': 0.18189215617167065}\n",
      "{'spancat': 0.18257161361543695}\n",
      "{'spancat': 0.18349195019254694}\n",
      "{'spancat': 0.18524366388010094}\n",
      "{'spancat': 0.19010722221719334}\n",
      "{'spancat': 0.19368595098057995}\n",
      "{'spancat': 0.19418918036535615}\n",
      "{'spancat': 0.19473206243856112}\n",
      "{'spancat': 0.1949481899573584}\n",
      "{'spancat': 0.1950524731146288}\n",
      "{'spancat': 0.19604741759394528}\n",
      "{'spancat': 0.1966911306444672}\n",
      "{'spancat': 0.19790660986473085}\n",
      "{'spancat': 0.199400539866474}\n",
      "{'spancat': 0.19949492649902822}\n",
      "{'spancat': 0.20118678350263508}\n",
      "{'spancat': 0.2017817535161157}\n",
      "{'spancat': 0.20383125992520945}\n",
      "{'spancat': 0.20503217489022063}\n",
      "{'spancat': 0.20568348892993527}\n",
      "{'spancat': 0.20789886738202767}\n",
      "{'spancat': 0.2084502032448654}\n",
      "{'spancat': 0.20959074964775937}\n",
      "{'spancat': 0.21000691562221618}\n",
      "{'spancat': 0.2121986808560905}\n",
      "{'spancat': 0.21236916275665862}\n",
      "{'spancat': 0.2137029468358378}\n",
      "{'spancat': 0.21470300136570586}\n",
      "{'spancat': 0.2147913745357073}\n",
      "{'spancat': 0.21520473126292927}\n",
      "{'spancat': 0.21595462963887258}\n",
      "{'spancat': 0.21763194974482758}\n",
      "{'spancat': 0.21823184802633477}\n",
      "{'spancat': 0.21955973287549568}\n",
      "{'spancat': 0.21982989645766793}\n",
      "{'spancat': 0.220518586684193}\n",
      "{'spancat': 0.22300496370735345}\n",
      "{'spancat': 0.22343600945168873}\n",
      "{'spancat': 0.22421789864165476}\n",
      "{'spancat': 0.22587972724431893}\n",
      "{'spancat': 0.22697499588684877}\n",
      "{'spancat': 0.22768973404163262}\n",
      "{'spancat': 0.23028015050658723}\n",
      "{'spancat': 0.23185661955358228}\n",
      "{'spancat': 0.23202887546358397}\n",
      "{'spancat': 0.23486561231402447}\n",
      "{'spancat': 0.23587271520955255}\n",
      "{'spancat': 0.23692311366176}\n",
      "{'spancat': 0.23833112531428924}\n",
      "{'spancat': 0.24127772400242975}\n",
      "{'spancat': 0.2426201286361902}\n",
      "{'spancat': 0.24282753350416897}\n",
      "{'spancat': 0.24817390063981293}\n",
      "{'spancat': 0.25212290300260065}\n",
      "{'spancat': 0.2525753162553883}\n",
      "{'spancat': 0.25466865396447247}\n",
      "{'spancat': 0.2550676641330938}\n",
      "{'spancat': 0.25613313161738915}\n",
      "{'spancat': 0.2582944696114282}\n",
      "{'spancat': 0.2589913415067713}\n",
      "{'spancat': 0.2590731453310582}\n",
      "{'spancat': 0.2605310592261958}\n",
      "{'spancat': 0.2616255952671054}\n",
      "{'spancat': 0.26293845695181517}\n",
      "{'spancat': 0.2640693824432674}\n",
      "{'spancat': 0.26479057553660823}\n",
      "{'spancat': 0.2653314367562416}\n",
      "{'spancat': 0.2663710265114787}\n",
      "{'spancat': 0.26793596764764516}\n",
      "{'spancat': 0.26926221173926024}\n",
      "{'spancat': 0.2695715220106649}\n",
      "{'spancat': 0.2698537227624911}\n",
      "{'spancat': 0.27021540910209296}\n",
      "{'spancat': 0.27096601307130186}\n",
      "{'spancat': 0.27104412599874195}\n",
      "{'spancat': 0.27113586211635265}\n",
      "{'spancat': 0.2712103987869341}\n",
      "{'spancat': 0.2719448583375197}\n",
      "{'spancat': 0.2729206957446877}\n",
      "{'spancat': 0.2772954550164286}\n",
      "{'spancat': 0.2787550962821115}\n",
      "{'spancat': 0.27954937794129364}\n",
      "{'spancat': 0.2820601246494334}\n",
      "{'spancat': 0.28413549831020646}\n",
      "{'spancat': 0.2854037419601809}\n",
      "{'spancat': 0.2865262401464861}\n",
      "{'spancat': 0.28766841694596224}\n",
      "{'spancat': 0.28852399086463265}\n",
      "{'spancat': 0.2889863671443891}\n",
      "{'spancat': 0.2898532486578915}\n",
      "{'spancat': 0.29047261076630093}\n",
      "{'spancat': 0.2924878754711244}\n",
      "{'spancat': 0.29289067824720405}\n",
      "{'spancat': 0.2952505197317805}\n",
      "{'spancat': 0.29663423329475336}\n",
      "{'spancat': 0.29691117224865593}\n",
      "{'spancat': 0.29860587339499034}\n",
      "{'spancat': 0.29866190772372647}\n",
      "{'spancat': 0.2992156779473589}\n",
      "Starting iteration\n",
      "{'spancat': 0.002332946052774787}\n",
      "{'spancat': 0.003416852909140289}\n",
      "{'spancat': 0.004618301289156079}\n",
      "{'spancat': 0.0056051628198474646}\n",
      "{'spancat': 0.006560599314980209}\n",
      "{'spancat': 0.0075540762627497315}\n",
      "{'spancat': 0.0077546663815155625}\n",
      "{'spancat': 0.008680452185217291}\n",
      "{'spancat': 0.010440151032526046}\n",
      "{'spancat': 0.010642437933711335}\n",
      "{'spancat': 0.010902584326686338}\n",
      "{'spancat': 0.01094619398645591}\n",
      "{'spancat': 0.0118435434269486}\n",
      "{'spancat': 0.012371828823233955}\n",
      "{'spancat': 0.0135589051496936}\n",
      "{'spancat': 0.0157446854718728}\n",
      "{'spancat': 0.016305684213875793}\n",
      "{'spancat': 0.017504140370874666}\n",
      "{'spancat': 0.017945510931895114}\n",
      "{'spancat': 0.018642086666659452}\n",
      "{'spancat': 0.020541385529213585}\n",
      "{'spancat': 0.02160534508584533}\n",
      "{'spancat': 0.02650322591944132}\n",
      "{'spancat': 0.027351367243682034}\n",
      "{'spancat': 0.02764601983653847}\n",
      "{'spancat': 0.02799724585202057}\n",
      "{'spancat': 0.030530934993294068}\n",
      "{'spancat': 0.03179049941536505}\n",
      "{'spancat': 0.031905098861898296}\n",
      "{'spancat': 0.03220065341156442}\n",
      "{'spancat': 0.03243676238344051}\n",
      "{'spancat': 0.03276621954864822}\n",
      "{'spancat': 0.03356229906785302}\n",
      "{'spancat': 0.03372763087099884}\n",
      "{'spancat': 0.03433171765937004}\n",
      "{'spancat': 0.0354058660013834}\n",
      "{'spancat': 0.037172449185163714}\n",
      "{'spancat': 0.03847558867710177}\n",
      "{'spancat': 0.038977445001364686}\n",
      "{'spancat': 0.03946333016210701}\n",
      "{'spancat': 0.039771480645867996}\n",
      "{'spancat': 0.04027261717419606}\n",
      "{'spancat': 0.04042027510877233}\n",
      "{'spancat': 0.04070737985603046}\n",
      "{'spancat': 0.04109182638057973}\n",
      "{'spancat': 0.04146521845541429}\n",
      "{'spancat': 0.041678494730149396}\n",
      "{'spancat': 0.04273708521213848}\n",
      "{'spancat': 0.04350791966135148}\n",
      "{'spancat': 0.04469735898601357}\n",
      "{'spancat': 0.046704701861017384}\n",
      "{'spancat': 0.04712097796436865}\n",
      "{'spancat': 0.04764291447645519}\n",
      "{'spancat': 0.04773234603635501}\n",
      "{'spancat': 0.047925561128067784}\n",
      "{'spancat': 0.04798654292608262}\n",
      "{'spancat': 0.0489412489150709}\n",
      "{'spancat': 0.049734832373360405}\n",
      "{'spancat': 0.049954956677538576}\n",
      "{'spancat': 0.05106479819005472}\n",
      "{'spancat': 0.05303958132935804}\n",
      "{'spancat': 0.05372288955913973}\n",
      "{'spancat': 0.055466614710894646}\n",
      "{'spancat': 0.056412411726341816}\n",
      "{'spancat': 0.056588485447718995}\n",
      "{'spancat': 0.05720664772161399}\n",
      "{'spancat': 0.05853749045127188}\n",
      "{'spancat': 0.05918012776601245}\n",
      "{'spancat': 0.06043853385563125}\n",
      "{'spancat': 0.06051660318553331}\n",
      "{'spancat': 0.06121855043966207}\n",
      "{'spancat': 0.06162987638890627}\n",
      "{'spancat': 0.06212245569258812}\n",
      "{'spancat': 0.06290088437890518}\n",
      "{'spancat': 0.06300962262685061}\n",
      "{'spancat': 0.06306617490554345}\n",
      "{'spancat': 0.06331686173871276}\n",
      "{'spancat': 0.06451915226716665}\n",
      "{'spancat': 0.06711325723517803}\n",
      "{'spancat': 0.06719078493551933}\n",
      "{'spancat': 0.07037256911644363}\n",
      "{'spancat': 0.07067312801154912}\n",
      "{'spancat': 0.0714950034780486}\n",
      "{'spancat': 0.07174160093200044}\n",
      "{'spancat': 0.07497752335984842}\n",
      "{'spancat': 0.07512706709167105}\n",
      "{'spancat': 0.07524896680479287}\n",
      "{'spancat': 0.07617110648061498}\n",
      "{'spancat': 0.0767669311571808}\n",
      "{'spancat': 0.07758080638814135}\n",
      "{'spancat': 0.07804859749376192}\n",
      "{'spancat': 0.0786251994977647}\n",
      "{'spancat': 0.07896082216393552}\n",
      "{'spancat': 0.07990911081651575}\n",
      "{'spancat': 0.08158017709138221}\n",
      "{'spancat': 0.08239162960308022}\n",
      "{'spancat': 0.08290951940216473}\n",
      "{'spancat': 0.0839345286040043}\n",
      "{'spancat': 0.08558420647386811}\n",
      "{'spancat': 0.0869580974940618}\n",
      "{'spancat': 0.08722478992058313}\n",
      "{'spancat': 0.08780046613173909}\n",
      "{'spancat': 0.08783291104555246}\n",
      "{'spancat': 0.08787880351883359}\n",
      "{'spancat': 0.0884060003736522}\n",
      "{'spancat': 0.08856903333798982}\n",
      "{'spancat': 0.08959743616287597}\n",
      "{'spancat': 0.09016057979897596}\n",
      "{'spancat': 0.09059925324982032}\n",
      "{'spancat': 0.09089465852594003}\n",
      "{'spancat': 0.09332947217626497}\n",
      "{'spancat': 0.0937196351296734}\n",
      "{'spancat': 0.0946033965155948}\n",
      "{'spancat': 0.0951192443317268}\n",
      "{'spancat': 0.09519239753717557}\n",
      "{'spancat': 0.09565810093772598}\n",
      "{'spancat': 0.09833671015803702}\n",
      "{'spancat': 0.0988003734673839}\n",
      "{'spancat': 0.09951676914351992}\n",
      "{'spancat': 0.0997712062089704}\n",
      "{'spancat': 0.10042219521710649}\n",
      "{'spancat': 0.10075321941985749}\n",
      "{'spancat': 0.1017153840220999}\n",
      "{'spancat': 0.1022856533236336}\n",
      "{'spancat': 0.1027077849721536}\n",
      "{'spancat': 0.10306763049447909}\n",
      "{'spancat': 0.10475793393561617}\n",
      "{'spancat': 0.10497319110436365}\n",
      "{'spancat': 0.10633403988322243}\n",
      "{'spancat': 0.10707974020624533}\n",
      "{'spancat': 0.1079060832853429}\n",
      "{'spancat': 0.10863546095788479}\n",
      "{'spancat': 0.10904114809818566}\n",
      "{'spancat': 0.11139866313897073}\n",
      "{'spancat': 0.11162808668450452}\n",
      "{'spancat': 0.11168041103155701}\n",
      "{'spancat': 0.11197068588444381}\n",
      "{'spancat': 0.11355544090838521}\n",
      "{'spancat': 0.11415345733621507}\n",
      "{'spancat': 0.11454223777036532}\n",
      "{'spancat': 0.1145934954729455}\n",
      "{'spancat': 0.11491336973631405}\n",
      "{'spancat': 0.115502040109277}\n",
      "{'spancat': 0.11584711596151465}\n",
      "{'spancat': 0.11600143459872925}\n",
      "{'spancat': 0.11622011209328775}\n",
      "{'spancat': 0.11707047322488506}\n",
      "{'spancat': 0.11813085894755204}\n",
      "{'spancat': 0.11873333146286313}\n",
      "{'spancat': 0.11901640128417057}\n",
      "{'spancat': 0.11951874748410773}\n",
      "{'spancat': 0.12057943472245825}\n",
      "{'spancat': 0.12195900983715546}\n",
      "{'spancat': 0.12215372662831214}\n",
      "{'spancat': 0.12241322028057766}\n",
      "{'spancat': 0.12249272128610755}\n",
      "{'spancat': 0.12319426382236998}\n",
      "{'spancat': 0.12324880075175315}\n",
      "{'spancat': 0.12342106940923259}\n",
      "{'spancat': 0.124078513472341}\n",
      "{'spancat': 0.12446494185132906}\n",
      "{'spancat': 0.12514499615645036}\n",
      "{'spancat': 0.12606382672674954}\n",
      "{'spancat': 0.12654839520109817}\n",
      "{'spancat': 0.12701451138127595}\n",
      "{'spancat': 0.12746541044907644}\n",
      "{'spancat': 0.1281608436256647}\n",
      "{'spancat': 0.1283388820302207}\n",
      "{'spancat': 0.1290256886568386}\n",
      "{'spancat': 0.12966791589860804}\n",
      "{'spancat': 0.12994509216514416}\n",
      "{'spancat': 0.1305305466230493}\n",
      "{'spancat': 0.13105550259933807}\n",
      "{'spancat': 0.13243013634928502}\n",
      "{'spancat': 0.13305630660033785}\n",
      "{'spancat': 0.13326750227133743}\n",
      "{'spancat': 0.1333317973621888}\n",
      "{'spancat': 0.13438663053966593}\n",
      "{'spancat': 0.1344393143444904}\n",
      "{'spancat': 0.1355625727228471}\n",
      "{'spancat': 0.1359294700450846}\n",
      "{'spancat': 0.13675894836342195}\n",
      "{'spancat': 0.1401575837880955}\n",
      "{'spancat': 0.14020111898571486}\n",
      "{'spancat': 0.14040736885363003}\n",
      "{'spancat': 0.1405754280203837}\n",
      "{'spancat': 0.14064328750100685}\n",
      "{'spancat': 0.14085360196622787}\n",
      "{'spancat': 0.1419609036456677}\n",
      "{'spancat': 0.14307517767156241}\n",
      "{'spancat': 0.14426082290447084}\n",
      "{'spancat': 0.14433386835298734}\n",
      "{'spancat': 0.1443810360651696}\n",
      "{'spancat': 0.14497466398461256}\n",
      "{'spancat': 0.14600944392441306}\n",
      "{'spancat': 0.14676088020496536}\n",
      "{'spancat': 0.14681856881361455}\n",
      "{'spancat': 0.14698189511545934}\n",
      "{'spancat': 0.14756384820793755}\n",
      "Starting iteration\n",
      "{'spancat': 4.266915129846893e-05}\n",
      "{'spancat': 0.0009632787805458065}\n",
      "{'spancat': 0.0010881509479077067}\n",
      "{'spancat': 0.0026264897860528436}\n",
      "{'spancat': 0.003281510198576143}\n",
      "{'spancat': 0.003667132023110753}\n",
      "{'spancat': 0.004107893149921438}\n",
      "{'spancat': 0.005978931727440795}\n",
      "{'spancat': 0.006653228247159859}\n",
      "{'spancat': 0.006775002377253259}\n",
      "{'spancat': 0.0070120858181326184}\n",
      "{'spancat': 0.0076572761208808515}\n",
      "{'spancat': 0.008337506795214722}\n",
      "{'spancat': 0.008397332483582431}\n",
      "{'spancat': 0.008632180924905697}\n",
      "{'spancat': 0.008687949193699751}\n",
      "{'spancat': 0.008985556582047138}\n",
      "{'spancat': 0.00961728496622527}\n",
      "{'spancat': 0.009655360488977749}\n",
      "{'spancat': 0.010882073089305777}\n",
      "{'spancat': 0.011742641574528534}\n",
      "{'spancat': 0.012406974921759684}\n",
      "{'spancat': 0.012445797550753923}\n",
      "{'spancat': 0.012890807836811291}\n",
      "{'spancat': 0.012935421007568948}\n",
      "{'spancat': 0.013214534599683248}\n",
      "{'spancat': 0.013360352633753791}\n",
      "{'spancat': 0.013702902739169076}\n",
      "{'spancat': 0.015504443814279512}\n",
      "{'spancat': 0.016171903727808967}\n",
      "{'spancat': 0.0166443822090514}\n",
      "{'spancat': 0.01708615612005815}\n",
      "{'spancat': 0.0171193290152587}\n",
      "{'spancat': 0.018222528917249292}\n",
      "{'spancat': 0.01939006691100076}\n",
      "{'spancat': 0.019788976467680186}\n",
      "{'spancat': 0.019934293057303876}\n",
      "{'spancat': 0.02020562280085869}\n",
      "{'spancat': 0.02053283082204871}\n",
      "{'spancat': 0.02071110048564151}\n",
      "{'spancat': 0.02089955611154437}\n",
      "{'spancat': 0.021295725426170975}\n",
      "{'spancat': 0.02184748387662694}\n",
      "{'spancat': 0.02201458945637569}\n",
      "{'spancat': 0.022421035391744226}\n",
      "{'spancat': 0.02331739547662437}\n",
      "{'spancat': 0.023865416122134775}\n",
      "{'spancat': 0.024333948735147715}\n",
      "{'spancat': 0.024928396800532937}\n",
      "{'spancat': 0.024983863346278667}\n",
      "{'spancat': 0.025279651395976543}\n",
      "{'spancat': 0.025646481633884832}\n",
      "{'spancat': 0.026314332004403695}\n",
      "{'spancat': 0.026590996596496552}\n",
      "{'spancat': 0.02674530960211996}\n",
      "{'spancat': 0.027045223527238704}\n",
      "{'spancat': 0.02759521327971015}\n",
      "{'spancat': 0.027780776857980527}\n",
      "{'spancat': 0.02789947190467501}\n",
      "{'spancat': 0.02803535201383056}\n",
      "{'spancat': 0.02849710456939647}\n",
      "{'spancat': 0.029688847986108158}\n",
      "{'spancat': 0.02971599468946806}\n",
      "{'spancat': 0.030517988572682953}\n",
      "{'spancat': 0.03093994743176154}\n",
      "{'spancat': 0.031927801752317464}\n",
      "{'spancat': 0.03299773155231378}\n",
      "{'spancat': 0.03387791869681678}\n",
      "{'spancat': 0.0340153021934384}\n",
      "{'spancat': 0.03526166395386099}\n",
      "{'spancat': 0.03613058424889459}\n",
      "{'spancat': 0.03733829682096257}\n",
      "{'spancat': 0.03738652287211153}\n",
      "{'spancat': 0.037616514364344766}\n",
      "{'spancat': 0.03814622375284671}\n",
      "{'spancat': 0.03820848367831786}\n",
      "{'spancat': 0.03833400803341647}\n",
      "{'spancat': 0.038373493935068836}\n",
      "{'spancat': 0.038543484170077136}\n",
      "{'spancat': 0.04098645387784927}\n",
      "{'spancat': 0.041194011395418784}\n",
      "{'spancat': 0.04146584967020317}\n",
      "{'spancat': 0.042347861042799195}\n",
      "{'spancat': 0.04244534103418118}\n",
      "{'spancat': 0.04271604874156765}\n",
      "{'spancat': 0.043436729782115435}\n",
      "{'spancat': 0.04395257981013856}\n",
      "{'spancat': 0.04402218381073908}\n",
      "{'spancat': 0.045088117654813686}\n",
      "{'spancat': 0.04570652207257808}\n",
      "{'spancat': 0.04575132901663892}\n",
      "{'spancat': 0.046734318224480376}\n",
      "{'spancat': 0.046895401523215696}\n",
      "{'spancat': 0.047852698276983574}\n",
      "{'spancat': 0.04838586595724337}\n",
      "{'spancat': 0.049392536020604894}\n",
      "{'spancat': 0.050059815897839144}\n",
      "{'spancat': 0.052050299040274695}\n",
      "{'spancat': 0.052106302086031064}\n",
      "{'spancat': 0.05259918628144078}\n",
      "{'spancat': 0.055215461616171524}\n",
      "{'spancat': 0.05712021185900085}\n",
      "{'spancat': 0.05761682798038237}\n",
      "{'spancat': 0.057641247078208835}\n",
      "{'spancat': 0.058688927465482266}\n",
      "{'spancat': 0.05871241989189002}\n",
      "{'spancat': 0.05888415664776403}\n",
      "{'spancat': 0.05890785787778441}\n",
      "{'spancat': 0.0589322933137737}\n",
      "{'spancat': 0.059544301466303295}\n",
      "{'spancat': 0.05994898923927394}\n",
      "{'spancat': 0.060125439491457655}\n",
      "{'spancat': 0.060858949093017145}\n",
      "{'spancat': 0.06128318963419588}\n",
      "{'spancat': 0.06139470487505605}\n",
      "{'spancat': 0.061766912365783355}\n",
      "{'spancat': 0.061950706722200266}\n",
      "{'spancat': 0.06291043638157134}\n",
      "{'spancat': 0.06342336956549843}\n",
      "{'spancat': 0.06379304781694373}\n",
      "{'spancat': 0.06395379768764542}\n",
      "{'spancat': 0.06399058130227786}\n",
      "{'spancat': 0.06417009250617411}\n",
      "{'spancat': 0.06439030646470201}\n",
      "{'spancat': 0.06462756627479394}\n",
      "{'spancat': 0.06496094128124241}\n",
      "{'spancat': 0.06506183748024341}\n",
      "{'spancat': 0.06511405095989176}\n",
      "{'spancat': 0.06526348390798375}\n",
      "{'spancat': 0.06585288193491579}\n",
      "{'spancat': 0.06593374968542776}\n",
      "{'spancat': 0.0659846289872803}\n",
      "{'spancat': 0.0662528076882154}\n",
      "{'spancat': 0.06667283230672183}\n",
      "{'spancat': 0.06696115825070592}\n",
      "{'spancat': 0.06754104613537493}\n",
      "{'spancat': 0.06765493234888709}\n",
      "{'spancat': 0.06775198744617228}\n",
      "{'spancat': 0.06808786503279407}\n",
      "{'spancat': 0.06957604842500587}\n",
      "{'spancat': 0.06977200575238385}\n",
      "{'spancat': 0.07071906674718775}\n",
      "{'spancat': 0.07095403530001931}\n",
      "{'spancat': 0.07115570284258865}\n",
      "{'spancat': 0.07161589127099433}\n",
      "{'spancat': 0.07219069815073453}\n",
      "{'spancat': 0.07236462488253892}\n",
      "{'spancat': 0.07272534253024787}\n",
      "{'spancat': 0.07300763088460371}\n",
      "{'spancat': 0.07315559749440581}\n",
      "{'spancat': 0.07370428688773245}\n",
      "{'spancat': 0.07451232423954934}\n",
      "{'spancat': 0.0746472666378395}\n",
      "{'spancat': 0.07500541255467397}\n",
      "{'spancat': 0.07536736862857651}\n",
      "{'spancat': 0.07569803051774215}\n",
      "{'spancat': 0.07593386764528987}\n",
      "{'spancat': 0.07635583258706902}\n",
      "{'spancat': 0.0764513546910166}\n",
      "{'spancat': 0.07686447529886209}\n",
      "{'spancat': 0.07700129674230993}\n",
      "{'spancat': 0.07725439046225802}\n",
      "{'spancat': 0.07751563770762004}\n",
      "{'spancat': 0.07798802023353346}\n",
      "{'spancat': 0.07822677580588788}\n",
      "{'spancat': 0.07891272561573714}\n",
      "{'spancat': 0.07897063615564548}\n",
      "{'spancat': 0.0793202134391322}\n",
      "{'spancat': 0.07985684884079092}\n",
      "{'spancat': 0.08022860120581754}\n",
      "{'spancat': 0.08029611539859616}\n",
      "{'spancat': 0.08040724579223024}\n",
      "{'spancat': 0.08053199533060251}\n",
      "{'spancat': 0.08067479318742699}\n",
      "{'spancat': 0.08078106577340805}\n",
      "{'spancat': 0.08223929561972909}\n",
      "{'spancat': 0.08245930708835658}\n",
      "{'spancat': 0.08275883323403832}\n",
      "{'spancat': 0.08336247939041641}\n",
      "{'spancat': 0.08408665940987703}\n",
      "{'spancat': 0.08438081164968025}\n",
      "{'spancat': 0.08507419591660437}\n",
      "{'spancat': 0.0853224941110966}\n",
      "{'spancat': 0.08548157237419218}\n",
      "{'spancat': 0.08593619513158046}\n",
      "{'spancat': 0.08648997571617656}\n",
      "{'spancat': 0.0870615615585848}\n",
      "{'spancat': 0.08736536649121263}\n",
      "{'spancat': 0.08753224899010092}\n",
      "{'spancat': 0.08788178302529559}\n",
      "{'spancat': 0.08792934962002619}\n",
      "{'spancat': 0.08832029275981768}\n",
      "{'spancat': 0.08865961071023776}\n",
      "{'spancat': 0.08899119190209603}\n",
      "{'spancat': 0.08946143075627333}\n",
      "{'spancat': 0.0897171925407747}\n",
      "{'spancat': 0.08989655035293254}\n",
      "{'spancat': 0.09029949806608784}\n",
      "{'spancat': 0.09071112037963758}\n",
      "Starting iteration\n",
      "{'spancat': 0.0003278479562141001}\n",
      "{'spancat': 0.00042721662612166256}\n",
      "{'spancat': 0.0005330929488991387}\n",
      "{'spancat': 0.0006049192088539712}\n",
      "{'spancat': 0.0007013635695329867}\n",
      "{'spancat': 0.001229542562214192}\n",
      "{'spancat': 0.0012728912333841436}\n",
      "{'spancat': 0.0013507304465747438}\n",
      "{'spancat': 0.0013956264083390124}\n",
      "{'spancat': 0.0017073685376089998}\n",
      "{'spancat': 0.0017649005094426684}\n",
      "{'spancat': 0.0019752614534809254}\n",
      "{'spancat': 0.002288518378918525}\n",
      "{'spancat': 0.0026381378338555805}\n",
      "{'spancat': 0.002895583391364198}\n",
      "{'spancat': 0.0037318461618269794}\n",
      "{'spancat': 0.00385910823388258}\n",
      "{'spancat': 0.004123331491427962}\n",
      "{'spancat': 0.005069660583103541}\n",
      "{'spancat': 0.005332519045623485}\n",
      "{'spancat': 0.005357169189665001}\n",
      "{'spancat': 0.0060225452107260935}\n",
      "{'spancat': 0.006855788691609632}\n",
      "{'spancat': 0.007143654009269085}\n",
      "{'spancat': 0.007465172726369929}\n",
      "{'spancat': 0.007618882453243714}\n",
      "{'spancat': 0.008057286926486995}\n",
      "{'spancat': 0.00858778980182251}\n",
      "{'spancat': 0.00903947059850907}\n",
      "{'spancat': 0.010325935691071209}\n",
      "{'spancat': 0.01043110356113175}\n",
      "{'spancat': 0.010869864439882804}\n",
      "{'spancat': 0.01104631520138355}\n",
      "{'spancat': 0.012506329811003525}\n",
      "{'spancat': 0.012655854610784445}\n",
      "{'spancat': 0.012683811068200157}\n",
      "{'spancat': 0.013341576903258101}\n",
      "{'spancat': 0.013433002533929539}\n",
      "{'spancat': 0.013709599925277871}\n",
      "{'spancat': 0.015311447163185221}\n",
      "{'spancat': 0.016504142857229454}\n",
      "{'spancat': 0.01664236348187842}\n",
      "{'spancat': 0.01720637615835585}\n",
      "{'spancat': 0.017571337901244988}\n",
      "{'spancat': 0.017952466414499213}\n",
      "{'spancat': 0.017996667747866013}\n",
      "{'spancat': 0.018017631833572523}\n",
      "{'spancat': 0.018306912499610917}\n",
      "{'spancat': 0.018489972493625828}\n",
      "{'spancat': 0.02021993921698595}\n",
      "{'spancat': 0.020609815934221842}\n",
      "{'spancat': 0.02078939324746898}\n",
      "{'spancat': 0.021075925842524157}\n",
      "{'spancat': 0.02114693237854226}\n",
      "{'spancat': 0.02118291795522964}\n",
      "{'spancat': 0.02126902245254314}\n",
      "{'spancat': 0.021691083349651308}\n",
      "{'spancat': 0.022059379169149906}\n",
      "{'spancat': 0.02220824715368508}\n",
      "{'spancat': 0.022689162544338615}\n",
      "{'spancat': 0.022839305785964825}\n",
      "{'spancat': 0.023055402687532478}\n",
      "{'spancat': 0.023079639939169283}\n",
      "{'spancat': 0.023109955738618737}\n",
      "{'spancat': 0.023800581369869178}\n",
      "{'spancat': 0.024211480627855053}\n",
      "{'spancat': 0.024320911365066422}\n",
      "{'spancat': 0.02441403905322659}\n",
      "{'spancat': 0.024499516639480134}\n",
      "{'spancat': 0.025082344884140184}\n",
      "{'spancat': 0.025168071395455627}\n",
      "{'spancat': 0.02529676830090466}\n",
      "{'spancat': 0.025381715367984725}\n",
      "{'spancat': 0.02559105821637786}\n",
      "{'spancat': 0.025616355782403843}\n",
      "{'spancat': 0.026154808543651598}\n",
      "{'spancat': 0.02645420054977876}\n",
      "{'spancat': 0.02664957174056326}\n",
      "{'spancat': 0.027084386460046517}\n",
      "{'spancat': 0.0273489061401051}\n",
      "{'spancat': 0.027479537664476084}\n",
      "{'spancat': 0.027676737681758823}\n",
      "{'spancat': 0.027733929153328063}\n",
      "{'spancat': 0.0279158189696318}\n",
      "{'spancat': 0.028039458386047045}\n",
      "{'spancat': 0.02822147739425418}\n",
      "{'spancat': 0.028236509846465196}\n",
      "{'spancat': 0.02839609876536997}\n",
      "{'spancat': 0.029134575110219885}\n",
      "{'spancat': 0.029370993906923104}\n",
      "{'spancat': 0.02958431520528393}\n",
      "{'spancat': 0.02985818009619834}\n",
      "{'spancat': 0.02987754947389476}\n",
      "{'spancat': 0.029935663769720122}\n",
      "{'spancat': 0.029971498512168182}\n",
      "{'spancat': 0.030339624481712235}\n",
      "{'spancat': 0.030730545968253864}\n",
      "{'spancat': 0.031002415878901957}\n",
      "{'spancat': 0.03102434502579854}\n",
      "{'spancat': 0.03223480232190923}\n",
      "{'spancat': 0.032746780725574354}\n",
      "{'spancat': 0.03315879850197234}\n",
      "{'spancat': 0.033621304584812606}\n",
      "{'spancat': 0.03371715108733042}\n",
      "{'spancat': 0.03398084602304152}\n",
      "{'spancat': 0.034466863984562224}\n",
      "{'spancat': 0.03453551576603786}\n",
      "{'spancat': 0.034748701353237266}\n",
      "{'spancat': 0.03481219144669012}\n",
      "{'spancat': 0.035101269520964706}\n",
      "{'spancat': 0.03550768774948665}\n",
      "{'spancat': 0.03569188926849165}\n",
      "{'spancat': 0.036058980538655305}\n",
      "{'spancat': 0.036102487978496356}\n",
      "{'spancat': 0.036125511298450874}\n",
      "{'spancat': 0.0361527743662009}\n",
      "{'spancat': 0.03644391412672121}\n",
      "{'spancat': 0.037013021545135416}\n",
      "{'spancat': 0.037167285205214284}\n",
      "{'spancat': 0.03719077724599629}\n",
      "{'spancat': 0.03733953834671411}\n",
      "{'spancat': 0.037529925710259704}\n",
      "{'spancat': 0.038090909027232556}\n",
      "{'spancat': 0.03849295856707613}\n",
      "{'spancat': 0.038856369832501514}\n",
      "{'spancat': 0.03906329017991084}\n",
      "{'spancat': 0.039793259300495265}\n",
      "{'spancat': 0.040141349640180124}\n",
      "{'spancat': 0.040355715518671786}\n",
      "{'spancat': 0.04080821276511415}\n",
      "{'spancat': 0.04099231314830831}\n",
      "{'spancat': 0.04112705483203172}\n",
      "{'spancat': 0.041310676646389766}\n",
      "{'spancat': 0.041649644012068165}\n",
      "{'spancat': 0.04235319139479543}\n",
      "{'spancat': 0.04267160732342745}\n",
      "{'spancat': 0.042768661685840925}\n",
      "{'spancat': 0.04285489864923875}\n",
      "{'spancat': 0.04335772744889255}\n",
      "{'spancat': 0.04413745631973143}\n",
      "{'spancat': 0.044867057044029934}\n",
      "{'spancat': 0.04503868704705383}\n",
      "{'spancat': 0.04529846664445358}\n",
      "{'spancat': 0.04559454468471813}\n",
      "{'spancat': 0.04602519275431405}\n",
      "{'spancat': 0.04604432098494726}\n",
      "{'spancat': 0.046280294856842374}\n",
      "{'spancat': 0.04679791899616248}\n",
      "{'spancat': 0.04732726708971313}\n",
      "{'spancat': 0.04762497709816671}\n",
      "{'spancat': 0.04777159561854205}\n",
      "{'spancat': 0.047875471700535854}\n",
      "{'spancat': 0.048570059469057014}\n",
      "{'spancat': 0.04893867991268053}\n",
      "{'spancat': 0.050609898225957295}\n",
      "{'spancat': 0.0509003527367895}\n",
      "{'spancat': 0.05108525557079702}\n",
      "{'spancat': 0.051199756268033525}\n",
      "{'spancat': 0.05218498903195723}\n",
      "{'spancat': 0.05223287004264421}\n",
      "{'spancat': 0.052461592447798466}\n",
      "{'spancat': 0.05263212321369792}\n",
      "{'spancat': 0.053006285375886364}\n",
      "{'spancat': 0.05311045339840348}\n",
      "{'spancat': 0.05336008769154432}\n",
      "{'spancat': 0.053665420982724754}\n",
      "{'spancat': 0.053918675792374415}\n",
      "{'spancat': 0.05449815709653194}\n",
      "{'spancat': 0.05467817188400659}\n",
      "{'spancat': 0.05528785196293029}\n",
      "{'spancat': 0.05538399560828111}\n",
      "{'spancat': 0.0557064443382842}\n",
      "{'spancat': 0.05618013927232823}\n",
      "{'spancat': 0.056477425179764396}\n",
      "{'spancat': 0.05672481571309618}\n",
      "{'spancat': 0.05700378867550171}\n",
      "{'spancat': 0.057148219286318636}\n",
      "{'spancat': 0.05781487954300246}\n",
      "{'spancat': 0.05789400789581123}\n",
      "{'spancat': 0.0580834276152018}\n",
      "{'spancat': 0.05836775987336296}\n",
      "{'spancat': 0.05849749916160363}\n",
      "{'spancat': 0.05857425280919415}\n",
      "{'spancat': 0.05897870065018651}\n",
      "{'spancat': 0.05926467215249431}\n",
      "{'spancat': 0.059871167457458796}\n",
      "{'spancat': 0.05990367429694743}\n",
      "{'spancat': 0.06031144407825195}\n",
      "{'spancat': 0.060819361275207484}\n",
      "{'spancat': 0.06111048799721175}\n",
      "{'spancat': 0.0613766261121782}\n",
      "{'spancat': 0.06196514473776915}\n",
      "{'spancat': 0.06219908656566986}\n",
      "{'spancat': 0.062296628009789856}\n",
      "{'spancat': 0.0623707592349092}\n",
      "{'spancat': 0.06257176635335782}\n",
      "{'spancat': 0.0630925072800892}\n",
      "{'spancat': 0.06318336200274643}\n",
      "{'spancat': 0.06319803155929549}\n"
     ]
    }
   ],
   "source": [
    "#Initiate model, train model, save it locally, load it to memory utilizing the Spacy Categorizer Pipeline for overlapping spans\n",
    "train_model_sc = train_model_sc(resume_sp)\n",
    "nlp_model_sc = spacy_load_model('nlp_model_sc')"
   ]
  },
  {
   "cell_type": "code",
   "execution_count": 3,
   "metadata": {},
   "outputs": [
    {
     "name": "stdout",
     "output_type": "stream",
     "text": [
      "Starting iteration\n",
      "{'ner': 316.763165473938}\n"
     ]
    },
    {
     "name": "stderr",
     "output_type": "stream",
     "text": [
      "C:\\Users\\teddy\\miniconda3\\envs\\NLP_env\\lib\\site-packages\\spacy\\training\\iob_utils.py:141: UserWarning: [W030] Some entities could not be aligned in the text \"Hartej Kathuria\n",
      "Data Analyst Intern - Oracle Retai...\" with entities \"[(767, 771, 'Graduation Year'), (0, 15, 'Name'), (...\". Use `spacy.training.offsets_to_biluo_tags(nlp.make_doc(text), entities)` to check the alignment. Misaligned entities ('-') will be ignored during training.\n",
      "  warnings.warn(\n"
     ]
    },
    {
     "name": "stdout",
     "output_type": "stream",
     "text": [
      "{'ner': 805.0399646759033}\n",
      "{'ner': 1656.797959804535}\n"
     ]
    },
    {
     "name": "stderr",
     "output_type": "stream",
     "text": [
      "C:\\Users\\teddy\\miniconda3\\envs\\NLP_env\\lib\\site-packages\\spacy\\training\\iob_utils.py:141: UserWarning: [W030] Some entities could not be aligned in the text \"Imgeeyaul Ansari\n",
      "java developer\n",
      "\n",
      "Pune, Maharashtra...\" with entities \"[(145, 149, 'Location'), (1433, 1468, 'College Nam...\". Use `spacy.training.offsets_to_biluo_tags(nlp.make_doc(text), entities)` to check the alignment. Misaligned entities ('-') will be ignored during training.\n",
      "  warnings.warn(\n"
     ]
    },
    {
     "name": "stdout",
     "output_type": "stream",
     "text": [
      "{'ner': 2021.7045273780823}\n",
      "{'ner': 2312.611060798168}\n",
      "{'ner': 3281.8086044192314}\n",
      "{'ner': 3764.4407026171684}\n"
     ]
    },
    {
     "name": "stderr",
     "output_type": "stream",
     "text": [
      "C:\\Users\\teddy\\miniconda3\\envs\\NLP_env\\lib\\site-packages\\spacy\\training\\iob_utils.py:141: UserWarning: [W030] Some entities could not be aligned in the text \"Jyotirbindu Patnaik\n",
      "Associate consultant@SAP labs ...\" with entities \"[(870, 878, 'Companies worked at'), (2993, 3016, '...\". Use `spacy.training.offsets_to_biluo_tags(nlp.make_doc(text), entities)` to check the alignment. Misaligned entities ('-') will be ignored during training.\n",
      "  warnings.warn(\n"
     ]
    },
    {
     "name": "stdout",
     "output_type": "stream",
     "text": [
      "{'ner': 4110.082108318806}\n",
      "{'ner': 5212.5603731274605}\n",
      "{'ner': 5612.858615219593}\n",
      "{'ner': 5910.3033865094185}\n",
      "{'ner': 5974.642003856599}\n"
     ]
    },
    {
     "name": "stderr",
     "output_type": "stream",
     "text": [
      "C:\\Users\\teddy\\miniconda3\\envs\\NLP_env\\lib\\site-packages\\spacy\\training\\iob_utils.py:141: UserWarning: [W030] Some entities could not be aligned in the text \"Kavitha K\n",
      "Senior System Engineer - Infosys Limited...\" with entities \"[(2128, 2143, 'Companies worked at'), (2145, 2186,...\". Use `spacy.training.offsets_to_biluo_tags(nlp.make_doc(text), entities)` to check the alignment. Misaligned entities ('-') will be ignored during training.\n",
      "  warnings.warn(\n",
      "C:\\Users\\teddy\\miniconda3\\envs\\NLP_env\\lib\\site-packages\\spacy\\training\\iob_utils.py:141: UserWarning: [W030] Some entities could not be aligned in the text \"Kavya U.\n",
      "Network Ops Associate - Accenture\n",
      "\n",
      "Bengal...\" with entities \"[(234, 243, 'Companies worked at'), (1794, 1830, '...\". Use `spacy.training.offsets_to_biluo_tags(nlp.make_doc(text), entities)` to check the alignment. Misaligned entities ('-') will be ignored during training.\n",
      "  warnings.warn(\n"
     ]
    },
    {
     "name": "stdout",
     "output_type": "stream",
     "text": [
      "{'ner': 6026.9457871206105}\n",
      "{'ner': 6237.105977464467}\n",
      "{'ner': 6457.196591902524}\n",
      "{'ner': 6502.876538235352}\n"
     ]
    },
    {
     "name": "stderr",
     "output_type": "stream",
     "text": [
      "C:\\Users\\teddy\\miniconda3\\envs\\NLP_env\\lib\\site-packages\\spacy\\training\\iob_utils.py:141: UserWarning: [W030] Some entities could not be aligned in the text \"Koushik Katta\n",
      "Devops\n",
      "\n",
      "Hyderabad, Telangana - Email...\" with entities \"[(2957, 3073, 'Skills'), (2858, 2867, 'Location'),...\". Use `spacy.training.offsets_to_biluo_tags(nlp.make_doc(text), entities)` to check the alignment. Misaligned entities ('-') will be ignored during training.\n",
      "  warnings.warn(\n"
     ]
    },
    {
     "name": "stdout",
     "output_type": "stream",
     "text": [
      "{'ner': 6707.569988358173}\n",
      "{'ner': 6753.469608179392}\n",
      "{'ner': 6805.187663991554}\n"
     ]
    },
    {
     "name": "stderr",
     "output_type": "stream",
     "text": [
      "C:\\Users\\teddy\\miniconda3\\envs\\NLP_env\\lib\\site-packages\\spacy\\training\\iob_utils.py:141: UserWarning: [W030] Some entities could not be aligned in the text \"Madhuri Sripathi\n",
      "Banglore, Karnataka, Karnataka - ...\" with entities \"[(4563, 4746, 'Skills'), (126, 132, 'Years of Expe...\". Use `spacy.training.offsets_to_biluo_tags(nlp.make_doc(text), entities)` to check the alignment. Misaligned entities ('-') will be ignored during training.\n",
      "  warnings.warn(\n"
     ]
    },
    {
     "name": "stdout",
     "output_type": "stream",
     "text": [
      "{'ner': 6842.988647595495}\n"
     ]
    },
    {
     "name": "stderr",
     "output_type": "stream",
     "text": [
      "C:\\Users\\teddy\\miniconda3\\envs\\NLP_env\\lib\\site-packages\\spacy\\training\\iob_utils.py:141: UserWarning: [W030] Some entities could not be aligned in the text \"Mahesh Vijay\n",
      "Bengaluru, Karnataka - Email me on In...\" with entities \"[(245, 254, 'Designation'), (1313, 1319, 'Companie...\". Use `spacy.training.offsets_to_biluo_tags(nlp.make_doc(text), entities)` to check the alignment. Misaligned entities ('-') will be ignored during training.\n",
      "  warnings.warn(\n"
     ]
    },
    {
     "name": "stdout",
     "output_type": "stream",
     "text": [
      "{'ner': 7074.297453658637}\n",
      "{'ner': 7840.347904937324}\n",
      "{'ner': 8241.299492495116}\n",
      "{'ner': 8270.715699437755}\n"
     ]
    },
    {
     "name": "stderr",
     "output_type": "stream",
     "text": [
      "C:\\Users\\teddy\\miniconda3\\envs\\NLP_env\\lib\\site-packages\\spacy\\training\\iob_utils.py:141: UserWarning: [W030] Some entities could not be aligned in the text \"Mohini Gupta\n",
      "Server Support Engineer\n",
      "\n",
      "Gurgaon, Har...\" with entities \"[(0, 12, 'Name'), (13, 36, 'Designation'), (1704, ...\". Use `spacy.training.offsets_to_biluo_tags(nlp.make_doc(text), entities)` to check the alignment. Misaligned entities ('-') will be ignored during training.\n",
      "  warnings.warn(\n"
     ]
    },
    {
     "name": "stdout",
     "output_type": "stream",
     "text": [
      "{'ner': 8292.336199151217}\n"
     ]
    },
    {
     "name": "stderr",
     "output_type": "stream",
     "text": [
      "C:\\Users\\teddy\\miniconda3\\envs\\NLP_env\\lib\\site-packages\\spacy\\training\\iob_utils.py:141: UserWarning: [W030] Some entities could not be aligned in the text \"Navas Koya\n",
      "Test Engineer\n",
      "\n",
      "Mangalore, Karnataka - E...\" with entities \"[(337, 350, 'Designation'), (1057, 1061, 'Graduati...\". Use `spacy.training.offsets_to_biluo_tags(nlp.make_doc(text), entities)` to check the alignment. Misaligned entities ('-') will be ignored during training.\n",
      "  warnings.warn(\n"
     ]
    },
    {
     "name": "stdout",
     "output_type": "stream",
     "text": [
      "{'ner': 8328.224643181875}\n",
      "{'ner': 8359.290877867705}\n",
      "{'ner': 8395.305968985176}\n"
     ]
    },
    {
     "name": "stderr",
     "output_type": "stream",
     "text": [
      "C:\\Users\\teddy\\miniconda3\\envs\\NLP_env\\lib\\site-packages\\spacy\\training\\iob_utils.py:141: UserWarning: [W030] Some entities could not be aligned in the text \"Nidhi Pandit\n",
      "Test Engineer - Infosys Limited\n",
      "\n",
      "- Em...\" with entities \"[(0, 12, 'Name'), (13, 26, 'Designation'), (3005, ...\". Use `spacy.training.offsets_to_biluo_tags(nlp.make_doc(text), entities)` to check the alignment. Misaligned entities ('-') will be ignored during training.\n",
      "  warnings.warn(\n"
     ]
    },
    {
     "name": "stdout",
     "output_type": "stream",
     "text": [
      "{'ner': 8422.622701401338}\n",
      "{'ner': 8472.381943474273}\n",
      "{'ner': 8618.227245400409}\n"
     ]
    },
    {
     "name": "stderr",
     "output_type": "stream",
     "text": [
      "C:\\Users\\teddy\\miniconda3\\envs\\NLP_env\\lib\\site-packages\\spacy\\training\\iob_utils.py:141: UserWarning: [W030] Some entities could not be aligned in the text \"Nitin Tr\n",
      "PeopleSoft Consultant\n",
      "\n",
      "Bangalore Urban, K...\" with entities \"[(224, 234, 'Degree'), (0, 8, 'Name'), (124, 134, ...\". Use `spacy.training.offsets_to_biluo_tags(nlp.make_doc(text), entities)` to check the alignment. Misaligned entities ('-') will be ignored during training.\n",
      "  warnings.warn(\n",
      "C:\\Users\\teddy\\miniconda3\\envs\\NLP_env\\lib\\site-packages\\spacy\\training\\iob_utils.py:141: UserWarning: [W030] Some entities could not be aligned in the text \"Pradeeba V\n",
      "LEAD ENGINEER - CISCO\n",
      "\n",
      "- Email me on In...\" with entities \"[(1085, 1125, 'Email Address'), (228, 238, 'Skills...\". Use `spacy.training.offsets_to_biluo_tags(nlp.make_doc(text), entities)` to check the alignment. Misaligned entities ('-') will be ignored during training.\n",
      "  warnings.warn(\n"
     ]
    },
    {
     "name": "stdout",
     "output_type": "stream",
     "text": [
      "{'ner': 8804.263920853595}\n",
      "{'ner': 8833.826453038415}\n"
     ]
    },
    {
     "name": "stderr",
     "output_type": "stream",
     "text": [
      "C:\\Users\\teddy\\miniconda3\\envs\\NLP_env\\lib\\site-packages\\spacy\\training\\iob_utils.py:141: UserWarning: [W030] Some entities could not be aligned in the text \"PRASHANTH BADALA\n",
      "Devops Engineer ,Cloud Engineer -...\" with entities \"[(790, 794, 'Skills'), (3083, 3109, 'Skills'), (17...\". Use `spacy.training.offsets_to_biluo_tags(nlp.make_doc(text), entities)` to check the alignment. Misaligned entities ('-') will be ignored during training.\n",
      "  warnings.warn(\n"
     ]
    },
    {
     "name": "stdout",
     "output_type": "stream",
     "text": [
      "{'ner': 9100.526987084111}\n",
      "{'ner': 9214.605241795809}\n"
     ]
    },
    {
     "name": "stderr",
     "output_type": "stream",
     "text": [
      "C:\\Users\\teddy\\miniconda3\\envs\\NLP_env\\lib\\site-packages\\spacy\\training\\iob_utils.py:141: UserWarning: [W030] Some entities could not be aligned in the text \"Pratibha P\n",
      "Principal Consultant at Oracle\n",
      "\n",
      "Bengalu...\" with entities \"[(1201, 1207, 'Companies worked at'), (3142, 3179,...\". Use `spacy.training.offsets_to_biluo_tags(nlp.make_doc(text), entities)` to check the alignment. Misaligned entities ('-') will be ignored during training.\n",
      "  warnings.warn(\n"
     ]
    },
    {
     "name": "stdout",
     "output_type": "stream",
     "text": [
      "{'ner': 9279.370242029294}\n",
      "{'ner': 9412.362253218755}\n"
     ]
    },
    {
     "name": "stderr",
     "output_type": "stream",
     "text": [
      "C:\\Users\\teddy\\miniconda3\\envs\\NLP_env\\lib\\site-packages\\spacy\\training\\iob_utils.py:141: UserWarning: [W030] Some entities could not be aligned in the text \"Puneet Singh\n",
      "Associate Software Engineer\n",
      "\n",
      "Bengalur...\" with entities \"[(647, 656, 'Skills'), (677, 684, 'Skills'), (536,...\". Use `spacy.training.offsets_to_biluo_tags(nlp.make_doc(text), entities)` to check the alignment. Misaligned entities ('-') will be ignored during training.\n",
      "  warnings.warn(\n"
     ]
    },
    {
     "name": "stdout",
     "output_type": "stream",
     "text": [
      "{'ner': 9455.529288398713}\n",
      "{'ner': 9481.055245771578}\n"
     ]
    },
    {
     "name": "stderr",
     "output_type": "stream",
     "text": [
      "C:\\Users\\teddy\\miniconda3\\envs\\NLP_env\\lib\\site-packages\\spacy\\training\\iob_utils.py:141: UserWarning: [W030] Some entities could not be aligned in the text \"Rajeev Kumar\n",
      "Senior Associate Consultant - Infosys...\" with entities \"[(43, 64, 'Companies worked at'), (0, 12, 'Name'),...\". Use `spacy.training.offsets_to_biluo_tags(nlp.make_doc(text), entities)` to check the alignment. Misaligned entities ('-') will be ignored during training.\n",
      "  warnings.warn(\n",
      "C:\\Users\\teddy\\miniconda3\\envs\\NLP_env\\lib\\site-packages\\spacy\\training\\iob_utils.py:141: UserWarning: [W030] Some entities could not be aligned in the text \"Rajeev Kumar\n",
      "Senior Associate Consultant - Infosys...\" with entities \"[(1173, 1200, 'Designation')]\". Use `spacy.training.offsets_to_biluo_tags(nlp.make_doc(text), entities)` to check the alignment. Misaligned entities ('-') will be ignored during training.\n",
      "  warnings.warn(\n"
     ]
    },
    {
     "name": "stdout",
     "output_type": "stream",
     "text": [
      "{'ner': 9529.210913911036}\n"
     ]
    },
    {
     "name": "stderr",
     "output_type": "stream",
     "text": [
      "C:\\Users\\teddy\\miniconda3\\envs\\NLP_env\\lib\\site-packages\\spacy\\training\\iob_utils.py:141: UserWarning: [W030] Some entities could not be aligned in the text \"Ram Edupuganti\n",
      "Software Development Director - Ora...\" with entities \"[(4888, 4936, 'Degree'), (47, 57, 'Companies worke...\". Use `spacy.training.offsets_to_biluo_tags(nlp.make_doc(text), entities)` to check the alignment. Misaligned entities ('-') will be ignored during training.\n",
      "  warnings.warn(\n"
     ]
    },
    {
     "name": "stdout",
     "output_type": "stream",
     "text": [
      "{'ner': 9732.390994086436}\n"
     ]
    },
    {
     "name": "stderr",
     "output_type": "stream",
     "text": [
      "C:\\Users\\teddy\\miniconda3\\envs\\NLP_env\\lib\\site-packages\\spacy\\training\\iob_utils.py:141: UserWarning: [W030] Some entities could not be aligned in the text \"Ramesh HP\n",
      "CES ASSOCIATE CONSULTANT\n",
      "\n",
      "Bangalore, Kar...\" with entities \"[(2618, 2638, 'College Name'), (1089, 1098, 'Compa...\". Use `spacy.training.offsets_to_biluo_tags(nlp.make_doc(text), entities)` to check the alignment. Misaligned entities ('-') will be ignored during training.\n",
      "  warnings.warn(\n"
     ]
    },
    {
     "name": "stdout",
     "output_type": "stream",
     "text": [
      "{'ner': 9751.079400912207}\n"
     ]
    },
    {
     "name": "stderr",
     "output_type": "stream",
     "text": [
      "C:\\Users\\teddy\\miniconda3\\envs\\NLP_env\\lib\\site-packages\\spacy\\training\\iob_utils.py:141: UserWarning: [W030] Some entities could not be aligned in the text \"Ramya. P\n",
      "Hyderabad, Telangana - Email me on Indeed...\" with entities \"[(3510, 3527, 'College Name'), (1334, 1338, 'Gradu...\". Use `spacy.training.offsets_to_biluo_tags(nlp.make_doc(text), entities)` to check the alignment. Misaligned entities ('-') will be ignored during training.\n",
      "  warnings.warn(\n"
     ]
    },
    {
     "name": "stdout",
     "output_type": "stream",
     "text": [
      "{'ner': 9806.593759636005}\n",
      "{'ner': 9854.748329997277}\n"
     ]
    },
    {
     "name": "stderr",
     "output_type": "stream",
     "text": [
      "C:\\Users\\teddy\\miniconda3\\envs\\NLP_env\\lib\\site-packages\\spacy\\training\\iob_utils.py:141: UserWarning: [W030] Some entities could not be aligned in the text \"Ravi Shankar\n",
      "Working as Escalation Engineer with M...\" with entities \"[(4016, 4025, 'Companies worked at'), (2968, 2983,...\". Use `spacy.training.offsets_to_biluo_tags(nlp.make_doc(text), entities)` to check the alignment. Misaligned entities ('-') will be ignored during training.\n",
      "  warnings.warn(\n"
     ]
    },
    {
     "name": "stdout",
     "output_type": "stream",
     "text": [
      "{'ner': 9929.46096673443}\n"
     ]
    },
    {
     "name": "stderr",
     "output_type": "stream",
     "text": [
      "C:\\Users\\teddy\\miniconda3\\envs\\NLP_env\\lib\\site-packages\\spacy\\training\\iob_utils.py:141: UserWarning: [W030] Some entities could not be aligned in the text \"Ravi Shivgond\n",
      "Bidar, Karnataka - Email me on Indee...\" with entities \"[(602, 741, 'Skills'), (1131, 1136, 'Location'), (...\". Use `spacy.training.offsets_to_biluo_tags(nlp.make_doc(text), entities)` to check the alignment. Misaligned entities ('-') will be ignored during training.\n",
      "  warnings.warn(\n"
     ]
    },
    {
     "name": "stdout",
     "output_type": "stream",
     "text": [
      "{'ner': 9948.09926224095}\n",
      "{'ner': 9967.54146588152}\n"
     ]
    },
    {
     "name": "stderr",
     "output_type": "stream",
     "text": [
      "C:\\Users\\teddy\\miniconda3\\envs\\NLP_env\\lib\\site-packages\\spacy\\training\\iob_utils.py:141: UserWarning: [W030] Some entities could not be aligned in the text \"Roshan Sinha\n",
      "Application Developer - SAP ABAP\n",
      "\n",
      "Kol...\" with entities \"[(1601, 1622, 'Designation'), (1133, 1140, 'Locati...\". Use `spacy.training.offsets_to_biluo_tags(nlp.make_doc(text), entities)` to check the alignment. Misaligned entities ('-') will be ignored during training.\n",
      "  warnings.warn(\n"
     ]
    },
    {
     "name": "stdout",
     "output_type": "stream",
     "text": [
      "{'ner': 10038.62571861987}\n"
     ]
    },
    {
     "name": "stderr",
     "output_type": "stream",
     "text": [
      "C:\\Users\\teddy\\miniconda3\\envs\\NLP_env\\lib\\site-packages\\spacy\\training\\iob_utils.py:141: UserWarning: [W030] Some entities could not be aligned in the text \"Sai Dhir\n",
      "- Email me on Indeed: indeed.com/r/Sai-Dh...\" with entities \"[(0, 8, 'Name'), (31, 69, 'Email Address'), (2956,...\". Use `spacy.training.offsets_to_biluo_tags(nlp.make_doc(text), entities)` to check the alignment. Misaligned entities ('-') will be ignored during training.\n",
      "  warnings.warn(\n"
     ]
    },
    {
     "name": "stdout",
     "output_type": "stream",
     "text": [
      "{'ner': 10079.78223967634}\n",
      "{'ner': 10258.010888517721}\n",
      "{'ner': 10292.393948096938}\n",
      "{'ner': 10304.729581085609}\n"
     ]
    },
    {
     "name": "stderr",
     "output_type": "stream",
     "text": [
      "C:\\Users\\teddy\\miniconda3\\envs\\NLP_env\\lib\\site-packages\\spacy\\training\\iob_utils.py:141: UserWarning: [W030] Some entities could not be aligned in the text \"Sameer Kujur\n",
      "Orrisha - Email me on Indeed: indeed....\" with entities \"[(0, 12, 'Name'), (210, 251, 'Skills'), (43, 85, '...\". Use `spacy.training.offsets_to_biluo_tags(nlp.make_doc(text), entities)` to check the alignment. Misaligned entities ('-') will be ignored during training.\n",
      "  warnings.warn(\n"
     ]
    },
    {
     "name": "stdout",
     "output_type": "stream",
     "text": [
      "{'ner': 10323.231304711013}\n",
      "{'ner': 10356.411827501774}\n",
      "{'ner': 10392.441202352687}\n"
     ]
    },
    {
     "name": "stderr",
     "output_type": "stream",
     "text": [
      "C:\\Users\\teddy\\miniconda3\\envs\\NLP_env\\lib\\site-packages\\spacy\\training\\iob_utils.py:141: UserWarning: [W030] Some entities could not be aligned in the text \"Senthil Kumar\n",
      "Senior Technical Lead - HCL Cisco\n",
      "\n",
      "-...\" with entities \"[(823, 837, 'Designation'), (5346, 5351, 'Companie...\". Use `spacy.training.offsets_to_biluo_tags(nlp.make_doc(text), entities)` to check the alignment. Misaligned entities ('-') will be ignored during training.\n",
      "  warnings.warn(\n"
     ]
    },
    {
     "name": "stdout",
     "output_type": "stream",
     "text": [
      "{'ner': 10451.284875223113}\n",
      "{'ner': 10664.779317943123}\n",
      "{'ner': 10715.137779608374}\n",
      "{'ner': 10732.532979897122}\n"
     ]
    },
    {
     "name": "stderr",
     "output_type": "stream",
     "text": [
      "C:\\Users\\teddy\\miniconda3\\envs\\NLP_env\\lib\\site-packages\\spacy\\training\\iob_utils.py:141: UserWarning: [W030] Some entities could not be aligned in the text \"Sharan Adla\n",
      "- Email me on Indeed: indeed.com/r/Sha...\" with entities \"[(2421, 2450, 'College Name'), (2257, 2290, 'Colle...\". Use `spacy.training.offsets_to_biluo_tags(nlp.make_doc(text), entities)` to check the alignment. Misaligned entities ('-') will be ignored during training.\n",
      "  warnings.warn(\n",
      "C:\\Users\\teddy\\miniconda3\\envs\\NLP_env\\lib\\site-packages\\spacy\\training\\iob_utils.py:141: UserWarning: [W030] Some entities could not be aligned in the text \"Shreyanshu Gupta\n",
      "Software Development Engineer wit...\" with entities \"[(3944, 3948, 'Skills'), (1374, 1380, 'Companies w...\". Use `spacy.training.offsets_to_biluo_tags(nlp.make_doc(text), entities)` to check the alignment. Misaligned entities ('-') will be ignored during training.\n",
      "  warnings.warn(\n"
     ]
    },
    {
     "name": "stdout",
     "output_type": "stream",
     "text": [
      "{'ner': 10862.699013904907}\n",
      "{'ner': 10933.945930429682}\n",
      "{'ner': 10965.53281055157}\n",
      "{'ner': 10982.827574762074}\n",
      "{'ner': 11005.246271099451}\n"
     ]
    },
    {
     "name": "stderr",
     "output_type": "stream",
     "text": [
      "C:\\Users\\teddy\\miniconda3\\envs\\NLP_env\\lib\\site-packages\\spacy\\training\\iob_utils.py:141: UserWarning: [W030] Some entities could not be aligned in the text \"Snehal Jadhav\n",
      "Mumbai, Maharashtra - Email me on In...\" with entities \"[(1077, 1120, 'Email Address'), (941, 946, 'Compan...\". Use `spacy.training.offsets_to_biluo_tags(nlp.make_doc(text), entities)` to check the alignment. Misaligned entities ('-') will be ignored during training.\n",
      "  warnings.warn(\n",
      "C:\\Users\\teddy\\miniconda3\\envs\\NLP_env\\lib\\site-packages\\spacy\\training\\iob_utils.py:141: UserWarning: [W030] Some entities could not be aligned in the text \"Soumya Balan\n",
      "IT SUPPORT\n",
      "\n",
      "Sulthan Bathery, Kerala, ...\" with entities \"[(711, 720, 'Companies worked at'), (3880, 3884, '...\". Use `spacy.training.offsets_to_biluo_tags(nlp.make_doc(text), entities)` to check the alignment. Misaligned entities ('-') will be ignored during training.\n",
      "  warnings.warn(\n"
     ]
    },
    {
     "name": "stdout",
     "output_type": "stream",
     "text": [
      "{'ner': 11214.406667935764}\n",
      "{'ner': 11248.546947484178}\n",
      "{'ner': 11278.459236987499}\n"
     ]
    },
    {
     "name": "stderr",
     "output_type": "stream",
     "text": [
      "C:\\Users\\teddy\\miniconda3\\envs\\NLP_env\\lib\\site-packages\\spacy\\training\\iob_utils.py:141: UserWarning: [W030] Some entities could not be aligned in the text \"Sowmya Karanth\n",
      "Finance Analyst\n",
      "\n",
      "Hyderabad, Telanga...\" with entities \"[(1865, 1868, 'Skills'), (2058, 2091, 'Skills')]\". Use `spacy.training.offsets_to_biluo_tags(nlp.make_doc(text), entities)` to check the alignment. Misaligned entities ('-') will be ignored during training.\n",
      "  warnings.warn(\n"
     ]
    },
    {
     "name": "stdout",
     "output_type": "stream",
     "text": [
      "{'ner': 11320.144618532704}\n"
     ]
    },
    {
     "name": "stderr",
     "output_type": "stream",
     "text": [
      "C:\\Users\\teddy\\miniconda3\\envs\\NLP_env\\lib\\site-packages\\spacy\\training\\iob_utils.py:141: UserWarning: [W030] Some entities could not be aligned in the text \"Srinivas VO\n",
      "Sr. Test Manager\n",
      "\n",
      "Mumbai, Maharashtra ...\" with entities \"[(3111, 3152, 'Email Address'), (11125, 11145, 'Co...\". Use `spacy.training.offsets_to_biluo_tags(nlp.make_doc(text), entities)` to check the alignment. Misaligned entities ('-') will be ignored during training.\n",
      "  warnings.warn(\n"
     ]
    },
    {
     "name": "stdout",
     "output_type": "stream",
     "text": [
      "{'ner': 11445.52714314227}\n"
     ]
    },
    {
     "name": "stderr",
     "output_type": "stream",
     "text": [
      "C:\\Users\\teddy\\miniconda3\\envs\\NLP_env\\lib\\site-packages\\spacy\\training\\iob_utils.py:141: UserWarning: [W030] Some entities could not be aligned in the text \"Srushti Bhadale\n",
      "Mumbai, Maharashtra - Email me on ...\" with entities \"[(1403, 1406, 'Degree'), (129, 135, 'Location'), (...\". Use `spacy.training.offsets_to_biluo_tags(nlp.make_doc(text), entities)` to check the alignment. Misaligned entities ('-') will be ignored during training.\n",
      "  warnings.warn(\n"
     ]
    },
    {
     "name": "stdout",
     "output_type": "stream",
     "text": [
      "{'ner': 11469.56788003616}\n"
     ]
    },
    {
     "name": "stderr",
     "output_type": "stream",
     "text": [
      "C:\\Users\\teddy\\miniconda3\\envs\\NLP_env\\lib\\site-packages\\spacy\\training\\iob_utils.py:141: UserWarning: [W030] Some entities could not be aligned in the text \"Sudaya Puranik\n",
      "Principal Engineer Technical Staff ...\" with entities \"[(106, 150, 'Email Address'), (391, 400, 'Location...\". Use `spacy.training.offsets_to_biluo_tags(nlp.make_doc(text), entities)` to check the alignment. Misaligned entities ('-') will be ignored during training.\n",
      "  warnings.warn(\n"
     ]
    },
    {
     "name": "stdout",
     "output_type": "stream",
     "text": [
      "{'ner': 11500.130543941472}\n",
      "{'ner': 11660.79029406987}\n"
     ]
    },
    {
     "name": "stderr",
     "output_type": "stream",
     "text": [
      "C:\\Users\\teddy\\miniconda3\\envs\\NLP_env\\lib\\site-packages\\spacy\\training\\iob_utils.py:141: UserWarning: [W030] Some entities could not be aligned in the text \"Syam Devendla\n",
      "Bengaluru, Karnataka - Email me on I...\" with entities \"[(3847, 3851, 'Graduation Year'), (3461, 3465, 'Gr...\". Use `spacy.training.offsets_to_biluo_tags(nlp.make_doc(text), entities)` to check the alignment. Misaligned entities ('-') will be ignored during training.\n",
      "  warnings.warn(\n"
     ]
    },
    {
     "name": "stdout",
     "output_type": "stream",
     "text": [
      "{'ner': 11691.847623007096}\n"
     ]
    },
    {
     "name": "stderr",
     "output_type": "stream",
     "text": [
      "C:\\Users\\teddy\\miniconda3\\envs\\NLP_env\\lib\\site-packages\\spacy\\training\\iob_utils.py:141: UserWarning: [W030] Some entities could not be aligned in the text \"Tejasri Gunnam\n",
      "Bengaluru, Karnataka - Email me on ...\" with entities \"[(908, 930, 'Companies worked at'), (3275, 3334, '...\". Use `spacy.training.offsets_to_biluo_tags(nlp.make_doc(text), entities)` to check the alignment. Misaligned entities ('-') will be ignored during training.\n",
      "  warnings.warn(\n"
     ]
    },
    {
     "name": "stdout",
     "output_type": "stream",
     "text": [
      "{'ner': 11715.128214850047}\n"
     ]
    },
    {
     "name": "stderr",
     "output_type": "stream",
     "text": [
      "C:\\Users\\teddy\\miniconda3\\envs\\NLP_env\\lib\\site-packages\\spacy\\training\\iob_utils.py:141: UserWarning: [W030] Some entities could not be aligned in the text \"Urshila Lohani\n",
      "Senior Corporate Account Executive ...\" with entities \"[(1796, 1820, 'Designation'), (1842, 1846, 'Gradua...\". Use `spacy.training.offsets_to_biluo_tags(nlp.make_doc(text), entities)` to check the alignment. Misaligned entities ('-') will be ignored during training.\n",
      "  warnings.warn(\n"
     ]
    },
    {
     "name": "stdout",
     "output_type": "stream",
     "text": [
      "{'ner': 11761.878065961035}\n",
      "{'ner': 11776.508681783102}\n"
     ]
    },
    {
     "name": "stderr",
     "output_type": "stream",
     "text": [
      "C:\\Users\\teddy\\miniconda3\\envs\\NLP_env\\lib\\site-packages\\spacy\\training\\iob_utils.py:141: UserWarning: [W030] Some entities could not be aligned in the text \"VARUN AHLUWALIA\n",
      "Quantitative Analyst\n",
      "\n",
      "- Email me o...\" with entities \"[(736, 740, 'Graduation Year'), (687, 729, 'Colleg...\". Use `spacy.training.offsets_to_biluo_tags(nlp.make_doc(text), entities)` to check the alignment. Misaligned entities ('-') will be ignored during training.\n",
      "  warnings.warn(\n"
     ]
    },
    {
     "name": "stdout",
     "output_type": "stream",
     "text": [
      "{'ner': 11797.595374332857}\n",
      "{'ner': 11830.3416114082}\n",
      "{'ner': 11866.03955689143}\n",
      "{'ner': 11913.179559471882}\n"
     ]
    },
    {
     "name": "stderr",
     "output_type": "stream",
     "text": [
      "C:\\Users\\teddy\\miniconda3\\envs\\NLP_env\\lib\\site-packages\\spacy\\training\\iob_utils.py:141: UserWarning: [W030] Some entities could not be aligned in the text \"Yathishwaran P\n",
      "Maximo Consultant - Infosys Limited...\" with entities \"[(19292, 19331, 'College Name'), (19349, 19357, 'L...\". Use `spacy.training.offsets_to_biluo_tags(nlp.make_doc(text), entities)` to check the alignment. Misaligned entities ('-') will be ignored during training.\n",
      "  warnings.warn(\n"
     ]
    },
    {
     "name": "stdout",
     "output_type": "stream",
     "text": [
      "{'ner': 11950.915553290262}\n",
      "{'ner': 11987.262307851342}\n"
     ]
    },
    {
     "name": "stderr",
     "output_type": "stream",
     "text": [
      "C:\\Users\\teddy\\miniconda3\\envs\\NLP_env\\lib\\site-packages\\spacy\\training\\iob_utils.py:141: UserWarning: [W030] Some entities could not be aligned in the text \"Anurag Asthana\n",
      "Pune, Maharashtra - Email me on Ind...\" with entities \"[(7133, 7595, 'Skills'), (2929, 2951, 'Companies w...\". Use `spacy.training.offsets_to_biluo_tags(nlp.make_doc(text), entities)` to check the alignment. Misaligned entities ('-') will be ignored during training.\n",
      "  warnings.warn(\n"
     ]
    },
    {
     "name": "stdout",
     "output_type": "stream",
     "text": [
      "{'ner': 12042.937264554901}\n",
      "{'ner': 12053.88255906791}\n",
      "{'ner': 12066.202880747136}\n"
     ]
    },
    {
     "name": "stderr",
     "output_type": "stream",
     "text": [
      "C:\\Users\\teddy\\miniconda3\\envs\\NLP_env\\lib\\site-packages\\spacy\\training\\iob_utils.py:141: UserWarning: [W030] Some entities could not be aligned in the text \"Nida Khan\n",
      "Tech Support Executive - Teleperformance...\" with entities \"[(66, 72, 'Location'), (106, 145, 'Email Address')...\". Use `spacy.training.offsets_to_biluo_tags(nlp.make_doc(text), entities)` to check the alignment. Misaligned entities ('-') will be ignored during training.\n",
      "  warnings.warn(\n",
      "C:\\Users\\teddy\\miniconda3\\envs\\NLP_env\\lib\\site-packages\\spacy\\training\\iob_utils.py:141: UserWarning: [W030] Some entities could not be aligned in the text \"Fenil Francis\n",
      "head of operation and logistics\n",
      "\n",
      "Tri...\" with entities \"[(47, 55, 'Location'), (597, 623, 'College Name'),...\". Use `spacy.training.offsets_to_biluo_tags(nlp.make_doc(text), entities)` to check the alignment. Misaligned entities ('-') will be ignored during training.\n",
      "  warnings.warn(\n"
     ]
    },
    {
     "name": "stdout",
     "output_type": "stream",
     "text": [
      "{'ner': 12089.934256103455}\n",
      "{'ner': 12113.484103563269}\n",
      "{'ner': 12132.54411822418}\n",
      "{'ner': 12153.558540974016}\n",
      "{'ner': 12164.05693297344}\n"
     ]
    },
    {
     "name": "stderr",
     "output_type": "stream",
     "text": [
      "C:\\Users\\teddy\\miniconda3\\envs\\NLP_env\\lib\\site-packages\\spacy\\training\\iob_utils.py:141: UserWarning: [W030] Some entities could not be aligned in the text \"amarjyot sodhi\n",
      "Voice and Accent Trainer :Masters i...\" with entities \"[(86, 93, 'Years of Experience'), (1130, 1174, 'Em...\". Use `spacy.training.offsets_to_biluo_tags(nlp.make_doc(text), entities)` to check the alignment. Misaligned entities ('-') will be ignored during training.\n",
      "  warnings.warn(\n",
      "C:\\Users\\teddy\\miniconda3\\envs\\NLP_env\\lib\\site-packages\\spacy\\training\\iob_utils.py:141: UserWarning: [W030] Some entities could not be aligned in the text \"Zaheer Uddin\n",
      "Technical Project Manager\n",
      "\n",
      "Hyderabad,...\" with entities \"[(0, 12, 'Name'), (4901, 4910, 'Location'), (4838,...\". Use `spacy.training.offsets_to_biluo_tags(nlp.make_doc(text), entities)` to check the alignment. Misaligned entities ('-') will be ignored during training.\n",
      "  warnings.warn(\n"
     ]
    },
    {
     "name": "stdout",
     "output_type": "stream",
     "text": [
      "{'ner': 12193.425155001225}\n"
     ]
    },
    {
     "name": "stderr",
     "output_type": "stream",
     "text": [
      "C:\\Users\\teddy\\miniconda3\\envs\\NLP_env\\lib\\site-packages\\spacy\\training\\iob_utils.py:141: UserWarning: [W030] Some entities could not be aligned in the text \"Abdul B\n",
      "Arabic Language supporter (Content Analyst...\" with entities \"[(0, 7, 'Name'), (921, 940, 'Companies worked at')...\". Use `spacy.training.offsets_to_biluo_tags(nlp.make_doc(text), entities)` to check the alignment. Misaligned entities ('-') will be ignored during training.\n",
      "  warnings.warn(\n"
     ]
    },
    {
     "name": "stdout",
     "output_type": "stream",
     "text": [
      "{'ner': 12214.72686064022}\n",
      "{'ner': 12230.250104477924}\n"
     ]
    },
    {
     "name": "stderr",
     "output_type": "stream",
     "text": [
      "C:\\Users\\teddy\\miniconda3\\envs\\NLP_env\\lib\\site-packages\\spacy\\training\\iob_utils.py:141: UserWarning: [W030] Some entities could not be aligned in the text \"Girish Acharya\n",
      "Technical Architect & Sr. Software ...\" with entities \"[(5079, 5088, 'Companies worked at'), (4719, 4724,...\". Use `spacy.training.offsets_to_biluo_tags(nlp.make_doc(text), entities)` to check the alignment. Misaligned entities ('-') will be ignored during training.\n",
      "  warnings.warn(\n"
     ]
    },
    {
     "name": "stdout",
     "output_type": "stream",
     "text": [
      "{'ner': 12300.2532199233}\n"
     ]
    },
    {
     "name": "stderr",
     "output_type": "stream",
     "text": [
      "C:\\Users\\teddy\\miniconda3\\envs\\NLP_env\\lib\\site-packages\\spacy\\training\\iob_utils.py:141: UserWarning: [W030] Some entities could not be aligned in the text \"Asha Subbaiah\n",
      "(Microsoft Partner Readiness Operati...\" with entities \"[(137, 180, 'Email Address'), (79, 92, 'Companies ...\". Use `spacy.training.offsets_to_biluo_tags(nlp.make_doc(text), entities)` to check the alignment. Misaligned entities ('-') will be ignored during training.\n",
      "  warnings.warn(\n"
     ]
    },
    {
     "name": "stdout",
     "output_type": "stream",
     "text": [
      "{'ner': 12311.52796592818}\n"
     ]
    },
    {
     "name": "stderr",
     "output_type": "stream",
     "text": [
      "C:\\Users\\teddy\\miniconda3\\envs\\NLP_env\\lib\\site-packages\\spacy\\training\\iob_utils.py:141: UserWarning: [W030] Some entities could not be aligned in the text \"Divesh Singh\n",
      "Bengaluru, Karnataka - Email me on In...\" with entities \"[(0, 12, 'Name'), (833, 845, 'College Name'), (527...\". Use `spacy.training.offsets_to_biluo_tags(nlp.make_doc(text), entities)` to check the alignment. Misaligned entities ('-') will be ignored during training.\n",
      "  warnings.warn(\n"
     ]
    },
    {
     "name": "stdout",
     "output_type": "stream",
     "text": [
      "{'ner': 12325.421003088866}\n",
      "{'ner': 12340.002368933561}\n"
     ]
    },
    {
     "name": "stderr",
     "output_type": "stream",
     "text": [
      "C:\\Users\\teddy\\miniconda3\\envs\\NLP_env\\lib\\site-packages\\spacy\\training\\iob_utils.py:141: UserWarning: [W030] Some entities could not be aligned in the text \"Ganesh AlalaSundaram\n",
      "A Dev-Test Professional with ...\" with entities \"[(50, 56, 'Years of Experience'), (0, 20, 'Name'),...\". Use `spacy.training.offsets_to_biluo_tags(nlp.make_doc(text), entities)` to check the alignment. Misaligned entities ('-') will be ignored during training.\n",
      "  warnings.warn(\n"
     ]
    },
    {
     "name": "stdout",
     "output_type": "stream",
     "text": [
      "{'ner': 12348.634369613805}\n",
      "{'ner': 12361.634266548952}\n"
     ]
    },
    {
     "name": "stderr",
     "output_type": "stream",
     "text": [
      "C:\\Users\\teddy\\miniconda3\\envs\\NLP_env\\lib\\site-packages\\spacy\\training\\iob_utils.py:141: UserWarning: [W030] Some entities could not be aligned in the text \"Puneet Bhandari\n",
      "SAP SD lead - Microsoft IT\n",
      "\n",
      "Pune, ...\" with entities \"[(8383, 8387, 'Graduation Year'), (1563, 1608, 'Em...\". Use `spacy.training.offsets_to_biluo_tags(nlp.make_doc(text), entities)` to check the alignment. Misaligned entities ('-') will be ignored during training.\n",
      "  warnings.warn(\n",
      "C:\\Users\\teddy\\miniconda3\\envs\\NLP_env\\lib\\site-packages\\spacy\\training\\iob_utils.py:141: UserWarning: [W030] Some entities could not be aligned in the text \"Puneet Bhandari\n",
      "SAP SD lead - Microsoft IT\n",
      "\n",
      "Pune, ...\" with entities \"[(0, 15, 'Name'), (1576, 1580, 'Location')]\". Use `spacy.training.offsets_to_biluo_tags(nlp.make_doc(text), entities)` to check the alignment. Misaligned entities ('-') will be ignored during training.\n",
      "  warnings.warn(\n"
     ]
    },
    {
     "name": "stdout",
     "output_type": "stream",
     "text": [
      "{'ner': 12457.985833077984}\n"
     ]
    },
    {
     "name": "stderr",
     "output_type": "stream",
     "text": [
      "C:\\Users\\teddy\\miniconda3\\envs\\NLP_env\\lib\\site-packages\\spacy\\training\\iob_utils.py:141: UserWarning: [W030] Some entities could not be aligned in the text \"Aarti Pimplay\n",
      "Operations Center Shift Manager (OCS...\" with entities \"[(1622, 1639, 'Companies worked at'), (0, 13, 'Nam...\". Use `spacy.training.offsets_to_biluo_tags(nlp.make_doc(text), entities)` to check the alignment. Misaligned entities ('-') will be ignored during training.\n",
      "  warnings.warn(\n"
     ]
    },
    {
     "name": "stdout",
     "output_type": "stream",
     "text": [
      "{'ner': 12462.708814721493}\n",
      "{'ner': 12474.662826354266}\n"
     ]
    },
    {
     "name": "stderr",
     "output_type": "stream",
     "text": [
      "C:\\Users\\teddy\\miniconda3\\envs\\NLP_env\\lib\\site-packages\\spacy\\training\\iob_utils.py:141: UserWarning: [W030] Some entities could not be aligned in the text \"Avani Priya\n",
      "- Email me on Indeed: indeed.com/r/Ava...\" with entities \"[(34, 75, 'Email Address'), (0, 11, 'Name'), (368,...\". Use `spacy.training.offsets_to_biluo_tags(nlp.make_doc(text), entities)` to check the alignment. Misaligned entities ('-') will be ignored during training.\n",
      "  warnings.warn(\n",
      "C:\\Users\\teddy\\miniconda3\\envs\\NLP_env\\lib\\site-packages\\spacy\\training\\iob_utils.py:141: UserWarning: [W030] Some entities could not be aligned in the text \"Sanand Pal\n",
      "SQL and MSBI Developer with experience ...\" with entities \"[(85, 95, 'Location'), (128, 168, 'Email Address')...\". Use `spacy.training.offsets_to_biluo_tags(nlp.make_doc(text), entities)` to check the alignment. Misaligned entities ('-') will be ignored during training.\n",
      "  warnings.warn(\n"
     ]
    },
    {
     "name": "stdout",
     "output_type": "stream",
     "text": [
      "{'ner': 12480.630667316756}\n",
      "{'ner': 12498.844701149445}\n",
      "{'ner': 12508.867958612258}\n",
      "{'ner': 12544.990251468113}\n",
      "{'ner': 12557.242158933004}\n",
      "{'ner': 12575.92252638292}\n",
      "{'ner': 12588.731888993972}\n"
     ]
    },
    {
     "name": "stderr",
     "output_type": "stream",
     "text": [
      "C:\\Users\\teddy\\miniconda3\\envs\\NLP_env\\lib\\site-packages\\spacy\\training\\iob_utils.py:141: UserWarning: [W030] Some entities could not be aligned in the text \"Chhaya Prabhale\n",
      "Kharadi, Pune, 411014, IN - Email ...\" with entities \"[(0, 15, 'Name'), (64, 110, 'Email Address'), (478...\". Use `spacy.training.offsets_to_biluo_tags(nlp.make_doc(text), entities)` to check the alignment. Misaligned entities ('-') will be ignored during training.\n",
      "  warnings.warn(\n"
     ]
    },
    {
     "name": "stdout",
     "output_type": "stream",
     "text": [
      "{'ner': 12603.36583043627}\n"
     ]
    },
    {
     "name": "stderr",
     "output_type": "stream",
     "text": [
      "C:\\Users\\teddy\\miniconda3\\envs\\NLP_env\\lib\\site-packages\\spacy\\training\\iob_utils.py:141: UserWarning: [W030] Some entities could not be aligned in the text \"Karthik G V\n",
      "Program Manager, Product Manager, Prod...\" with entities \"[(339, 348, 'Companies worked at'), (0, 11, 'Name'...\". Use `spacy.training.offsets_to_biluo_tags(nlp.make_doc(text), entities)` to check the alignment. Misaligned entities ('-') will be ignored during training.\n",
      "  warnings.warn(\n"
     ]
    },
    {
     "name": "stdout",
     "output_type": "stream",
     "text": [
      "{'ner': 12622.252767326829}\n"
     ]
    },
    {
     "name": "stderr",
     "output_type": "stream",
     "text": [
      "C:\\Users\\teddy\\miniconda3\\envs\\NLP_env\\lib\\site-packages\\spacy\\training\\iob_utils.py:141: UserWarning: [W030] Some entities could not be aligned in the text \"Mohammed Murtuza\n",
      "Major Incident Manager / Escalati...\" with entities \"[(7805, 7823, 'College Name'), (234, 249, 'Compani...\". Use `spacy.training.offsets_to_biluo_tags(nlp.make_doc(text), entities)` to check the alignment. Misaligned entities ('-') will be ignored during training.\n",
      "  warnings.warn(\n"
     ]
    },
    {
     "name": "stdout",
     "output_type": "stream",
     "text": [
      "{'ner': 12647.763569395804}\n",
      "{'ner': 12663.297436866347}\n",
      "{'ner': 12673.693443585842}\n",
      "{'ner': 12692.149243090482}\n",
      "{'ner': 12708.599249869843}\n",
      "{'ner': 12741.275973172696}\n",
      "{'ner': 12741.275973172696}\n",
      "{'ner': 12760.154877090905}\n"
     ]
    },
    {
     "name": "stderr",
     "output_type": "stream",
     "text": [
      "C:\\Users\\teddy\\miniconda3\\envs\\NLP_env\\lib\\site-packages\\spacy\\training\\iob_utils.py:141: UserWarning: [W030] Some entities could not be aligned in the text \"Soumya Balan\n",
      "IT SUPPORT\n",
      "\n",
      "Sulthan Bathery, Kerala, ...\" with entities \"[(0, 12, 'Name'), (3880, 3884, 'Graduation Year'),...\". Use `spacy.training.offsets_to_biluo_tags(nlp.make_doc(text), entities)` to check the alignment. Misaligned entities ('-') will be ignored during training.\n",
      "  warnings.warn(\n",
      "C:\\Users\\teddy\\miniconda3\\envs\\NLP_env\\lib\\site-packages\\spacy\\training\\iob_utils.py:141: UserWarning: [W030] Some entities could not be aligned in the text \"Akansha Jain\n",
      "Pune, Maharashtra - Email me on Indee...\" with entities \"[(0, 12, 'Name'), (13, 18, 'Location'), (280, 285,...\". Use `spacy.training.offsets_to_biluo_tags(nlp.make_doc(text), entities)` to check the alignment. Misaligned entities ('-') will be ignored during training.\n",
      "  warnings.warn(\n",
      "C:\\Users\\teddy\\miniconda3\\envs\\NLP_env\\lib\\site-packages\\spacy\\training\\iob_utils.py:141: UserWarning: [W030] Some entities could not be aligned in the text \"Akansha Jain\n",
      "Pune, Maharashtra - Email me on Indee...\" with entities \"[(1573, 1577, 'Graduation Year'), (1514, 1523, 'Co...\". Use `spacy.training.offsets_to_biluo_tags(nlp.make_doc(text), entities)` to check the alignment. Misaligned entities ('-') will be ignored during training.\n",
      "  warnings.warn(\n"
     ]
    },
    {
     "name": "stdout",
     "output_type": "stream",
     "text": [
      "{'ner': 12768.484157314893}\n",
      "{'ner': 12776.401139234284}\n"
     ]
    },
    {
     "name": "stderr",
     "output_type": "stream",
     "text": [
      "C:\\Users\\teddy\\miniconda3\\envs\\NLP_env\\lib\\site-packages\\spacy\\training\\iob_utils.py:141: UserWarning: [W030] Some entities could not be aligned in the text \"Paul Rajiv\n",
      "Secunderabad, Andhra Pradesh - Email me...\" with entities \"[(2576, 2594, 'College Name'), (174, 183, 'Compani...\". Use `spacy.training.offsets_to_biluo_tags(nlp.make_doc(text), entities)` to check the alignment. Misaligned entities ('-') will be ignored during training.\n",
      "  warnings.warn(\n"
     ]
    },
    {
     "name": "stdout",
     "output_type": "stream",
     "text": [
      "{'ner': 12808.365144819334}\n",
      "{'ner': 12817.407198485107}\n"
     ]
    },
    {
     "name": "stderr",
     "output_type": "stream",
     "text": [
      "C:\\Users\\teddy\\miniconda3\\envs\\NLP_env\\lib\\site-packages\\spacy\\training\\iob_utils.py:141: UserWarning: [W030] Some entities could not be aligned in the text \"Akshay Dubey\n",
      "Actively looking for opportunity in ....\" with entities \"[(0, 12, 'Name'), (2889, 3089, 'Skills'), (2547, 2...\". Use `spacy.training.offsets_to_biluo_tags(nlp.make_doc(text), entities)` to check the alignment. Misaligned entities ('-') will be ignored during training.\n",
      "  warnings.warn(\n"
     ]
    },
    {
     "name": "stdout",
     "output_type": "stream",
     "text": [
      "{'ner': 12850.410559248132}\n",
      "{'ner': 12936.402550946874}\n",
      "{'ner': 13036.092164467973}\n",
      "{'ner': 13059.762895151682}\n",
      "{'ner': 13091.435236371522}\n",
      "{'ner': 13135.674215902523}\n",
      "{'ner': 13167.753116656848}\n"
     ]
    },
    {
     "name": "stderr",
     "output_type": "stream",
     "text": [
      "C:\\Users\\teddy\\miniconda3\\envs\\NLP_env\\lib\\site-packages\\spacy\\training\\iob_utils.py:141: UserWarning: [W030] Some entities could not be aligned in the text \"B. Gokul\n",
      "Gokul, Uttar Pradesh - Email me on Indeed...\" with entities \"[(863, 868, 'Location'), (681, 834, 'Skills'), (62...\". Use `spacy.training.offsets_to_biluo_tags(nlp.make_doc(text), entities)` to check the alignment. Misaligned entities ('-') will be ignored during training.\n",
      "  warnings.warn(\n",
      "C:\\Users\\teddy\\miniconda3\\envs\\NLP_env\\lib\\site-packages\\spacy\\training\\iob_utils.py:141: UserWarning: [W030] Some entities could not be aligned in the text \"B. Gokul\n",
      "Gokul, Uttar Pradesh - Email me on Indeed...\" with entities \"[(3, 8, 'Location'), (983, 992, 'Companies worked ...\". Use `spacy.training.offsets_to_biluo_tags(nlp.make_doc(text), entities)` to check the alignment. Misaligned entities ('-') will be ignored during training.\n",
      "  warnings.warn(\n",
      "C:\\Users\\teddy\\miniconda3\\envs\\NLP_env\\lib\\site-packages\\spacy\\training\\iob_utils.py:141: UserWarning: [W030] Some entities could not be aligned in the text \"Krishna Prasad\n",
      "Patna, Bihar - Email me on Indeed: ...\" with entities \"[(189, 198, 'Companies worked at'), (211, 234, 'De...\". Use `spacy.training.offsets_to_biluo_tags(nlp.make_doc(text), entities)` to check the alignment. Misaligned entities ('-') will be ignored during training.\n",
      "  warnings.warn(\n"
     ]
    },
    {
     "name": "stdout",
     "output_type": "stream",
     "text": [
      "{'ner': 13196.434067659833}\n",
      "{'ner': 13213.836112206265}\n"
     ]
    },
    {
     "name": "stderr",
     "output_type": "stream",
     "text": [
      "C:\\Users\\teddy\\miniconda3\\envs\\NLP_env\\lib\\site-packages\\spacy\\training\\iob_utils.py:141: UserWarning: [W030] Some entities could not be aligned in the text \"Saurabh Sandhikar\n",
      "SAURABH SANDHIKAR\n",
      "\n",
      "Hyderabad, Te...\" with entities \"[(2096, 2105, 'Companies worked at'), (1611, 1615,...\". Use `spacy.training.offsets_to_biluo_tags(nlp.make_doc(text), entities)` to check the alignment. Misaligned entities ('-') will be ignored during training.\n",
      "  warnings.warn(\n",
      "C:\\Users\\teddy\\miniconda3\\envs\\NLP_env\\lib\\site-packages\\spacy\\training\\iob_utils.py:141: UserWarning: [W030] Some entities could not be aligned in the text \"Priyesh Dubey\n",
      "Azure Developer with 9 Yrs 8 months ...\" with entities \"[(229, 238, 'Location'), (14, 29, 'Designation'), ...\". Use `spacy.training.offsets_to_biluo_tags(nlp.make_doc(text), entities)` to check the alignment. Misaligned entities ('-') will be ignored during training.\n",
      "  warnings.warn(\n",
      "C:\\Users\\teddy\\miniconda3\\envs\\NLP_env\\lib\\site-packages\\spacy\\training\\iob_utils.py:141: UserWarning: [W030] Some entities could not be aligned in the text \"Priyesh Dubey\n",
      "Azure Developer with 9 Yrs 8 months ...\" with entities \"[(2733, 2742, 'Companies worked at'), (2537, 2546,...\". Use `spacy.training.offsets_to_biluo_tags(nlp.make_doc(text), entities)` to check the alignment. Misaligned entities ('-') will be ignored during training.\n",
      "  warnings.warn(\n",
      "C:\\Users\\teddy\\miniconda3\\envs\\NLP_env\\lib\\site-packages\\spacy\\training\\iob_utils.py:141: UserWarning: [W030] Some entities could not be aligned in the text \"Laya A\n",
      "Cluster HR Manager - Velammal New\n",
      "\n",
      "Chennai,...\" with entities \"[(84, 120, 'Email Address'), (28, 40, 'Companies w...\". Use `spacy.training.offsets_to_biluo_tags(nlp.make_doc(text), entities)` to check the alignment. Misaligned entities ('-') will be ignored during training.\n",
      "  warnings.warn(\n"
     ]
    },
    {
     "name": "stdout",
     "output_type": "stream",
     "text": [
      "{'ner': 13227.126668439683}\n"
     ]
    },
    {
     "name": "stderr",
     "output_type": "stream",
     "text": [
      "C:\\Users\\teddy\\miniconda3\\envs\\NLP_env\\lib\\site-packages\\spacy\\training\\iob_utils.py:141: UserWarning: [W030] Some entities could not be aligned in the text \"Vishwanath P\n",
      "Senior Executive (MIS & Audit) - Job ...\" with entities \"[(0, 12, 'Name'), (138, 180, 'Email Address'), (81...\". Use `spacy.training.offsets_to_biluo_tags(nlp.make_doc(text), entities)` to check the alignment. Misaligned entities ('-') will be ignored during training.\n",
      "  warnings.warn(\n"
     ]
    },
    {
     "name": "stdout",
     "output_type": "stream",
     "text": [
      "{'ner': 13238.419639279915}\n",
      "{'ner': 13269.699556042151}\n"
     ]
    },
    {
     "name": "stderr",
     "output_type": "stream",
     "text": [
      "C:\\Users\\teddy\\miniconda3\\envs\\NLP_env\\lib\\site-packages\\spacy\\training\\iob_utils.py:141: UserWarning: [W030] Some entities could not be aligned in the text \"Siddhartha Chetri\n",
      "7 years of experience in IT Netw...\" with entities \"[(270, 279, 'Location'), (5369, 5423, 'College Nam...\". Use `spacy.training.offsets_to_biluo_tags(nlp.make_doc(text), entities)` to check the alignment. Misaligned entities ('-') will be ignored during training.\n",
      "  warnings.warn(\n"
     ]
    },
    {
     "name": "stdout",
     "output_type": "stream",
     "text": [
      "{'ner': 13279.117184519424}\n",
      "{'ner': 13300.241180778254}\n"
     ]
    },
    {
     "name": "stderr",
     "output_type": "stream",
     "text": [
      "C:\\Users\\teddy\\miniconda3\\envs\\NLP_env\\lib\\site-packages\\spacy\\training\\iob_utils.py:141: UserWarning: [W030] Some entities could not be aligned in the text \"Ramakrishna Rao\n",
      "DevOps Consultant - Tech Mahindra ...\" with entities \"[(4721, 4725, 'Graduation Year'), (4675, 4679, 'Gr...\". Use `spacy.training.offsets_to_biluo_tags(nlp.make_doc(text), entities)` to check the alignment. Misaligned entities ('-') will be ignored during training.\n",
      "  warnings.warn(\n"
     ]
    },
    {
     "name": "stdout",
     "output_type": "stream",
     "text": [
      "{'ner': 13380.723871090222}\n"
     ]
    },
    {
     "name": "stderr",
     "output_type": "stream",
     "text": [
      "C:\\Users\\teddy\\miniconda3\\envs\\NLP_env\\lib\\site-packages\\spacy\\training\\iob_utils.py:141: UserWarning: [W030] Some entities could not be aligned in the text \"Keshav Dhawale\n",
      "3 TCS Security guard Access Control...\" with entities \"[(877, 895, 'College Name'), (210, 228, 'Designati...\". Use `spacy.training.offsets_to_biluo_tags(nlp.make_doc(text), entities)` to check the alignment. Misaligned entities ('-') will be ignored during training.\n",
      "  warnings.warn(\n"
     ]
    },
    {
     "name": "stdout",
     "output_type": "stream",
     "text": [
      "{'ner': 13391.721075994794}\n"
     ]
    },
    {
     "name": "stderr",
     "output_type": "stream",
     "text": [
      "C:\\Users\\teddy\\miniconda3\\envs\\NLP_env\\lib\\site-packages\\spacy\\training\\iob_utils.py:141: UserWarning: [W030] Some entities could not be aligned in the text \"Praveen Bhaskar\n",
      "Program Manager (Software Delivery...\" with entities \"[(109, 154, 'Email Address'), (4445, 4449, 'Design...\". Use `spacy.training.offsets_to_biluo_tags(nlp.make_doc(text), entities)` to check the alignment. Misaligned entities ('-') will be ignored during training.\n",
      "  warnings.warn(\n"
     ]
    },
    {
     "name": "stdout",
     "output_type": "stream",
     "text": [
      "{'ner': 13404.299147414422}\n",
      "{'ner': 13421.566123801751}\n"
     ]
    },
    {
     "name": "stderr",
     "output_type": "stream",
     "text": [
      "C:\\Users\\teddy\\miniconda3\\envs\\NLP_env\\lib\\site-packages\\spacy\\training\\iob_utils.py:141: UserWarning: [W030] Some entities could not be aligned in the text \"Gunjan Nayyar\n",
      "Hoshiarpur, Punjab - Email me on Ind...\" with entities \"[(0, 13, 'Name'), (235, 243, 'Years of Experience'...\". Use `spacy.training.offsets_to_biluo_tags(nlp.make_doc(text), entities)` to check the alignment. Misaligned entities ('-') will be ignored during training.\n",
      "  warnings.warn(\n",
      "C:\\Users\\teddy\\miniconda3\\envs\\NLP_env\\lib\\site-packages\\spacy\\training\\iob_utils.py:141: UserWarning: [W030] Some entities could not be aligned in the text \"Rupesh Reddy\n",
      "Technology Consultant - EIT Services ...\" with entities \"[(0, 12, 'Name'), (37, 71, 'Companies worked at'),...\". Use `spacy.training.offsets_to_biluo_tags(nlp.make_doc(text), entities)` to check the alignment. Misaligned entities ('-') will be ignored during training.\n",
      "  warnings.warn(\n"
     ]
    },
    {
     "name": "stdout",
     "output_type": "stream",
     "text": [
      "{'ner': 13429.528702428841}\n"
     ]
    },
    {
     "name": "stderr",
     "output_type": "stream",
     "text": [
      "C:\\Users\\teddy\\miniconda3\\envs\\NLP_env\\lib\\site-packages\\spacy\\training\\iob_utils.py:141: UserWarning: [W030] Some entities could not be aligned in the text \"Puneeth R\n",
      "Escalation Specialist - HiPower Support ...\" with entities \"[(10, 31, 'Designation'), (2182, 2210, 'College Na...\". Use `spacy.training.offsets_to_biluo_tags(nlp.make_doc(text), entities)` to check the alignment. Misaligned entities ('-') will be ignored during training.\n",
      "  warnings.warn(\n"
     ]
    },
    {
     "name": "stdout",
     "output_type": "stream",
     "text": [
      "{'ner': 13440.162412126447}\n"
     ]
    },
    {
     "name": "stderr",
     "output_type": "stream",
     "text": [
      "C:\\Users\\teddy\\miniconda3\\envs\\NLP_env\\lib\\site-packages\\spacy\\training\\iob_utils.py:141: UserWarning: [W030] Some entities could not be aligned in the text \"Kandrapu Reddy\n",
      "Senior Travel Operations (Domestic,...\" with entities \"[(114, 127, 'Location'), (716, 740, 'Designation')...\". Use `spacy.training.offsets_to_biluo_tags(nlp.make_doc(text), entities)` to check the alignment. Misaligned entities ('-') will be ignored during training.\n",
      "  warnings.warn(\n"
     ]
    },
    {
     "name": "stdout",
     "output_type": "stream",
     "text": [
      "{'ner': 13454.266852395904}\n"
     ]
    },
    {
     "name": "stderr",
     "output_type": "stream",
     "text": [
      "C:\\Users\\teddy\\miniconda3\\envs\\NLP_env\\lib\\site-packages\\spacy\\training\\iob_utils.py:141: UserWarning: [W030] Some entities could not be aligned in the text \"Vineeth Vijayan\n",
      "\"Store Executive\" - Orange City Ho...\" with entities \"[(6897, 6934, 'Degree'), (6936, 6972, 'College Nam...\". Use `spacy.training.offsets_to_biluo_tags(nlp.make_doc(text), entities)` to check the alignment. Misaligned entities ('-') will be ignored during training.\n",
      "  warnings.warn(\n"
     ]
    },
    {
     "name": "stdout",
     "output_type": "stream",
     "text": [
      "{'ner': 13466.375312383196}\n"
     ]
    },
    {
     "name": "stderr",
     "output_type": "stream",
     "text": [
      "C:\\Users\\teddy\\miniconda3\\envs\\NLP_env\\lib\\site-packages\\spacy\\training\\iob_utils.py:141: UserWarning: [W030] Some entities could not be aligned in the text \"Rahul Tayade\n",
      "Global Production Support Lead, - Inf...\" with entities \"[(0, 12, 'Name'), (2907, 2937, 'Designation'), (12...\". Use `spacy.training.offsets_to_biluo_tags(nlp.make_doc(text), entities)` to check the alignment. Misaligned entities ('-') will be ignored during training.\n",
      "  warnings.warn(\n",
      "C:\\Users\\teddy\\miniconda3\\envs\\NLP_env\\lib\\site-packages\\spacy\\training\\iob_utils.py:141: UserWarning: [W030] Some entities could not be aligned in the text \"Rahul Tayade\n",
      "Global Production Support Lead, - Inf...\" with entities \"[(2907, 2938, 'Designation')]\". Use `spacy.training.offsets_to_biluo_tags(nlp.make_doc(text), entities)` to check the alignment. Misaligned entities ('-') will be ignored during training.\n",
      "  warnings.warn(\n"
     ]
    },
    {
     "name": "stdout",
     "output_type": "stream",
     "text": [
      "{'ner': 13478.024694735952}\n"
     ]
    },
    {
     "name": "stderr",
     "output_type": "stream",
     "text": [
      "C:\\Users\\teddy\\miniconda3\\envs\\NLP_env\\lib\\site-packages\\spacy\\training\\iob_utils.py:141: UserWarning: [W030] Some entities could not be aligned in the text \"Debasish Dasgupta\n",
      "Trainer-Finacle-Core Banking Sol...\" with entities \"[(5840, 5847, 'Companies worked at'), (93, 98, 'Lo...\". Use `spacy.training.offsets_to_biluo_tags(nlp.make_doc(text), entities)` to check the alignment. Misaligned entities ('-') will be ignored during training.\n",
      "  warnings.warn(\n"
     ]
    },
    {
     "name": "stdout",
     "output_type": "stream",
     "text": [
      "{'ner': 13489.403839379283}\n"
     ]
    },
    {
     "name": "stderr",
     "output_type": "stream",
     "text": [
      "C:\\Users\\teddy\\miniconda3\\envs\\NLP_env\\lib\\site-packages\\spacy\\training\\iob_utils.py:141: UserWarning: [W030] Some entities could not be aligned in the text \"Suresh Kanagala\n",
      "Architecture SharePoint/Office 365...\" with entities \"[(925, 945, 'College Name'), (962, 1095, 'Skills')...\". Use `spacy.training.offsets_to_biluo_tags(nlp.make_doc(text), entities)` to check the alignment. Misaligned entities ('-') will be ignored during training.\n",
      "  warnings.warn(\n"
     ]
    },
    {
     "name": "stdout",
     "output_type": "stream",
     "text": [
      "{'ner': 13513.95417743933}\n"
     ]
    },
    {
     "name": "stderr",
     "output_type": "stream",
     "text": [
      "C:\\Users\\teddy\\miniconda3\\envs\\NLP_env\\lib\\site-packages\\spacy\\training\\iob_utils.py:141: UserWarning: [W030] Some entities could not be aligned in the text \"Jaspreet Kaur\n",
      "Oceanic Consultants as a HR Executiv...\" with entities \"[(0, 13, 'Name'), (462, 481, 'Designation'), (5670...\". Use `spacy.training.offsets_to_biluo_tags(nlp.make_doc(text), entities)` to check the alignment. Misaligned entities ('-') will be ignored during training.\n",
      "  warnings.warn(\n"
     ]
    },
    {
     "name": "stdout",
     "output_type": "stream",
     "text": [
      "{'ner': 13528.27950276267}\n",
      "{'ner': 13552.505338884315}\n",
      "{'ner': 13561.275541994148}\n"
     ]
    },
    {
     "name": "stderr",
     "output_type": "stream",
     "text": [
      "C:\\Users\\teddy\\miniconda3\\envs\\NLP_env\\lib\\site-packages\\spacy\\training\\iob_utils.py:141: UserWarning: [W030] Some entities could not be aligned in the text \"Ashish Indoriya\n",
      "Sr. Systems Engineer at Infosys Li...\" with entities \"[(3501, 3557, 'Degree'), (40, 55, 'Companies worke...\". Use `spacy.training.offsets_to_biluo_tags(nlp.make_doc(text), entities)` to check the alignment. Misaligned entities ('-') will be ignored during training.\n",
      "  warnings.warn(\n",
      "C:\\Users\\teddy\\miniconda3\\envs\\NLP_env\\lib\\site-packages\\spacy\\training\\iob_utils.py:141: UserWarning: [W030] Some entities could not be aligned in the text \"Dilliraja Baskaran\n",
      "Tamil Nadu - Email me on Indeed...\" with entities \"[(270, 273, 'Degree'), (314, 349, 'Skills'), (130,...\". Use `spacy.training.offsets_to_biluo_tags(nlp.make_doc(text), entities)` to check the alignment. Misaligned entities ('-') will be ignored during training.\n",
      "  warnings.warn(\n"
     ]
    },
    {
     "name": "stdout",
     "output_type": "stream",
     "text": [
      "{'ner': 13569.740375930767}\n",
      "{'ner': 13587.813580178403}\n"
     ]
    },
    {
     "name": "stderr",
     "output_type": "stream",
     "text": [
      "C:\\Users\\teddy\\miniconda3\\envs\\NLP_env\\lib\\site-packages\\spacy\\training\\iob_utils.py:141: UserWarning: [W030] Some entities could not be aligned in the text \"Jacob Philip\n",
      "Kottayam, Kerala - Email me on Indeed...\" with entities \"[(0, 12, 'Name'), (52, 94, 'Email Address'), (1305...\". Use `spacy.training.offsets_to_biluo_tags(nlp.make_doc(text), entities)` to check the alignment. Misaligned entities ('-') will be ignored during training.\n",
      "  warnings.warn(\n",
      "C:\\Users\\teddy\\miniconda3\\envs\\NLP_env\\lib\\site-packages\\spacy\\training\\iob_utils.py:141: UserWarning: [W030] Some entities could not be aligned in the text \"Yogesh Ghatole\n",
      "Engineer / Electrical Supervisor, S...\" with entities \"[(2912, 3288, 'Skills'), (2643, 2676, 'Degree'), (...\". Use `spacy.training.offsets_to_biluo_tags(nlp.make_doc(text), entities)` to check the alignment. Misaligned entities ('-') will be ignored during training.\n",
      "  warnings.warn(\n"
     ]
    },
    {
     "name": "stdout",
     "output_type": "stream",
     "text": [
      "{'ner': 13601.597281304337}\n",
      "{'ner': 13611.949610752785}\n"
     ]
    },
    {
     "name": "stderr",
     "output_type": "stream",
     "text": [
      "C:\\Users\\teddy\\miniconda3\\envs\\NLP_env\\lib\\site-packages\\spacy\\training\\iob_utils.py:141: UserWarning: [W030] Some entities could not be aligned in the text \"Ajay Elango\n",
      "Software Engineer\n",
      "\n",
      "Bangalore City, Kar...\" with entities \"[(6845, 6875, 'College Name'), (6642, 6696, 'Degre...\". Use `spacy.training.offsets_to_biluo_tags(nlp.make_doc(text), entities)` to check the alignment. Misaligned entities ('-') will be ignored during training.\n",
      "  warnings.warn(\n"
     ]
    },
    {
     "name": "stdout",
     "output_type": "stream",
     "text": [
      "{'ner': 13627.75278724201}\n",
      "{'ner': 13641.394372444081}\n"
     ]
    },
    {
     "name": "stderr",
     "output_type": "stream",
     "text": [
      "C:\\Users\\teddy\\miniconda3\\envs\\NLP_env\\lib\\site-packages\\spacy\\training\\iob_utils.py:141: UserWarning: [W030] Some entities could not be aligned in the text \"Shaik Tazuddin\n",
      "Senior Process Executive - STAR Ind...\" with entities \"[(2877, 3030, 'Skills'), (97, 141, 'Email Address'...\". Use `spacy.training.offsets_to_biluo_tags(nlp.make_doc(text), entities)` to check the alignment. Misaligned entities ('-') will be ignored during training.\n",
      "  warnings.warn(\n",
      "C:\\Users\\teddy\\miniconda3\\envs\\NLP_env\\lib\\site-packages\\spacy\\training\\iob_utils.py:141: UserWarning: [W030] Some entities could not be aligned in the text \"Angad Waghmare\n",
      "Pune, Maharashtra - Email me on Ind...\" with entities \"[(3110, 3846, 'Skills'), (55, 99, 'Email Address')...\". Use `spacy.training.offsets_to_biluo_tags(nlp.make_doc(text), entities)` to check the alignment. Misaligned entities ('-') will be ignored during training.\n",
      "  warnings.warn(\n"
     ]
    },
    {
     "name": "stdout",
     "output_type": "stream",
     "text": [
      "{'ner': 13650.816228834548}\n",
      "{'ner': 13654.529950722283}\n",
      "{'ner': 13686.773000128413}\n"
     ]
    },
    {
     "name": "stderr",
     "output_type": "stream",
     "text": [
      "C:\\Users\\teddy\\miniconda3\\envs\\NLP_env\\lib\\site-packages\\spacy\\training\\iob_utils.py:141: UserWarning: [W030] Some entities could not be aligned in the text \"Sohan Dhakad\n",
      "Shivpuri, Madhya Pradesh - Email me o...\" with entities \"[(0, 12, 'Name'), (793, 810, 'College Name'), (60,...\". Use `spacy.training.offsets_to_biluo_tags(nlp.make_doc(text), entities)` to check the alignment. Misaligned entities ('-') will be ignored during training.\n",
      "  warnings.warn(\n",
      "C:\\Users\\teddy\\miniconda3\\envs\\NLP_env\\lib\\site-packages\\spacy\\training\\iob_utils.py:141: UserWarning: [W030] Some entities could not be aligned in the text \"Madhava Konjeti\n",
      "HR Executive\n",
      "\n",
      "Bengaluru, Karnataka...\" with entities \"[(1242, 1246, 'Graduation Year'), (73, 119, 'Email...\". Use `spacy.training.offsets_to_biluo_tags(nlp.make_doc(text), entities)` to check the alignment. Misaligned entities ('-') will be ignored during training.\n",
      "  warnings.warn(\n"
     ]
    },
    {
     "name": "stdout",
     "output_type": "stream",
     "text": [
      "{'ner': 13702.997473088766}\n",
      "{'ner': 13713.832359277489}\n",
      "{'ner': 13724.606195563261}\n"
     ]
    },
    {
     "name": "stderr",
     "output_type": "stream",
     "text": [
      "C:\\Users\\teddy\\miniconda3\\envs\\NLP_env\\lib\\site-packages\\spacy\\training\\iob_utils.py:141: UserWarning: [W030] Some entities could not be aligned in the text \"Arpit Jain\n",
      "Quality Analyst - ThoughtWorks Technolo...\" with entities \"[(2042, 2067, 'Companies worked at'), (616, 679, '...\". Use `spacy.training.offsets_to_biluo_tags(nlp.make_doc(text), entities)` to check the alignment. Misaligned entities ('-') will be ignored during training.\n",
      "  warnings.warn(\n",
      "C:\\Users\\teddy\\miniconda3\\envs\\NLP_env\\lib\\site-packages\\spacy\\training\\iob_utils.py:141: UserWarning: [W030] Some entities could not be aligned in the text \"Palani S\n",
      "Senior Technology Support Executive at In...\" with entities \"[(515, 550, 'Designation'), (3546, 3559, 'College ...\". Use `spacy.training.offsets_to_biluo_tags(nlp.make_doc(text), entities)` to check the alignment. Misaligned entities ('-') will be ignored during training.\n",
      "  warnings.warn(\n"
     ]
    },
    {
     "name": "stdout",
     "output_type": "stream",
     "text": [
      "{'ner': 13731.551936582246}\n",
      "{'ner': 13777.147586306419}\n",
      "{'ner': 13797.062862004137}\n"
     ]
    },
    {
     "name": "stderr",
     "output_type": "stream",
     "text": [
      "C:\\Users\\teddy\\miniconda3\\envs\\NLP_env\\lib\\site-packages\\spacy\\training\\iob_utils.py:141: UserWarning: [W030] Some entities could not be aligned in the text \"Mayank Shukla\n",
      "Infosys group as a Test Analyst - In...\" with entities \"[(126, 169, 'Email Address'), (0, 13, 'Name'), (83...\". Use `spacy.training.offsets_to_biluo_tags(nlp.make_doc(text), entities)` to check the alignment. Misaligned entities ('-') will be ignored during training.\n",
      "  warnings.warn(\n"
     ]
    },
    {
     "name": "stdout",
     "output_type": "stream",
     "text": [
      "{'ner': 13830.172458275205}\n"
     ]
    },
    {
     "name": "stderr",
     "output_type": "stream",
     "text": [
      "C:\\Users\\teddy\\miniconda3\\envs\\NLP_env\\lib\\site-packages\\spacy\\training\\iob_utils.py:141: UserWarning: [W030] Some entities could not be aligned in the text \"Shraddha Achar\n",
      "Mathura, Uttar Pradesh - Email me o...\" with entities \"[(723, 797, 'Skills'), (143, 151, 'Years of Experi...\". Use `spacy.training.offsets_to_biluo_tags(nlp.make_doc(text), entities)` to check the alignment. Misaligned entities ('-') will be ignored during training.\n",
      "  warnings.warn(\n"
     ]
    },
    {
     "name": "stdout",
     "output_type": "stream",
     "text": [
      "{'ner': 13841.212195839735}\n"
     ]
    },
    {
     "name": "stderr",
     "output_type": "stream",
     "text": [
      "C:\\Users\\teddy\\miniconda3\\envs\\NLP_env\\lib\\site-packages\\spacy\\training\\iob_utils.py:141: UserWarning: [W030] Some entities could not be aligned in the text \"Arpit Godha\n",
      "Senior Process Executive\n",
      "\n",
      "Jaipur, Raja...\" with entities \"[(312, 336, 'Designation'), (3144, 3495, 'Skills')...\". Use `spacy.training.offsets_to_biluo_tags(nlp.make_doc(text), entities)` to check the alignment. Misaligned entities ('-') will be ignored during training.\n",
      "  warnings.warn(\n"
     ]
    },
    {
     "name": "stdout",
     "output_type": "stream",
     "text": [
      "{'ner': 13848.096995185839}\n"
     ]
    },
    {
     "name": "stderr",
     "output_type": "stream",
     "text": [
      "C:\\Users\\teddy\\miniconda3\\envs\\NLP_env\\lib\\site-packages\\spacy\\training\\iob_utils.py:141: UserWarning: [W030] Some entities could not be aligned in the text \"Jatin Arora\n",
      "SDET Automation Engineer, Infosys - CR...\" with entities \"[(82, 88, 'Location'), (887, 894, 'Companies worke...\". Use `spacy.training.offsets_to_biluo_tags(nlp.make_doc(text), entities)` to check the alignment. Misaligned entities ('-') will be ignored during training.\n",
      "  warnings.warn(\n"
     ]
    },
    {
     "name": "stdout",
     "output_type": "stream",
     "text": [
      "{'ner': 13859.938918946904}\n"
     ]
    },
    {
     "name": "stderr",
     "output_type": "stream",
     "text": [
      "C:\\Users\\teddy\\miniconda3\\envs\\NLP_env\\lib\\site-packages\\spacy\\training\\iob_utils.py:141: UserWarning: [W030] Some entities could not be aligned in the text \"Karthik Gururaj\n",
      "Technical Lead at Infosys Ltd. - P...\" with entities \"[(2814, 2839, 'Degree'), (113, 158, 'Email Address...\". Use `spacy.training.offsets_to_biluo_tags(nlp.make_doc(text), entities)` to check the alignment. Misaligned entities ('-') will be ignored during training.\n",
      "  warnings.warn(\n"
     ]
    },
    {
     "name": "stdout",
     "output_type": "stream",
     "text": [
      "{'ner': 13878.592675239348}\n",
      "{'ner': 13898.364116146671}\n",
      "{'ner': 13921.37411250005}\n",
      "{'ner': 13932.458057777421}\n"
     ]
    },
    {
     "name": "stderr",
     "output_type": "stream",
     "text": [
      "C:\\Users\\teddy\\miniconda3\\envs\\NLP_env\\lib\\site-packages\\spacy\\training\\iob_utils.py:141: UserWarning: [W030] Some entities could not be aligned in the text \"Puran Mal\n",
      "Jaipur, Rajasthan - Email me on Indeed: ...\" with entities \"[(108, 123, 'Designation'), (10, 16, 'Location'), ...\". Use `spacy.training.offsets_to_biluo_tags(nlp.make_doc(text), entities)` to check the alignment. Misaligned entities ('-') will be ignored during training.\n",
      "  warnings.warn(\n",
      "C:\\Users\\teddy\\miniconda3\\envs\\NLP_env\\lib\\site-packages\\spacy\\training\\iob_utils.py:141: UserWarning: [W030] Some entities could not be aligned in the text \"Sridevi H\n",
      "Bangalore, Karnataka - Email me on Indee...\" with entities \"[(1978, 1985, 'Companies worked at'), (298, 305, '...\". Use `spacy.training.offsets_to_biluo_tags(nlp.make_doc(text), entities)` to check the alignment. Misaligned entities ('-') will be ignored during training.\n",
      "  warnings.warn(\n"
     ]
    },
    {
     "name": "stdout",
     "output_type": "stream",
     "text": [
      "{'ner': 13955.424688858377}\n"
     ]
    },
    {
     "name": "stderr",
     "output_type": "stream",
     "text": [
      "C:\\Users\\teddy\\miniconda3\\envs\\NLP_env\\lib\\site-packages\\spacy\\training\\iob_utils.py:141: UserWarning: [W030] Some entities could not be aligned in the text \"Raktim Podder\n",
      "6+ Exp in banking operations and cre...\" with entities \"[(66, 70, 'Location'), (0, 13, 'Name'), (285, 288,...\". Use `spacy.training.offsets_to_biluo_tags(nlp.make_doc(text), entities)` to check the alignment. Misaligned entities ('-') will be ignored during training.\n",
      "  warnings.warn(\n"
     ]
    },
    {
     "name": "stdout",
     "output_type": "stream",
     "text": [
      "{'ner': 13970.44010147202}\n",
      "{'ner': 13987.651726205235}\n"
     ]
    },
    {
     "name": "stderr",
     "output_type": "stream",
     "text": [
      "C:\\Users\\teddy\\miniconda3\\envs\\NLP_env\\lib\\site-packages\\spacy\\training\\iob_utils.py:141: UserWarning: [W030] Some entities could not be aligned in the text \"Pavithra M\n",
      "\"Infosys\" internship\n",
      "\n",
      "Bengaluru, Karnat...\" with entities \"[(12, 19, 'Companies worked at'), (432, 442, 'Desi...\". Use `spacy.training.offsets_to_biluo_tags(nlp.make_doc(text), entities)` to check the alignment. Misaligned entities ('-') will be ignored during training.\n",
      "  warnings.warn(\n"
     ]
    },
    {
     "name": "stdout",
     "output_type": "stream",
     "text": [
      "{'ner': 14006.88847249313}\n",
      "{'ner': 14027.465210074231}\n",
      "{'ner': 14037.282566792315}\n"
     ]
    },
    {
     "name": "stderr",
     "output_type": "stream",
     "text": [
      "C:\\Users\\teddy\\miniconda3\\envs\\NLP_env\\lib\\site-packages\\spacy\\training\\iob_utils.py:141: UserWarning: [W030] Some entities could not be aligned in the text \"Chaban kumar Debbarma\n",
      "Tripura - Email me on Indeed...\" with entities \"[(139, 146, 'Location'), (22, 29, 'Location'), (25...\". Use `spacy.training.offsets_to_biluo_tags(nlp.make_doc(text), entities)` to check the alignment. Misaligned entities ('-') will be ignored during training.\n",
      "  warnings.warn(\n"
     ]
    },
    {
     "name": "stdout",
     "output_type": "stream",
     "text": [
      "{'ner': 14049.84095971586}\n",
      "{'ner': 14073.358527217353}\n",
      "{'ner': 14101.890331789557}\n"
     ]
    },
    {
     "name": "stderr",
     "output_type": "stream",
     "text": [
      "C:\\Users\\teddy\\miniconda3\\envs\\NLP_env\\lib\\site-packages\\spacy\\training\\iob_utils.py:141: UserWarning: [W030] Some entities could not be aligned in the text \"Nitin Verma\n",
      "Assisting Microsoft Partners - Exchang...\" with entities \"[(1277, 1281, 'Location'), (1258, 1273, 'Companies...\". Use `spacy.training.offsets_to_biluo_tags(nlp.make_doc(text), entities)` to check the alignment. Misaligned entities ('-') will be ignored during training.\n",
      "  warnings.warn(\n"
     ]
    },
    {
     "name": "stdout",
     "output_type": "stream",
     "text": [
      "{'ner': 14119.204278263043}\n",
      "{'ner': 14245.548673134092}\n",
      "{'ner': 14312.632046688146}\n",
      "{'ner': 14539.231991458482}\n"
     ]
    },
    {
     "name": "stderr",
     "output_type": "stream",
     "text": [
      "C:\\Users\\teddy\\miniconda3\\envs\\NLP_env\\lib\\site-packages\\spacy\\training\\iob_utils.py:141: UserWarning: [W030] Some entities could not be aligned in the text \"Pankaj Bhosale\n",
      "Microsoft SQL-SERVER\n",
      "\n",
      "Dhule, Mahara...\" with entities \"[(1292, 1296, 'Graduation Year'), (1238, 1241, 'De...\". Use `spacy.training.offsets_to_biluo_tags(nlp.make_doc(text), entities)` to check the alignment. Misaligned entities ('-') will be ignored during training.\n",
      "  warnings.warn(\n"
     ]
    },
    {
     "name": "stdout",
     "output_type": "stream",
     "text": [
      "{'ner': 14573.935470783357}\n",
      "{'ner': 14585.701674371567}\n"
     ]
    },
    {
     "name": "stderr",
     "output_type": "stream",
     "text": [
      "C:\\Users\\teddy\\miniconda3\\envs\\NLP_env\\lib\\site-packages\\spacy\\training\\iob_utils.py:141: UserWarning: [W030] Some entities could not be aligned in the text \"Vinay Singhal\n",
      "New Delhi, Delhi - Email me on Indee...\" with entities \"[(0, 13, 'Name'), (53, 96, 'Email Address'), (14, ...\". Use `spacy.training.offsets_to_biluo_tags(nlp.make_doc(text), entities)` to check the alignment. Misaligned entities ('-') will be ignored during training.\n",
      "  warnings.warn(\n",
      "C:\\Users\\teddy\\miniconda3\\envs\\NLP_env\\lib\\site-packages\\spacy\\training\\iob_utils.py:141: UserWarning: [W030] Some entities could not be aligned in the text \"Pawan Nag\n",
      "Microsoft Certified System Engineer\n",
      "\n",
      "Del...\" with entities \"[(240, 250, 'Degree'), (380, 398, 'Skills'), (140,...\". Use `spacy.training.offsets_to_biluo_tags(nlp.make_doc(text), entities)` to check the alignment. Misaligned entities ('-') will be ignored during training.\n",
      "  warnings.warn(\n"
     ]
    },
    {
     "name": "stdout",
     "output_type": "stream",
     "text": [
      "{'ner': 14612.763495367057}\n",
      "{'ner': 14633.384966926365}\n",
      "{'ner': 14643.251453182249}\n",
      "{'ner': 14688.550974759302}\n"
     ]
    },
    {
     "name": "stderr",
     "output_type": "stream",
     "text": [
      "C:\\Users\\teddy\\miniconda3\\envs\\NLP_env\\lib\\site-packages\\spacy\\training\\iob_utils.py:141: UserWarning: [W030] Some entities could not be aligned in the text \"Suman Biswas\n",
      "SAP UI5 Lead, Native HANA Developer -...\" with entities \"[(13, 48, 'Designation'), (4333, 4338, 'Companies ...\". Use `spacy.training.offsets_to_biluo_tags(nlp.make_doc(text), entities)` to check the alignment. Misaligned entities ('-') will be ignored during training.\n",
      "  warnings.warn(\n"
     ]
    },
    {
     "name": "stdout",
     "output_type": "stream",
     "text": [
      "{'ner': 14740.629018910302}\n",
      "{'ner': 14752.284189039468}\n",
      "{'ner': 14774.376527477087}\n",
      "{'ner': 14889.208926112617}\n",
      "{'ner': 14999.535829515422}\n",
      "{'ner': 15009.703777383915}\n",
      "Starting iteration\n",
      "{'ner': 42.4994995218603}\n",
      "{'ner': 68.13650722598642}\n",
      "{'ner': 102.08242216586395}\n",
      "{'ner': 133.56508176261002}\n",
      "{'ner': 164.73006457325994}\n",
      "{'ner': 200.79300572694285}\n",
      "{'ner': 214.38626327587912}\n",
      "{'ner': 239.83725375194257}\n",
      "{'ner': 271.9046311217207}\n",
      "{'ner': 316.1085881350536}\n",
      "{'ner': 345.9315027209904}\n",
      "{'ner': 365.5459504543291}\n",
      "{'ner': 408.61710293767504}\n",
      "{'ner': 432.4513975153554}\n",
      "{'ner': 450.6938646595103}\n",
      "{'ner': 534.7737117009697}\n",
      "{'ner': 551.0311847027501}\n",
      "{'ner': 626.3628849160036}\n",
      "{'ner': 667.1689847057828}\n",
      "{'ner': 702.8586912076489}\n",
      "{'ner': 769.0362997975672}\n",
      "{'ner': 792.4235014426295}\n",
      "{'ner': 822.7007328203754}\n",
      "{'ner': 845.9804209926506}\n",
      "{'ner': 863.7647029843265}\n",
      "{'ner': 896.3138539143264}\n",
      "{'ner': 915.3767310267635}\n",
      "{'ner': 944.6232549832823}\n",
      "{'ner': 969.1102173451019}\n",
      "{'ner': 1013.0932219706605}\n",
      "{'ner': 1041.8041937376124}\n",
      "{'ner': 1137.1093388986617}\n",
      "{'ner': 1166.6430047228844}\n",
      "{'ner': 1309.2485342211933}\n",
      "{'ner': 1372.3255007574828}\n",
      "{'ner': 1451.1509500751765}\n",
      "{'ner': 1493.0236916673805}\n",
      "{'ner': 1526.160908978305}\n",
      "{'ner': 1555.460986512935}\n",
      "{'ner': 1582.0362056200865}\n",
      "{'ner': 1638.1040966642795}\n",
      "{'ner': 1657.4269364695538}\n",
      "{'ner': 1704.7450490663068}\n",
      "{'ner': 1733.1573410597593}\n",
      "{'ner': 1792.2801173215703}\n",
      "{'ner': 1809.9996220305748}\n",
      "{'ner': 1831.1780923150282}\n",
      "{'ner': 1897.8327366664153}\n",
      "{'ner': 1923.8524197830657}\n",
      "{'ner': 1963.839344675357}\n",
      "{'ner': 1990.864755225543}\n",
      "{'ner': 2014.9545958433146}\n",
      "{'ner': 2043.6951088732935}\n",
      "{'ner': 2066.436764734743}\n",
      "{'ner': 2101.3109705619904}\n",
      "{'ner': 2151.3544704729325}\n",
      "{'ner': 2170.644138241003}\n",
      "{'ner': 2219.0885371928293}\n",
      "{'ner': 2236.981987846049}\n",
      "{'ner': 2368.622833381536}\n",
      "{'ner': 2427.1119743129357}\n",
      "{'ner': 2453.8036622751624}\n",
      "{'ner': 2466.2625330166097}\n",
      "{'ner': 2498.025837727056}\n",
      "{'ner': 2534.2223607683386}\n",
      "{'ner': 2575.8857234577713}\n",
      "{'ner': 2604.925442601401}\n",
      "{'ner': 2643.6989632779805}\n",
      "{'ner': 2688.568586571091}\n",
      "{'ner': 2715.9279520400523}\n",
      "{'ner': 2756.4563938282517}\n",
      "{'ner': 2796.7609271471592}\n",
      "{'ner': 2822.1641948790493}\n",
      "{'ner': 2842.4757077408412}\n",
      "{'ner': 2870.232050184634}\n",
      "{'ner': 2880.326166454304}\n",
      "{'ner': 2897.4769027578063}\n",
      "{'ner': 2936.135102609322}\n",
      "{'ner': 2966.7709824943904}\n",
      "{'ner': 3011.6591662309265}\n",
      "{'ner': 3041.6493016358518}\n",
      "{'ner': 3074.196426231224}\n",
      "{'ner': 3133.8756004957095}\n",
      "{'ner': 3144.299727025445}\n",
      "{'ner': 3152.800163761449}\n",
      "{'ner': 3173.6060369294264}\n",
      "{'ner': 3195.019330368374}\n",
      "{'ner': 3210.278425587221}\n",
      "{'ner': 3226.6472074438425}\n",
      "{'ner': 3234.3430352864025}\n",
      "{'ner': 3249.1603702428984}\n",
      "{'ner': 3266.5914235200567}\n",
      "{'ner': 3278.383041189341}\n",
      "{'ner': 3334.9312301257137}\n",
      "{'ner': 3341.961021377291}\n",
      "{'ner': 3349.9521739641086}\n",
      "{'ner': 3360.585953279579}\n",
      "{'ner': 3369.4804080221243}\n",
      "{'ner': 3452.4475456749956}\n",
      "{'ner': 3575.3569119695444}\n",
      "{'ner': 3578.577354590295}\n",
      "{'ner': 3588.8881274138}\n",
      "{'ner': 3592.263602954425}\n",
      "{'ner': 3609.6286825566763}\n",
      "{'ner': 3616.823970204968}\n",
      "{'ner': 3634.8897153991284}\n",
      "{'ner': 3649.1290223343317}\n",
      "{'ner': 3668.4862183823425}\n",
      "{'ner': 3681.018136317647}\n",
      "{'ner': 3688.5000253930475}\n",
      "{'ner': 3730.3202697957377}\n",
      "{'ner': 3771.0799441366644}\n",
      "{'ner': 3779.5736369288916}\n",
      "{'ner': 3790.120143237208}\n",
      "{'ner': 3808.1659481926226}\n",
      "{'ner': 3822.178354578901}\n",
      "{'ner': 3846.7516906824653}\n",
      "{'ner': 3846.7516906824653}\n",
      "{'ner': 3865.363930250831}\n",
      "{'ner': 3876.730545618211}\n",
      "{'ner': 3882.2376562569684}\n",
      "{'ner': 3897.2690974871543}\n",
      "{'ner': 3906.135898462763}\n",
      "{'ner': 3927.3594869750323}\n",
      "{'ner': 3936.9233409561994}\n",
      "{'ner': 3949.1094877823407}\n",
      "{'ner': 3960.748281881458}\n",
      "{'ner': 3971.4694076785577}\n",
      "{'ner': 3982.472344675829}\n",
      "{'ner': 3990.7231260580756}\n",
      "{'ner': 4007.188133953512}\n",
      "{'ner': 4017.448726298613}\n",
      "{'ner': 4027.8273357634735}\n",
      "{'ner': 4037.1209366205967}\n",
      "{'ner': 4061.9146335569476}\n",
      "{'ner': 4067.173719201122}\n",
      "{'ner': 4085.9657335789357}\n",
      "{'ner': 4112.144099001384}\n",
      "{'ner': 4120.405639613906}\n",
      "{'ner': 4131.752159397261}\n",
      "{'ner': 4147.689884067429}\n",
      "{'ner': 4154.163726384882}\n",
      "{'ner': 4164.938969517813}\n",
      "{'ner': 4177.422104896524}\n",
      "{'ner': 4186.884435111966}\n",
      "{'ner': 4203.172761741458}\n",
      "{'ner': 4216.057909168441}\n",
      "{'ner': 4242.728988608542}\n",
      "{'ner': 4256.62877132032}\n",
      "{'ner': 4280.283462765338}\n",
      "{'ner': 4288.783495958416}\n",
      "{'ner': 4296.262987363307}\n",
      "{'ner': 4310.852448647178}\n",
      "{'ner': 4318.33246888076}\n",
      "{'ner': 4329.095271474473}\n",
      "{'ner': 4342.020217327391}\n",
      "{'ner': 4353.9545232369}\n",
      "{'ner': 4361.618333727759}\n",
      "{'ner': 4365.521748553066}\n",
      "{'ner': 4390.479864052562}\n",
      "{'ner': 4405.324804347411}\n",
      "{'ner': 4414.707973847544}\n",
      "{'ner': 4426.511559123235}\n",
      "{'ner': 4437.078372951048}\n",
      "{'ner': 4506.763348391662}\n",
      "{'ner': 4540.048828404188}\n",
      "{'ner': 4562.105914301759}\n",
      "{'ner': 4567.283917021574}\n",
      "{'ner': 4571.928546766199}\n",
      "{'ner': 4582.943909039657}\n",
      "{'ner': 4593.682169060607}\n",
      "{'ner': 4609.506421800102}\n",
      "{'ner': 4624.681088239573}\n",
      "{'ner': 4632.401928500471}\n",
      "{'ner': 4650.640824612516}\n",
      "{'ner': 4662.566123013029}\n",
      "{'ner': 4677.422073234858}\n",
      "{'ner': 4692.303151718959}\n",
      "{'ner': 4706.999919632814}\n",
      "{'ner': 4715.564583954914}\n",
      "{'ner': 4727.30752872132}\n",
      "{'ner': 4747.577791361162}\n",
      "{'ner': 4761.287717379283}\n",
      "{'ner': 4767.232417552643}\n",
      "{'ner': 4791.917451600819}\n",
      "{'ner': 4816.353182181362}\n",
      "{'ner': 4847.244346034557}\n",
      "{'ner': 4870.844628003267}\n",
      "{'ner': 4881.840286506097}\n",
      "{'ner': 4895.046136085106}\n",
      "{'ner': 4906.939311011696}\n",
      "{'ner': 4926.40344951588}\n",
      "{'ner': 4957.252802234889}\n",
      "{'ner': 5001.779706282297}\n",
      "{'ner': 5007.0776313355755}\n",
      "{'ner': 5032.355115847056}\n",
      "{'ner': 5038.209235202191}\n",
      "{'ner': 5078.996717755923}\n",
      "{'ner': 5087.570015242372}\n",
      "Starting iteration\n",
      "{'ner': 27.51130428954401}\n",
      "{'ner': 44.80319066605615}\n",
      "{'ner': 76.92992687613686}\n",
      "{'ner': 99.16068171568001}\n",
      "{'ner': 130.52491752967802}\n",
      "{'ner': 151.4304943088651}\n",
      "{'ner': 162.65969095753695}\n",
      "{'ner': 187.22553963986678}\n",
      "{'ner': 225.69468478973243}\n",
      "{'ner': 274.5245835142977}\n",
      "{'ner': 305.42491988005344}\n",
      "{'ner': 321.3036746181508}\n",
      "{'ner': 367.94174682510993}\n",
      "{'ner': 389.07601502537}\n",
      "{'ner': 404.9893008044719}\n",
      "{'ner': 431.1715730841071}\n",
      "{'ner': 443.34673146117916}\n",
      "{'ner': 467.3276551305912}\n",
      "{'ner': 500.4395228626693}\n",
      "{'ner': 525.1880547554483}\n",
      "{'ner': 570.441112400204}\n",
      "{'ner': 594.8019355568238}\n",
      "{'ner': 620.7375764421511}\n",
      "{'ner': 634.6959606160113}\n",
      "{'ner': 647.6022982995828}\n",
      "{'ner': 670.4728057485307}\n",
      "{'ner': 685.2728633486136}\n",
      "{'ner': 712.1646060106409}\n",
      "{'ner': 735.5246086521674}\n",
      "{'ner': 769.7599595069856}\n",
      "{'ner': 807.1467309169095}\n",
      "{'ner': 890.8215506211785}\n",
      "{'ner': 915.3579894518308}\n",
      "{'ner': 1038.442011539408}\n",
      "{'ner': 1082.7659685902456}\n",
      "{'ner': 1112.2622552982132}\n",
      "{'ner': 1130.3490087477046}\n",
      "{'ner': 1162.843919914748}\n",
      "{'ner': 1181.798619156086}\n",
      "{'ner': 1205.094029224689}\n",
      "{'ner': 1262.6924658135642}\n",
      "{'ner': 1276.7151035143695}\n",
      "{'ner': 1318.8858770741901}\n",
      "{'ner': 1343.021452464222}\n",
      "{'ner': 1389.172935543335}\n",
      "{'ner': 1400.8598409438587}\n",
      "{'ner': 1419.9639863911284}\n",
      "{'ner': 1459.3813038442345}\n",
      "{'ner': 1483.095659061641}\n",
      "{'ner': 1516.6342337515312}\n",
      "{'ner': 1548.9121222485924}\n",
      "{'ner': 1558.3785962875909}\n",
      "{'ner': 1572.9126275446413}\n",
      "{'ner': 1586.1167522733567}\n",
      "{'ner': 1615.1401926078936}\n",
      "{'ner': 1656.7563302153403}\n",
      "{'ner': 1675.9110048528535}\n",
      "{'ner': 1716.8536467681631}\n",
      "{'ner': 1731.0965553738934}\n",
      "{'ner': 1855.715712287908}\n",
      "{'ner': 1911.9325174516234}\n",
      "{'ner': 1937.178327842725}\n",
      "{'ner': 1946.009984348818}\n",
      "{'ner': 1960.352057623858}\n",
      "{'ner': 1987.60188924934}\n",
      "{'ner': 2019.8607356970983}\n",
      "{'ner': 2043.4738982569972}\n",
      "{'ner': 2078.5113265928985}\n",
      "{'ner': 2110.224152785896}\n",
      "{'ner': 2125.6887227241787}\n",
      "{'ner': 2150.2352147375714}\n",
      "{'ner': 2189.7617107415163}\n",
      "{'ner': 2209.7225522260587}\n",
      "{'ner': 2218.94079657411}\n",
      "{'ner': 2241.5664293988357}\n",
      "{'ner': 2250.1730981642095}\n",
      "{'ner': 2261.52618975204}\n",
      "{'ner': 2289.400902684674}\n",
      "{'ner': 2313.643437109633}\n",
      "{'ner': 2349.1996471694256}\n",
      "{'ner': 2371.2782279402336}\n",
      "{'ner': 2397.5401091943704}\n",
      "{'ner': 2439.742741624642}\n",
      "{'ner': 2451.434117080688}\n",
      "{'ner': 2456.642282479032}\n",
      "{'ner': 2473.1251490229442}\n",
      "{'ner': 2486.349409170355}\n",
      "{'ner': 2501.3395307406327}\n",
      "{'ner': 2527.5064518617455}\n",
      "{'ner': 2533.678193441585}\n",
      "{'ner': 2542.8312545089825}\n",
      "{'ner': 2560.4188320016033}\n",
      "{'ner': 2572.2876832156508}\n",
      "{'ner': 2621.6394507512196}\n",
      "{'ner': 2627.7581170077738}\n",
      "{'ner': 2631.6922525826917}\n",
      "{'ner': 2640.1582431814923}\n",
      "{'ner': 2648.0609093691105}\n",
      "{'ner': 2660.822199326826}\n",
      "{'ner': 2686.343644282637}\n",
      "{'ner': 2688.9053621827065}\n",
      "{'ner': 2698.9757902514075}\n",
      "{'ner': 2701.879903099865}\n",
      "{'ner': 2718.569772192316}\n",
      "{'ner': 2722.5741044313227}\n",
      "{'ner': 2741.0146837907587}\n",
      "{'ner': 2752.624374027151}\n",
      "{'ner': 2761.3624952801824}\n",
      "{'ner': 2767.0618889428847}\n",
      "{'ner': 2770.276279867318}\n",
      "{'ner': 2779.248934429524}\n",
      "{'ner': 2796.5673438484832}\n",
      "{'ner': 2803.9457312177797}\n",
      "{'ner': 2815.55014944877}\n",
      "{'ner': 2827.9734715785153}\n",
      "{'ner': 2837.1720252265377}\n",
      "{'ner': 2856.2816618348875}\n",
      "{'ner': 2856.2816618348875}\n",
      "{'ner': 2867.4364573483535}\n",
      "{'ner': 2875.782026248323}\n",
      "{'ner': 2887.581953480081}\n",
      "{'ner': 2903.15107321344}\n",
      "{'ner': 2908.338997956867}\n",
      "{'ner': 2924.185436296236}\n",
      "{'ner': 2928.639973450756}\n",
      "{'ner': 2938.515065599453}\n",
      "{'ner': 2944.8848435315895}\n",
      "{'ner': 2952.61660834441}\n",
      "{'ner': 2956.6090815392113}\n",
      "{'ner': 2958.459305434087}\n",
      "{'ner': 2971.9350305785174}\n",
      "{'ner': 2979.0002974335684}\n",
      "{'ner': 2987.9586509873434}\n",
      "{'ner': 2998.141337920245}\n",
      "{'ner': 3018.709310653402}\n",
      "{'ner': 3021.867179294702}\n",
      "{'ner': 3034.2044153617617}\n",
      "{'ner': 3054.21762812081}\n",
      "{'ner': 3064.5312591454312}\n",
      "{'ner': 3072.4575030459573}\n",
      "{'ner': 3083.7020437472606}\n",
      "{'ner': 3088.387480017916}\n",
      "{'ner': 3096.5925840668588}\n",
      "{'ner': 3105.6618413493343}\n",
      "{'ner': 3112.833560974804}\n",
      "{'ner': 3122.586014513953}\n",
      "{'ner': 3131.1322659820903}\n",
      "{'ner': 3145.9379516955637}\n",
      "{'ner': 3157.318712212877}\n",
      "{'ner': 3178.023020629301}\n",
      "{'ner': 3182.4280758781642}\n",
      "{'ner': 3186.4043153826456}\n",
      "{'ner': 3198.2972286627128}\n",
      "{'ner': 3202.2444008485}\n",
      "{'ner': 3214.4960072913454}\n",
      "{'ner': 3236.223650986124}\n",
      "{'ner': 3246.3857154816133}\n",
      "{'ner': 3255.1782776122745}\n",
      "{'ner': 3256.338969343505}\n",
      "{'ner': 3289.453078931148}\n",
      "{'ner': 3303.8584954768485}\n",
      "{'ner': 3314.5422451628488}\n",
      "{'ner': 3323.105479820838}\n",
      "{'ner': 3329.2780108136303}\n",
      "{'ner': 3362.429959236563}\n",
      "{'ner': 3375.9588290141337}\n",
      "{'ner': 3396.982807398906}\n",
      "{'ner': 3403.7811217426893}\n",
      "{'ner': 3406.8971977086944}\n",
      "{'ner': 3415.7814439162416}\n",
      "{'ner': 3430.1695938148528}\n",
      "{'ner': 3444.96801106574}\n",
      "{'ner': 3459.572545424535}\n",
      "{'ner': 3464.0158954078474}\n",
      "{'ner': 3483.8709804982323}\n",
      "{'ner': 3492.955285643598}\n",
      "{'ner': 3503.3477406679267}\n",
      "{'ner': 3520.395519464519}\n",
      "{'ner': 3534.9491118600095}\n",
      "{'ner': 3540.3478991726174}\n",
      "{'ner': 3550.1115894516925}\n",
      "{'ner': 3573.0827469812543}\n",
      "{'ner': 3587.224176724962}\n",
      "{'ner': 3592.4684075026016}\n",
      "{'ner': 3605.894294503913}\n",
      "{'ner': 3623.0450156471065}\n",
      "{'ner': 3655.721814390755}\n",
      "{'ner': 3675.9284514788137}\n",
      "{'ner': 3685.176135331665}\n",
      "{'ner': 3696.1572622438207}\n",
      "{'ner': 3707.344302355376}\n",
      "{'ner': 3716.906557279069}\n",
      "{'ner': 3736.839798003316}\n",
      "{'ner': 3777.0091534411663}\n",
      "{'ner': 3781.113459877475}\n",
      "{'ner': 3805.1685826522726}\n",
      "{'ner': 3810.9387589932558}\n",
      "{'ner': 3841.0790684637377}\n",
      "{'ner': 3850.632429242214}\n",
      "Starting iteration\n",
      "{'ner': 16.740655801699212}\n",
      "{'ner': 32.342039721502275}\n",
      "{'ner': 54.51208551477869}\n",
      "{'ner': 74.11269999478327}\n",
      "{'ner': 98.12038829498172}\n",
      "{'ner': 116.17265482465882}\n",
      "{'ner': 120.98198959177483}\n",
      "{'ner': 136.649012493488}\n",
      "{'ner': 163.09469904917563}\n",
      "{'ner': 203.28112133548706}\n",
      "{'ner': 244.37024494326346}\n",
      "{'ner': 266.2616199362715}\n",
      "{'ner': 305.59109414459397}\n",
      "{'ner': 321.786257039351}\n",
      "{'ner': 335.2172457421052}\n",
      "{'ner': 358.6006719349293}\n",
      "{'ner': 368.2661727062616}\n",
      "{'ner': 396.2228631984865}\n",
      "{'ner': 422.85671321712175}\n",
      "{'ner': 456.47327443097606}\n",
      "{'ner': 506.8103070324389}\n",
      "{'ner': 527.9317760492497}\n",
      "{'ner': 544.9085415650596}\n",
      "{'ner': 554.1408536103263}\n",
      "{'ner': 561.6112117742431}\n",
      "{'ner': 585.423107987801}\n",
      "{'ner': 603.1120619660845}\n",
      "{'ner': 624.9751459573597}\n",
      "{'ner': 645.7239688051751}\n",
      "{'ner': 674.0230073102642}\n",
      "{'ner': 692.7877497593652}\n",
      "{'ner': 776.8297643008012}\n",
      "{'ner': 795.1703600409462}\n",
      "{'ner': 924.096733409832}\n",
      "{'ner': 955.7933310960349}\n",
      "{'ner': 994.6569735289946}\n",
      "{'ner': 1017.0605727713677}\n",
      "{'ner': 1046.0816216669823}\n",
      "{'ner': 1065.8137338307438}\n",
      "{'ner': 1087.3485261295368}\n",
      "{'ner': 1148.3898358572037}\n",
      "{'ner': 1159.6412571721587}\n",
      "{'ner': 1203.1426866958093}\n",
      "{'ner': 1226.6985694531434}\n",
      "{'ner': 1272.428464688142}\n",
      "{'ner': 1281.0073943368002}\n",
      "{'ner': 1297.6935799293037}\n",
      "{'ner': 1337.7798595311642}\n",
      "{'ner': 1361.355733916581}\n",
      "{'ner': 1393.5420943028466}\n",
      "{'ner': 1420.3521164654553}\n",
      "{'ner': 1424.9741107535194}\n",
      "{'ner': 1440.7960133515842}\n",
      "{'ner': 1453.795055071782}\n",
      "{'ner': 1473.1983988685145}\n",
      "{'ner': 1499.3188982878005}\n",
      "{'ner': 1514.0027842251054}\n",
      "{'ner': 1548.4787260928576}\n",
      "{'ner': 1561.1323341118002}\n",
      "{'ner': 1680.1345226184624}\n",
      "{'ner': 1734.366791298599}\n",
      "{'ner': 1753.0997309780735}\n",
      "{'ner': 1762.3545027354776}\n",
      "{'ner': 1768.725725497819}\n",
      "{'ner': 1788.1783072829878}\n",
      "{'ner': 1822.0664738891103}\n",
      "{'ner': 1846.437827686012}\n",
      "{'ner': 1879.8884590083649}\n",
      "{'ner': 1915.3955645540932}\n",
      "{'ner': 1933.7748589582438}\n",
      "{'ner': 1968.5788465523767}\n",
      "{'ner': 2001.7754552529605}\n",
      "{'ner': 2027.0257354447276}\n",
      "{'ner': 2033.36479068514}\n",
      "{'ner': 2057.2964343882354}\n",
      "{'ner': 2062.2629094160147}\n",
      "{'ner': 2072.5256747985627}\n",
      "{'ner': 2098.7669724918674}\n",
      "{'ner': 2116.9197986444437}\n",
      "{'ner': 2146.9118024461736}\n",
      "{'ner': 2164.2851716727987}\n",
      "{'ner': 2191.672579764824}\n",
      "{'ner': 2224.917854095747}\n",
      "{'ner': 2231.3996715279995}\n",
      "{'ner': 2234.3431620330116}\n",
      "{'ner': 2250.911796575669}\n",
      "{'ner': 2264.4392803083947}\n",
      "{'ner': 2276.5019298688835}\n",
      "{'ner': 2289.894813541625}\n",
      "{'ner': 2294.6512451921913}\n",
      "{'ner': 2300.1340652998592}\n",
      "{'ner': 2323.098680685686}\n",
      "{'ner': 2329.8859380764547}\n",
      "{'ner': 2381.056383994611}\n",
      "{'ner': 2386.4513088369795}\n",
      "{'ner': 2390.8750856613997}\n",
      "{'ner': 2399.7701069269006}\n",
      "{'ner': 2404.0364714588777}\n",
      "{'ner': 2422.1913611682544}\n",
      "{'ner': 2445.55245366393}\n",
      "{'ner': 2446.240947993814}\n",
      "{'ner': 2454.137959846291}\n",
      "{'ner': 2456.707953293617}\n",
      "{'ner': 2470.303520561739}\n",
      "{'ner': 2473.4906803118874}\n",
      "{'ner': 2483.6273313465636}\n",
      "{'ner': 2491.1455184797837}\n",
      "{'ner': 2500.5170485307367}\n",
      "{'ner': 2515.6978031294802}\n",
      "{'ner': 2519.162004707804}\n",
      "{'ner': 2528.6270123026816}\n",
      "{'ner': 2537.0608115817663}\n",
      "{'ner': 2543.3578554438723}\n",
      "{'ner': 2553.489857556135}\n",
      "{'ner': 2569.013396979831}\n",
      "{'ner': 2587.8375724772045}\n",
      "{'ner': 2610.6610911763282}\n",
      "{'ner': 2610.6610911763282}\n",
      "{'ner': 2618.486785866652}\n",
      "{'ner': 2625.877909067957}\n",
      "{'ner': 2629.072986731942}\n",
      "{'ner': 2636.635457233367}\n",
      "{'ner': 2640.125400909946}\n",
      "{'ner': 2650.4121833468603}\n",
      "{'ner': 2655.4424752126856}\n",
      "{'ner': 2664.931210114657}\n",
      "{'ner': 2670.2425143161486}\n",
      "{'ner': 2674.9092444908692}\n",
      "{'ner': 2676.948359322646}\n",
      "{'ner': 2678.6154397817127}\n",
      "{'ner': 2689.529528389287}\n",
      "{'ner': 2698.460346814058}\n",
      "{'ner': 2705.155547537025}\n",
      "{'ner': 2714.278506767561}\n",
      "{'ner': 2728.4041782391696}\n",
      "{'ner': 2731.8963947839034}\n",
      "{'ner': 2746.3928033621637}\n",
      "{'ner': 2768.6853722235196}\n",
      "{'ner': 2776.0754086560983}\n",
      "{'ner': 2783.2859329242615}\n",
      "{'ner': 2792.8530442125975}\n",
      "{'ner': 2797.067825305743}\n",
      "{'ner': 2806.3645259387713}\n",
      "{'ner': 2816.217815401738}\n",
      "{'ner': 2825.6157891450894}\n",
      "{'ner': 2833.3159193703004}\n",
      "{'ner': 2838.990995404515}\n",
      "{'ner': 2859.2099247141186}\n",
      "{'ner': 2874.534392482711}\n",
      "{'ner': 2890.130427497986}\n",
      "{'ner': 2894.663863735039}\n",
      "{'ner': 2900.5551155692956}\n",
      "{'ner': 2915.2642156335082}\n",
      "{'ner': 2917.200932092248}\n",
      "{'ner': 2935.822614005939}\n",
      "{'ner': 2965.777242243526}\n",
      "{'ner': 2976.450262255058}\n",
      "{'ner': 2986.3894906668247}\n",
      "{'ner': 2994.444703687593}\n",
      "{'ner': 3014.8744564750627}\n",
      "{'ner': 3027.216697572857}\n",
      "{'ner': 3034.305290298834}\n",
      "{'ner': 3048.256734050749}\n",
      "{'ner': 3053.3728959058817}\n",
      "{'ner': 3090.3064553962977}\n",
      "{'ner': 3103.1581180009657}\n",
      "{'ner': 3123.8027088214126}\n",
      "{'ner': 3131.4366804061083}\n",
      "{'ner': 3133.061470533857}\n",
      "{'ner': 3141.771560326056}\n",
      "{'ner': 3147.1118009000797}\n",
      "{'ner': 3160.311173052284}\n",
      "{'ner': 3172.1693720241815}\n",
      "{'ner': 3175.6409298567137}\n",
      "{'ner': 3281.513882617194}\n",
      "{'ner': 3290.9171120092683}\n",
      "{'ner': 3303.607703291048}\n",
      "{'ner': 3313.140505251811}\n",
      "{'ner': 3321.4401296717056}\n",
      "{'ner': 3324.667919048086}\n",
      "{'ner': 3337.006133793832}\n",
      "{'ner': 3353.7584348022206}\n",
      "{'ner': 3369.0635987690744}\n",
      "{'ner': 3373.6847557406622}\n",
      "{'ner': 3391.1698915517595}\n",
      "{'ner': 3416.560748283469}\n",
      "{'ner': 3465.0397877534433}\n",
      "{'ner': 3481.4581176368692}\n",
      "{'ner': 3491.3490920367426}\n",
      "{'ner': 3572.4246694899525}\n",
      "{'ner': 3581.5412422839263}\n",
      "{'ner': 3587.776054272172}\n",
      "{'ner': 3611.691186673997}\n",
      "{'ner': 3640.059174959948}\n",
      "{'ner': 3671.452398836023}\n",
      "{'ner': 3732.5333729607974}\n",
      "{'ner': 3735.565412455227}\n",
      "{'ner': 3841.378985516098}\n",
      "{'ner': 3846.9256719050577}\n",
      "Starting iteration\n",
      "{'ner': 18.763941000309572}\n",
      "{'ner': 32.78910150229858}\n",
      "{'ner': 55.396383303954266}\n",
      "{'ner': 69.54745073891216}\n",
      "{'ner': 92.39373806374739}\n",
      "{'ner': 110.10714851265426}\n",
      "{'ner': 115.3197337191465}\n",
      "{'ner': 131.15057203233596}\n",
      "{'ner': 165.57624292009882}\n",
      "{'ner': 222.6187801272156}\n",
      "{'ner': 245.04045506903378}\n",
      "{'ner': 256.852737073829}\n",
      "{'ner': 291.2904264647002}\n",
      "{'ner': 303.94396857818725}\n",
      "{'ner': 313.46145790602066}\n",
      "{'ner': 357.99624602980464}\n",
      "{'ner': 365.66766145112086}\n",
      "{'ner': 385.8924647660259}\n",
      "{'ner': 411.59268210792595}\n",
      "{'ner': 432.61008525751726}\n",
      "{'ner': 479.2764377713052}\n",
      "{'ner': 494.7510733338009}\n",
      "{'ner': 506.26025246540036}\n",
      "{'ner': 513.6398984871171}\n",
      "{'ner': 518.7791419205672}\n",
      "{'ner': 538.9800194953992}\n",
      "{'ner': 550.7218616388839}\n",
      "{'ner': 573.0353008380682}\n",
      "{'ner': 591.3236309136196}\n",
      "{'ner': 618.4617144322701}\n",
      "{'ner': 637.0325742133631}\n",
      "{'ner': 738.0188691176063}\n",
      "{'ner': 751.1781277982816}\n",
      "{'ner': 863.2717652863255}\n",
      "{'ner': 895.0754729477534}\n",
      "{'ner': 991.759741525378}\n",
      "{'ner': 1006.5091799923479}\n",
      "{'ner': 1032.5936573218435}\n",
      "{'ner': 1052.6302509284226}\n",
      "{'ner': 1080.9354369311177}\n",
      "{'ner': 1132.0706623332253}\n",
      "{'ner': 1140.8782741427049}\n",
      "{'ner': 1176.1573411655763}\n",
      "{'ner': 1194.7265470653902}\n",
      "{'ner': 1246.7101933377155}\n",
      "{'ner': 1253.50441597998}\n",
      "{'ner': 1270.927825008771}\n",
      "{'ner': 1312.53033809712}\n",
      "{'ner': 1337.6611616790162}\n",
      "{'ner': 1367.5123968854225}\n",
      "{'ner': 1390.0621757427657}\n",
      "{'ner': 1394.2383103191469}\n",
      "{'ner': 1403.236558159309}\n",
      "{'ner': 1413.6945810225793}\n",
      "{'ner': 1429.5739571815263}\n",
      "{'ner': 1459.6464201130293}\n",
      "{'ner': 1469.0875674315134}\n",
      "{'ner': 1500.2259370360798}\n",
      "{'ner': 1513.1369475323866}\n",
      "{'ner': 1629.570775707345}\n",
      "{'ner': 1687.9522037962527}\n",
      "{'ner': 1703.3479584672154}\n",
      "{'ner': 1712.2711488560958}\n",
      "{'ner': 1719.5408258731372}\n",
      "{'ner': 1739.7134079032921}\n",
      "{'ner': 1766.9072722731325}\n",
      "{'ner': 1795.2368102577366}\n",
      "{'ner': 1829.4597342158304}\n",
      "{'ner': 1853.9396053114215}\n",
      "{'ner': 1868.813456989581}\n",
      "{'ner': 1895.572251310441}\n",
      "{'ner': 1926.2405056287053}\n",
      "{'ner': 1944.3522506271938}\n",
      "{'ner': 1950.8587863272135}\n",
      "{'ner': 1969.4105677507596}\n",
      "{'ner': 1973.1908289642895}\n",
      "{'ner': 1979.6685610942757}\n",
      "{'ner': 1999.0542508717704}\n",
      "{'ner': 2015.2070027132063}\n",
      "{'ner': 2043.9462119987954}\n",
      "{'ner': 2066.1630655864265}\n",
      "{'ner': 2088.5956387467695}\n",
      "{'ner': 2117.10576738709}\n",
      "{'ner': 2121.797580929495}\n",
      "{'ner': 2125.2588490601684}\n",
      "{'ner': 2141.4909228968304}\n",
      "{'ner': 2155.1111533104354}\n",
      "{'ner': 2163.524746178624}\n",
      "{'ner': 2174.4488047549576}\n",
      "{'ner': 2176.567318259308}\n",
      "{'ner': 2180.32098321501}\n",
      "{'ner': 2197.994249468757}\n",
      "{'ner': 2207.0886797994376}\n",
      "{'ner': 2255.9622176004173}\n",
      "{'ner': 2264.1022524023842}\n",
      "{'ner': 2271.3613233405554}\n",
      "{'ner': 2279.509752351367}\n",
      "{'ner': 2283.934358485746}\n",
      "{'ner': 2303.7013971730084}\n",
      "{'ner': 2333.0507843594487}\n",
      "{'ner': 2339.274243042386}\n",
      "{'ner': 2343.267008733001}\n",
      "{'ner': 2344.7860668462017}\n",
      "{'ner': 2356.694286984656}\n",
      "{'ner': 2359.029793020349}\n",
      "{'ner': 2370.7006634637896}\n",
      "{'ner': 2376.005189653598}\n",
      "{'ner': 2384.573764790214}\n",
      "{'ner': 2394.443102824501}\n",
      "{'ner': 2396.870914784525}\n",
      "{'ner': 2409.6882975376298}\n",
      "{'ner': 2419.2843217741006}\n",
      "{'ner': 2424.199628750614}\n",
      "{'ner': 2428.23329899073}\n",
      "{'ner': 2441.6557170215547}\n",
      "{'ner': 2449.7310043210546}\n",
      "{'ner': 2463.7311862087145}\n",
      "{'ner': 2463.7311862087145}\n",
      "{'ner': 2469.191433565768}\n",
      "{'ner': 2475.4428536372316}\n",
      "{'ner': 2478.7477678040714}\n",
      "{'ner': 2486.6775834416944}\n",
      "{'ner': 2488.2218620166545}\n",
      "{'ner': 2502.25386705265}\n",
      "{'ner': 2503.7046926861535}\n",
      "{'ner': 2513.8018364545874}\n",
      "{'ner': 2518.9635889579113}\n",
      "{'ner': 2525.294376005614}\n",
      "{'ner': 2526.4230130989154}\n",
      "{'ner': 2526.52984638813}\n",
      "{'ner': 2534.7085274643478}\n",
      "{'ner': 2538.827331527394}\n",
      "{'ner': 2546.0539094064598}\n",
      "{'ner': 2557.4295678834055}\n",
      "{'ner': 2573.774840021524}\n",
      "{'ner': 2584.306721609215}\n",
      "{'ner': 2600.915124700367}\n",
      "{'ner': 2619.495013194925}\n",
      "{'ner': 2629.071823135486}\n",
      "{'ner': 2633.813225204565}\n",
      "{'ner': 2643.543182378986}\n",
      "{'ner': 2646.8837330950178}\n",
      "{'ner': 2653.4942648724373}\n",
      "{'ner': 2660.293064514525}\n",
      "{'ner': 2666.986326251142}\n",
      "{'ner': 2674.3549796684083}\n",
      "{'ner': 2678.980103859443}\n",
      "{'ner': 2699.719633021578}\n",
      "{'ner': 2714.711778516718}\n",
      "{'ner': 2730.799628278087}\n",
      "{'ner': 2736.3078805183713}\n",
      "{'ner': 2740.007398588567}\n",
      "{'ner': 2751.063280182162}\n",
      "{'ner': 2752.341951279734}\n",
      "{'ner': 2759.0713727549705}\n",
      "{'ner': 2775.2424633009823}\n",
      "{'ner': 2783.9960453396484}\n",
      "{'ner': 2790.0013468497978}\n",
      "{'ner': 2793.34888998596}\n",
      "{'ner': 2815.4864963401874}\n",
      "{'ner': 2826.6777570324743}\n",
      "{'ner': 2832.6479494314626}\n",
      "{'ner': 2839.4064455214275}\n",
      "{'ner': 2842.31987484254}\n",
      "{'ner': 2897.0039174359613}\n",
      "{'ner': 2904.564763607169}\n",
      "{'ner': 2921.3947490322353}\n",
      "{'ner': 2926.5735075834446}\n",
      "{'ner': 2928.1955791981936}\n",
      "{'ner': 3049.574481100116}\n",
      "{'ner': 3054.2843030921936}\n",
      "{'ner': 3074.8805888517995}\n",
      "{'ner': 3086.3111911202486}\n",
      "{'ner': 3092.537257915126}\n",
      "{'ner': 3161.934261366378}\n",
      "{'ner': 3182.355617193066}\n",
      "{'ner': 3225.278727212759}\n",
      "{'ner': 3241.875731410629}\n",
      "{'ner': 3254.6638506673453}\n",
      "{'ner': 3258.599488190605}\n",
      "{'ner': 3267.299350451524}\n",
      "{'ner': 3281.212341496615}\n",
      "{'ner': 3294.8821040116973}\n",
      "{'ner': 3300.135857464582}\n",
      "{'ner': 3316.20285052292}\n",
      "{'ner': 3329.7052654843706}\n",
      "{'ner': 3359.632182629681}\n",
      "{'ner': 3373.295914102353}\n",
      "{'ner': 3380.8662640087514}\n",
      "{'ner': 3395.1532610675395}\n",
      "{'ner': 3403.3729454652344}\n",
      "{'ner': 3406.8918988480586}\n",
      "{'ner': 3424.500851818085}\n",
      "{'ner': 3452.279044991151}\n",
      "{'ner': 3456.156065641436}\n",
      "{'ner': 3484.2194142932194}\n",
      "{'ner': 3487.4851176647035}\n",
      "{'ner': 3524.4694902294905}\n",
      "{'ner': 3529.3640442898763}\n"
     ]
    }
   ],
   "source": [
    "# train model, save it locally & load it to memory based on the Spacy format\n",
    "train_model_sp = train_model_sp(resume_sp)\n",
    "nlp_model_sp = spacy_load_model('nlp_model_sp')"
   ]
  },
  {
   "cell_type": "code",
   "execution_count": 3,
   "metadata": {},
   "outputs": [
    {
     "name": "stdout",
     "output_type": "stream",
     "text": [
      "Starting iteration\n",
      "{'ner': 143.97295256704092}\n"
     ]
    },
    {
     "name": "stderr",
     "output_type": "stream",
     "text": [
      "C:\\Users\\teddy\\miniconda3\\envs\\NLP_env\\lib\\site-packages\\spacy\\training\\iob_utils.py:141: UserWarning: [W030] Some entities could not be aligned in the text \"Avani Priya\n",
      "- Email me on Indeed: indeed.com/r/Ava...\" with entities \"[(34, 75, 'Email Address'), (368, 409, 'Email Addr...\". Use `spacy.training.offsets_to_biluo_tags(nlp.make_doc(text), entities)` to check the alignment. Misaligned entities ('-') will be ignored during training.\n",
      "  warnings.warn(\n",
      "C:\\Users\\teddy\\miniconda3\\envs\\NLP_env\\lib\\site-packages\\spacy\\training\\iob_utils.py:141: UserWarning: [W030] Some entities could not be aligned in the text \"Sai Patha\n",
      "Mule ESB Integration Developer - Cisco S...\" with entities \"[(6209, 6222, 'Companies worked at'), (11216, 1123...\". Use `spacy.training.offsets_to_biluo_tags(nlp.make_doc(text), entities)` to check the alignment. Misaligned entities ('-') will be ignored during training.\n",
      "  warnings.warn(\n"
     ]
    },
    {
     "name": "stdout",
     "output_type": "stream",
     "text": [
      "{'ner': 4985.1585795506835}\n",
      "{'ner': 5245.701611219905}\n"
     ]
    },
    {
     "name": "stderr",
     "output_type": "stream",
     "text": [
      "C:\\Users\\teddy\\miniconda3\\envs\\NLP_env\\lib\\site-packages\\spacy\\training\\iob_utils.py:141: UserWarning: [W030] Some entities could not be aligned in the text \"shrikant desai\n",
      "Working as accountant @ infosys\n",
      "\n",
      "Pu...\" with entities \"[(323, 341, 'College Name'), (39, 46, 'Companies w...\". Use `spacy.training.offsets_to_biluo_tags(nlp.make_doc(text), entities)` to check the alignment. Misaligned entities ('-') will be ignored during training.\n",
      "  warnings.warn(\n",
      "C:\\Users\\teddy\\miniconda3\\envs\\NLP_env\\lib\\site-packages\\spacy\\training\\iob_utils.py:141: UserWarning: [W030] Some entities could not be aligned in the text \"Valarmathi Dhandapani\n",
      "Investment Banking Operation...\" with entities \"[(2236, 2245, 'Location'), (6418, 6427, 'Location'...\". Use `spacy.training.offsets_to_biluo_tags(nlp.make_doc(text), entities)` to check the alignment. Misaligned entities ('-') will be ignored during training.\n",
      "  warnings.warn(\n"
     ]
    },
    {
     "name": "stdout",
     "output_type": "stream",
     "text": [
      "{'ner': 8631.14928883221}\n"
     ]
    },
    {
     "name": "stderr",
     "output_type": "stream",
     "text": [
      "C:\\Users\\teddy\\miniconda3\\envs\\NLP_env\\lib\\site-packages\\spacy\\training\\iob_utils.py:141: UserWarning: [W030] Some entities could not be aligned in the text \"Mohini Gupta\n",
      "Server Support Engineer\n",
      "\n",
      "Gurgaon, Har...\" with entities \"[(13, 36, 'Designation'), (1790, 1811, 'College Na...\". Use `spacy.training.offsets_to_biluo_tags(nlp.make_doc(text), entities)` to check the alignment. Misaligned entities ('-') will be ignored during training.\n",
      "  warnings.warn(\n"
     ]
    },
    {
     "name": "stdout",
     "output_type": "stream",
     "text": [
      "{'ner': 9311.734170018695}\n"
     ]
    },
    {
     "name": "stderr",
     "output_type": "stream",
     "text": [
      "C:\\Users\\teddy\\miniconda3\\envs\\NLP_env\\lib\\site-packages\\spacy\\training\\iob_utils.py:141: UserWarning: [W030] Some entities could not be aligned in the text \"Rupesh Reddy\n",
      "Technology Consultant - EIT Services ...\" with entities \"[(6703, 6707, 'Graduation Year'), (3232, 3241, 'Lo...\". Use `spacy.training.offsets_to_biluo_tags(nlp.make_doc(text), entities)` to check the alignment. Misaligned entities ('-') will be ignored during training.\n",
      "  warnings.warn(\n"
     ]
    },
    {
     "name": "stdout",
     "output_type": "stream",
     "text": [
      "{'ner': 9994.55531322863}\n"
     ]
    },
    {
     "name": "stderr",
     "output_type": "stream",
     "text": [
      "C:\\Users\\teddy\\miniconda3\\envs\\NLP_env\\lib\\site-packages\\spacy\\training\\iob_utils.py:141: UserWarning: [W030] Some entities could not be aligned in the text \"Kartik Sharma\n",
      "Systems Engineer - Infosys Ltd\n",
      "\n",
      "Delh...\" with entities \"[(14, 30, 'Designation'), (2614, 2693, 'Skills'), ...\". Use `spacy.training.offsets_to_biluo_tags(nlp.make_doc(text), entities)` to check the alignment. Misaligned entities ('-') will be ignored during training.\n",
      "  warnings.warn(\n"
     ]
    },
    {
     "name": "stdout",
     "output_type": "stream",
     "text": [
      "{'ner': 10261.368388692383}\n"
     ]
    },
    {
     "name": "stderr",
     "output_type": "stream",
     "text": [
      "C:\\Users\\teddy\\miniconda3\\envs\\NLP_env\\lib\\site-packages\\spacy\\training\\iob_utils.py:141: UserWarning: [W030] Some entities could not be aligned in the text \"kimaya sonawane\n",
      "Thane, Maharashtra - Email me on I...\" with entities \"[(524, 661, 'Skills'), (510, 514, 'Graduation Year...\". Use `spacy.training.offsets_to_biluo_tags(nlp.make_doc(text), entities)` to check the alignment. Misaligned entities ('-') will be ignored during training.\n",
      "  warnings.warn(\n"
     ]
    },
    {
     "name": "stdout",
     "output_type": "stream",
     "text": [
      "{'ner': 10283.436742016813}\n"
     ]
    },
    {
     "name": "stderr",
     "output_type": "stream",
     "text": [
      "C:\\Users\\teddy\\miniconda3\\envs\\NLP_env\\lib\\site-packages\\spacy\\training\\iob_utils.py:141: UserWarning: [W030] Some entities could not be aligned in the text \"Asha Subbaiah\n",
      "(Microsoft Partner Readiness Operati...\" with entities \"[(263, 276, 'Companies worked at'), (15, 76, 'Desi...\". Use `spacy.training.offsets_to_biluo_tags(nlp.make_doc(text), entities)` to check the alignment. Misaligned entities ('-') will be ignored during training.\n",
      "  warnings.warn(\n"
     ]
    },
    {
     "name": "stdout",
     "output_type": "stream",
     "text": [
      "{'ner': 10295.43085504224}\n"
     ]
    },
    {
     "name": "stderr",
     "output_type": "stream",
     "text": [
      "C:\\Users\\teddy\\miniconda3\\envs\\NLP_env\\lib\\site-packages\\spacy\\training\\iob_utils.py:141: UserWarning: [W030] Some entities could not be aligned in the text \"Soumya Balan\n",
      "IT SUPPORT\n",
      "\n",
      "Sulthan Bathery, Kerala, ...\" with entities \"[(13, 23, 'Designation'), (3913, 4370, 'Skills'), ...\". Use `spacy.training.offsets_to_biluo_tags(nlp.make_doc(text), entities)` to check the alignment. Misaligned entities ('-') will be ignored during training.\n",
      "  warnings.warn(\n"
     ]
    },
    {
     "name": "stdout",
     "output_type": "stream",
     "text": [
      "{'ner': 10295.43085504224}\n"
     ]
    },
    {
     "name": "stderr",
     "output_type": "stream",
     "text": [
      "C:\\Users\\teddy\\miniconda3\\envs\\NLP_env\\lib\\site-packages\\spacy\\training\\iob_utils.py:141: UserWarning: [W030] Some entities could not be aligned in the text \"Sridevi H\n",
      "Bangalore, Karnataka - Email me on Indee...\" with entities \"[(298, 305, 'Companies worked at'), (393, 417, 'De...\". Use `spacy.training.offsets_to_biluo_tags(nlp.make_doc(text), entities)` to check the alignment. Misaligned entities ('-') will be ignored during training.\n",
      "  warnings.warn(\n"
     ]
    },
    {
     "name": "stdout",
     "output_type": "stream",
     "text": [
      "{'ner': 10454.28484687806}\n"
     ]
    },
    {
     "name": "stderr",
     "output_type": "stream",
     "text": [
      "C:\\Users\\teddy\\miniconda3\\envs\\NLP_env\\lib\\site-packages\\spacy\\training\\iob_utils.py:141: UserWarning: [W030] Some entities could not be aligned in the text \"Ashish Indoriya\n",
      "Sr. Systems Engineer at Infosys Li...\" with entities \"[(39, 55, 'Companies worked at'), (3559, 3589, 'Co...\". Use `spacy.training.offsets_to_biluo_tags(nlp.make_doc(text), entities)` to check the alignment. Misaligned entities ('-') will be ignored during training.\n",
      "  warnings.warn(\n"
     ]
    },
    {
     "name": "stdout",
     "output_type": "stream",
     "text": [
      "{'ner': 10464.284196103476}\n"
     ]
    },
    {
     "name": "stderr",
     "output_type": "stream",
     "text": [
      "C:\\Users\\teddy\\miniconda3\\envs\\NLP_env\\lib\\site-packages\\spacy\\training\\iob_utils.py:141: UserWarning: [W030] Some entities could not be aligned in the text \"Jacob Philip\n",
      "Kottayam, Kerala - Email me on Indeed...\" with entities \"[(2145, 2155, 'Degree'), (176, 207, 'Designation')...\". Use `spacy.training.offsets_to_biluo_tags(nlp.make_doc(text), entities)` to check the alignment. Misaligned entities ('-') will be ignored during training.\n",
      "  warnings.warn(\n"
     ]
    },
    {
     "name": "stdout",
     "output_type": "stream",
     "text": [
      "{'ner': 10474.283775752314}\n"
     ]
    },
    {
     "name": "stderr",
     "output_type": "stream",
     "text": [
      "C:\\Users\\teddy\\miniconda3\\envs\\NLP_env\\lib\\site-packages\\spacy\\training\\iob_utils.py:141: UserWarning: [W030] Some entities could not be aligned in the text \"Chaban kumar Debbarma\n",
      "Tripura - Email me on Indeed...\" with entities \"[(251, 255, 'Degree'), (175, 185, 'Companies worke...\". Use `spacy.training.offsets_to_biluo_tags(nlp.make_doc(text), entities)` to check the alignment. Misaligned entities ('-') will be ignored during training.\n",
      "  warnings.warn(\n"
     ]
    },
    {
     "name": "stdout",
     "output_type": "stream",
     "text": [
      "{'ner': 10482.283557513949}\n"
     ]
    },
    {
     "name": "stderr",
     "output_type": "stream",
     "text": [
      "C:\\Users\\teddy\\miniconda3\\envs\\NLP_env\\lib\\site-packages\\spacy\\training\\iob_utils.py:141: UserWarning: [W030] Some entities could not be aligned in the text \"Tapan kumar Nayak\n",
      "Bhubaneshwar, Orissa - Email me ...\" with entities \"[(61, 110, 'Email Address'), (0, 17, 'Name'), (136...\". Use `spacy.training.offsets_to_biluo_tags(nlp.make_doc(text), entities)` to check the alignment. Misaligned entities ('-') will be ignored during training.\n",
      "  warnings.warn(\n"
     ]
    },
    {
     "name": "stdout",
     "output_type": "stream",
     "text": [
      "{'ner': 10492.283302523403}\n"
     ]
    },
    {
     "name": "stderr",
     "output_type": "stream",
     "text": [
      "C:\\Users\\teddy\\miniconda3\\envs\\NLP_env\\lib\\site-packages\\spacy\\training\\iob_utils.py:141: UserWarning: [W030] Some entities could not be aligned in the text \"Kowsick Somasundaram\n",
      "Certified Network Associate T...\" with entities \"[(696, 1129, 'Skills'), (406, 450, 'Designation'),...\". Use `spacy.training.offsets_to_biluo_tags(nlp.make_doc(text), entities)` to check the alignment. Misaligned entities ('-') will be ignored during training.\n",
      "  warnings.warn(\n"
     ]
    },
    {
     "name": "stdout",
     "output_type": "stream",
     "text": [
      "{'ner': 10575.987562185623}\n"
     ]
    },
    {
     "name": "stderr",
     "output_type": "stream",
     "text": [
      "C:\\Users\\teddy\\miniconda3\\envs\\NLP_env\\lib\\site-packages\\spacy\\training\\iob_utils.py:141: UserWarning: [W030] Some entities could not be aligned in the text \"Sowmya Karanth\n",
      "Finance Analyst\n",
      "\n",
      "Hyderabad, Telanga...\" with entities \"[(1862, 1890, 'Skills'), (1711, 1742, 'College Nam...\". Use `spacy.training.offsets_to_biluo_tags(nlp.make_doc(text), entities)` to check the alignment. Misaligned entities ('-') will be ignored during training.\n",
      "  warnings.warn(\n",
      "C:\\Users\\teddy\\miniconda3\\envs\\NLP_env\\lib\\site-packages\\spacy\\training\\iob_utils.py:141: UserWarning: [W030] Some entities could not be aligned in the text \"Sowmya Karanth\n",
      "Finance Analyst\n",
      "\n",
      "Hyderabad, Telanga...\" with entities \"[(1865, 1868, 'Skills'), (2058, 2074, 'Skills'), (...\". Use `spacy.training.offsets_to_biluo_tags(nlp.make_doc(text), entities)` to check the alignment. Misaligned entities ('-') will be ignored during training.\n",
      "  warnings.warn(\n"
     ]
    },
    {
     "name": "stdout",
     "output_type": "stream",
     "text": [
      "{'ner': 10609.981442587292}\n"
     ]
    },
    {
     "name": "stderr",
     "output_type": "stream",
     "text": [
      "C:\\Users\\teddy\\miniconda3\\envs\\NLP_env\\lib\\site-packages\\spacy\\training\\iob_utils.py:141: UserWarning: [W030] Some entities could not be aligned in the text \"Ramya. P\n",
      "Hyderabad, Telangana - Email me on Indeed...\" with entities \"[(3787, 3793, 'Skills'), (3996, 3999, 'Skills'), (...\". Use `spacy.training.offsets_to_biluo_tags(nlp.make_doc(text), entities)` to check the alignment. Misaligned entities ('-') will be ignored during training.\n",
      "  warnings.warn(\n"
     ]
    },
    {
     "name": "stdout",
     "output_type": "stream",
     "text": [
      "{'ner': 10669.94054812425}\n"
     ]
    },
    {
     "name": "stderr",
     "output_type": "stream",
     "text": [
      "C:\\Users\\teddy\\miniconda3\\envs\\NLP_env\\lib\\site-packages\\spacy\\training\\iob_utils.py:141: UserWarning: [W030] Some entities could not be aligned in the text \"Jay Madhavi\n",
      "Navi Mumbai, Maharashtra - Email me on...\" with entities \"[(1291, 1333, 'Degree'), (413, 417, 'Graduation Ye...\". Use `spacy.training.offsets_to_biluo_tags(nlp.make_doc(text), entities)` to check the alignment. Misaligned entities ('-') will be ignored during training.\n",
      "  warnings.warn(\n"
     ]
    },
    {
     "name": "stdout",
     "output_type": "stream",
     "text": [
      "{'ner': 10697.89409477239}\n"
     ]
    },
    {
     "name": "stderr",
     "output_type": "stream",
     "text": [
      "C:\\Users\\teddy\\miniconda3\\envs\\NLP_env\\lib\\site-packages\\spacy\\training\\iob_utils.py:141: UserWarning: [W030] Some entities could not be aligned in the text \"Ahmad Bardolia\n",
      "Project Lead for Infosys OpenStack\n",
      "...\" with entities \"[(3827, 4016, 'Skills'), (0, 14, 'Name'), (3809, 3...\". Use `spacy.training.offsets_to_biluo_tags(nlp.make_doc(text), entities)` to check the alignment. Misaligned entities ('-') will be ignored during training.\n",
      "  warnings.warn(\n"
     ]
    },
    {
     "name": "stdout",
     "output_type": "stream",
     "text": [
      "{'ner': 10745.65912963714}\n",
      "{'ner': 10763.411313071185}\n"
     ]
    },
    {
     "name": "stderr",
     "output_type": "stream",
     "text": [
      "C:\\Users\\teddy\\miniconda3\\envs\\NLP_env\\lib\\site-packages\\spacy\\training\\iob_utils.py:141: UserWarning: [W030] Some entities could not be aligned in the text \"Krishna Prasad\n",
      "Patna, Bihar - Email me on Indeed: ...\" with entities \"[(15, 20, 'Location'), (257, 262, 'Location'), (28...\". Use `spacy.training.offsets_to_biluo_tags(nlp.make_doc(text), entities)` to check the alignment. Misaligned entities ('-') will be ignored during training.\n",
      "  warnings.warn(\n",
      "C:\\Users\\teddy\\miniconda3\\envs\\NLP_env\\lib\\site-packages\\spacy\\training\\iob_utils.py:141: UserWarning: [W030] Some entities could not be aligned in the text \"Mahesh Vijay\n",
      "Bengaluru, Karnataka - Email me on In...\" with entities \"[(1089, 1093, 'Graduation Year'), (492, 498, 'Comp...\". Use `spacy.training.offsets_to_biluo_tags(nlp.make_doc(text), entities)` to check the alignment. Misaligned entities ('-') will be ignored during training.\n",
      "  warnings.warn(\n"
     ]
    },
    {
     "name": "stdout",
     "output_type": "stream",
     "text": [
      "{'ner': 10890.42721954521}\n"
     ]
    },
    {
     "name": "stderr",
     "output_type": "stream",
     "text": [
      "C:\\Users\\teddy\\miniconda3\\envs\\NLP_env\\lib\\site-packages\\spacy\\training\\iob_utils.py:141: UserWarning: [W030] Some entities could not be aligned in the text \"Sumit Kubade\n",
      "SAP - FI Support Consultant - SAP FI\n",
      "...\" with entities \"[(1050, 1053, 'Skills'), (43, 46, 'Skills'), (0, 1...\". Use `spacy.training.offsets_to_biluo_tags(nlp.make_doc(text), entities)` to check the alignment. Misaligned entities ('-') will be ignored during training.\n",
      "  warnings.warn(\n"
     ]
    },
    {
     "name": "stdout",
     "output_type": "stream",
     "text": [
      "{'ner': 10980.284977376436}\n"
     ]
    },
    {
     "name": "stderr",
     "output_type": "stream",
     "text": [
      "C:\\Users\\teddy\\miniconda3\\envs\\NLP_env\\lib\\site-packages\\spacy\\training\\iob_utils.py:141: UserWarning: [W030] Some entities could not be aligned in the text \"Kasturika Borah\n",
      "Team Member - Cisco\n",
      "\n",
      "Bengaluru, Ka...\" with entities \"[(3970, 3974, 'Graduation Year'), (4121, 4399, 'Sk...\". Use `spacy.training.offsets_to_biluo_tags(nlp.make_doc(text), entities)` to check the alignment. Misaligned entities ('-') will be ignored during training.\n",
      "  warnings.warn(\n"
     ]
    },
    {
     "name": "stdout",
     "output_type": "stream",
     "text": [
      "{'ner': 11038.717018537081}\n"
     ]
    },
    {
     "name": "stderr",
     "output_type": "stream",
     "text": [
      "C:\\Users\\teddy\\miniconda3\\envs\\NLP_env\\lib\\site-packages\\spacy\\training\\iob_utils.py:141: UserWarning: [W030] Some entities could not be aligned in the text \"Ramesh chokkala\n",
      "Telangana - Email me on Indeed: in...\" with entities \"[(112, 120, 'Designation'), (16, 25, 'Location'), ...\". Use `spacy.training.offsets_to_biluo_tags(nlp.make_doc(text), entities)` to check the alignment. Misaligned entities ('-') will be ignored during training.\n",
      "  warnings.warn(\n"
     ]
    },
    {
     "name": "stdout",
     "output_type": "stream",
     "text": [
      "{'ner': 11052.041449104165}\n"
     ]
    },
    {
     "name": "stderr",
     "output_type": "stream",
     "text": [
      "C:\\Users\\teddy\\miniconda3\\envs\\NLP_env\\lib\\site-packages\\spacy\\training\\iob_utils.py:141: UserWarning: [W030] Some entities could not be aligned in the text \"Viny Khandelwal\n",
      "Self-employed in Family Business -...\" with entities \"[(2952, 3086, 'Skills'), (66, 71, 'Location'), (51...\". Use `spacy.training.offsets_to_biluo_tags(nlp.make_doc(text), entities)` to check the alignment. Misaligned entities ('-') will be ignored during training.\n",
      "  warnings.warn(\n"
     ]
    },
    {
     "name": "stdout",
     "output_type": "stream",
     "text": [
      "{'ner': 11064.033546667612}\n"
     ]
    },
    {
     "name": "stderr",
     "output_type": "stream",
     "text": [
      "C:\\Users\\teddy\\miniconda3\\envs\\NLP_env\\lib\\site-packages\\spacy\\training\\iob_utils.py:141: UserWarning: [W030] Some entities could not be aligned in the text \"Pradeeba V\n",
      "LEAD ENGINEER - CISCO\n",
      "\n",
      "- Email me on In...\" with entities \"[(185, 195, 'Skills'), (1436, 1440, 'Skills'), (81...\". Use `spacy.training.offsets_to_biluo_tags(nlp.make_doc(text), entities)` to check the alignment. Misaligned entities ('-') will be ignored during training.\n",
      "  warnings.warn(\n",
      "C:\\Users\\teddy\\miniconda3\\envs\\NLP_env\\lib\\site-packages\\spacy\\training\\iob_utils.py:141: UserWarning: [W030] Some entities could not be aligned in the text \"Pradeeba V\n",
      "LEAD ENGINEER - CISCO\n",
      "\n",
      "- Email me on In...\" with entities \"[(819, 835, 'Designation'), (210, 213, 'Skills'), ...\". Use `spacy.training.offsets_to_biluo_tags(nlp.make_doc(text), entities)` to check the alignment. Misaligned entities ('-') will be ignored during training.\n",
      "  warnings.warn(\n"
     ]
    },
    {
     "name": "stdout",
     "output_type": "stream",
     "text": [
      "{'ner': 11217.311286012562}\n"
     ]
    },
    {
     "name": "stderr",
     "output_type": "stream",
     "text": [
      "C:\\Users\\teddy\\miniconda3\\envs\\NLP_env\\lib\\site-packages\\spacy\\training\\iob_utils.py:141: UserWarning: [W030] Some entities could not be aligned in the text \"Meenalochani Kondya\n",
      "Systems Engineer, Infosys Bang...\" with entities \"[(57, 66, 'Location'), (3047, 3078, 'Degree'), (32...\". Use `spacy.training.offsets_to_biluo_tags(nlp.make_doc(text), entities)` to check the alignment. Misaligned entities ('-') will be ignored during training.\n",
      "  warnings.warn(\n"
     ]
    },
    {
     "name": "stdout",
     "output_type": "stream",
     "text": [
      "{'ner': 11254.68091265917}\n"
     ]
    },
    {
     "name": "stderr",
     "output_type": "stream",
     "text": [
      "C:\\Users\\teddy\\miniconda3\\envs\\NLP_env\\lib\\site-packages\\spacy\\training\\iob_utils.py:141: UserWarning: [W030] Some entities could not be aligned in the text \"Kandrapu Reddy\n",
      "Senior Travel Operations (Domestic,...\" with entities \"[(4058, 4101, 'Degree'), (1877, 1890, 'Location'),...\". Use `spacy.training.offsets_to_biluo_tags(nlp.make_doc(text), entities)` to check the alignment. Misaligned entities ('-') will be ignored during training.\n",
      "  warnings.warn(\n"
     ]
    },
    {
     "name": "stdout",
     "output_type": "stream",
     "text": [
      "{'ner': 11270.506058626519}\n"
     ]
    },
    {
     "name": "stderr",
     "output_type": "stream",
     "text": [
      "C:\\Users\\teddy\\miniconda3\\envs\\NLP_env\\lib\\site-packages\\spacy\\training\\iob_utils.py:141: UserWarning: [W030] Some entities could not be aligned in the text \"Imgeeyaul Ansari\n",
      "java developer\n",
      "\n",
      "Pune, Maharashtra...\" with entities \"[(1385, 1390, 'Graduation Year'), (1643, 1678, 'Co...\". Use `spacy.training.offsets_to_biluo_tags(nlp.make_doc(text), entities)` to check the alignment. Misaligned entities ('-') will be ignored during training.\n",
      "  warnings.warn(\n"
     ]
    },
    {
     "name": "stdout",
     "output_type": "stream",
     "text": [
      "{'ner': 11292.32171364127}\n"
     ]
    },
    {
     "name": "stderr",
     "output_type": "stream",
     "text": [
      "C:\\Users\\teddy\\miniconda3\\envs\\NLP_env\\lib\\site-packages\\spacy\\training\\iob_utils.py:141: UserWarning: [W030] Some entities could not be aligned in the text \"Arpit Jain\n",
      "Quality Analyst - ThoughtWorks Technolo...\" with entities \"[(2025, 2040, 'Designation'), (29, 54, 'Companies ...\". Use `spacy.training.offsets_to_biluo_tags(nlp.make_doc(text), entities)` to check the alignment. Misaligned entities ('-') will be ignored during training.\n",
      "  warnings.warn(\n"
     ]
    },
    {
     "name": "stdout",
     "output_type": "stream",
     "text": [
      "{'ner': 11304.293935390437}\n"
     ]
    },
    {
     "name": "stderr",
     "output_type": "stream",
     "text": [
      "C:\\Users\\teddy\\miniconda3\\envs\\NLP_env\\lib\\site-packages\\spacy\\training\\iob_utils.py:141: UserWarning: [W030] Some entities could not be aligned in the text \"Soumya Balan\n",
      "Soumya Balan - BE Computer Science - ...\" with entities \"[(2684, 2688, 'Graduation Year'), (28, 48, 'Degree...\". Use `spacy.training.offsets_to_biluo_tags(nlp.make_doc(text), entities)` to check the alignment. Misaligned entities ('-') will be ignored during training.\n",
      "  warnings.warn(\n"
     ]
    },
    {
     "name": "stdout",
     "output_type": "stream",
     "text": [
      "{'ner': 11332.196093467484}\n",
      "{'ner': 11344.106557990897}\n"
     ]
    },
    {
     "name": "stderr",
     "output_type": "stream",
     "text": [
      "C:\\Users\\teddy\\miniconda3\\envs\\NLP_env\\lib\\site-packages\\spacy\\training\\iob_utils.py:141: UserWarning: [W030] Some entities could not be aligned in the text \"Srinu Naik Ramavath\n",
      "anymore job\n",
      "\n",
      "Serilingampalle, ...\" with entities \"[(243, 252, 'Companies worked at'), (87, 137, 'Ema...\". Use `spacy.training.offsets_to_biluo_tags(nlp.make_doc(text), entities)` to check the alignment. Misaligned entities ('-') will be ignored during training.\n",
      "  warnings.warn(\n",
      "C:\\Users\\teddy\\miniconda3\\envs\\NLP_env\\lib\\site-packages\\spacy\\training\\iob_utils.py:141: UserWarning: [W030] Some entities could not be aligned in the text \"Raja Chandra Mouli\n",
      "Cuddapah, Andhra Pradesh - Emai...\" with entities \"[(458, 467, 'Skills'), (378, 397, 'College Name'),...\". Use `spacy.training.offsets_to_biluo_tags(nlp.make_doc(text), entities)` to check the alignment. Misaligned entities ('-') will be ignored during training.\n",
      "  warnings.warn(\n"
     ]
    },
    {
     "name": "stdout",
     "output_type": "stream",
     "text": [
      "{'ner': 11364.089312616241}\n"
     ]
    },
    {
     "name": "stderr",
     "output_type": "stream",
     "text": [
      "C:\\Users\\teddy\\miniconda3\\envs\\NLP_env\\lib\\site-packages\\spacy\\training\\iob_utils.py:141: UserWarning: [W030] Some entities could not be aligned in the text \"Priyesh Dubey\n",
      "Azure Developer with 9 Yrs 8 months ...\" with entities \"[(2396, 2399, 'Degree'), (297, 306, 'Designation')...\". Use `spacy.training.offsets_to_biluo_tags(nlp.make_doc(text), entities)` to check the alignment. Misaligned entities ('-') will be ignored during training.\n",
      "  warnings.warn(\n",
      "C:\\Users\\teddy\\miniconda3\\envs\\NLP_env\\lib\\site-packages\\spacy\\training\\iob_utils.py:141: UserWarning: [W030] Some entities could not be aligned in the text \"Priyesh Dubey\n",
      "Azure Developer with 9 Yrs 8 months ...\" with entities \"[(2537, 2756, 'Skills')]\". Use `spacy.training.offsets_to_biluo_tags(nlp.make_doc(text), entities)` to check the alignment. Misaligned entities ('-') will be ignored during training.\n",
      "  warnings.warn(\n"
     ]
    },
    {
     "name": "stdout",
     "output_type": "stream",
     "text": [
      "{'ner': 11382.01155032189}\n",
      "{'ner': 11393.8485012194}\n"
     ]
    },
    {
     "name": "stderr",
     "output_type": "stream",
     "text": [
      "C:\\Users\\teddy\\miniconda3\\envs\\NLP_env\\lib\\site-packages\\spacy\\training\\iob_utils.py:141: UserWarning: [W030] Some entities could not be aligned in the text \"Syed Sadath ali\n",
      "Coimbatore - Email me on Indeed: i...\" with entities \"[(49, 95, 'Email Address'), (16, 26, 'Location'), ...\". Use `spacy.training.offsets_to_biluo_tags(nlp.make_doc(text), entities)` to check the alignment. Misaligned entities ('-') will be ignored during training.\n",
      "  warnings.warn(\n",
      "C:\\Users\\teddy\\miniconda3\\envs\\NLP_env\\lib\\site-packages\\spacy\\training\\iob_utils.py:141: UserWarning: [W030] Some entities could not be aligned in the text \"Shaheen Unissa\n",
      "SAP ABAP Consultant\n",
      "\n",
      "Hyderabad, Tel...\" with entities \"[(4185, 4196, 'Designation'), (1137, 1145, 'Compan...\". Use `spacy.training.offsets_to_biluo_tags(nlp.make_doc(text), entities)` to check the alignment. Misaligned entities ('-') will be ignored during training.\n",
      "  warnings.warn(\n"
     ]
    },
    {
     "name": "stdout",
     "output_type": "stream",
     "text": [
      "{'ner': 11611.809114778167}\n"
     ]
    },
    {
     "name": "stderr",
     "output_type": "stream",
     "text": [
      "C:\\Users\\teddy\\miniconda3\\envs\\NLP_env\\lib\\site-packages\\spacy\\training\\iob_utils.py:141: UserWarning: [W030] Some entities could not be aligned in the text \"Arpit Godha\n",
      "Senior Process Executive\n",
      "\n",
      "Jaipur, Raja...\" with entities \"[(312, 337, 'Designation'), (3081, 3104, 'College ...\". Use `spacy.training.offsets_to_biluo_tags(nlp.make_doc(text), entities)` to check the alignment. Misaligned entities ('-') will be ignored during training.\n",
      "  warnings.warn(\n"
     ]
    },
    {
     "name": "stdout",
     "output_type": "stream",
     "text": [
      "{'ner': 11617.717407863074}\n"
     ]
    },
    {
     "name": "stderr",
     "output_type": "stream",
     "text": [
      "C:\\Users\\teddy\\miniconda3\\envs\\NLP_env\\lib\\site-packages\\spacy\\training\\iob_utils.py:141: UserWarning: [W030] Some entities could not be aligned in the text \"Aarti Pimplay\n",
      "Operations Center Shift Manager (OCS...\" with entities \"[(76, 120, 'Email Address'), (330, 368, 'Designati...\". Use `spacy.training.offsets_to_biluo_tags(nlp.make_doc(text), entities)` to check the alignment. Misaligned entities ('-') will be ignored during training.\n",
      "  warnings.warn(\n"
     ]
    },
    {
     "name": "stdout",
     "output_type": "stream",
     "text": [
      "{'ner': 11621.705621386918}\n"
     ]
    },
    {
     "name": "stderr",
     "output_type": "stream",
     "text": [
      "C:\\Users\\teddy\\miniconda3\\envs\\NLP_env\\lib\\site-packages\\spacy\\training\\iob_utils.py:141: UserWarning: [W030] Some entities could not be aligned in the text \"VARUN AHLUWALIA\n",
      "Quantitative Analyst\n",
      "\n",
      "- Email me o...\" with entities \"[(593, 614, 'College Name'), (735, 740, 'Graduatio...\". Use `spacy.training.offsets_to_biluo_tags(nlp.make_doc(text), entities)` to check the alignment. Misaligned entities ('-') will be ignored during training.\n",
      "  warnings.warn(\n"
     ]
    },
    {
     "name": "stdout",
     "output_type": "stream",
     "text": [
      "{'ner': 11639.322032432225}\n"
     ]
    },
    {
     "name": "stderr",
     "output_type": "stream",
     "text": [
      "C:\\Users\\teddy\\miniconda3\\envs\\NLP_env\\lib\\site-packages\\spacy\\training\\iob_utils.py:141: UserWarning: [W030] Some entities could not be aligned in the text \"Rahul Bollu\n",
      "Software Engineer - Disney\n",
      "\n",
      "Hyderabad,...\" with entities \"[(4093, 4190, 'Skills'), (3749, 3768, 'Degree'), (...\". Use `spacy.training.offsets_to_biluo_tags(nlp.make_doc(text), entities)` to check the alignment. Misaligned entities ('-') will be ignored during training.\n",
      "  warnings.warn(\n"
     ]
    },
    {
     "name": "stdout",
     "output_type": "stream",
     "text": [
      "{'ner': 11754.140410337515}\n"
     ]
    },
    {
     "name": "stderr",
     "output_type": "stream",
     "text": [
      "C:\\Users\\teddy\\miniconda3\\envs\\NLP_env\\lib\\site-packages\\spacy\\training\\iob_utils.py:141: UserWarning: [W030] Some entities could not be aligned in the text \"Hartej Kathuria\n",
      "Data Analyst Intern - Oracle Retai...\" with entities \"[(773, 830, 'Degree'), (875, 964, 'Skills'), (837,...\". Use `spacy.training.offsets_to_biluo_tags(nlp.make_doc(text), entities)` to check the alignment. Misaligned entities ('-') will be ignored during training.\n",
      "  warnings.warn(\n"
     ]
    },
    {
     "name": "stdout",
     "output_type": "stream",
     "text": [
      "{'ner': 11772.092011865348}\n"
     ]
    },
    {
     "name": "stderr",
     "output_type": "stream",
     "text": [
      "C:\\Users\\teddy\\miniconda3\\envs\\NLP_env\\lib\\site-packages\\spacy\\training\\iob_utils.py:141: UserWarning: [W030] Some entities could not be aligned in the text \"Jatin Arora\n",
      "SDET Automation Engineer, Infosys - CR...\" with entities \"[(3883, 3908, 'Degree'), (37, 46, 'Companies worke...\". Use `spacy.training.offsets_to_biluo_tags(nlp.make_doc(text), entities)` to check the alignment. Misaligned entities ('-') will be ignored during training.\n",
      "  warnings.warn(\n"
     ]
    },
    {
     "name": "stdout",
     "output_type": "stream",
     "text": [
      "{'ner': 11780.01524338733}\n"
     ]
    },
    {
     "name": "stderr",
     "output_type": "stream",
     "text": [
      "C:\\Users\\teddy\\miniconda3\\envs\\NLP_env\\lib\\site-packages\\spacy\\training\\iob_utils.py:141: UserWarning: [W030] Some entities could not be aligned in the text \"Divesh Singh\n",
      "Bengaluru, Karnataka - Email me on In...\" with entities \"[(421, 430, 'Companies worked at'), (397, 420, 'De...\". Use `spacy.training.offsets_to_biluo_tags(nlp.make_doc(text), entities)` to check the alignment. Misaligned entities ('-') will be ignored during training.\n",
      "  warnings.warn(\n"
     ]
    },
    {
     "name": "stdout",
     "output_type": "stream",
     "text": [
      "{'ner': 11793.983847936397}\n"
     ]
    },
    {
     "name": "stderr",
     "output_type": "stream",
     "text": [
      "C:\\Users\\teddy\\miniconda3\\envs\\NLP_env\\lib\\site-packages\\spacy\\training\\iob_utils.py:141: UserWarning: [W030] Some entities could not be aligned in the text \"Dushyant Bhatt\n",
      "BI / Big Data/ Azure\n",
      "\n",
      "Hyderabad-Dec...\" with entities \"[(5838, 5859, 'College Name'), (0, 14, 'Name'), (3...\". Use `spacy.training.offsets_to_biluo_tags(nlp.make_doc(text), entities)` to check the alignment. Misaligned entities ('-') will be ignored during training.\n",
      "  warnings.warn(\n"
     ]
    },
    {
     "name": "stdout",
     "output_type": "stream",
     "text": [
      "{'ner': 11833.890737212932}\n"
     ]
    },
    {
     "name": "stderr",
     "output_type": "stream",
     "text": [
      "C:\\Users\\teddy\\miniconda3\\envs\\NLP_env\\lib\\site-packages\\spacy\\training\\iob_utils.py:141: UserWarning: [W030] Some entities could not be aligned in the text \"pradeep chauhan\n",
      "pradeep chauhan\n",
      "\n",
      "Noida, Uttar Prad...\" with entities \"[(148, 153, 'Location'), (332, 337, 'Location'), (...\". Use `spacy.training.offsets_to_biluo_tags(nlp.make_doc(text), entities)` to check the alignment. Misaligned entities ('-') will be ignored during training.\n",
      "  warnings.warn(\n"
     ]
    },
    {
     "name": "stdout",
     "output_type": "stream",
     "text": [
      "{'ner': 11847.871034108031}\n",
      "{'ner': 11945.50732363145}\n"
     ]
    },
    {
     "name": "stderr",
     "output_type": "stream",
     "text": [
      "C:\\Users\\teddy\\miniconda3\\envs\\NLP_env\\lib\\site-packages\\spacy\\training\\iob_utils.py:141: UserWarning: [W030] Some entities could not be aligned in the text \"Sayani Goswami\n",
      "I Phone solution Consultant\n",
      "\n",
      "Kolkat...\" with entities \"[(0, 14, 'Name'), (261, 271, 'Companies worked at'...\". Use `spacy.training.offsets_to_biluo_tags(nlp.make_doc(text), entities)` to check the alignment. Misaligned entities ('-') will be ignored during training.\n",
      "  warnings.warn(\n"
     ]
    },
    {
     "name": "stdout",
     "output_type": "stream",
     "text": [
      "{'ner': 11949.425115015543}\n"
     ]
    },
    {
     "name": "stderr",
     "output_type": "stream",
     "text": [
      "C:\\Users\\teddy\\miniconda3\\envs\\NLP_env\\lib\\site-packages\\spacy\\training\\iob_utils.py:141: UserWarning: [W030] Some entities could not be aligned in the text \"Akila Mohideen\n",
      "System Engineer, Infosys Limited, I...\" with entities \"[(1945, 1993, 'Degree'), (464, 479, 'Companies wor...\". Use `spacy.training.offsets_to_biluo_tags(nlp.make_doc(text), entities)` to check the alignment. Misaligned entities ('-') will be ignored during training.\n",
      "  warnings.warn(\n"
     ]
    },
    {
     "name": "stdout",
     "output_type": "stream",
     "text": [
      "{'ner': 11974.03375792894}\n"
     ]
    },
    {
     "name": "stderr",
     "output_type": "stream",
     "text": [
      "C:\\Users\\teddy\\miniconda3\\envs\\NLP_env\\lib\\site-packages\\spacy\\training\\iob_utils.py:141: UserWarning: [W030] Some entities could not be aligned in the text \"Pratik Vaidya\n",
      "Pune, Maharashtra - Email me on Inde...\" with entities \"[(54, 98, 'Email Address'), (1901, 1906, 'Skills')...\". Use `spacy.training.offsets_to_biluo_tags(nlp.make_doc(text), entities)` to check the alignment. Misaligned entities ('-') will be ignored during training.\n",
      "  warnings.warn(\n"
     ]
    },
    {
     "name": "stdout",
     "output_type": "stream",
     "text": [
      "{'ner': 11997.296405911486}\n"
     ]
    },
    {
     "name": "stderr",
     "output_type": "stream",
     "text": [
      "C:\\Users\\teddy\\miniconda3\\envs\\NLP_env\\lib\\site-packages\\spacy\\training\\iob_utils.py:141: UserWarning: [W030] Some entities could not be aligned in the text \"Fenil Francis\n",
      "head of operation and logistics\n",
      "\n",
      "Tri...\" with entities \"[(648, 652, 'Graduation Year'), (0, 13, 'Name'), (...\". Use `spacy.training.offsets_to_biluo_tags(nlp.make_doc(text), entities)` to check the alignment. Misaligned entities ('-') will be ignored during training.\n",
      "  warnings.warn(\n"
     ]
    },
    {
     "name": "stdout",
     "output_type": "stream",
     "text": [
      "{'ner': 12017.385775381485}\n"
     ]
    },
    {
     "name": "stderr",
     "output_type": "stream",
     "text": [
      "C:\\Users\\teddy\\miniconda3\\envs\\NLP_env\\lib\\site-packages\\spacy\\training\\iob_utils.py:141: UserWarning: [W030] Some entities could not be aligned in the text \"Raktim Podder\n",
      "6+ Exp in banking operations and cre...\" with entities \"[(8800, 8928, 'Skills'), (66, 70, 'Location'), (28...\". Use `spacy.training.offsets_to_biluo_tags(nlp.make_doc(text), entities)` to check the alignment. Misaligned entities ('-') will be ignored during training.\n",
      "  warnings.warn(\n"
     ]
    },
    {
     "name": "stdout",
     "output_type": "stream",
     "text": [
      "{'ner': 12031.735040989188}\n"
     ]
    },
    {
     "name": "stderr",
     "output_type": "stream",
     "text": [
      "C:\\Users\\teddy\\miniconda3\\envs\\NLP_env\\lib\\site-packages\\spacy\\training\\iob_utils.py:141: UserWarning: [W030] Some entities could not be aligned in the text \"Suresh Kanagala\n",
      "Architecture SharePoint/Office 365...\" with entities \"[(633, 638, 'Degree'), (273, 312, 'Designation'), ...\". Use `spacy.training.offsets_to_biluo_tags(nlp.make_doc(text), entities)` to check the alignment. Misaligned entities ('-') will be ignored during training.\n",
      "  warnings.warn(\n"
     ]
    },
    {
     "name": "stdout",
     "output_type": "stream",
     "text": [
      "{'ner': 12048.895840594723}\n",
      "{'ner': 12072.121917186816}\n"
     ]
    },
    {
     "name": "stderr",
     "output_type": "stream",
     "text": [
      "C:\\Users\\teddy\\miniconda3\\envs\\NLP_env\\lib\\site-packages\\spacy\\training\\iob_utils.py:141: UserWarning: [W030] Some entities could not be aligned in the text \"Govardhana K\n",
      "Senior Software Engineer\n",
      "\n",
      "Bengaluru, ...\" with entities \"[(821, 856, 'Degree'), (0, 12, 'Name'), (93, 137, ...\". Use `spacy.training.offsets_to_biluo_tags(nlp.make_doc(text), entities)` to check the alignment. Misaligned entities ('-') will be ignored during training.\n",
      "  warnings.warn(\n"
     ]
    },
    {
     "name": "stdout",
     "output_type": "stream",
     "text": [
      "{'ner': 12126.2392809941}\n"
     ]
    },
    {
     "name": "stderr",
     "output_type": "stream",
     "text": [
      "C:\\Users\\teddy\\miniconda3\\envs\\NLP_env\\lib\\site-packages\\spacy\\training\\iob_utils.py:141: UserWarning: [W030] Some entities could not be aligned in the text \"Rahul Tayade\n",
      "Global Production Support Lead, - Inf...\" with entities \"[(10955, 11000, 'College Name'), (125, 168, 'Email...\". Use `spacy.training.offsets_to_biluo_tags(nlp.make_doc(text), entities)` to check the alignment. Misaligned entities ('-') will be ignored during training.\n",
      "  warnings.warn(\n",
      "C:\\Users\\teddy\\miniconda3\\envs\\NLP_env\\lib\\site-packages\\spacy\\training\\iob_utils.py:141: UserWarning: [W030] Some entities could not be aligned in the text \"Rahul Tayade\n",
      "Global Production Support Lead, - Inf...\" with entities \"[(2907, 2938, 'Designation')]\". Use `spacy.training.offsets_to_biluo_tags(nlp.make_doc(text), entities)` to check the alignment. Misaligned entities ('-') will be ignored during training.\n",
      "  warnings.warn(\n"
     ]
    },
    {
     "name": "stdout",
     "output_type": "stream",
     "text": [
      "{'ner': 12132.585739778697}\n"
     ]
    },
    {
     "name": "stderr",
     "output_type": "stream",
     "text": [
      "C:\\Users\\teddy\\miniconda3\\envs\\NLP_env\\lib\\site-packages\\spacy\\training\\iob_utils.py:141: UserWarning: [W030] Some entities could not be aligned in the text \"Pankaj Bhosale\n",
      "Microsoft SQL-SERVER\n",
      "\n",
      "Dhule, Mahara...\" with entities \"[(1292, 1296, 'Graduation Year'), (1369, 1413, 'Em...\". Use `spacy.training.offsets_to_biluo_tags(nlp.make_doc(text), entities)` to check the alignment. Misaligned entities ('-') will be ignored during training.\n",
      "  warnings.warn(\n"
     ]
    },
    {
     "name": "stdout",
     "output_type": "stream",
     "text": [
      "{'ner': 12162.16949064445}\n"
     ]
    },
    {
     "name": "stderr",
     "output_type": "stream",
     "text": [
      "C:\\Users\\teddy\\miniconda3\\envs\\NLP_env\\lib\\site-packages\\spacy\\training\\iob_utils.py:141: UserWarning: [W030] Some entities could not be aligned in the text \"Venkateswara D\n",
      "specialist - Technology Process\n",
      "\n",
      "IN...\" with entities \"[(7858, 7886, 'College Name'), (428, 455, 'Compani...\". Use `spacy.training.offsets_to_biluo_tags(nlp.make_doc(text), entities)` to check the alignment. Misaligned entities ('-') will be ignored during training.\n",
      "  warnings.warn(\n"
     ]
    },
    {
     "name": "stdout",
     "output_type": "stream",
     "text": [
      "{'ner': 12174.173198250472}\n"
     ]
    },
    {
     "name": "stderr",
     "output_type": "stream",
     "text": [
      "C:\\Users\\teddy\\miniconda3\\envs\\NLP_env\\lib\\site-packages\\spacy\\training\\iob_utils.py:141: UserWarning: [W030] Some entities could not be aligned in the text \"Nitin Verma\n",
      "Assisting Microsoft Partners - Exchang...\" with entities \"[(1225, 1256, 'Degree'), (111, 152, 'Email Address...\". Use `spacy.training.offsets_to_biluo_tags(nlp.make_doc(text), entities)` to check the alignment. Misaligned entities ('-') will be ignored during training.\n",
      "  warnings.warn(\n"
     ]
    },
    {
     "name": "stdout",
     "output_type": "stream",
     "text": [
      "{'ner': 12192.019248437486}\n"
     ]
    },
    {
     "name": "stderr",
     "output_type": "stream",
     "text": [
      "C:\\Users\\teddy\\miniconda3\\envs\\NLP_env\\lib\\site-packages\\spacy\\training\\iob_utils.py:141: UserWarning: [W030] Some entities could not be aligned in the text \"Anand S\n",
      "Bangalore, Karnataka - Email me on Indeed:...\" with entities \"[(182, 193, 'College Name'), (8, 17, 'Location'), ...\". Use `spacy.training.offsets_to_biluo_tags(nlp.make_doc(text), entities)` to check the alignment. Misaligned entities ('-') will be ignored during training.\n",
      "  warnings.warn(\n"
     ]
    },
    {
     "name": "stdout",
     "output_type": "stream",
     "text": [
      "{'ner': 12203.876480757157}\n"
     ]
    },
    {
     "name": "stderr",
     "output_type": "stream",
     "text": [
      "C:\\Users\\teddy\\miniconda3\\envs\\NLP_env\\lib\\site-packages\\spacy\\training\\iob_utils.py:141: UserWarning: [W030] Some entities could not be aligned in the text \"Puneet Bhandari\n",
      "SAP SD lead - Microsoft IT\n",
      "\n",
      "Pune, ...\" with entities \"[(8383, 8387, 'Graduation Year'), (8576, 8593, 'Sk...\". Use `spacy.training.offsets_to_biluo_tags(nlp.make_doc(text), entities)` to check the alignment. Misaligned entities ('-') will be ignored during training.\n",
      "  warnings.warn(\n",
      "C:\\Users\\teddy\\miniconda3\\envs\\NLP_env\\lib\\site-packages\\spacy\\training\\iob_utils.py:141: UserWarning: [W030] Some entities could not be aligned in the text \"Puneet Bhandari\n",
      "SAP SD lead - Microsoft IT\n",
      "\n",
      "Pune, ...\" with entities \"[(1576, 1580, 'Location'), (0, 4, 'Location')]\". Use `spacy.training.offsets_to_biluo_tags(nlp.make_doc(text), entities)` to check the alignment. Misaligned entities ('-') will be ignored during training.\n",
      "  warnings.warn(\n"
     ]
    },
    {
     "name": "stdout",
     "output_type": "stream",
     "text": [
      "{'ner': 12231.442690211996}\n"
     ]
    },
    {
     "name": "stderr",
     "output_type": "stream",
     "text": [
      "C:\\Users\\teddy\\miniconda3\\envs\\NLP_env\\lib\\site-packages\\spacy\\training\\iob_utils.py:141: UserWarning: [W030] Some entities could not be aligned in the text \"Pratibha P\n",
      "Principal Consultant at Oracle\n",
      "\n",
      "Bengalu...\" with entities \"[(1099, 1119, 'Designation'), (1646, 1652, 'Compan...\". Use `spacy.training.offsets_to_biluo_tags(nlp.make_doc(text), entities)` to check the alignment. Misaligned entities ('-') will be ignored during training.\n",
      "  warnings.warn(\n"
     ]
    },
    {
     "name": "stdout",
     "output_type": "stream",
     "text": [
      "{'ner': 12301.58344315995}\n"
     ]
    },
    {
     "name": "stderr",
     "output_type": "stream",
     "text": [
      "C:\\Users\\teddy\\miniconda3\\envs\\NLP_env\\lib\\site-packages\\spacy\\training\\iob_utils.py:141: UserWarning: [W030] Some entities could not be aligned in the text \"Vishwanath P\n",
      "Senior Executive (MIS & Audit) - Job ...\" with entities \"[(8133, 8136, 'Degree'), (13, 44, 'Designation'), ...\". Use `spacy.training.offsets_to_biluo_tags(nlp.make_doc(text), entities)` to check the alignment. Misaligned entities ('-') will be ignored during training.\n",
      "  warnings.warn(\n"
     ]
    },
    {
     "name": "stdout",
     "output_type": "stream",
     "text": [
      "{'ner': 12309.510906673791}\n"
     ]
    },
    {
     "name": "stderr",
     "output_type": "stream",
     "text": [
      "C:\\Users\\teddy\\miniconda3\\envs\\NLP_env\\lib\\site-packages\\spacy\\training\\iob_utils.py:141: UserWarning: [W030] Some entities could not be aligned in the text \"Senthil Kumar\n",
      "Senior Technical Lead - HCL Cisco\n",
      "\n",
      "-...\" with entities \"[(1524, 1529, 'Companies worked at'), (816, 837, '...\". Use `spacy.training.offsets_to_biluo_tags(nlp.make_doc(text), entities)` to check the alignment. Misaligned entities ('-') will be ignored during training.\n",
      "  warnings.warn(\n",
      "C:\\Users\\teddy\\miniconda3\\envs\\NLP_env\\lib\\site-packages\\spacy\\training\\iob_utils.py:141: UserWarning: [W030] Some entities could not be aligned in the text \"Senthil Kumar\n",
      "Senior Technical Lead - HCL Cisco\n",
      "\n",
      "-...\" with entities \"[(6708, 6713, 'Companies worked at'), (21, 35, 'De...\". Use `spacy.training.offsets_to_biluo_tags(nlp.make_doc(text), entities)` to check the alignment. Misaligned entities ('-') will be ignored during training.\n",
      "  warnings.warn(\n"
     ]
    },
    {
     "name": "stdout",
     "output_type": "stream",
     "text": [
      "{'ner': 12383.72395011258}\n"
     ]
    },
    {
     "name": "stderr",
     "output_type": "stream",
     "text": [
      "C:\\Users\\teddy\\miniconda3\\envs\\NLP_env\\lib\\site-packages\\spacy\\training\\iob_utils.py:141: UserWarning: [W030] Some entities could not be aligned in the text \"Shreyanshu Gupta\n",
      "Software Development Engineer wit...\" with entities \"[(17, 46, 'Designation'), (2256, 2275, 'Skills'), ...\". Use `spacy.training.offsets_to_biluo_tags(nlp.make_doc(text), entities)` to check the alignment. Misaligned entities ('-') will be ignored during training.\n",
      "  warnings.warn(\n"
     ]
    },
    {
     "name": "stdout",
     "output_type": "stream",
     "text": [
      "{'ner': 12513.78059207482}\n"
     ]
    },
    {
     "name": "stderr",
     "output_type": "stream",
     "text": [
      "C:\\Users\\teddy\\miniconda3\\envs\\NLP_env\\lib\\site-packages\\spacy\\training\\iob_utils.py:141: UserWarning: [W030] Some entities could not be aligned in the text \"Urshila Lohani\n",
      "Senior Corporate Account Executive ...\" with entities \"[(61, 68, 'Location'), (100, 144, 'Email Address')...\". Use `spacy.training.offsets_to_biluo_tags(nlp.make_doc(text), entities)` to check the alignment. Misaligned entities ('-') will be ignored during training.\n",
      "  warnings.warn(\n",
      "C:\\Users\\teddy\\miniconda3\\envs\\NLP_env\\lib\\site-packages\\spacy\\training\\iob_utils.py:141: UserWarning: [W030] Some entities could not be aligned in the text \"Urshila Lohani\n",
      "Senior Corporate Account Executive ...\" with entities \"[(15, 50, 'Designation')]\". Use `spacy.training.offsets_to_biluo_tags(nlp.make_doc(text), entities)` to check the alignment. Misaligned entities ('-') will be ignored during training.\n",
      "  warnings.warn(\n"
     ]
    },
    {
     "name": "stdout",
     "output_type": "stream",
     "text": [
      "{'ner': 12543.636281502915}\n"
     ]
    },
    {
     "name": "stderr",
     "output_type": "stream",
     "text": [
      "C:\\Users\\teddy\\miniconda3\\envs\\NLP_env\\lib\\site-packages\\spacy\\training\\iob_utils.py:141: UserWarning: [W030] Some entities could not be aligned in the text \"Madhuri Sripathi\n",
      "Banglore, Karnataka, Karnataka - ...\" with entities \"[(2711, 2736, 'Designation'), (126, 132, 'Years of...\". Use `spacy.training.offsets_to_biluo_tags(nlp.make_doc(text), entities)` to check the alignment. Misaligned entities ('-') will be ignored during training.\n",
      "  warnings.warn(\n"
     ]
    },
    {
     "name": "stdout",
     "output_type": "stream",
     "text": [
      "{'ner': 12572.31747787697}\n"
     ]
    },
    {
     "name": "stderr",
     "output_type": "stream",
     "text": [
      "C:\\Users\\teddy\\miniconda3\\envs\\NLP_env\\lib\\site-packages\\spacy\\training\\iob_utils.py:141: UserWarning: [W030] Some entities could not be aligned in the text \"Manjari Singh\n",
      "Senior Software Analyst - Accenture\n",
      "...\" with entities \"[(51, 60, 'Location'), (40, 49, 'Companies worked ...\". Use `spacy.training.offsets_to_biluo_tags(nlp.make_doc(text), entities)` to check the alignment. Misaligned entities ('-') will be ignored during training.\n",
      "  warnings.warn(\n"
     ]
    },
    {
     "name": "stdout",
     "output_type": "stream",
     "text": [
      "{'ner': 12604.638772251876}\n",
      "{'ner': 12612.549696207234}\n"
     ]
    },
    {
     "name": "stderr",
     "output_type": "stream",
     "text": [
      "C:\\Users\\teddy\\miniconda3\\envs\\NLP_env\\lib\\site-packages\\spacy\\training\\iob_utils.py:141: UserWarning: [W030] Some entities could not be aligned in the text \"B. Gokul\n",
      "Gokul, Uttar Pradesh - Email me on Indeed...\" with entities \"[(0, 8, 'Name'), (681, 834, 'Skills'), (372, 380, ...\". Use `spacy.training.offsets_to_biluo_tags(nlp.make_doc(text), entities)` to check the alignment. Misaligned entities ('-') will be ignored during training.\n",
      "  warnings.warn(\n",
      "C:\\Users\\teddy\\miniconda3\\envs\\NLP_env\\lib\\site-packages\\spacy\\training\\iob_utils.py:141: UserWarning: [W030] Some entities could not be aligned in the text \"B. Gokul\n",
      "Gokul, Uttar Pradesh - Email me on Indeed...\" with entities \"[(3, 8, 'Location'), (67, 72, 'Location'), (983, 9...\". Use `spacy.training.offsets_to_biluo_tags(nlp.make_doc(text), entities)` to check the alignment. Misaligned entities ('-') will be ignored during training.\n",
      "  warnings.warn(\n",
      "C:\\Users\\teddy\\miniconda3\\envs\\NLP_env\\lib\\site-packages\\spacy\\training\\iob_utils.py:141: UserWarning: [W030] Some entities could not be aligned in the text \"Gaurav Soni\n",
      "New Delhi, Delhi - Email me on Indeed:...\" with entities \"[(1089, 1239, 'Skills'), (0, 11, 'Name'), (858, 89...\". Use `spacy.training.offsets_to_biluo_tags(nlp.make_doc(text), entities)` to check the alignment. Misaligned entities ('-') will be ignored during training.\n",
      "  warnings.warn(\n"
     ]
    },
    {
     "name": "stdout",
     "output_type": "stream",
     "text": [
      "{'ner': 12631.831323786872}\n"
     ]
    },
    {
     "name": "stderr",
     "output_type": "stream",
     "text": [
      "C:\\Users\\teddy\\miniconda3\\envs\\NLP_env\\lib\\site-packages\\spacy\\training\\iob_utils.py:141: UserWarning: [W030] Some entities could not be aligned in the text \"PRASHANTH BADALA\n",
      "Devops Engineer ,Cloud Engineer -...\" with entities \"[(101, 148, 'Email Address'), (10803, 10809, 'Comp...\". Use `spacy.training.offsets_to_biluo_tags(nlp.make_doc(text), entities)` to check the alignment. Misaligned entities ('-') will be ignored during training.\n",
      "  warnings.warn(\n",
      "C:\\Users\\teddy\\miniconda3\\envs\\NLP_env\\lib\\site-packages\\spacy\\training\\iob_utils.py:141: UserWarning: [W030] Some entities could not be aligned in the text \"PRASHANTH BADALA\n",
      "Devops Engineer ,Cloud Engineer -...\" with entities \"[(667, 671, 'Skills'), (11578, 11582, 'Skills'), (...\". Use `spacy.training.offsets_to_biluo_tags(nlp.make_doc(text), entities)` to check the alignment. Misaligned entities ('-') will be ignored during training.\n",
      "  warnings.warn(\n"
     ]
    },
    {
     "name": "stdout",
     "output_type": "stream",
     "text": [
      "{'ner': 12771.838280854665}\n"
     ]
    },
    {
     "name": "stderr",
     "output_type": "stream",
     "text": [
      "C:\\Users\\teddy\\miniconda3\\envs\\NLP_env\\lib\\site-packages\\spacy\\training\\iob_utils.py:141: UserWarning: [W030] Some entities could not be aligned in the text \"Nidhi Pandit\n",
      "Test Engineer - Infosys Limited\n",
      "\n",
      "- Em...\" with entities \"[(29, 45, 'Companies worked at'), (68, 110, 'Email...\". Use `spacy.training.offsets_to_biluo_tags(nlp.make_doc(text), entities)` to check the alignment. Misaligned entities ('-') will be ignored during training.\n",
      "  warnings.warn(\n"
     ]
    },
    {
     "name": "stdout",
     "output_type": "stream",
     "text": [
      "{'ner': 12791.92820149889}\n"
     ]
    },
    {
     "name": "stderr",
     "output_type": "stream",
     "text": [
      "C:\\Users\\teddy\\miniconda3\\envs\\NLP_env\\lib\\site-packages\\spacy\\training\\iob_utils.py:141: UserWarning: [W030] Some entities could not be aligned in the text \"Shivam Rathi\n",
      "Microsoft technology Associate (MTA)\n",
      "...\" with entities \"[(1371, 1378, 'Degree'), (431, 467, 'Designation')...\". Use `spacy.training.offsets_to_biluo_tags(nlp.make_doc(text), entities)` to check the alignment. Misaligned entities ('-') will be ignored during training.\n",
      "  warnings.warn(\n"
     ]
    },
    {
     "name": "stdout",
     "output_type": "stream",
     "text": [
      "{'ner': 12807.425959355049}\n"
     ]
    },
    {
     "name": "stderr",
     "output_type": "stream",
     "text": [
      "C:\\Users\\teddy\\miniconda3\\envs\\NLP_env\\lib\\site-packages\\spacy\\training\\iob_utils.py:141: UserWarning: [W030] Some entities could not be aligned in the text \"Prasanna Ignatius\n",
      "MICROSOFT - Backup Administrator...\" with entities \"[(2124, 2144, 'Designation'), (30, 50, 'Designatio...\". Use `spacy.training.offsets_to_biluo_tags(nlp.make_doc(text), entities)` to check the alignment. Misaligned entities ('-') will be ignored during training.\n",
      "  warnings.warn(\n"
     ]
    },
    {
     "name": "stdout",
     "output_type": "stream",
     "text": [
      "{'ner': 12834.674127705259}\n"
     ]
    },
    {
     "name": "stderr",
     "output_type": "stream",
     "text": [
      "C:\\Users\\teddy\\miniconda3\\envs\\NLP_env\\lib\\site-packages\\spacy\\training\\iob_utils.py:141: UserWarning: [W030] Some entities could not be aligned in the text \"Yogi Pesaru\n",
      "Developer - Infosys Limited\n",
      "\n",
      "Hyderabad...\" with entities \"[(3621, 3675, 'Skills'), (84, 126, 'Email Address'...\". Use `spacy.training.offsets_to_biluo_tags(nlp.make_doc(text), entities)` to check the alignment. Misaligned entities ('-') will be ignored during training.\n",
      "  warnings.warn(\n"
     ]
    },
    {
     "name": "stdout",
     "output_type": "stream",
     "text": [
      "{'ner': 12864.410731471662}\n"
     ]
    },
    {
     "name": "stderr",
     "output_type": "stream",
     "text": [
      "C:\\Users\\teddy\\miniconda3\\envs\\NLP_env\\lib\\site-packages\\spacy\\training\\iob_utils.py:141: UserWarning: [W030] Some entities could not be aligned in the text \"Pawan Nag\n",
      "Microsoft Certified System Engineer\n",
      "\n",
      "Del...\" with entities \"[(82, 121, 'Email Address'), (150, 175, 'Designati...\". Use `spacy.training.offsets_to_biluo_tags(nlp.make_doc(text), entities)` to check the alignment. Misaligned entities ('-') will be ignored during training.\n",
      "  warnings.warn(\n"
     ]
    },
    {
     "name": "stdout",
     "output_type": "stream",
     "text": [
      "{'ner': 12886.221495667076}\n"
     ]
    },
    {
     "name": "stderr",
     "output_type": "stream",
     "text": [
      "C:\\Users\\teddy\\miniconda3\\envs\\NLP_env\\lib\\site-packages\\spacy\\training\\iob_utils.py:141: UserWarning: [W030] Some entities could not be aligned in the text \"Paul Rajiv\n",
      "Secunderabad, Andhra Pradesh - Email me...\" with entities \"[(62, 104, 'Email Address'), (4729, 4733, 'Graduat...\". Use `spacy.training.offsets_to_biluo_tags(nlp.make_doc(text), entities)` to check the alignment. Misaligned entities ('-') will be ignored during training.\n",
      "  warnings.warn(\n"
     ]
    },
    {
     "name": "stdout",
     "output_type": "stream",
     "text": [
      "{'ner': 12897.813054709943}\n"
     ]
    },
    {
     "name": "stderr",
     "output_type": "stream",
     "text": [
      "C:\\Users\\teddy\\miniconda3\\envs\\NLP_env\\lib\\site-packages\\spacy\\training\\iob_utils.py:141: UserWarning: [W030] Some entities could not be aligned in the text \"Ramkrishan Bhatt\n",
      "python developer\n",
      "\n",
      "Bengaluru, Karn...\" with entities \"[(35, 44, 'Location'), (1439, 1468, 'College Name'...\". Use `spacy.training.offsets_to_biluo_tags(nlp.make_doc(text), entities)` to check the alignment. Misaligned entities ('-') will be ignored during training.\n",
      "  warnings.warn(\n"
     ]
    },
    {
     "name": "stdout",
     "output_type": "stream",
     "text": [
      "{'ner': 12913.697417346079}\n"
     ]
    },
    {
     "name": "stderr",
     "output_type": "stream",
     "text": [
      "C:\\Users\\teddy\\miniconda3\\envs\\NLP_env\\lib\\site-packages\\spacy\\training\\iob_utils.py:141: UserWarning: [W030] Some entities could not be aligned in the text \"Akansha Jain\n",
      "Pune, Maharashtra - Email me on Indee...\" with entities \"[(331, 340, 'Designation'), (280, 285, 'Location')...\". Use `spacy.training.offsets_to_biluo_tags(nlp.make_doc(text), entities)` to check the alignment. Misaligned entities ('-') will be ignored during training.\n",
      "  warnings.warn(\n",
      "C:\\Users\\teddy\\miniconda3\\envs\\NLP_env\\lib\\site-packages\\spacy\\training\\iob_utils.py:141: UserWarning: [W030] Some entities could not be aligned in the text \"Akansha Jain\n",
      "Pune, Maharashtra - Email me on Indee...\" with entities \"[(1514, 1523, 'Companies worked at'), (1573, 1578,...\". Use `spacy.training.offsets_to_biluo_tags(nlp.make_doc(text), entities)` to check the alignment. Misaligned entities ('-') will be ignored during training.\n",
      "  warnings.warn(\n"
     ]
    },
    {
     "name": "stdout",
     "output_type": "stream",
     "text": [
      "{'ner': 12924.961215059759}\n"
     ]
    },
    {
     "name": "stderr",
     "output_type": "stream",
     "text": [
      "C:\\Users\\teddy\\miniconda3\\envs\\NLP_env\\lib\\site-packages\\spacy\\training\\iob_utils.py:141: UserWarning: [W030] Some entities could not be aligned in the text \"Anil Kumar\n",
      "Microsoft Azure (Basic Management)\n",
      "\n",
      "Del...\" with entities \"[(2363, 2452, 'Skills'), (7716, 7721, 'Location'),...\". Use `spacy.training.offsets_to_biluo_tags(nlp.make_doc(text), entities)` to check the alignment. Misaligned entities ('-') will be ignored during training.\n",
      "  warnings.warn(\n"
     ]
    },
    {
     "name": "stdout",
     "output_type": "stream",
     "text": [
      "{'ner': 12952.744656618126}\n"
     ]
    },
    {
     "name": "stderr",
     "output_type": "stream",
     "text": [
      "C:\\Users\\teddy\\miniconda3\\envs\\NLP_env\\lib\\site-packages\\spacy\\training\\iob_utils.py:141: UserWarning: [W030] Some entities could not be aligned in the text \"Vijayalakshmi Govindarajan\n",
      "SAP as a Consultant - S...\" with entities \"[(737, 770, 'College Name'), (60, 68, 'Location'),...\". Use `spacy.training.offsets_to_biluo_tags(nlp.make_doc(text), entities)` to check the alignment. Misaligned entities ('-') will be ignored during training.\n",
      "  warnings.warn(\n"
     ]
    },
    {
     "name": "stdout",
     "output_type": "stream",
     "text": [
      "{'ner': 12986.479600609091}\n"
     ]
    },
    {
     "name": "stderr",
     "output_type": "stream",
     "text": [
      "C:\\Users\\teddy\\miniconda3\\envs\\NLP_env\\lib\\site-packages\\spacy\\training\\iob_utils.py:141: UserWarning: [W030] Some entities could not be aligned in the text \"Pradeep Kumar\n",
      "Security Analyst in Infosys - Career...\" with entities \"[(512, 554, 'College Name'), (14, 30, 'Designation...\". Use `spacy.training.offsets_to_biluo_tags(nlp.make_doc(text), entities)` to check the alignment. Misaligned entities ('-') will be ignored during training.\n",
      "  warnings.warn(\n"
     ]
    },
    {
     "name": "stdout",
     "output_type": "stream",
     "text": [
      "{'ner': 12996.344064767685}\n",
      "{'ner': 12996.344064767685}\n"
     ]
    },
    {
     "name": "stderr",
     "output_type": "stream",
     "text": [
      "C:\\Users\\teddy\\miniconda3\\envs\\NLP_env\\lib\\site-packages\\spacy\\training\\iob_utils.py:141: UserWarning: [W030] Some entities could not be aligned in the text \"Deepika S\n",
      "Test Engineer - Infosys Ltd\n",
      "\n",
      "- Email me ...\" with entities \"[(61, 101, 'Email Address'), (3093, 3118, 'Degree'...\". Use `spacy.training.offsets_to_biluo_tags(nlp.make_doc(text), entities)` to check the alignment. Misaligned entities ('-') will be ignored during training.\n",
      "  warnings.warn(\n",
      "C:\\Users\\teddy\\miniconda3\\envs\\NLP_env\\lib\\site-packages\\spacy\\training\\iob_utils.py:141: UserWarning: [W030] Some entities could not be aligned in the text \"Vamsi krishna\n",
      "hyderbad, Telangana - Email me on In...\" with entities \"[(271, 290, 'Skills'), (183, 192, 'Companies worke...\". Use `spacy.training.offsets_to_biluo_tags(nlp.make_doc(text), entities)` to check the alignment. Misaligned entities ('-') will be ignored during training.\n",
      "  warnings.warn(\n"
     ]
    },
    {
     "name": "stdout",
     "output_type": "stream",
     "text": [
      "{'ner': 13010.179245654832}\n"
     ]
    },
    {
     "name": "stderr",
     "output_type": "stream",
     "text": [
      "C:\\Users\\teddy\\miniconda3\\envs\\NLP_env\\lib\\site-packages\\spacy\\training\\iob_utils.py:141: UserWarning: [W030] Some entities could not be aligned in the text \"Karthik Gururaj\n",
      "Technical Lead at Infosys Ltd. - P...\" with entities \"[(2178, 2223, 'Email Address'), (1942, 1956, 'Desi...\". Use `spacy.training.offsets_to_biluo_tags(nlp.make_doc(text), entities)` to check the alignment. Misaligned entities ('-') will be ignored during training.\n",
      "  warnings.warn(\n"
     ]
    },
    {
     "name": "stdout",
     "output_type": "stream",
     "text": [
      "{'ner': 13026.165230347897}\n"
     ]
    },
    {
     "name": "stderr",
     "output_type": "stream",
     "text": [
      "C:\\Users\\teddy\\miniconda3\\envs\\NLP_env\\lib\\site-packages\\spacy\\training\\iob_utils.py:141: UserWarning: [W030] Some entities could not be aligned in the text \"Shiksha Bhatnagar\n",
      "chnadigarh - Email me on Indeed:...\" with entities \"[(497, 507, 'Companies worked at'), (137, 147, 'Co...\". Use `spacy.training.offsets_to_biluo_tags(nlp.make_doc(text), entities)` to check the alignment. Misaligned entities ('-') will be ignored during training.\n",
      "  warnings.warn(\n"
     ]
    },
    {
     "name": "stdout",
     "output_type": "stream",
     "text": [
      "{'ner': 13034.096643162946}\n"
     ]
    },
    {
     "name": "stderr",
     "output_type": "stream",
     "text": [
      "C:\\Users\\teddy\\miniconda3\\envs\\NLP_env\\lib\\site-packages\\spacy\\training\\iob_utils.py:141: UserWarning: [W030] Some entities could not be aligned in the text \"Gaikwad Dilip\n",
      "Microsoft Dainamic Software Billing ...\" with entities \"[(608, 652, 'Designation'), (14, 58, 'Designation'...\". Use `spacy.training.offsets_to_biluo_tags(nlp.make_doc(text), entities)` to check the alignment. Misaligned entities ('-') will be ignored during training.\n",
      "  warnings.warn(\n"
     ]
    },
    {
     "name": "stdout",
     "output_type": "stream",
     "text": [
      "{'ner': 13043.51460597571}\n"
     ]
    },
    {
     "name": "stderr",
     "output_type": "stream",
     "text": [
      "C:\\Users\\teddy\\miniconda3\\envs\\NLP_env\\lib\\site-packages\\spacy\\training\\iob_utils.py:141: UserWarning: [W030] Some entities could not be aligned in the text \"Siddhartha Chetri\n",
      "7 years of experience in IT Netw...\" with entities \"[(0, 17, 'Name'), (18, 25, 'Years of Experience'),...\". Use `spacy.training.offsets_to_biluo_tags(nlp.make_doc(text), entities)` to check the alignment. Misaligned entities ('-') will be ignored during training.\n",
      "  warnings.warn(\n"
     ]
    },
    {
     "name": "stdout",
     "output_type": "stream",
     "text": [
      "{'ner': 13051.141996994871}\n"
     ]
    },
    {
     "name": "stderr",
     "output_type": "stream",
     "text": [
      "C:\\Users\\teddy\\miniconda3\\envs\\NLP_env\\lib\\site-packages\\spacy\\training\\iob_utils.py:141: UserWarning: [W030] Some entities could not be aligned in the text \"Lakshika Neelakshi\n",
      "Senior Systems Engineer - Infos...\" with entities \"[(2301, 2324, 'Designation'), (352, 375, 'Designat...\". Use `spacy.training.offsets_to_biluo_tags(nlp.make_doc(text), entities)` to check the alignment. Misaligned entities ('-') will be ignored during training.\n",
      "  warnings.warn(\n"
     ]
    },
    {
     "name": "stdout",
     "output_type": "stream",
     "text": [
      "{'ner': 13070.315731289436}\n"
     ]
    },
    {
     "name": "stderr",
     "output_type": "stream",
     "text": [
      "C:\\Users\\teddy\\miniconda3\\envs\\NLP_env\\lib\\site-packages\\spacy\\training\\iob_utils.py:141: UserWarning: [W030] Some entities could not be aligned in the text \"Sarfaraz Ahmad\n",
      "Associate network engineer - TATA C...\" with entities \"[(4690, 5815, 'Skills'), (879, 905, 'Designation')...\". Use `spacy.training.offsets_to_biluo_tags(nlp.make_doc(text), entities)` to check the alignment. Misaligned entities ('-') will be ignored during training.\n",
      "  warnings.warn(\n"
     ]
    },
    {
     "name": "stdout",
     "output_type": "stream",
     "text": [
      "{'ner': 13091.112702854425}\n"
     ]
    },
    {
     "name": "stderr",
     "output_type": "stream",
     "text": [
      "C:\\Users\\teddy\\miniconda3\\envs\\NLP_env\\lib\\site-packages\\spacy\\training\\iob_utils.py:141: UserWarning: [W030] Some entities could not be aligned in the text \"Prabhu Prasad Mohapatra\n",
      "Need job urgently\n",
      "\n",
      "Bhubane...\" with entities \"[(158, 169, 'Designation'), (265, 292, 'College Na...\". Use `spacy.training.offsets_to_biluo_tags(nlp.make_doc(text), entities)` to check the alignment. Misaligned entities ('-') will be ignored during training.\n",
      "  warnings.warn(\n"
     ]
    },
    {
     "name": "stdout",
     "output_type": "stream",
     "text": [
      "{'ner': 13103.172100953878}\n"
     ]
    },
    {
     "name": "stderr",
     "output_type": "stream",
     "text": [
      "C:\\Users\\teddy\\miniconda3\\envs\\NLP_env\\lib\\site-packages\\spacy\\training\\iob_utils.py:141: UserWarning: [W030] Some entities could not be aligned in the text \"Prakriti Shaurya\n",
      "Senior System Engineer - Infosys ...\" with entities \"[(711, 726, 'Companies worked at'), (1096, 1133, '...\". Use `spacy.training.offsets_to_biluo_tags(nlp.make_doc(text), entities)` to check the alignment. Misaligned entities ('-') will be ignored during training.\n",
      "  warnings.warn(\n"
     ]
    },
    {
     "name": "stdout",
     "output_type": "stream",
     "text": [
      "{'ner': 13130.321560177716}\n"
     ]
    },
    {
     "name": "stderr",
     "output_type": "stream",
     "text": [
      "C:\\Users\\teddy\\miniconda3\\envs\\NLP_env\\lib\\site-packages\\spacy\\training\\iob_utils.py:141: UserWarning: [W030] Some entities could not be aligned in the text \"Nitin Tr\n",
      "PeopleSoft Consultant\n",
      "\n",
      "Bangalore Urban, K...\" with entities \"[(3172, 3206, 'Degree'), (0, 8, 'Name'), (1008, 10...\". Use `spacy.training.offsets_to_biluo_tags(nlp.make_doc(text), entities)` to check the alignment. Misaligned entities ('-') will be ignored during training.\n",
      "  warnings.warn(\n"
     ]
    },
    {
     "name": "stdout",
     "output_type": "stream",
     "text": [
      "{'ner': 13157.093672677463}\n"
     ]
    },
    {
     "name": "stderr",
     "output_type": "stream",
     "text": [
      "C:\\Users\\teddy\\miniconda3\\envs\\NLP_env\\lib\\site-packages\\spacy\\training\\iob_utils.py:141: UserWarning: [W030] Some entities could not be aligned in the text \"Shabnam Saba\n",
      "Offshore SAP CRM Functional Consultan...\" with entities \"[(3296, 3300, 'Graduation Year'), (1332, 1341, 'Co...\". Use `spacy.training.offsets_to_biluo_tags(nlp.make_doc(text), entities)` to check the alignment. Misaligned entities ('-') will be ignored during training.\n",
      "  warnings.warn(\n"
     ]
    },
    {
     "name": "stdout",
     "output_type": "stream",
     "text": [
      "{'ner': 13170.747437209884}\n"
     ]
    },
    {
     "name": "stderr",
     "output_type": "stream",
     "text": [
      "C:\\Users\\teddy\\miniconda3\\envs\\NLP_env\\lib\\site-packages\\spacy\\training\\iob_utils.py:141: UserWarning: [W030] Some entities could not be aligned in the text \"Siddharth Choudhary\n",
      "Microsoft Office Suite - Exper...\" with entities \"[(785, 956, 'Skills'), (96, 146, 'Email Address'),...\". Use `spacy.training.offsets_to_biluo_tags(nlp.make_doc(text), entities)` to check the alignment. Misaligned entities ('-') will be ignored during training.\n",
      "  warnings.warn(\n"
     ]
    },
    {
     "name": "stdout",
     "output_type": "stream",
     "text": [
      "{'ner': 13180.380368661614}\n"
     ]
    },
    {
     "name": "stderr",
     "output_type": "stream",
     "text": [
      "C:\\Users\\teddy\\miniconda3\\envs\\NLP_env\\lib\\site-packages\\spacy\\training\\iob_utils.py:141: UserWarning: [W030] Some entities could not be aligned in the text \"Suman Biswas\n",
      "SAP UI5 Lead, Native HANA Developer -...\" with entities \"[(2163, 2205, 'Email Address'), (4672, 4951, 'Skil...\". Use `spacy.training.offsets_to_biluo_tags(nlp.make_doc(text), entities)` to check the alignment. Misaligned entities ('-') will be ignored during training.\n",
      "  warnings.warn(\n"
     ]
    },
    {
     "name": "stdout",
     "output_type": "stream",
     "text": [
      "{'ner': 13211.81427054502}\n"
     ]
    },
    {
     "name": "stderr",
     "output_type": "stream",
     "text": [
      "C:\\Users\\teddy\\miniconda3\\envs\\NLP_env\\lib\\site-packages\\spacy\\training\\iob_utils.py:141: UserWarning: [W030] Some entities could not be aligned in the text \"Pulkit Saxena\n",
      "New Delhi, Delhi - Email me on Indee...\" with entities \"[(3482, 3487, 'Companies worked at'), (53, 97, 'Em...\". Use `spacy.training.offsets_to_biluo_tags(nlp.make_doc(text), entities)` to check the alignment. Misaligned entities ('-') will be ignored during training.\n",
      "  warnings.warn(\n"
     ]
    },
    {
     "name": "stdout",
     "output_type": "stream",
     "text": [
      "{'ner': 13243.515304102411}\n"
     ]
    },
    {
     "name": "stderr",
     "output_type": "stream",
     "text": [
      "C:\\Users\\teddy\\miniconda3\\envs\\NLP_env\\lib\\site-packages\\spacy\\training\\iob_utils.py:141: UserWarning: [W030] Some entities could not be aligned in the text \"Sweety Garg\n",
      "Bengaluru, Karnataka - Email me on Ind...\" with entities \"[(137, 147, 'Companies worked at'), (213, 235, 'De...\". Use `spacy.training.offsets_to_biluo_tags(nlp.make_doc(text), entities)` to check the alignment. Misaligned entities ('-') will be ignored during training.\n",
      "  warnings.warn(\n",
      "C:\\Users\\teddy\\miniconda3\\envs\\NLP_env\\lib\\site-packages\\spacy\\training\\iob_utils.py:141: UserWarning: [W030] Some entities could not be aligned in the text \"Sweety Garg\n",
      "Bengaluru, Karnataka - Email me on Ind...\" with entities \"[(381, 391, 'Companies worked at'), (411, 421, 'Co...\". Use `spacy.training.offsets_to_biluo_tags(nlp.make_doc(text), entities)` to check the alignment. Misaligned entities ('-') will be ignored during training.\n",
      "  warnings.warn(\n"
     ]
    },
    {
     "name": "stdout",
     "output_type": "stream",
     "text": [
      "{'ner': 13253.42065301999}\n"
     ]
    },
    {
     "name": "stderr",
     "output_type": "stream",
     "text": [
      "C:\\Users\\teddy\\miniconda3\\envs\\NLP_env\\lib\\site-packages\\spacy\\training\\iob_utils.py:141: UserWarning: [W030] Some entities could not be aligned in the text \"Shivasai Mantri\n",
      "Microsoft dynamics AX Technical co...\" with entities \"[(539, 548, 'Companies worked at'), (549, 582, 'De...\". Use `spacy.training.offsets_to_biluo_tags(nlp.make_doc(text), entities)` to check the alignment. Misaligned entities ('-') will be ignored during training.\n",
      "  warnings.warn(\n"
     ]
    },
    {
     "name": "stdout",
     "output_type": "stream",
     "text": [
      "{'ner': 13269.164154085225}\n"
     ]
    },
    {
     "name": "stderr",
     "output_type": "stream",
     "text": [
      "C:\\Users\\teddy\\miniconda3\\envs\\NLP_env\\lib\\site-packages\\spacy\\training\\iob_utils.py:141: UserWarning: [W030] Some entities could not be aligned in the text \"Ravi Shivgond\n",
      "Bidar, Karnataka - Email me on Indee...\" with entities \"[(53, 96, 'Email Address'), (0, 13, 'Name'), (1131...\". Use `spacy.training.offsets_to_biluo_tags(nlp.make_doc(text), entities)` to check the alignment. Misaligned entities ('-') will be ignored during training.\n",
      "  warnings.warn(\n"
     ]
    },
    {
     "name": "stdout",
     "output_type": "stream",
     "text": [
      "{'ner': 13286.928324617353}\n"
     ]
    },
    {
     "name": "stderr",
     "output_type": "stream",
     "text": [
      "C:\\Users\\teddy\\miniconda3\\envs\\NLP_env\\lib\\site-packages\\spacy\\training\\iob_utils.py:141: UserWarning: [W030] Some entities could not be aligned in the text \"Ramakrishna Rao\n",
      "DevOps Consultant - Tech Mahindra ...\" with entities \"[(5913, 5930, 'Companies worked at'), (4612, 4647,...\". Use `spacy.training.offsets_to_biluo_tags(nlp.make_doc(text), entities)` to check the alignment. Misaligned entities ('-') will be ignored during training.\n",
      "  warnings.warn(\n"
     ]
    },
    {
     "name": "stdout",
     "output_type": "stream",
     "text": [
      "{'ner': 13310.246520455108}\n"
     ]
    },
    {
     "name": "stderr",
     "output_type": "stream",
     "text": [
      "C:\\Users\\teddy\\miniconda3\\envs\\NLP_env\\lib\\site-packages\\spacy\\training\\iob_utils.py:141: UserWarning: [W030] Some entities could not be aligned in the text \"Puran Mal\n",
      "Jaipur, Rajasthan - Email me on Indeed: ...\" with entities \"[(10, 16, 'Location'), (0, 9, 'Name'), (174, 183, ...\". Use `spacy.training.offsets_to_biluo_tags(nlp.make_doc(text), entities)` to check the alignment. Misaligned entities ('-') will be ignored during training.\n",
      "  warnings.warn(\n"
     ]
    },
    {
     "name": "stdout",
     "output_type": "stream",
     "text": [
      "{'ner': 13315.932328308701}\n"
     ]
    },
    {
     "name": "stderr",
     "output_type": "stream",
     "text": [
      "C:\\Users\\teddy\\miniconda3\\envs\\NLP_env\\lib\\site-packages\\spacy\\training\\iob_utils.py:141: UserWarning: [W030] Some entities could not be aligned in the text \"K. Siddharth\n",
      "System Administrator (Server) Microso...\" with entities \"[(1786, 1789, 'Degree'), (1657, 1689, 'Degree'), (...\". Use `spacy.training.offsets_to_biluo_tags(nlp.make_doc(text), entities)` to check the alignment. Misaligned entities ('-') will be ignored during training.\n",
      "  warnings.warn(\n"
     ]
    },
    {
     "name": "stdout",
     "output_type": "stream",
     "text": [
      "{'ner': 13336.509185051951}\n"
     ]
    },
    {
     "name": "stderr",
     "output_type": "stream",
     "text": [
      "C:\\Users\\teddy\\miniconda3\\envs\\NLP_env\\lib\\site-packages\\spacy\\training\\iob_utils.py:141: UserWarning: [W030] Some entities could not be aligned in the text \"Sanand Pal\n",
      "SQL and MSBI Developer with experience ...\" with entities \"[(2900, 2910, 'Location'), (2929, 2961, 'Degree'),...\". Use `spacy.training.offsets_to_biluo_tags(nlp.make_doc(text), entities)` to check the alignment. Misaligned entities ('-') will be ignored during training.\n",
      "  warnings.warn(\n"
     ]
    },
    {
     "name": "stdout",
     "output_type": "stream",
     "text": [
      "{'ner': 13356.920178130926}\n"
     ]
    },
    {
     "name": "stderr",
     "output_type": "stream",
     "text": [
      "C:\\Users\\teddy\\miniconda3\\envs\\NLP_env\\lib\\site-packages\\spacy\\training\\iob_utils.py:141: UserWarning: [W030] Some entities could not be aligned in the text \"Ravi Shankar\n",
      "Working as Escalation Engineer with M...\" with entities \"[(3407, 3411, 'Skills'), (2962, 2966, 'Degree'), (...\". Use `spacy.training.offsets_to_biluo_tags(nlp.make_doc(text), entities)` to check the alignment. Misaligned entities ('-') will be ignored during training.\n",
      "  warnings.warn(\n"
     ]
    },
    {
     "name": "stdout",
     "output_type": "stream",
     "text": [
      "{'ner': 13429.599853749845}\n"
     ]
    },
    {
     "name": "stderr",
     "output_type": "stream",
     "text": [
      "C:\\Users\\teddy\\miniconda3\\envs\\NLP_env\\lib\\site-packages\\spacy\\training\\iob_utils.py:141: UserWarning: [W030] Some entities could not be aligned in the text \"Prem Koshti\n",
      "Officer-HR & Administration in H.& R. ...\" with entities \"[(738, 741, 'Companies worked at'), (68, 71, 'Comp...\". Use `spacy.training.offsets_to_biluo_tags(nlp.make_doc(text), entities)` to check the alignment. Misaligned entities ('-') will be ignored during training.\n",
      "  warnings.warn(\n"
     ]
    },
    {
     "name": "stdout",
     "output_type": "stream",
     "text": [
      "{'ner': 13468.484330331432}\n"
     ]
    },
    {
     "name": "stderr",
     "output_type": "stream",
     "text": [
      "C:\\Users\\teddy\\miniconda3\\envs\\NLP_env\\lib\\site-packages\\spacy\\training\\iob_utils.py:141: UserWarning: [W030] Some entities could not be aligned in the text \"Tanmoy Maity\n",
      "Kolkata, West Bengal - Email me on In...\" with entities \"[(264, 279, 'Degree'), (13, 20, 'Location'), (0, 1...\". Use `spacy.training.offsets_to_biluo_tags(nlp.make_doc(text), entities)` to check the alignment. Misaligned entities ('-') will be ignored during training.\n",
      "  warnings.warn(\n"
     ]
    },
    {
     "name": "stdout",
     "output_type": "stream",
     "text": [
      "{'ner': 13487.351745870492}\n"
     ]
    },
    {
     "name": "stderr",
     "output_type": "stream",
     "text": [
      "C:\\Users\\teddy\\miniconda3\\envs\\NLP_env\\lib\\site-packages\\spacy\\training\\iob_utils.py:141: UserWarning: [W030] Some entities could not be aligned in the text \"Rajeev Kumar\n",
      "Senior Associate Consultant - Infosys...\" with entities \"[(1173, 1200, 'Designation'), (1202, 1217, 'Compan...\". Use `spacy.training.offsets_to_biluo_tags(nlp.make_doc(text), entities)` to check the alignment. Misaligned entities ('-') will be ignored during training.\n",
      "  warnings.warn(\n",
      "C:\\Users\\teddy\\miniconda3\\envs\\NLP_env\\lib\\site-packages\\spacy\\training\\iob_utils.py:141: UserWarning: [W030] Some entities could not be aligned in the text \"Rajeev Kumar\n",
      "Senior Associate Consultant - Infosys...\" with entities \"[(1180, 1201, 'Designation')]\". Use `spacy.training.offsets_to_biluo_tags(nlp.make_doc(text), entities)` to check the alignment. Misaligned entities ('-') will be ignored during training.\n",
      "  warnings.warn(\n"
     ]
    },
    {
     "name": "stdout",
     "output_type": "stream",
     "text": [
      "{'ner': 13499.771092898016}\n"
     ]
    },
    {
     "name": "stderr",
     "output_type": "stream",
     "text": [
      "C:\\Users\\teddy\\miniconda3\\envs\\NLP_env\\lib\\site-packages\\spacy\\training\\iob_utils.py:141: UserWarning: [W030] Some entities could not be aligned in the text \"Moumita Mitra\n",
      "- Email me on Indeed: indeed.com/r/M...\" with entities \"[(1465, 1476, 'Degree'), (1605, 1649, 'College Nam...\". Use `spacy.training.offsets_to_biluo_tags(nlp.make_doc(text), entities)` to check the alignment. Misaligned entities ('-') will be ignored during training.\n",
      "  warnings.warn(\n"
     ]
    },
    {
     "name": "stdout",
     "output_type": "stream",
     "text": [
      "{'ner': 13516.852173913327}\n"
     ]
    },
    {
     "name": "stderr",
     "output_type": "stream",
     "text": [
      "C:\\Users\\teddy\\miniconda3\\envs\\NLP_env\\lib\\site-packages\\spacy\\training\\iob_utils.py:141: UserWarning: [W030] Some entities could not be aligned in the text \"Sivaganesh Selvakumar\n",
      "DevOps Consultant with Infos...\" with entities \"[(328, 344, 'Companies worked at'), (1934, 1941, '...\". Use `spacy.training.offsets_to_biluo_tags(nlp.make_doc(text), entities)` to check the alignment. Misaligned entities ('-') will be ignored during training.\n",
      "  warnings.warn(\n"
     ]
    },
    {
     "name": "stdout",
     "output_type": "stream",
     "text": [
      "{'ner': 13526.24869878805}\n",
      "{'ner': 13543.659772056573}\n"
     ]
    },
    {
     "name": "stderr",
     "output_type": "stream",
     "text": [
      "C:\\Users\\teddy\\miniconda3\\envs\\NLP_env\\lib\\site-packages\\spacy\\training\\iob_utils.py:141: UserWarning: [W030] Some entities could not be aligned in the text \"Vinay Singhal\n",
      "New Delhi, Delhi - Email me on Indee...\" with entities \"[(14, 23, 'Location'), (0, 13, 'Name'), (937, 980,...\". Use `spacy.training.offsets_to_biluo_tags(nlp.make_doc(text), entities)` to check the alignment. Misaligned entities ('-') will be ignored during training.\n",
      "  warnings.warn(\n",
      "C:\\Users\\teddy\\miniconda3\\envs\\NLP_env\\lib\\site-packages\\spacy\\training\\iob_utils.py:141: UserWarning: [W030] Some entities could not be aligned in the text \"Palani S\n",
      "Senior Technology Support Executive at In...\" with entities \"[(370, 405, 'Designation'), (3660, 3664, 'Graduati...\". Use `spacy.training.offsets_to_biluo_tags(nlp.make_doc(text), entities)` to check the alignment. Misaligned entities ('-') will be ignored during training.\n",
      "  warnings.warn(\n"
     ]
    },
    {
     "name": "stdout",
     "output_type": "stream",
     "text": [
      "{'ner': 13548.856031093004}\n"
     ]
    },
    {
     "name": "stderr",
     "output_type": "stream",
     "text": [
      "C:\\Users\\teddy\\miniconda3\\envs\\NLP_env\\lib\\site-packages\\spacy\\training\\iob_utils.py:141: UserWarning: [W030] Some entities could not be aligned in the text \"Shubham Mittal\n",
      "System Engineer - Infosys Limited\n",
      "\n",
      "...\" with entities \"[(2164, 2183, 'College Name'), (1920, 1935, 'Desig...\". Use `spacy.training.offsets_to_biluo_tags(nlp.make_doc(text), entities)` to check the alignment. Misaligned entities ('-') will be ignored during training.\n",
      "  warnings.warn(\n"
     ]
    },
    {
     "name": "stdout",
     "output_type": "stream",
     "text": [
      "{'ner': 13574.144698285736}\n"
     ]
    },
    {
     "name": "stderr",
     "output_type": "stream",
     "text": [
      "C:\\Users\\teddy\\miniconda3\\envs\\NLP_env\\lib\\site-packages\\spacy\\training\\iob_utils.py:141: UserWarning: [W030] Some entities could not be aligned in the text \"Manisha Bharti\n",
      "Software Automation Engineer\n",
      "\n",
      "Pune,...\" with entities \"[(1645, 1674, 'Designation'), (1596, 1601, 'Locati...\". Use `spacy.training.offsets_to_biluo_tags(nlp.make_doc(text), entities)` to check the alignment. Misaligned entities ('-') will be ignored during training.\n",
      "  warnings.warn(\n"
     ]
    },
    {
     "name": "stdout",
     "output_type": "stream",
     "text": [
      "{'ner': 13590.395340942734}\n",
      "{'ner': 13616.408497126808}\n"
     ]
    },
    {
     "name": "stderr",
     "output_type": "stream",
     "text": [
      "C:\\Users\\teddy\\miniconda3\\envs\\NLP_env\\lib\\site-packages\\spacy\\training\\iob_utils.py:141: UserWarning: [W030] Some entities could not be aligned in the text \"Navjyot Singh Rathore\n",
      "Ulhasnagar, Maharashtra - Em...\" with entities \"[(605, 753, 'Skills'), (249, 305, 'College Name'),...\". Use `spacy.training.offsets_to_biluo_tags(nlp.make_doc(text), entities)` to check the alignment. Misaligned entities ('-') will be ignored during training.\n",
      "  warnings.warn(\n",
      "C:\\Users\\teddy\\miniconda3\\envs\\NLP_env\\lib\\site-packages\\spacy\\training\\iob_utils.py:141: UserWarning: [W030] Some entities could not be aligned in the text \"Soumya Balan\n",
      "IT SUPPORT\n",
      "\n",
      "Sulthan Bathery, Kerala, ...\" with entities \"[(3684, 3725, 'College Name'), (3028, 3037, 'Compa...\". Use `spacy.training.offsets_to_biluo_tags(nlp.make_doc(text), entities)` to check the alignment. Misaligned entities ('-') will be ignored during training.\n",
      "  warnings.warn(\n",
      "C:\\Users\\teddy\\miniconda3\\envs\\NLP_env\\lib\\site-packages\\spacy\\training\\iob_utils.py:141: UserWarning: [W030] Some entities could not be aligned in the text \"Soumya Balan\n",
      "IT SUPPORT\n",
      "\n",
      "Sulthan Bathery, Kerala, ...\" with entities \"[(3939, 3948, 'Companies worked at'), (3898, 3903,...\". Use `spacy.training.offsets_to_biluo_tags(nlp.make_doc(text), entities)` to check the alignment. Misaligned entities ('-') will be ignored during training.\n",
      "  warnings.warn(\n"
     ]
    },
    {
     "name": "stdout",
     "output_type": "stream",
     "text": [
      "{'ner': 13649.951257034623}\n"
     ]
    },
    {
     "name": "stderr",
     "output_type": "stream",
     "text": [
      "C:\\Users\\teddy\\miniconda3\\envs\\NLP_env\\lib\\site-packages\\spacy\\training\\iob_utils.py:141: UserWarning: [W030] Some entities could not be aligned in the text \"Somanath Behera\n",
      "Associate, Cognizant technology So...\" with entities \"[(1562, 1567, 'College Name'), (977, 986, 'Locatio...\". Use `spacy.training.offsets_to_biluo_tags(nlp.make_doc(text), entities)` to check the alignment. Misaligned entities ('-') will be ignored during training.\n",
      "  warnings.warn(\n"
     ]
    },
    {
     "name": "stdout",
     "output_type": "stream",
     "text": [
      "{'ner': 13663.73322962757}\n"
     ]
    },
    {
     "name": "stderr",
     "output_type": "stream",
     "text": [
      "C:\\Users\\teddy\\miniconda3\\envs\\NLP_env\\lib\\site-packages\\spacy\\training\\iob_utils.py:141: UserWarning: [W030] Some entities could not be aligned in the text \"Puneeth R\n",
      "Escalation Specialist - HiPower Support ...\" with entities \"[(2177, 2180, 'Degree'), (33, 56, 'Companies worke...\". Use `spacy.training.offsets_to_biluo_tags(nlp.make_doc(text), entities)` to check the alignment. Misaligned entities ('-') will be ignored during training.\n",
      "  warnings.warn(\n"
     ]
    },
    {
     "name": "stdout",
     "output_type": "stream",
     "text": [
      "{'ner': 13671.713805584794}\n"
     ]
    },
    {
     "name": "stderr",
     "output_type": "stream",
     "text": [
      "C:\\Users\\teddy\\miniconda3\\envs\\NLP_env\\lib\\site-packages\\spacy\\training\\iob_utils.py:141: UserWarning: [W030] Some entities could not be aligned in the text \"Puneet Singh\n",
      "Associate Software Engineer\n",
      "\n",
      "Bengalur...\" with entities \"[(762, 775, 'Skills'), (536, 547, 'Degree'), (0, 1...\". Use `spacy.training.offsets_to_biluo_tags(nlp.make_doc(text), entities)` to check the alignment. Misaligned entities ('-') will be ignored during training.\n",
      "  warnings.warn(\n"
     ]
    },
    {
     "name": "stdout",
     "output_type": "stream",
     "text": [
      "{'ner': 13699.333069315397}\n"
     ]
    },
    {
     "name": "stderr",
     "output_type": "stream",
     "text": [
      "C:\\Users\\teddy\\miniconda3\\envs\\NLP_env\\lib\\site-packages\\spacy\\training\\iob_utils.py:141: UserWarning: [W030] Some entities could not be aligned in the text \"Shreya Agnihotri\n",
      "Senior System Engineer at Infosys...\" with entities \"[(1632, 1836, 'Skills'), (17, 58, 'Designation'), ...\". Use `spacy.training.offsets_to_biluo_tags(nlp.make_doc(text), entities)` to check the alignment. Misaligned entities ('-') will be ignored during training.\n",
      "  warnings.warn(\n",
      "C:\\Users\\teddy\\miniconda3\\envs\\NLP_env\\lib\\site-packages\\spacy\\training\\iob_utils.py:141: UserWarning: [W030] Some entities could not be aligned in the text \"Shreya Agnihotri\n",
      "Senior System Engineer at Infosys...\" with entities \"[(1105, 1113, 'Companies worked at'), (42, 50, 'Co...\". Use `spacy.training.offsets_to_biluo_tags(nlp.make_doc(text), entities)` to check the alignment. Misaligned entities ('-') will be ignored during training.\n",
      "  warnings.warn(\n"
     ]
    },
    {
     "name": "stdout",
     "output_type": "stream",
     "text": [
      "{'ner': 13714.543800495316}\n"
     ]
    },
    {
     "name": "stderr",
     "output_type": "stream",
     "text": [
      "C:\\Users\\teddy\\miniconda3\\envs\\NLP_env\\lib\\site-packages\\spacy\\training\\iob_utils.py:141: UserWarning: [W030] Some entities could not be aligned in the text \"Abdul B\n",
      "Arabic Language supporter (Content Analyst...\" with entities \"[(96, 133, 'Email Address'), (53, 62, 'Location'),...\". Use `spacy.training.offsets_to_biluo_tags(nlp.make_doc(text), entities)` to check the alignment. Misaligned entities ('-') will be ignored during training.\n",
      "  warnings.warn(\n"
     ]
    },
    {
     "name": "stdout",
     "output_type": "stream",
     "text": [
      "{'ner': 13726.53223448141}\n"
     ]
    },
    {
     "name": "stderr",
     "output_type": "stream",
     "text": [
      "C:\\Users\\teddy\\miniconda3\\envs\\NLP_env\\lib\\site-packages\\spacy\\training\\iob_utils.py:141: UserWarning: [W030] Some entities could not be aligned in the text \"R Arunravi\n",
      "Functional Consultant / WM Lead - SAP E...\" with entities \"[(4213, 4349, 'Skills'), (3894, 3898, 'Graduation ...\". Use `spacy.training.offsets_to_biluo_tags(nlp.make_doc(text), entities)` to check the alignment. Misaligned entities ('-') will be ignored during training.\n",
      "  warnings.warn(\n"
     ]
    },
    {
     "name": "stdout",
     "output_type": "stream",
     "text": [
      "{'ner': 13757.72216796985}\n"
     ]
    },
    {
     "name": "stderr",
     "output_type": "stream",
     "text": [
      "C:\\Users\\teddy\\miniconda3\\envs\\NLP_env\\lib\\site-packages\\spacy\\training\\iob_utils.py:141: UserWarning: [W030] Some entities could not be aligned in the text \"Akash Gulhane\n",
      "Microsoft Certified System Engineer\n",
      "...\" with entities \"[(888, 909, 'College Name'), (0, 13, 'Name'), (282...\". Use `spacy.training.offsets_to_biluo_tags(nlp.make_doc(text), entities)` to check the alignment. Misaligned entities ('-') will be ignored during training.\n",
      "  warnings.warn(\n"
     ]
    },
    {
     "name": "stdout",
     "output_type": "stream",
     "text": [
      "{'ner': 13769.20918228462}\n",
      "{'ner': 13772.674006422318}\n"
     ]
    },
    {
     "name": "stderr",
     "output_type": "stream",
     "text": [
      "C:\\Users\\teddy\\miniconda3\\envs\\NLP_env\\lib\\site-packages\\spacy\\training\\iob_utils.py:141: UserWarning: [W030] Some entities could not be aligned in the text \"Sohan Dhakad\n",
      "Shivpuri, Madhya Pradesh - Email me o...\" with entities \"[(870, 894, 'Skills'), (793, 810, 'College Name'),...\". Use `spacy.training.offsets_to_biluo_tags(nlp.make_doc(text), entities)` to check the alignment. Misaligned entities ('-') will be ignored during training.\n",
      "  warnings.warn(\n",
      "C:\\Users\\teddy\\miniconda3\\envs\\NLP_env\\lib\\site-packages\\spacy\\training\\iob_utils.py:141: UserWarning: [W030] Some entities could not be aligned in the text \"Zaheer Uddin\n",
      "Technical Project Manager\n",
      "\n",
      "Hyderabad,...\" with entities \"[(4843, 4861, 'College Name'), (329, 354, 'Designa...\". Use `spacy.training.offsets_to_biluo_tags(nlp.make_doc(text), entities)` to check the alignment. Misaligned entities ('-') will be ignored during training.\n",
      "  warnings.warn(\n"
     ]
    },
    {
     "name": "stdout",
     "output_type": "stream",
     "text": [
      "{'ner': 13782.07444449489}\n"
     ]
    },
    {
     "name": "stderr",
     "output_type": "stream",
     "text": [
      "C:\\Users\\teddy\\miniconda3\\envs\\NLP_env\\lib\\site-packages\\spacy\\training\\iob_utils.py:141: UserWarning: [W030] Some entities could not be aligned in the text \"Karthik GV\n",
      "Architect - Microsoft India\n",
      "\n",
      "Hyderabad,...\" with entities \"[(198, 213, 'Companies worked at'), (0, 10, 'Name'...\". Use `spacy.training.offsets_to_biluo_tags(nlp.make_doc(text), entities)` to check the alignment. Misaligned entities ('-') will be ignored during training.\n",
      "  warnings.warn(\n"
     ]
    },
    {
     "name": "stdout",
     "output_type": "stream",
     "text": [
      "{'ner': 13822.438750628533}\n"
     ]
    },
    {
     "name": "stderr",
     "output_type": "stream",
     "text": [
      "C:\\Users\\teddy\\miniconda3\\envs\\NLP_env\\lib\\site-packages\\spacy\\training\\iob_utils.py:141: UserWarning: [W030] Some entities could not be aligned in the text \"Laya A\n",
      "Cluster HR Manager - Velammal New\n",
      "\n",
      "Chennai,...\" with entities \"[(1322, 1334, 'Companies worked at'), (28, 40, 'Co...\". Use `spacy.training.offsets_to_biluo_tags(nlp.make_doc(text), entities)` to check the alignment. Misaligned entities ('-') will be ignored during training.\n",
      "  warnings.warn(\n"
     ]
    },
    {
     "name": "stdout",
     "output_type": "stream",
     "text": [
      "{'ner': 13830.371056138296}\n"
     ]
    },
    {
     "name": "stderr",
     "output_type": "stream",
     "text": [
      "C:\\Users\\teddy\\miniconda3\\envs\\NLP_env\\lib\\site-packages\\spacy\\training\\iob_utils.py:141: UserWarning: [W030] Some entities could not be aligned in the text \"Bangalore Tavarekere\n",
      "Volunteer Contestant, Yappon\n",
      "...\" with entities \"[(0, 20, 'Name'), (51, 60, 'Location'), (386, 391,...\". Use `spacy.training.offsets_to_biluo_tags(nlp.make_doc(text), entities)` to check the alignment. Misaligned entities ('-') will be ignored during training.\n",
      "  warnings.warn(\n"
     ]
    },
    {
     "name": "stdout",
     "output_type": "stream",
     "text": [
      "{'ner': 13840.206499511602}\n"
     ]
    },
    {
     "name": "stderr",
     "output_type": "stream",
     "text": [
      "C:\\Users\\teddy\\miniconda3\\envs\\NLP_env\\lib\\site-packages\\spacy\\training\\iob_utils.py:141: UserWarning: [W030] Some entities could not be aligned in the text \"Mayank Shukla\n",
      "Infosys group as a Test Analyst - In...\" with entities \"[(2324, 2328, 'Graduation Year'), (1980, 2007, 'De...\". Use `spacy.training.offsets_to_biluo_tags(nlp.make_doc(text), entities)` to check the alignment. Misaligned entities ('-') will be ignored during training.\n",
      "  warnings.warn(\n"
     ]
    },
    {
     "name": "stdout",
     "output_type": "stream",
     "text": [
      "{'ner': 13869.395763923461}\n"
     ]
    },
    {
     "name": "stderr",
     "output_type": "stream",
     "text": [
      "C:\\Users\\teddy\\miniconda3\\envs\\NLP_env\\lib\\site-packages\\spacy\\training\\iob_utils.py:141: UserWarning: [W030] Some entities could not be aligned in the text \"Syam Devendla\n",
      "Bengaluru, Karnataka - Email me on I...\" with entities \"[(365, 378, 'Companies worked at'), (0, 13, 'Name'...\". Use `spacy.training.offsets_to_biluo_tags(nlp.make_doc(text), entities)` to check the alignment. Misaligned entities ('-') will be ignored during training.\n",
      "  warnings.warn(\n",
      "C:\\Users\\teddy\\miniconda3\\envs\\NLP_env\\lib\\site-packages\\spacy\\training\\iob_utils.py:141: UserWarning: [W030] Some entities could not be aligned in the text \"Syam Devendla\n",
      "Bengaluru, Karnataka - Email me on I...\" with entities \"[(3461, 3465, 'Graduation Year'), (3847, 3851, 'Gr...\". Use `spacy.training.offsets_to_biluo_tags(nlp.make_doc(text), entities)` to check the alignment. Misaligned entities ('-') will be ignored during training.\n",
      "  warnings.warn(\n"
     ]
    },
    {
     "name": "stdout",
     "output_type": "stream",
     "text": [
      "{'ner': 13890.85430512619}\n"
     ]
    },
    {
     "name": "stderr",
     "output_type": "stream",
     "text": [
      "C:\\Users\\teddy\\miniconda3\\envs\\NLP_env\\lib\\site-packages\\spacy\\training\\iob_utils.py:141: UserWarning: [W030] Some entities could not be aligned in the text \"Karthik G V\n",
      "Program Manager, Product Manager, Prod...\" with entities \"[(12, 28, 'Designation'), (187, 230, 'Email Addres...\". Use `spacy.training.offsets_to_biluo_tags(nlp.make_doc(text), entities)` to check the alignment. Misaligned entities ('-') will be ignored during training.\n",
      "  warnings.warn(\n"
     ]
    },
    {
     "name": "stdout",
     "output_type": "stream",
     "text": [
      "{'ner': 13902.658547708626}\n"
     ]
    },
    {
     "name": "stderr",
     "output_type": "stream",
     "text": [
      "C:\\Users\\teddy\\miniconda3\\envs\\NLP_env\\lib\\site-packages\\spacy\\training\\iob_utils.py:141: UserWarning: [W030] Some entities could not be aligned in the text \"Vikas Singh\n",
      "Chandigarh, Chandigarh - Email me on I...\" with entities \"[(1104, 1108, 'Graduation Year'), (3359, 3369, 'Lo...\". Use `spacy.training.offsets_to_biluo_tags(nlp.make_doc(text), entities)` to check the alignment. Misaligned entities ('-') will be ignored during training.\n",
      "  warnings.warn(\n"
     ]
    },
    {
     "name": "stdout",
     "output_type": "stream",
     "text": [
      "{'ner': 13934.106584932255}\n"
     ]
    },
    {
     "name": "stderr",
     "output_type": "stream",
     "text": [
      "C:\\Users\\teddy\\miniconda3\\envs\\NLP_env\\lib\\site-packages\\spacy\\training\\iob_utils.py:141: UserWarning: [W030] Some entities could not be aligned in the text \"amarjyot sodhi\n",
      "Voice and Accent Trainer :Masters i...\" with entities \"[(549, 558, 'Location'), (0, 14, 'Name'), (539, 54...\". Use `spacy.training.offsets_to_biluo_tags(nlp.make_doc(text), entities)` to check the alignment. Misaligned entities ('-') will be ignored during training.\n",
      "  warnings.warn(\n"
     ]
    },
    {
     "name": "stdout",
     "output_type": "stream",
     "text": [
      "{'ner': 13957.987735854755}\n"
     ]
    },
    {
     "name": "stderr",
     "output_type": "stream",
     "text": [
      "C:\\Users\\teddy\\miniconda3\\envs\\NLP_env\\lib\\site-packages\\spacy\\training\\iob_utils.py:141: UserWarning: [W030] Some entities could not be aligned in the text \"Khushboo Choudhary\n",
      "Developer\n",
      "\n",
      "Noida, Uttar Pradesh...\" with entities \"[(0, 18, 'Name'), (1281, 1321, 'College Name'), (4...\". Use `spacy.training.offsets_to_biluo_tags(nlp.make_doc(text), entities)` to check the alignment. Misaligned entities ('-') will be ignored during training.\n",
      "  warnings.warn(\n"
     ]
    },
    {
     "name": "stdout",
     "output_type": "stream",
     "text": [
      "{'ner': 13981.693665652765}\n"
     ]
    },
    {
     "name": "stderr",
     "output_type": "stream",
     "text": [
      "C:\\Users\\teddy\\miniconda3\\envs\\NLP_env\\lib\\site-packages\\spacy\\training\\iob_utils.py:141: UserWarning: [W030] Some entities could not be aligned in the text \"Navas Koya\n",
      "Test Engineer\n",
      "\n",
      "Mangalore, Karnataka - E...\" with entities \"[(135, 144, 'Location'), (479, 493, 'Designation')...\". Use `spacy.training.offsets_to_biluo_tags(nlp.make_doc(text), entities)` to check the alignment. Misaligned entities ('-') will be ignored during training.\n",
      "  warnings.warn(\n"
     ]
    },
    {
     "name": "stdout",
     "output_type": "stream",
     "text": [
      "{'ner': 14003.019053924785}\n",
      "{'ner': 14012.742950632295}\n"
     ]
    },
    {
     "name": "stderr",
     "output_type": "stream",
     "text": [
      "C:\\Users\\teddy\\miniconda3\\envs\\NLP_env\\lib\\site-packages\\spacy\\training\\iob_utils.py:141: UserWarning: [W030] Some entities could not be aligned in the text \"Jyotirbindu Patnaik\n",
      "Associate consultant@SAP labs ...\" with entities \"[(847, 868, 'Designation'), (19, 40, 'Designation'...\". Use `spacy.training.offsets_to_biluo_tags(nlp.make_doc(text), entities)` to check the alignment. Misaligned entities ('-') will be ignored during training.\n",
      "  warnings.warn(\n"
     ]
    },
    {
     "name": "stdout",
     "output_type": "stream",
     "text": [
      "{'ner': 14024.41978601601}\n"
     ]
    },
    {
     "name": "stderr",
     "output_type": "stream",
     "text": [
      "C:\\Users\\teddy\\miniconda3\\envs\\NLP_env\\lib\\site-packages\\spacy\\training\\iob_utils.py:141: UserWarning: [W030] Some entities could not be aligned in the text \"Shivam Sharma\n",
      "L1 Analyst in Microsoft project - HC...\" with entities \"[(14, 46, 'Designation'), (66, 75, 'Location'), (1...\". Use `spacy.training.offsets_to_biluo_tags(nlp.make_doc(text), entities)` to check the alignment. Misaligned entities ('-') will be ignored during training.\n",
      "  warnings.warn(\n"
     ]
    },
    {
     "name": "stdout",
     "output_type": "stream",
     "text": [
      "{'ner': 14036.050393849551}\n"
     ]
    },
    {
     "name": "stderr",
     "output_type": "stream",
     "text": [
      "C:\\Users\\teddy\\miniconda3\\envs\\NLP_env\\lib\\site-packages\\spacy\\training\\iob_utils.py:141: UserWarning: [W030] Some entities could not be aligned in the text \"Madhava Konjeti\n",
      "HR Executive\n",
      "\n",
      "Bengaluru, Karnataka...\" with entities \"[(1818, 1893, 'Skills'), (1608, 1611, 'Degree'), (...\". Use `spacy.training.offsets_to_biluo_tags(nlp.make_doc(text), entities)` to check the alignment. Misaligned entities ('-') will be ignored during training.\n",
      "  warnings.warn(\n"
     ]
    },
    {
     "name": "stdout",
     "output_type": "stream",
     "text": [
      "{'ner': 14067.241640910966}\n",
      "{'ner': 14080.689617128264}\n"
     ]
    },
    {
     "name": "stderr",
     "output_type": "stream",
     "text": [
      "C:\\Users\\teddy\\miniconda3\\envs\\NLP_env\\lib\\site-packages\\spacy\\training\\iob_utils.py:141: UserWarning: [W030] Some entities could not be aligned in the text \"Karan Turkar\n",
      "Balaghat, Madhya Pradesh - Email me o...\" with entities \"[(214, 218, 'College Name'), (210, 212, 'Degree'),...\". Use `spacy.training.offsets_to_biluo_tags(nlp.make_doc(text), entities)` to check the alignment. Misaligned entities ('-') will be ignored during training.\n",
      "  warnings.warn(\n",
      "C:\\Users\\teddy\\miniconda3\\envs\\NLP_env\\lib\\site-packages\\spacy\\training\\iob_utils.py:141: UserWarning: [W030] Some entities could not be aligned in the text \"Ajay Elango\n",
      "Software Engineer\n",
      "\n",
      "Bangalore City, Kar...\" with entities \"[(6845, 6875, 'College Name'), (6778, 6843, 'Degre...\". Use `spacy.training.offsets_to_biluo_tags(nlp.make_doc(text), entities)` to check the alignment. Misaligned entities ('-') will be ignored during training.\n",
      "  warnings.warn(\n"
     ]
    },
    {
     "name": "stdout",
     "output_type": "stream",
     "text": [
      "{'ner': 14083.189520706912}\n"
     ]
    },
    {
     "name": "stderr",
     "output_type": "stream",
     "text": [
      "C:\\Users\\teddy\\miniconda3\\envs\\NLP_env\\lib\\site-packages\\spacy\\training\\iob_utils.py:141: UserWarning: [W030] Some entities could not be aligned in the text \"Debasish Dasgupta\n",
      "Trainer-Finacle-Core Banking Sol...\" with entities \"[(1432, 1470, 'Designation'), (57, 64, 'Companies ...\". Use `spacy.training.offsets_to_biluo_tags(nlp.make_doc(text), entities)` to check the alignment. Misaligned entities ('-') will be ignored during training.\n",
      "  warnings.warn(\n"
     ]
    },
    {
     "name": "stdout",
     "output_type": "stream",
     "text": [
      "{'ner': 14094.25496515676}\n"
     ]
    },
    {
     "name": "stderr",
     "output_type": "stream",
     "text": [
      "C:\\Users\\teddy\\miniconda3\\envs\\NLP_env\\lib\\site-packages\\spacy\\training\\iob_utils.py:141: UserWarning: [W030] Some entities could not be aligned in the text \"Saurabh Saurabh\n",
      "Bengaluru, Karnataka - Email me on...\" with entities \"[(331, 335, 'Graduation Year'), (295, 321, 'Colleg...\". Use `spacy.training.offsets_to_biluo_tags(nlp.make_doc(text), entities)` to check the alignment. Misaligned entities ('-') will be ignored during training.\n",
      "  warnings.warn(\n",
      "C:\\Users\\teddy\\miniconda3\\envs\\NLP_env\\lib\\site-packages\\spacy\\training\\iob_utils.py:141: UserWarning: [W030] Some entities could not be aligned in the text \"Saurabh Saurabh\n",
      "Bengaluru, Karnataka - Email me on...\" with entities \"[(295, 305, 'Companies worked at')]\". Use `spacy.training.offsets_to_biluo_tags(nlp.make_doc(text), entities)` to check the alignment. Misaligned entities ('-') will be ignored during training.\n",
      "  warnings.warn(\n"
     ]
    },
    {
     "name": "stdout",
     "output_type": "stream",
     "text": [
      "{'ner': 14103.426368763872}\n",
      "{'ner': 14137.743537012613}\n"
     ]
    },
    {
     "name": "stderr",
     "output_type": "stream",
     "text": [
      "C:\\Users\\teddy\\miniconda3\\envs\\NLP_env\\lib\\site-packages\\spacy\\training\\iob_utils.py:141: UserWarning: [W030] Some entities could not be aligned in the text \"Akshay Dubey\n",
      "Actively looking for opportunity in ....\" with entities \"[(2552, 2570, 'College Name'), (1412, 1421, 'Compa...\". Use `spacy.training.offsets_to_biluo_tags(nlp.make_doc(text), entities)` to check the alignment. Misaligned entities ('-') will be ignored during training.\n",
      "  warnings.warn(\n"
     ]
    },
    {
     "name": "stdout",
     "output_type": "stream",
     "text": [
      "{'ner': 14147.184951469986}\n"
     ]
    },
    {
     "name": "stderr",
     "output_type": "stream",
     "text": [
      "C:\\Users\\teddy\\miniconda3\\envs\\NLP_env\\lib\\site-packages\\spacy\\training\\iob_utils.py:141: UserWarning: [W030] Some entities could not be aligned in the text \"Tejasri Gunnam\n",
      "Bengaluru, Karnataka - Email me on ...\" with entities \"[(3387, 3481, 'Skills'), (15, 24, 'Location'), (22...\". Use `spacy.training.offsets_to_biluo_tags(nlp.make_doc(text), entities)` to check the alignment. Misaligned entities ('-') will be ignored during training.\n",
      "  warnings.warn(\n"
     ]
    },
    {
     "name": "stdout",
     "output_type": "stream",
     "text": [
      "{'ner': 14170.890934118732}\n"
     ]
    },
    {
     "name": "stderr",
     "output_type": "stream",
     "text": [
      "C:\\Users\\teddy\\miniconda3\\envs\\NLP_env\\lib\\site-packages\\spacy\\training\\iob_utils.py:141: UserWarning: [W030] Some entities could not be aligned in the text \"Pavithra M\n",
      "\"Infosys\" internship\n",
      "\n",
      "Bengaluru, Karnat...\" with entities \"[(182, 189, 'Companies worked at'), (12, 19, 'Comp...\". Use `spacy.training.offsets_to_biluo_tags(nlp.make_doc(text), entities)` to check the alignment. Misaligned entities ('-') will be ignored during training.\n",
      "  warnings.warn(\n"
     ]
    },
    {
     "name": "stdout",
     "output_type": "stream",
     "text": [
      "{'ner': 14228.437955932075}\n"
     ]
    },
    {
     "name": "stderr",
     "output_type": "stream",
     "text": [
      "C:\\Users\\teddy\\miniconda3\\envs\\NLP_env\\lib\\site-packages\\spacy\\training\\iob_utils.py:141: UserWarning: [W030] Some entities could not be aligned in the text \"Hemil Bhavsar\n",
      "Jr. ASP.NET Developer in True Vision...\" with entities \"[(1085, 1500, 'Skills'), (0, 13, 'Name'), (495, 51...\". Use `spacy.training.offsets_to_biluo_tags(nlp.make_doc(text), entities)` to check the alignment. Misaligned entities ('-') will be ignored during training.\n",
      "  warnings.warn(\n"
     ]
    },
    {
     "name": "stdout",
     "output_type": "stream",
     "text": [
      "{'ner': 14248.367916035038}\n"
     ]
    },
    {
     "name": "stderr",
     "output_type": "stream",
     "text": [
      "C:\\Users\\teddy\\miniconda3\\envs\\NLP_env\\lib\\site-packages\\spacy\\training\\iob_utils.py:141: UserWarning: [W030] Some entities could not be aligned in the text \"Keshav Dhawale\n",
      "3 TCS Security guard Access Control...\" with entities \"[(105, 109, 'Location'), (971, 1015, 'Email Addres...\". Use `spacy.training.offsets_to_biluo_tags(nlp.make_doc(text), entities)` to check the alignment. Misaligned entities ('-') will be ignored during training.\n",
      "  warnings.warn(\n"
     ]
    },
    {
     "name": "stdout",
     "output_type": "stream",
     "text": [
      "{'ner': 14254.3145399617}\n"
     ]
    },
    {
     "name": "stderr",
     "output_type": "stream",
     "text": [
      "C:\\Users\\teddy\\miniconda3\\envs\\NLP_env\\lib\\site-packages\\spacy\\training\\iob_utils.py:141: UserWarning: [W030] Some entities could not be aligned in the text \"Ganesh AlalaSundaram\n",
      "A Dev-Test Professional with ...\" with entities \"[(505, 514, 'Companies worked at'), (3172, 3200, '...\". Use `spacy.training.offsets_to_biluo_tags(nlp.make_doc(text), entities)` to check the alignment. Misaligned entities ('-') will be ignored during training.\n",
      "  warnings.warn(\n"
     ]
    },
    {
     "name": "stdout",
     "output_type": "stream",
     "text": [
      "{'ner': 14262.25291911863}\n"
     ]
    },
    {
     "name": "stderr",
     "output_type": "stream",
     "text": [
      "C:\\Users\\teddy\\miniconda3\\envs\\NLP_env\\lib\\site-packages\\spacy\\training\\iob_utils.py:141: UserWarning: [W030] Some entities could not be aligned in the text \"Srinivas VO\n",
      "Sr. Test Manager\n",
      "\n",
      "Mumbai, Maharashtra ...\" with entities \"[(11172, 11191, 'College Name'), (3111, 3152, 'Ema...\". Use `spacy.training.offsets_to_biluo_tags(nlp.make_doc(text), entities)` to check the alignment. Misaligned entities ('-') will be ignored during training.\n",
      "  warnings.warn(\n"
     ]
    },
    {
     "name": "stdout",
     "output_type": "stream",
     "text": [
      "{'ner': 14282.162285378265}\n",
      "{'ner': 14298.098318912145}\n"
     ]
    },
    {
     "name": "stderr",
     "output_type": "stream",
     "text": [
      "C:\\Users\\teddy\\miniconda3\\envs\\NLP_env\\lib\\site-packages\\spacy\\training\\iob_utils.py:141: UserWarning: [W030] Some entities could not be aligned in the text \"Krishna Prasad\n",
      "Patna City, Bihar - Email me on Ind...\" with entities \"[(15, 20, 'Location'), (267, 285, 'College Name'),...\". Use `spacy.training.offsets_to_biluo_tags(nlp.make_doc(text), entities)` to check the alignment. Misaligned entities ('-') will be ignored during training.\n",
      "  warnings.warn(\n",
      "C:\\Users\\teddy\\miniconda3\\envs\\NLP_env\\lib\\site-packages\\spacy\\training\\iob_utils.py:141: UserWarning: [W030] Some entities could not be aligned in the text \"Santosh Ganta\n",
      "Senior Systems Engineer - mainframe\n",
      "...\" with entities \"[(163, 172, 'Location'), (51, 60, 'Location'), (48...\". Use `spacy.training.offsets_to_biluo_tags(nlp.make_doc(text), entities)` to check the alignment. Misaligned entities ('-') will be ignored during training.\n",
      "  warnings.warn(\n"
     ]
    },
    {
     "name": "stdout",
     "output_type": "stream",
     "text": [
      "{'ner': 14321.855081369016}\n"
     ]
    },
    {
     "name": "stderr",
     "output_type": "stream",
     "text": [
      "C:\\Users\\teddy\\miniconda3\\envs\\NLP_env\\lib\\site-packages\\spacy\\training\\iob_utils.py:141: UserWarning: [W030] Some entities could not be aligned in the text \"Anurag Asthana\n",
      "Pune, Maharashtra - Email me on Ind...\" with entities \"[(5311, 5338, 'Designation'), (1522, 1566, 'Email ...\". Use `spacy.training.offsets_to_biluo_tags(nlp.make_doc(text), entities)` to check the alignment. Misaligned entities ('-') will be ignored during training.\n",
      "  warnings.warn(\n"
     ]
    },
    {
     "name": "stdout",
     "output_type": "stream",
     "text": [
      "{'ner': 14364.7046187992}\n"
     ]
    },
    {
     "name": "stderr",
     "output_type": "stream",
     "text": [
      "C:\\Users\\teddy\\miniconda3\\envs\\NLP_env\\lib\\site-packages\\spacy\\training\\iob_utils.py:141: UserWarning: [W030] Some entities could not be aligned in the text \"Sameer Kujur\n",
      "Orrisha - Email me on Indeed: indeed....\" with entities \"[(43, 85, 'Email Address'), (0, 12, 'Name'), (189,...\". Use `spacy.training.offsets_to_biluo_tags(nlp.make_doc(text), entities)` to check the alignment. Misaligned entities ('-') will be ignored during training.\n",
      "  warnings.warn(\n"
     ]
    },
    {
     "name": "stdout",
     "output_type": "stream",
     "text": [
      "{'ner': 14372.600076123766}\n"
     ]
    },
    {
     "name": "stderr",
     "output_type": "stream",
     "text": [
      "C:\\Users\\teddy\\miniconda3\\envs\\NLP_env\\lib\\site-packages\\spacy\\training\\iob_utils.py:141: UserWarning: [W030] Some entities could not be aligned in the text \"Kiran Kumar\n",
      "I Having 2.1 years of Experience in IT...\" with entities \"[(257, 266, 'Years of Experience'), (164, 173, 'Lo...\". Use `spacy.training.offsets_to_biluo_tags(nlp.make_doc(text), entities)` to check the alignment. Misaligned entities ('-') will be ignored during training.\n",
      "  warnings.warn(\n"
     ]
    },
    {
     "name": "stdout",
     "output_type": "stream",
     "text": [
      "{'ner': 14394.150614082804}\n"
     ]
    },
    {
     "name": "stderr",
     "output_type": "stream",
     "text": [
      "C:\\Users\\teddy\\miniconda3\\envs\\NLP_env\\lib\\site-packages\\spacy\\training\\iob_utils.py:141: UserWarning: [W030] Some entities could not be aligned in the text \"Shrinidhi Selva Kumar\n",
      "NOC and QA Engineer at Skava...\" with entities \"[(85, 95, 'Location'), (690, 700, 'Degree'), (44, ...\". Use `spacy.training.offsets_to_biluo_tags(nlp.make_doc(text), entities)` to check the alignment. Misaligned entities ('-') will be ignored during training.\n",
      "  warnings.warn(\n"
     ]
    },
    {
     "name": "stdout",
     "output_type": "stream",
     "text": [
      "{'ner': 14419.13374629885}\n"
     ]
    },
    {
     "name": "stderr",
     "output_type": "stream",
     "text": [
      "C:\\Users\\teddy\\miniconda3\\envs\\NLP_env\\lib\\site-packages\\spacy\\training\\iob_utils.py:141: UserWarning: [W030] Some entities could not be aligned in the text \"Sai Vivek Venkatraman\n",
      "Decisive, Data driven and re...\" with entities \"[(3939, 3965, 'Designation'), (2697, 2730, 'Design...\". Use `spacy.training.offsets_to_biluo_tags(nlp.make_doc(text), entities)` to check the alignment. Misaligned entities ('-') will be ignored during training.\n",
      "  warnings.warn(\n"
     ]
    },
    {
     "name": "stdout",
     "output_type": "stream",
     "text": [
      "{'ner': 14579.822648654095}\n"
     ]
    },
    {
     "name": "stderr",
     "output_type": "stream",
     "text": [
      "C:\\Users\\teddy\\miniconda3\\envs\\NLP_env\\lib\\site-packages\\spacy\\training\\iob_utils.py:141: UserWarning: [W030] Some entities could not be aligned in the text \"Bike Rally\n",
      "Chief Coordinator of LEAR\n",
      "\n",
      "Palghat, Ker...\" with entities \"[(173, 182, 'Companies worked at'), (753, 777, 'De...\". Use `spacy.training.offsets_to_biluo_tags(nlp.make_doc(text), entities)` to check the alignment. Misaligned entities ('-') will be ignored during training.\n",
      "  warnings.warn(\n"
     ]
    },
    {
     "name": "stdout",
     "output_type": "stream",
     "text": [
      "{'ner': 14595.283928341007}\n"
     ]
    },
    {
     "name": "stderr",
     "output_type": "stream",
     "text": [
      "C:\\Users\\teddy\\miniconda3\\envs\\NLP_env\\lib\\site-packages\\spacy\\training\\iob_utils.py:141: UserWarning: [W030] Some entities could not be aligned in the text \"Kavya U.\n",
      "Network Ops Associate - Accenture\n",
      "\n",
      "Bengal...\" with entities \"[(1844, 1860, 'Skills'), (1496, 1518, 'College Nam...\". Use `spacy.training.offsets_to_biluo_tags(nlp.make_doc(text), entities)` to check the alignment. Misaligned entities ('-') will be ignored during training.\n",
      "  warnings.warn(\n",
      "C:\\Users\\teddy\\miniconda3\\envs\\NLP_env\\lib\\site-packages\\spacy\\training\\iob_utils.py:141: UserWarning: [W030] Some entities could not be aligned in the text \"Kavya U.\n",
      "Network Ops Associate - Accenture\n",
      "\n",
      "Bengal...\" with entities \"[(1153, 1184, 'College Name'), (1844, 1873, 'Skill...\". Use `spacy.training.offsets_to_biluo_tags(nlp.make_doc(text), entities)` to check the alignment. Misaligned entities ('-') will be ignored during training.\n",
      "  warnings.warn(\n"
     ]
    },
    {
     "name": "stdout",
     "output_type": "stream",
     "text": [
      "{'ner': 14646.401567872488}\n"
     ]
    },
    {
     "name": "stderr",
     "output_type": "stream",
     "text": [
      "C:\\Users\\teddy\\miniconda3\\envs\\NLP_env\\lib\\site-packages\\spacy\\training\\iob_utils.py:141: UserWarning: [W030] Some entities could not be aligned in the text \"Rishabh soni\n",
      "Anuppur, Madhya Pradesh - Email me on...\" with entities \"[(121, 132, 'Designation'), (13, 20, 'Location'), ...\". Use `spacy.training.offsets_to_biluo_tags(nlp.make_doc(text), entities)` to check the alignment. Misaligned entities ('-') will be ignored during training.\n",
      "  warnings.warn(\n"
     ]
    },
    {
     "name": "stdout",
     "output_type": "stream",
     "text": [
      "{'ner': 14652.250835546325}\n"
     ]
    },
    {
     "name": "stderr",
     "output_type": "stream",
     "text": [
      "C:\\Users\\teddy\\miniconda3\\envs\\NLP_env\\lib\\site-packages\\spacy\\training\\iob_utils.py:141: UserWarning: [W030] Some entities could not be aligned in the text \"Gunjan Nayyar\n",
      "Hoshiarpur, Punjab - Email me on Ind...\" with entities \"[(0, 13, 'Name'), (14, 24, 'Location'), (417, 460,...\". Use `spacy.training.offsets_to_biluo_tags(nlp.make_doc(text), entities)` to check the alignment. Misaligned entities ('-') will be ignored during training.\n",
      "  warnings.warn(\n"
     ]
    },
    {
     "name": "stdout",
     "output_type": "stream",
     "text": [
      "{'ner': 14669.765487001996}\n"
     ]
    },
    {
     "name": "stderr",
     "output_type": "stream",
     "text": [
      "C:\\Users\\teddy\\miniconda3\\envs\\NLP_env\\lib\\site-packages\\spacy\\training\\iob_utils.py:141: UserWarning: [W030] Some entities could not be aligned in the text \"Srabani Das\n",
      "software engineer - Oracle, Business O...\" with entities \"[(956, 1084, 'Skills'), (32, 38, 'Companies worked...\". Use `spacy.training.offsets_to_biluo_tags(nlp.make_doc(text), entities)` to check the alignment. Misaligned entities ('-') will be ignored during training.\n",
      "  warnings.warn(\n"
     ]
    },
    {
     "name": "stdout",
     "output_type": "stream",
     "text": [
      "{'ner': 14703.88194151031}\n"
     ]
    },
    {
     "name": "stderr",
     "output_type": "stream",
     "text": [
      "C:\\Users\\teddy\\miniconda3\\envs\\NLP_env\\lib\\site-packages\\spacy\\training\\iob_utils.py:141: UserWarning: [W030] Some entities could not be aligned in the text \"Shraddha Achar\n",
      "Mathura, Uttar Pradesh - Email me o...\" with entities \"[(15, 22, 'Location'), (151, 159, 'Designation'), ...\". Use `spacy.training.offsets_to_biluo_tags(nlp.make_doc(text), entities)` to check the alignment. Misaligned entities ('-') will be ignored during training.\n",
      "  warnings.warn(\n",
      "C:\\Users\\teddy\\miniconda3\\envs\\NLP_env\\lib\\site-packages\\spacy\\training\\iob_utils.py:141: UserWarning: [W030] Some entities could not be aligned in the text \"Shraddha Achar\n",
      "Mathura, Uttar Pradesh - Email me o...\" with entities \"[(142, 151, 'Years of Experience')]\". Use `spacy.training.offsets_to_biluo_tags(nlp.make_doc(text), entities)` to check the alignment. Misaligned entities ('-') will be ignored during training.\n",
      "  warnings.warn(\n"
     ]
    },
    {
     "name": "stdout",
     "output_type": "stream",
     "text": [
      "{'ner': 14711.223903592807}\n"
     ]
    },
    {
     "name": "stderr",
     "output_type": "stream",
     "text": [
      "C:\\Users\\teddy\\miniconda3\\envs\\NLP_env\\lib\\site-packages\\spacy\\training\\iob_utils.py:141: UserWarning: [W030] Some entities could not be aligned in the text \"Partho Sarathi Mitra\n",
      "Kolkata, West Bengal - Email ...\" with entities \"[(230, 262, 'College Name'), (0, 20, 'Name'), (158...\". Use `spacy.training.offsets_to_biluo_tags(nlp.make_doc(text), entities)` to check the alignment. Misaligned entities ('-') will be ignored during training.\n",
      "  warnings.warn(\n"
     ]
    },
    {
     "name": "stdout",
     "output_type": "stream",
     "text": [
      "{'ner': 14718.508580151085}\n"
     ]
    },
    {
     "name": "stderr",
     "output_type": "stream",
     "text": [
      "C:\\Users\\teddy\\miniconda3\\envs\\NLP_env\\lib\\site-packages\\spacy\\training\\iob_utils.py:141: UserWarning: [W030] Some entities could not be aligned in the text \"Sameer Kujur\n",
      "Orrisha - Email me on Indeed: indeed....\" with entities \"[(0, 12, 'Name'), (42, 85, 'Email Address'), (13, ...\". Use `spacy.training.offsets_to_biluo_tags(nlp.make_doc(text), entities)` to check the alignment. Misaligned entities ('-') will be ignored during training.\n",
      "  warnings.warn(\n"
     ]
    },
    {
     "name": "stdout",
     "output_type": "stream",
     "text": [
      "{'ner': 14729.62753406516}\n"
     ]
    },
    {
     "name": "stderr",
     "output_type": "stream",
     "text": [
      "C:\\Users\\teddy\\miniconda3\\envs\\NLP_env\\lib\\site-packages\\spacy\\training\\iob_utils.py:141: UserWarning: [W030] Some entities could not be aligned in the text \"Jaspreet Kaur\n",
      "Oceanic Consultants as a HR Executiv...\" with entities \"[(377, 396, 'Designation'), (38, 51, 'Companies wo...\". Use `spacy.training.offsets_to_biluo_tags(nlp.make_doc(text), entities)` to check the alignment. Misaligned entities ('-') will be ignored during training.\n",
      "  warnings.warn(\n"
     ]
    },
    {
     "name": "stdout",
     "output_type": "stream",
     "text": [
      "{'ner': 14873.832112928765}\n"
     ]
    },
    {
     "name": "stderr",
     "output_type": "stream",
     "text": [
      "C:\\Users\\teddy\\miniconda3\\envs\\NLP_env\\lib\\site-packages\\spacy\\training\\iob_utils.py:141: UserWarning: [W030] Some entities could not be aligned in the text \"Aanirudh Razdan\n",
      "Technical Support Executive - Tele...\" with entities \"[(368, 374, 'Location'), (46, 62, 'Companies worke...\". Use `spacy.training.offsets_to_biluo_tags(nlp.make_doc(text), entities)` to check the alignment. Misaligned entities ('-') will be ignored during training.\n",
      "  warnings.warn(\n"
     ]
    },
    {
     "name": "stdout",
     "output_type": "stream",
     "text": [
      "{'ner': 14890.12222424557}\n"
     ]
    },
    {
     "name": "stderr",
     "output_type": "stream",
     "text": [
      "C:\\Users\\teddy\\miniconda3\\envs\\NLP_env\\lib\\site-packages\\spacy\\training\\iob_utils.py:141: UserWarning: [W030] Some entities could not be aligned in the text \"Pranay Sathu\n",
      "Software Test Automation Engineer\n",
      "\n",
      "Hy...\" with entities \"[(2051, 2567, 'Skills'), (1856, 1913, 'Degree'), (...\". Use `spacy.training.offsets_to_biluo_tags(nlp.make_doc(text), entities)` to check the alignment. Misaligned entities ('-') will be ignored during training.\n",
      "  warnings.warn(\n"
     ]
    },
    {
     "name": "stdout",
     "output_type": "stream",
     "text": [
      "{'ner': 14899.285632848674}\n",
      "{'ner': 14899.285632848674}\n"
     ]
    },
    {
     "name": "stderr",
     "output_type": "stream",
     "text": [
      "C:\\Users\\teddy\\miniconda3\\envs\\NLP_env\\lib\\site-packages\\spacy\\training\\iob_utils.py:141: UserWarning: [W030] Some entities could not be aligned in the text \"Srushti Bhadale\n",
      "Mumbai, Maharashtra - Email me on ...\" with entities \"[(239, 264, 'Companies worked at'), (0, 15, 'Name'...\". Use `spacy.training.offsets_to_biluo_tags(nlp.make_doc(text), entities)` to check the alignment. Misaligned entities ('-') will be ignored during training.\n",
      "  warnings.warn(\n",
      "C:\\Users\\teddy\\miniconda3\\envs\\NLP_env\\lib\\site-packages\\spacy\\training\\iob_utils.py:141: UserWarning: [W030] Some entities could not be aligned in the text \"Jitendra Babu\n",
      "FI/CO Consultant in Tech Mahindra - ...\" with entities \"[(1760, 1768, 'Companies worked at'), (101, 145, '...\". Use `spacy.training.offsets_to_biluo_tags(nlp.make_doc(text), entities)` to check the alignment. Misaligned entities ('-') will be ignored during training.\n",
      "  warnings.warn(\n"
     ]
    },
    {
     "name": "stdout",
     "output_type": "stream",
     "text": [
      "{'ner': 14899.285632848674}\n"
     ]
    },
    {
     "name": "stderr",
     "output_type": "stream",
     "text": [
      "C:\\Users\\teddy\\miniconda3\\envs\\NLP_env\\lib\\site-packages\\spacy\\training\\iob_utils.py:141: UserWarning: [W030] Some entities could not be aligned in the text \"Sai Dhir\n",
      "- Email me on Indeed: indeed.com/r/Sai-Dh...\" with entities \"[(1667, 1705, 'Email Address'), (2519, 2526, 'Degr...\". Use `spacy.training.offsets_to_biluo_tags(nlp.make_doc(text), entities)` to check the alignment. Misaligned entities ('-') will be ignored during training.\n",
      "  warnings.warn(\n",
      "C:\\Users\\teddy\\miniconda3\\envs\\NLP_env\\lib\\site-packages\\spacy\\training\\iob_utils.py:141: UserWarning: [W030] Some entities could not be aligned in the text \"Sai Dhir\n",
      "- Email me on Indeed: indeed.com/r/Sai-Dh...\" with entities \"[(88, 120, 'Companies worked at'), (2528, 2540, 'C...\". Use `spacy.training.offsets_to_biluo_tags(nlp.make_doc(text), entities)` to check the alignment. Misaligned entities ('-') will be ignored during training.\n",
      "  warnings.warn(\n"
     ]
    },
    {
     "name": "stdout",
     "output_type": "stream",
     "text": [
      "{'ner': 14927.328192981246}\n"
     ]
    },
    {
     "name": "stderr",
     "output_type": "stream",
     "text": [
      "C:\\Users\\teddy\\miniconda3\\envs\\NLP_env\\lib\\site-packages\\spacy\\training\\iob_utils.py:141: UserWarning: [W030] Some entities could not be aligned in the text \"Angad Waghmare\n",
      "Pune, Maharashtra - Email me on Ind...\" with entities \"[(570, 574, 'Location'), (465, 469, 'Location'), (...\". Use `spacy.training.offsets_to_biluo_tags(nlp.make_doc(text), entities)` to check the alignment. Misaligned entities ('-') will be ignored during training.\n",
      "  warnings.warn(\n"
     ]
    },
    {
     "name": "stdout",
     "output_type": "stream",
     "text": [
      "{'ner': 14927.328192981246}\n"
     ]
    },
    {
     "name": "stderr",
     "output_type": "stream",
     "text": [
      "C:\\Users\\teddy\\miniconda3\\envs\\NLP_env\\lib\\site-packages\\spacy\\training\\iob_utils.py:141: UserWarning: [W030] Some entities could not be aligned in the text \"Sharan Adla\n",
      "- Email me on Indeed: indeed.com/r/Sha...\" with entities \"[(1801, 1842, 'Email Address'), (86, 91, 'Years of...\". Use `spacy.training.offsets_to_biluo_tags(nlp.make_doc(text), entities)` to check the alignment. Misaligned entities ('-') will be ignored during training.\n",
      "  warnings.warn(\n"
     ]
    },
    {
     "name": "stdout",
     "output_type": "stream",
     "text": [
      "{'ner': 14927.328192981246}\n"
     ]
    },
    {
     "name": "stderr",
     "output_type": "stream",
     "text": [
      "C:\\Users\\teddy\\miniconda3\\envs\\NLP_env\\lib\\site-packages\\spacy\\training\\iob_utils.py:141: UserWarning: [W030] Some entities could not be aligned in the text \"Girish Acharya\n",
      "Technical Architect & Sr. Software ...\" with entities \"[(4719, 4724, 'College Name'), (2259, 2268, 'Compa...\". Use `spacy.training.offsets_to_biluo_tags(nlp.make_doc(text), entities)` to check the alignment. Misaligned entities ('-') will be ignored during training.\n",
      "  warnings.warn(\n"
     ]
    },
    {
     "name": "stdout",
     "output_type": "stream",
     "text": [
      "{'ner': 14927.328192981246}\n"
     ]
    },
    {
     "name": "stderr",
     "output_type": "stream",
     "text": [
      "C:\\Users\\teddy\\miniconda3\\envs\\NLP_env\\lib\\site-packages\\spacy\\training\\iob_utils.py:141: UserWarning: [W030] Some entities could not be aligned in the text \"Chhaya Prabhale\n",
      "Kharadi, Pune, 411014, IN - Email ...\" with entities \"[(63, 111, 'Email Address'), (16, 23, 'Location'),...\". Use `spacy.training.offsets_to_biluo_tags(nlp.make_doc(text), entities)` to check the alignment. Misaligned entities ('-') will be ignored during training.\n",
      "  warnings.warn(\n",
      "C:\\Users\\teddy\\miniconda3\\envs\\NLP_env\\lib\\site-packages\\spacy\\training\\iob_utils.py:141: UserWarning: [W030] Some entities could not be aligned in the text \"Nida Khan\n",
      "Tech Support Executive - Teleperformance...\" with entities \"[(800, 858, 'Skills'), (0, 9, 'Name'), (420, 449, ...\". Use `spacy.training.offsets_to_biluo_tags(nlp.make_doc(text), entities)` to check the alignment. Misaligned entities ('-') will be ignored during training.\n",
      "  warnings.warn(\n"
     ]
    },
    {
     "name": "stdout",
     "output_type": "stream",
     "text": [
      "{'ner': 14927.328192981246}\n",
      "{'ner': 15000.357263954642}\n"
     ]
    },
    {
     "name": "stderr",
     "output_type": "stream",
     "text": [
      "C:\\Users\\teddy\\miniconda3\\envs\\NLP_env\\lib\\site-packages\\spacy\\training\\iob_utils.py:141: UserWarning: [W030] Some entities could not be aligned in the text \"Yasothai Jayaramachandran\n",
      "Lead Engineer - Automati...\" with entities \"[(7687, 7722, 'College Name'), (5560, 5573, 'Compa...\". Use `spacy.training.offsets_to_biluo_tags(nlp.make_doc(text), entities)` to check the alignment. Misaligned entities ('-') will be ignored during training.\n",
      "  warnings.warn(\n"
     ]
    },
    {
     "name": "stdout",
     "output_type": "stream",
     "text": [
      "{'ner': 15042.47844686341}\n"
     ]
    },
    {
     "name": "stderr",
     "output_type": "stream",
     "text": [
      "C:\\Users\\teddy\\miniconda3\\envs\\NLP_env\\lib\\site-packages\\spacy\\training\\iob_utils.py:141: UserWarning: [W030] Some entities could not be aligned in the text \"Ramesh HP\n",
      "CES ASSOCIATE CONSULTANT\n",
      "\n",
      "Bangalore, Kar...\" with entities \"[(0, 9, 'Name'), (36, 45, 'Location'), (10, 34, 'D...\". Use `spacy.training.offsets_to_biluo_tags(nlp.make_doc(text), entities)` to check the alignment. Misaligned entities ('-') will be ignored during training.\n",
      "  warnings.warn(\n"
     ]
    },
    {
     "name": "stdout",
     "output_type": "stream",
     "text": [
      "{'ner': 15059.206825563004}\n"
     ]
    },
    {
     "name": "stderr",
     "output_type": "stream",
     "text": [
      "C:\\Users\\teddy\\miniconda3\\envs\\NLP_env\\lib\\site-packages\\spacy\\training\\iob_utils.py:141: UserWarning: [W030] Some entities could not be aligned in the text \"Ijas Nizamuddin\n",
      "Associate Consultant - State Stree...\" with entities \"[(53, 67, 'Location'), (97, 144, 'Email Address'),...\". Use `spacy.training.offsets_to_biluo_tags(nlp.make_doc(text), entities)` to check the alignment. Misaligned entities ('-') will be ignored during training.\n",
      "  warnings.warn(\n"
     ]
    },
    {
     "name": "stdout",
     "output_type": "stream",
     "text": [
      "{'ner': 15084.047413361086}\n"
     ]
    },
    {
     "name": "stderr",
     "output_type": "stream",
     "text": [
      "C:\\Users\\teddy\\miniconda3\\envs\\NLP_env\\lib\\site-packages\\spacy\\training\\iob_utils.py:141: UserWarning: [W030] Some entities could not be aligned in the text \"Yogesh Ghatole\n",
      "Engineer / Electrical Supervisor, S...\" with entities \"[(569, 602, 'Designation'), (419, 452, 'Designatio...\". Use `spacy.training.offsets_to_biluo_tags(nlp.make_doc(text), entities)` to check the alignment. Misaligned entities ('-') will be ignored during training.\n",
      "  warnings.warn(\n"
     ]
    },
    {
     "name": "stdout",
     "output_type": "stream",
     "text": [
      "{'ner': 15091.731109047301}\n"
     ]
    },
    {
     "name": "stderr",
     "output_type": "stream",
     "text": [
      "C:\\Users\\teddy\\miniconda3\\envs\\NLP_env\\lib\\site-packages\\spacy\\training\\iob_utils.py:141: UserWarning: [W030] Some entities could not be aligned in the text \"Roshan Sinha\n",
      "Application Developer - SAP ABAP\n",
      "\n",
      "Kol...\" with entities \"[(3246, 3254, 'Skills'), (238, 259, 'Designation')...\". Use `spacy.training.offsets_to_biluo_tags(nlp.make_doc(text), entities)` to check the alignment. Misaligned entities ('-') will be ignored during training.\n",
      "  warnings.warn(\n"
     ]
    },
    {
     "name": "stdout",
     "output_type": "stream",
     "text": [
      "{'ner': 15164.192495971338}\n"
     ]
    },
    {
     "name": "stderr",
     "output_type": "stream",
     "text": [
      "C:\\Users\\teddy\\miniconda3\\envs\\NLP_env\\lib\\site-packages\\spacy\\training\\iob_utils.py:141: UserWarning: [W030] Some entities could not be aligned in the text \"Vineeth Vijayan\n",
      "\"Store Executive\" - Orange City Ho...\" with entities \"[(6936, 6973, 'College Name'), (718, 759, 'College...\". Use `spacy.training.offsets_to_biluo_tags(nlp.make_doc(text), entities)` to check the alignment. Misaligned entities ('-') will be ignored during training.\n",
      "  warnings.warn(\n"
     ]
    },
    {
     "name": "stdout",
     "output_type": "stream",
     "text": [
      "{'ner': 15173.076041346556}\n"
     ]
    },
    {
     "name": "stderr",
     "output_type": "stream",
     "text": [
      "C:\\Users\\teddy\\miniconda3\\envs\\NLP_env\\lib\\site-packages\\spacy\\training\\iob_utils.py:141: UserWarning: [W030] Some entities could not be aligned in the text \"Dilliraja Baskaran\n",
      "Tamil Nadu - Email me on Indeed...\" with entities \"[(270, 273, 'Degree'), (19, 29, 'Location'), (52, ...\". Use `spacy.training.offsets_to_biluo_tags(nlp.make_doc(text), entities)` to check the alignment. Misaligned entities ('-') will be ignored during training.\n",
      "  warnings.warn(\n"
     ]
    },
    {
     "name": "stdout",
     "output_type": "stream",
     "text": [
      "{'ner': 15183.851755150603}\n"
     ]
    },
    {
     "name": "stderr",
     "output_type": "stream",
     "text": [
      "C:\\Users\\teddy\\miniconda3\\envs\\NLP_env\\lib\\site-packages\\spacy\\training\\iob_utils.py:141: UserWarning: [W030] Some entities could not be aligned in the text \"Sudaya Puranik\n",
      "Principal Engineer Technical Staff ...\" with entities \"[(736, 886, 'Skills'), (15, 50, 'Designation'), (3...\". Use `spacy.training.offsets_to_biluo_tags(nlp.make_doc(text), entities)` to check the alignment. Misaligned entities ('-') will be ignored during training.\n",
      "  warnings.warn(\n"
     ]
    },
    {
     "name": "stdout",
     "output_type": "stream",
     "text": [
      "{'ner': 15210.062626468318}\n"
     ]
    },
    {
     "name": "stderr",
     "output_type": "stream",
     "text": [
      "C:\\Users\\teddy\\miniconda3\\envs\\NLP_env\\lib\\site-packages\\spacy\\training\\iob_utils.py:141: UserWarning: [W030] Some entities could not be aligned in the text \"Nikhileshkumar Ikhar\n",
      "Product development engineer ...\" with entities \"[(2658, 2671, 'Degree'), (2507, 2511, 'Graduation ...\". Use `spacy.training.offsets_to_biluo_tags(nlp.make_doc(text), entities)` to check the alignment. Misaligned entities ('-') will be ignored during training.\n",
      "  warnings.warn(\n"
     ]
    },
    {
     "name": "stdout",
     "output_type": "stream",
     "text": [
      "{'ner': 15275.662901616708}\n",
      "{'ner': 15380.57534581201}\n"
     ]
    },
    {
     "name": "stderr",
     "output_type": "stream",
     "text": [
      "C:\\Users\\teddy\\miniconda3\\envs\\NLP_env\\lib\\site-packages\\spacy\\training\\iob_utils.py:141: UserWarning: [W030] Some entities could not be aligned in the text \"Karthihayini C\n",
      "Systems Engineer - Infosys Limited\n",
      "...\" with entities \"[(1076, 1092, 'College Name'), (387, 403, 'Designa...\". Use `spacy.training.offsets_to_biluo_tags(nlp.make_doc(text), entities)` to check the alignment. Misaligned entities ('-') will be ignored during training.\n",
      "  warnings.warn(\n"
     ]
    },
    {
     "name": "stdout",
     "output_type": "stream",
     "text": [
      "{'ner': 15402.520982915388}\n"
     ]
    },
    {
     "name": "stderr",
     "output_type": "stream",
     "text": [
      "C:\\Users\\teddy\\miniconda3\\envs\\NLP_env\\lib\\site-packages\\spacy\\training\\iob_utils.py:141: UserWarning: [W030] Some entities could not be aligned in the text \"Praveen Bhaskar\n",
      "Program Manager (Software Delivery...\" with entities \"[(210, 223, 'Companies worked at'), (0, 15, 'Name'...\". Use `spacy.training.offsets_to_biluo_tags(nlp.make_doc(text), entities)` to check the alignment. Misaligned entities ('-') will be ignored during training.\n",
      "  warnings.warn(\n"
     ]
    },
    {
     "name": "stdout",
     "output_type": "stream",
     "text": [
      "{'ner': 15413.485110061085}\n"
     ]
    },
    {
     "name": "stderr",
     "output_type": "stream",
     "text": [
      "C:\\Users\\teddy\\miniconda3\\envs\\NLP_env\\lib\\site-packages\\spacy\\training\\iob_utils.py:141: UserWarning: [W030] Some entities could not be aligned in the text \"Madas Peddaiah\n",
      "Anantapur, Andhra Pradesh - Email m...\" with entities \"[(2917, 2921, 'Graduation Year'), (1022, 1037, 'Co...\". Use `spacy.training.offsets_to_biluo_tags(nlp.make_doc(text), entities)` to check the alignment. Misaligned entities ('-') will be ignored during training.\n",
      "  warnings.warn(\n"
     ]
    },
    {
     "name": "stdout",
     "output_type": "stream",
     "text": [
      "{'ner': 15479.381911586774}\n"
     ]
    },
    {
     "name": "stderr",
     "output_type": "stream",
     "text": [
      "C:\\Users\\teddy\\miniconda3\\envs\\NLP_env\\lib\\site-packages\\spacy\\training\\iob_utils.py:141: UserWarning: [W030] Some entities could not be aligned in the text \"Mohammed Murtuza\n",
      "Major Incident Manager / Escalati...\" with entities \"[(0, 16, 'Name'), (189, 233, 'Designation'), (7805...\". Use `spacy.training.offsets_to_biluo_tags(nlp.make_doc(text), entities)` to check the alignment. Misaligned entities ('-') will be ignored during training.\n",
      "  warnings.warn(\n"
     ]
    },
    {
     "name": "stdout",
     "output_type": "stream",
     "text": [
      "{'ner': 15487.516680181827}\n"
     ]
    },
    {
     "name": "stderr",
     "output_type": "stream",
     "text": [
      "C:\\Users\\teddy\\miniconda3\\envs\\NLP_env\\lib\\site-packages\\spacy\\training\\iob_utils.py:141: UserWarning: [W030] Some entities could not be aligned in the text \"Ram Edupuganti\n",
      "Software Development Director - Ora...\" with entities \"[(1960, 1993, 'Designation'), (1789, 1816, 'Design...\". Use `spacy.training.offsets_to_biluo_tags(nlp.make_doc(text), entities)` to check the alignment. Misaligned entities ('-') will be ignored during training.\n",
      "  warnings.warn(\n"
     ]
    },
    {
     "name": "stdout",
     "output_type": "stream",
     "text": [
      "{'ner': 15530.980243392321}\n"
     ]
    },
    {
     "name": "stderr",
     "output_type": "stream",
     "text": [
      "C:\\Users\\teddy\\miniconda3\\envs\\NLP_env\\lib\\site-packages\\spacy\\training\\iob_utils.py:141: UserWarning: [W030] Some entities could not be aligned in the text \"Yathishwaran P\n",
      "Maximo Consultant - Infosys Limited...\" with entities \"[(15, 32, 'Designation'), (19265, 19269, 'Graduati...\". Use `spacy.training.offsets_to_biluo_tags(nlp.make_doc(text), entities)` to check the alignment. Misaligned entities ('-') will be ignored during training.\n",
      "  warnings.warn(\n"
     ]
    },
    {
     "name": "stdout",
     "output_type": "stream",
     "text": [
      "{'ner': 15563.077581786201}\n"
     ]
    },
    {
     "name": "stderr",
     "output_type": "stream",
     "text": [
      "C:\\Users\\teddy\\miniconda3\\envs\\NLP_env\\lib\\site-packages\\spacy\\training\\iob_utils.py:141: UserWarning: [W030] Some entities could not be aligned in the text \"Mohamed Ameen\n",
      "System engineer\n",
      "\n",
      "Bengaluru, Karnatak...\" with entities \"[(319, 340, 'Designation'), (815, 824, 'Location')...\". Use `spacy.training.offsets_to_biluo_tags(nlp.make_doc(text), entities)` to check the alignment. Misaligned entities ('-') will be ignored during training.\n",
      "  warnings.warn(\n"
     ]
    },
    {
     "name": "stdout",
     "output_type": "stream",
     "text": [
      "{'ner': 15587.637604011257}\n"
     ]
    },
    {
     "name": "stderr",
     "output_type": "stream",
     "text": [
      "C:\\Users\\teddy\\miniconda3\\envs\\NLP_env\\lib\\site-packages\\spacy\\training\\iob_utils.py:141: UserWarning: [W030] Some entities could not be aligned in the text \"Koushik Katta\n",
      "Devops\n",
      "\n",
      "Hyderabad, Telangana - Email...\" with entities \"[(509, 518, 'Location'), (2683, 2732, 'Degree'), (...\". Use `spacy.training.offsets_to_biluo_tags(nlp.make_doc(text), entities)` to check the alignment. Misaligned entities ('-') will be ignored during training.\n",
      "  warnings.warn(\n"
     ]
    },
    {
     "name": "stdout",
     "output_type": "stream",
     "text": [
      "{'ner': 15624.204720822794}\n"
     ]
    },
    {
     "name": "stderr",
     "output_type": "stream",
     "text": [
      "C:\\Users\\teddy\\miniconda3\\envs\\NLP_env\\lib\\site-packages\\spacy\\training\\iob_utils.py:141: UserWarning: [W030] Some entities could not be aligned in the text \"Kavitha K\n",
      "Senior System Engineer - Infosys Limited...\" with entities \"[(2128, 2144, 'Companies worked at'), (92, 131, 'E...\". Use `spacy.training.offsets_to_biluo_tags(nlp.make_doc(text), entities)` to check the alignment. Misaligned entities ('-') will be ignored during training.\n",
      "  warnings.warn(\n"
     ]
    },
    {
     "name": "stdout",
     "output_type": "stream",
     "text": [
      "{'ner': 15635.853024441505}\n"
     ]
    },
    {
     "name": "stderr",
     "output_type": "stream",
     "text": [
      "C:\\Users\\teddy\\miniconda3\\envs\\NLP_env\\lib\\site-packages\\spacy\\training\\iob_utils.py:141: UserWarning: [W030] Some entities could not be aligned in the text \"Saurabh Sandhikar\n",
      "SAURABH SANDHIKAR\n",
      "\n",
      "Hyderabad, Te...\" with entities \"[(1930, 2063, 'Skills'), (2562, 2597, 'Skills'), (...\". Use `spacy.training.offsets_to_biluo_tags(nlp.make_doc(text), entities)` to check the alignment. Misaligned entities ('-') will be ignored during training.\n",
      "  warnings.warn(\n"
     ]
    },
    {
     "name": "stdout",
     "output_type": "stream",
     "text": [
      "{'ner': 15656.091200443934}\n"
     ]
    },
    {
     "name": "stderr",
     "output_type": "stream",
     "text": [
      "C:\\Users\\teddy\\miniconda3\\envs\\NLP_env\\lib\\site-packages\\spacy\\training\\iob_utils.py:141: UserWarning: [W030] Some entities could not be aligned in the text \"Shaik Tazuddin\n",
      "Senior Process Executive - STAR Ind...\" with entities \"[(2714, 2727, 'Degree'), (437, 462, 'Designation')...\". Use `spacy.training.offsets_to_biluo_tags(nlp.make_doc(text), entities)` to check the alignment. Misaligned entities ('-') will be ignored during training.\n",
      "  warnings.warn(\n"
     ]
    },
    {
     "name": "stdout",
     "output_type": "stream",
     "text": [
      "{'ner': 15663.12764844195}\n",
      "{'ner': 15663.12764844195}\n",
      "Starting iteration\n"
     ]
    },
    {
     "name": "stderr",
     "output_type": "stream",
     "text": [
      "C:\\Users\\teddy\\miniconda3\\envs\\NLP_env\\lib\\site-packages\\spacy\\training\\iob_utils.py:141: UserWarning: [W030] Some entities could not be aligned in the text \"Snehal Jadhav\n",
      "Mumbai, Maharashtra - Email me on In...\" with entities \"[(316, 334, 'College Name'), (0, 14, 'Name'), (139...\". Use `spacy.training.offsets_to_biluo_tags(nlp.make_doc(text), entities)` to check the alignment. Misaligned entities ('-') will be ignored during training.\n",
      "  warnings.warn(\n",
      "C:\\Users\\teddy\\miniconda3\\envs\\NLP_env\\lib\\site-packages\\spacy\\training\\iob_utils.py:141: UserWarning: [W030] Some entities could not be aligned in the text \"Snehal Jadhav\n",
      "Mumbai, Maharashtra - Email me on In...\" with entities \"[(1794, 1800, 'Companies worked at'), (1077, 1120,...\". Use `spacy.training.offsets_to_biluo_tags(nlp.make_doc(text), entities)` to check the alignment. Misaligned entities ('-') will be ignored during training.\n",
      "  warnings.warn(\n"
     ]
    },
    {
     "name": "stdout",
     "output_type": "stream",
     "text": [
      "{'ner': 11.256395779538195}\n",
      "{'ner': 29.74627903189952}\n",
      "{'ner': 51.067692538645986}\n",
      "{'ner': 77.35467790082743}\n",
      "{'ner': 103.30862561448424}\n",
      "{'ner': 128.3970407362612}\n",
      "{'ner': 140.19128153031312}\n",
      "{'ner': 146.99539349538514}\n",
      "{'ner': 157.61004152102697}\n",
      "{'ner': 157.61004152102697}\n",
      "{'ner': 171.86213645739943}\n",
      "{'ner': 246.0936950187245}\n",
      "{'ner': 267.65247149403524}\n",
      "{'ner': 326.3096558392284}\n",
      "{'ner': 454.50596538222146}\n",
      "{'ner': 460.7364472916266}\n",
      "{'ner': 460.7364472916266}\n",
      "{'ner': 460.7364472916266}\n",
      "{'ner': 460.7364472916266}\n",
      "{'ner': 469.7179163616252}\n",
      "{'ner': 481.15965858116044}\n",
      "{'ner': 486.5636394600231}\n",
      "{'ner': 497.3196861991405}\n",
      "{'ner': 503.2284308691695}\n",
      "{'ner': 513.7325732723527}\n",
      "{'ner': 571.810018374277}\n",
      "{'ner': 578.2589311483758}\n",
      "{'ner': 584.4404401297495}\n",
      "{'ner': 647.6293633054731}\n",
      "{'ner': 672.2864874119439}\n",
      "{'ner': 688.6844007920353}\n",
      "{'ner': 716.9733844545174}\n",
      "{'ner': 814.1086997973309}\n",
      "{'ner': 823.9559085300974}\n",
      "{'ner': 831.7512162124483}\n",
      "{'ner': 842.3807575995238}\n",
      "{'ner': 905.1851730907827}\n",
      "{'ner': 916.8058473667326}\n",
      "{'ner': 929.5550317037115}\n",
      "{'ner': 989.9558143149326}\n",
      "{'ner': 1019.679382370624}\n",
      "{'ner': 1019.679382370624}\n",
      "{'ner': 1027.0084883452153}\n",
      "{'ner': 1027.0084883452153}\n",
      "{'ner': 1027.0084883452153}\n",
      "{'ner': 1027.0084883452153}\n",
      "{'ner': 1027.0084883452153}\n",
      "{'ner': 1027.0084883452153}\n",
      "{'ner': 1036.534978698877}\n",
      "{'ner': 1036.534978698877}\n",
      "{'ner': 1036.534978698877}\n",
      "{'ner': 1036.534978698877}\n",
      "{'ner': 1036.534978698877}\n",
      "{'ner': 1036.534978698877}\n",
      "{'ner': 1036.534978698877}\n",
      "{'ner': 1036.534978698877}\n",
      "{'ner': 1057.2807292812736}\n",
      "{'ner': 1057.2807292812736}\n",
      "{'ner': 1057.2807292812736}\n",
      "{'ner': 1057.2807292812736}\n",
      "{'ner': 1057.2807292812736}\n",
      "{'ner': 1086.2221247633365}\n",
      "{'ner': 1086.2221247633365}\n",
      "{'ner': 1086.2221247633365}\n",
      "{'ner': 1086.2221247633365}\n",
      "{'ner': 1104.3860046887041}\n",
      "{'ner': 1104.3860046887041}\n",
      "{'ner': 1104.3860046887041}\n",
      "{'ner': 1104.3860046887041}\n",
      "{'ner': 1107.1896558598464}\n",
      "{'ner': 1107.1896558598464}\n",
      "{'ner': 1107.1896558598464}\n",
      "{'ner': 1107.1896558598464}\n",
      "{'ner': 1107.1896558598464}\n",
      "{'ner': 1107.1896558598464}\n",
      "{'ner': 1109.8792097189325}\n",
      "{'ner': 1109.8792097189325}\n",
      "{'ner': 1109.8792097189325}\n",
      "{'ner': 1109.8792097189325}\n",
      "{'ner': 1109.8792097189325}\n",
      "{'ner': 1109.8792097189325}\n",
      "{'ner': 1109.8792097189325}\n",
      "{'ner': 1126.3426708700008}\n",
      "{'ner': 1126.3426708700008}\n",
      "{'ner': 1126.3426708700008}\n",
      "{'ner': 1126.3426708700008}\n",
      "{'ner': 1126.3426708700008}\n",
      "{'ner': 1126.3426708700008}\n",
      "{'ner': 1126.3426708700008}\n",
      "{'ner': 1126.3426708700008}\n",
      "{'ner': 1126.3426708700008}\n",
      "{'ner': 1126.3426708700008}\n",
      "{'ner': 1126.3426708700008}\n",
      "{'ner': 1136.3290305112216}\n",
      "{'ner': 1136.3290305112216}\n",
      "{'ner': 1136.3290305112216}\n",
      "{'ner': 1153.4170807514731}\n",
      "{'ner': 1153.4170807514731}\n",
      "{'ner': 1153.4170807514731}\n",
      "{'ner': 1153.4170807514731}\n",
      "{'ner': 1153.4170807514731}\n",
      "{'ner': 1165.7218304630385}\n",
      "{'ner': 1165.7218304630385}\n",
      "{'ner': 1165.7218304630385}\n",
      "{'ner': 1165.7218304630385}\n",
      "{'ner': 1165.7218304630385}\n",
      "{'ner': 1165.7218304630385}\n",
      "{'ner': 1167.6778812230916}\n",
      "{'ner': 1167.6778812230916}\n",
      "{'ner': 1167.6778812230916}\n",
      "{'ner': 1167.6778812230916}\n",
      "{'ner': 1167.6778812230916}\n",
      "{'ner': 1167.6778812230916}\n",
      "{'ner': 1167.6778812230916}\n",
      "{'ner': 1167.6778812230916}\n",
      "{'ner': 1167.6778812230916}\n",
      "{'ner': 1167.6778812230916}\n",
      "{'ner': 1167.6778812230916}\n",
      "{'ner': 1180.9859126646245}\n",
      "{'ner': 1180.9859126646245}\n",
      "{'ner': 1180.9859126646245}\n",
      "{'ner': 1183.0475610511794}\n",
      "{'ner': 1183.0475610511794}\n",
      "{'ner': 1183.0475610511794}\n",
      "{'ner': 1183.0475610511794}\n",
      "{'ner': 1183.0475610511794}\n",
      "{'ner': 1183.0475610511794}\n",
      "{'ner': 1191.2670073030445}\n",
      "{'ner': 1191.2670073030445}\n",
      "{'ner': 1191.2670073030445}\n",
      "{'ner': 1191.2670073030445}\n",
      "{'ner': 1205.9101055061471}\n",
      "{'ner': 1205.9101055061471}\n",
      "{'ner': 1205.9101055061471}\n",
      "{'ner': 1205.9101055061471}\n",
      "{'ner': 1205.9101055061471}\n",
      "{'ner': 1205.9101055061471}\n",
      "{'ner': 1205.9101055061471}\n",
      "{'ner': 1210.1661885793806}\n",
      "{'ner': 1210.1661885793806}\n",
      "{'ner': 1210.1661885793806}\n",
      "{'ner': 1210.1661885793806}\n",
      "{'ner': 1210.1661885793806}\n",
      "{'ner': 1210.1661885793806}\n",
      "{'ner': 1210.1661885793806}\n",
      "{'ner': 1210.1661885793806}\n",
      "{'ner': 1210.1661885793806}\n",
      "{'ner': 1210.1661885793806}\n",
      "{'ner': 1225.208306124243}\n",
      "{'ner': 1225.208306124243}\n",
      "{'ner': 1225.208306124243}\n",
      "{'ner': 1225.208306124243}\n",
      "{'ner': 1225.208306124243}\n",
      "{'ner': 1225.208306124243}\n",
      "{'ner': 1225.208306124243}\n",
      "{'ner': 1225.208306124243}\n",
      "{'ner': 1225.208306124243}\n",
      "{'ner': 1225.208306124243}\n",
      "{'ner': 1225.208306124243}\n",
      "{'ner': 1225.208306124243}\n",
      "{'ner': 1225.8814642439588}\n",
      "{'ner': 1225.8814642439588}\n",
      "{'ner': 1225.8814642439588}\n",
      "{'ner': 1225.8814642439588}\n",
      "{'ner': 1225.8814642439588}\n",
      "{'ner': 1229.9666904974956}\n",
      "{'ner': 1229.9666904974956}\n",
      "{'ner': 1229.9666904974956}\n",
      "{'ner': 1234.5184789537536}\n",
      "{'ner': 1234.5184789537536}\n",
      "{'ner': 1234.5184789537536}\n",
      "{'ner': 1234.5184789537536}\n",
      "{'ner': 1234.5184789537536}\n",
      "{'ner': 1234.5184789537536}\n",
      "{'ner': 1234.5184789537536}\n",
      "{'ner': 1234.5184789537536}\n",
      "{'ner': 1234.5184789537536}\n",
      "{'ner': 1234.5184789537536}\n",
      "{'ner': 1234.5184789537536}\n",
      "{'ner': 1234.5184789537536}\n",
      "{'ner': 1234.5184789537536}\n",
      "{'ner': 1234.5184789537536}\n",
      "{'ner': 1234.5184789537536}\n",
      "{'ner': 1234.5184789537536}\n",
      "{'ner': 1234.5184789537536}\n",
      "{'ner': 1234.5184789537536}\n",
      "{'ner': 1242.5589471892679}\n",
      "{'ner': 1242.5589471892679}\n",
      "{'ner': 1242.5589471892679}\n",
      "{'ner': 1242.5589471892679}\n",
      "{'ner': 1242.5589471892679}\n",
      "{'ner': 1242.5589471892679}\n",
      "{'ner': 1242.5589471892679}\n",
      "{'ner': 1242.5589471892679}\n",
      "{'ner': 1242.5589471892679}\n",
      "{'ner': 1242.5589471892679}\n",
      "{'ner': 1242.5589471892679}\n",
      "{'ner': 1242.5589471892679}\n",
      "{'ner': 1242.5589471892679}\n",
      "Starting iteration\n",
      "{'ner': 0.0}\n",
      "{'ner': 0.0}\n",
      "{'ner': 0.0}\n",
      "{'ner': 0.0}\n",
      "{'ner': 0.0}\n",
      "{'ner': 0.0}\n",
      "{'ner': 0.0}\n",
      "{'ner': 5.005320207110751}\n",
      "{'ner': 5.005320207110751}\n",
      "{'ner': 5.005320207110751}\n",
      "{'ner': 5.005320207110751}\n",
      "{'ner': 5.005320207110751}\n",
      "{'ner': 5.005320207110751}\n",
      "{'ner': 5.005320207110751}\n",
      "{'ner': 5.005320207110751}\n",
      "{'ner': 5.005320207110751}\n",
      "{'ner': 8.98477427062792}\n",
      "{'ner': 8.98477427062792}\n",
      "{'ner': 8.98477427062792}\n",
      "{'ner': 8.98477427062792}\n",
      "{'ner': 8.98477427062792}\n",
      "{'ner': 8.98477427062792}\n",
      "{'ner': 8.98477427062792}\n",
      "{'ner': 8.98477427062792}\n",
      "{'ner': 8.98477427062792}\n",
      "{'ner': 8.98477427062792}\n",
      "{'ner': 10.980386530505514}\n",
      "{'ner': 10.980386530505514}\n",
      "{'ner': 10.980386530505514}\n",
      "{'ner': 10.980386530505514}\n",
      "{'ner': 10.980386530505514}\n",
      "{'ner': 10.980386530505514}\n",
      "{'ner': 12.446266327002872}\n",
      "{'ner': 12.446266327002872}\n",
      "{'ner': 12.446266327002872}\n",
      "{'ner': 12.446266327002872}\n",
      "{'ner': 12.446266327002872}\n",
      "{'ner': 12.446266327002872}\n",
      "{'ner': 12.446266327002872}\n",
      "{'ner': 14.976854038875548}\n",
      "{'ner': 14.976854038875548}\n",
      "{'ner': 14.976854038875548}\n",
      "{'ner': 14.976854038875548}\n",
      "{'ner': 14.976854038875548}\n",
      "{'ner': 14.976854038875548}\n",
      "{'ner': 14.976854038875548}\n",
      "{'ner': 14.976854038875548}\n",
      "{'ner': 14.976854038875548}\n",
      "{'ner': 20.955885432827415}\n",
      "{'ner': 20.955885432827415}\n",
      "{'ner': 20.955885432827415}\n",
      "{'ner': 20.955885432827415}\n",
      "{'ner': 20.955885432827415}\n",
      "{'ner': 20.955885432827415}\n",
      "{'ner': 20.955885432827415}\n",
      "{'ner': 20.955885432827415}\n",
      "{'ner': 21.748981036602427}\n",
      "{'ner': 21.748981036602427}\n",
      "{'ner': 21.748981036602427}\n",
      "{'ner': 22.707941350549756}\n",
      "{'ner': 22.707941350549756}\n",
      "{'ner': 26.31848006623231}\n",
      "{'ner': 32.83741938199096}\n",
      "{'ner': 32.83741938199096}\n",
      "{'ner': 42.30575560113929}\n",
      "{'ner': 42.30575560113929}\n",
      "{'ner': 42.30575560113929}\n",
      "{'ner': 42.30575560113929}\n",
      "{'ner': 42.30575560113929}\n",
      "{'ner': 42.30575560113929}\n",
      "{'ner': 42.30575560113929}\n",
      "{'ner': 42.30575560113929}\n",
      "{'ner': 42.30575560113929}\n",
      "{'ner': 42.30575560113929}\n",
      "{'ner': 42.30575560113929}\n",
      "{'ner': 42.30575560113929}\n",
      "{'ner': 42.30575560113929}\n",
      "{'ner': 42.30575560113929}\n",
      "{'ner': 42.30575560113929}\n",
      "{'ner': 42.30575560113929}\n",
      "{'ner': 42.30575560113929}\n",
      "{'ner': 42.30575560113929}\n",
      "{'ner': 42.30575560113929}\n",
      "{'ner': 42.30575560113929}\n",
      "{'ner': 42.30575560113929}\n",
      "{'ner': 57.59337994569684}\n",
      "{'ner': 57.59337994569684}\n",
      "{'ner': 62.28799280720973}\n",
      "{'ner': 62.28799280720973}\n",
      "{'ner': 62.28799280720973}\n",
      "{'ner': 62.28799280720973}\n",
      "{'ner': 62.28799280720973}\n",
      "{'ner': 62.28799280720973}\n",
      "{'ner': 62.28799280720973}\n",
      "{'ner': 62.28799280720973}\n",
      "{'ner': 62.28799280720973}\n",
      "{'ner': 62.28799280720973}\n",
      "{'ner': 62.28799280720973}\n",
      "{'ner': 62.28799280720973}\n",
      "{'ner': 62.28799280720973}\n",
      "{'ner': 66.71967576815464}\n",
      "{'ner': 66.71967576815464}\n",
      "{'ner': 66.71967576815464}\n",
      "{'ner': 66.71967576815464}\n",
      "{'ner': 66.71967576815464}\n",
      "{'ner': 66.71967576815464}\n",
      "{'ner': 68.39755570047471}\n",
      "{'ner': 68.39755570047471}\n",
      "{'ner': 74.04037236678296}\n",
      "{'ner': 74.04037236678296}\n",
      "{'ner': 74.04037236678296}\n",
      "{'ner': 74.04037236678296}\n",
      "{'ner': 74.04037236678296}\n",
      "{'ner': 74.04037236678296}\n",
      "{'ner': 74.04037236678296}\n",
      "{'ner': 74.04037236678296}\n",
      "{'ner': 74.04037236678296}\n",
      "{'ner': 80.66930859216954}\n",
      "{'ner': 80.66930859216954}\n",
      "{'ner': 80.66930859216954}\n",
      "{'ner': 80.66930859216954}\n",
      "{'ner': 80.66930859216954}\n",
      "{'ner': 80.66930859216954}\n",
      "{'ner': 80.66930859216954}\n",
      "{'ner': 80.66930859216954}\n",
      "{'ner': 80.66930859216954}\n",
      "{'ner': 80.66930859216954}\n",
      "{'ner': 80.66930859216954}\n",
      "{'ner': 80.66930859216954}\n",
      "{'ner': 80.66930859216954}\n",
      "{'ner': 80.66930859216954}\n",
      "{'ner': 80.66930859216954}\n",
      "{'ner': 80.66930859216954}\n",
      "{'ner': 80.66930859216954}\n",
      "{'ner': 80.66930859216954}\n",
      "{'ner': 80.66930859216954}\n",
      "{'ner': 80.66930859216954}\n",
      "{'ner': 80.66930859216954}\n",
      "{'ner': 80.66930859216954}\n",
      "{'ner': 80.66930859216954}\n",
      "{'ner': 80.66930859216954}\n",
      "{'ner': 80.66930859216954}\n",
      "{'ner': 80.66930859216954}\n",
      "{'ner': 80.66930859216954}\n",
      "{'ner': 80.66930859216954}\n",
      "{'ner': 80.66930859216954}\n",
      "{'ner': 80.66930859216954}\n",
      "{'ner': 80.66930859216954}\n",
      "{'ner': 80.66930859216954}\n",
      "{'ner': 80.66930859216954}\n",
      "{'ner': 80.66930859216954}\n",
      "{'ner': 80.66930859216954}\n",
      "{'ner': 80.66930859216954}\n",
      "{'ner': 80.66930859216954}\n",
      "{'ner': 80.66930859216954}\n",
      "{'ner': 80.66930859216954}\n",
      "{'ner': 80.66930859216954}\n",
      "{'ner': 95.00934946534144}\n",
      "{'ner': 95.00934946534144}\n",
      "{'ner': 95.00934946534144}\n",
      "{'ner': 95.00934946534144}\n",
      "{'ner': 95.00934946534144}\n",
      "{'ner': 95.00934946534144}\n",
      "{'ner': 97.08875080938688}\n",
      "{'ner': 97.08875080938688}\n",
      "{'ner': 97.08875080938688}\n",
      "{'ner': 97.08875080938688}\n",
      "{'ner': 97.08875080938688}\n",
      "{'ner': 97.08875080938688}\n",
      "{'ner': 97.08875080938688}\n",
      "{'ner': 97.08875080938688}\n",
      "{'ner': 97.08875080938688}\n",
      "{'ner': 97.08875080938688}\n",
      "{'ner': 97.08875080938688}\n",
      "{'ner': 97.08875080938688}\n",
      "{'ner': 97.08875080938688}\n",
      "{'ner': 97.08875080938688}\n",
      "{'ner': 97.08875080938688}\n",
      "{'ner': 97.08875080938688}\n",
      "{'ner': 97.08875080938688}\n",
      "{'ner': 99.48713241804381}\n",
      "{'ner': 99.48713241804381}\n",
      "{'ner': 99.48713241804381}\n",
      "{'ner': 99.48713241804381}\n",
      "{'ner': 101.21965155066822}\n",
      "{'ner': 101.21965155066822}\n",
      "{'ner': 101.21965155066822}\n",
      "{'ner': 103.28661054878174}\n",
      "{'ner': 103.28661054878174}\n",
      "{'ner': 106.1061885935514}\n",
      "{'ner': 106.1061885935514}\n",
      "{'ner': 106.6195760578633}\n",
      "{'ner': 106.6195760578633}\n",
      "{'ner': 106.6195760578633}\n",
      "{'ner': 106.6195760578633}\n",
      "{'ner': 106.6195760578633}\n",
      "{'ner': 108.28995882661485}\n",
      "{'ner': 108.28995882661485}\n",
      "{'ner': 108.28995882661485}\n",
      "Starting iteration\n",
      "{'ner': 0.0}\n",
      "{'ner': 0.0}\n",
      "{'ner': 0.0}\n",
      "{'ner': 0.0}\n",
      "{'ner': 0.0}\n",
      "{'ner': 0.0}\n",
      "{'ner': 0.0}\n",
      "{'ner': 0.0}\n",
      "{'ner': 0.0}\n",
      "{'ner': 0.0}\n",
      "{'ner': 0.0}\n",
      "{'ner': 0.0}\n",
      "{'ner': 0.0}\n",
      "{'ner': 0.0}\n",
      "{'ner': 0.0}\n",
      "{'ner': 0.0}\n",
      "{'ner': 0.0}\n",
      "{'ner': 0.0}\n",
      "{'ner': 0.0}\n",
      "{'ner': 0.0}\n",
      "{'ner': 0.0}\n",
      "{'ner': 0.0}\n",
      "{'ner': 0.0}\n",
      "{'ner': 0.0}\n",
      "{'ner': 0.0}\n",
      "{'ner': 0.11462107229399321}\n",
      "{'ner': 0.11462107229399321}\n",
      "{'ner': 0.11462107229399321}\n",
      "{'ner': 0.11462107229399321}\n",
      "{'ner': 3.9618997283128325}\n",
      "{'ner': 6.372084969150519}\n",
      "{'ner': 6.372084969150519}\n",
      "{'ner': 6.372084969150519}\n",
      "{'ner': 6.372084969150519}\n",
      "{'ner': 6.372084969150519}\n",
      "{'ner': 6.372084969150519}\n",
      "{'ner': 6.372084969150519}\n",
      "{'ner': 6.372084969150519}\n",
      "{'ner': 6.372084969150519}\n",
      "{'ner': 6.372084969150519}\n",
      "{'ner': 6.3779738940227}\n",
      "{'ner': 6.3779738940227}\n",
      "{'ner': 6.3779738940227}\n",
      "{'ner': 6.3779738940227}\n",
      "{'ner': 10.246725293357239}\n",
      "{'ner': 10.246725293357239}\n",
      "{'ner': 10.246725293357239}\n",
      "{'ner': 10.246725293357239}\n",
      "{'ner': 10.246725293357239}\n",
      "{'ner': 14.50875973450385}\n",
      "{'ner': 14.50875973450385}\n",
      "{'ner': 16.91567274612697}\n",
      "{'ner': 16.91567274612697}\n",
      "{'ner': 16.91567274612697}\n",
      "{'ner': 16.91567274612697}\n",
      "{'ner': 16.91567274612697}\n",
      "{'ner': 16.91567274612697}\n",
      "{'ner': 16.91567274612697}\n",
      "{'ner': 35.410158525906745}\n",
      "{'ner': 35.410158525906745}\n",
      "{'ner': 35.410158525906745}\n",
      "{'ner': 35.410158525906745}\n",
      "{'ner': 35.410158525906745}\n",
      "{'ner': 35.410158525906745}\n",
      "{'ner': 35.410158525906745}\n",
      "{'ner': 35.410158525906745}\n",
      "{'ner': 35.410158525906745}\n",
      "{'ner': 35.410158525906745}\n",
      "{'ner': 35.410158525906745}\n",
      "{'ner': 35.410158525906745}\n",
      "{'ner': 35.410158525906745}\n",
      "{'ner': 37.72110012251754}\n",
      "{'ner': 37.72110012251754}\n",
      "{'ner': 37.72110012251754}\n",
      "{'ner': 37.72110012251754}\n",
      "{'ner': 37.72110012251754}\n",
      "{'ner': 37.72110012251754}\n",
      "{'ner': 37.72110012251754}\n",
      "{'ner': 37.72110012251754}\n",
      "{'ner': 37.72110012251754}\n",
      "{'ner': 37.72110012251754}\n",
      "{'ner': 38.648537398935005}\n",
      "{'ner': 38.648537398935005}\n",
      "{'ner': 38.648537398935005}\n",
      "{'ner': 38.648537398935005}\n",
      "{'ner': 38.648537398935005}\n",
      "{'ner': 38.648537398935005}\n",
      "{'ner': 38.648537398935005}\n",
      "{'ner': 38.648537398935005}\n",
      "{'ner': 38.648537398935005}\n",
      "{'ner': 38.648537398935005}\n",
      "{'ner': 38.648537398935005}\n",
      "{'ner': 38.648537398935005}\n",
      "{'ner': 38.648537398935005}\n",
      "{'ner': 38.648537398935005}\n",
      "{'ner': 38.648537398935005}\n",
      "{'ner': 38.648537398935005}\n",
      "{'ner': 38.648537398935005}\n",
      "{'ner': 38.648537398935005}\n",
      "{'ner': 38.648537398935005}\n",
      "{'ner': 38.648537398935005}\n",
      "{'ner': 38.648537398935005}\n",
      "{'ner': 38.648537398935005}\n",
      "{'ner': 38.648537398935005}\n",
      "{'ner': 38.648537398935005}\n",
      "{'ner': 38.648537398935005}\n",
      "{'ner': 38.648537398935005}\n",
      "{'ner': 38.648537398935005}\n",
      "{'ner': 38.648537398935005}\n",
      "{'ner': 38.648537398935005}\n",
      "{'ner': 38.648537398935005}\n",
      "{'ner': 38.65436762632038}\n",
      "{'ner': 38.65436762632038}\n",
      "{'ner': 38.65436762632038}\n",
      "{'ner': 38.65436762632038}\n",
      "{'ner': 38.65436762632038}\n",
      "{'ner': 38.65436762632038}\n",
      "{'ner': 44.54650701713042}\n",
      "{'ner': 44.54650701713042}\n",
      "{'ner': 44.54650701713042}\n",
      "{'ner': 46.951041953290016}\n",
      "{'ner': 46.951041953290016}\n",
      "{'ner': 49.6628324960438}\n",
      "{'ner': 49.6628324960438}\n",
      "{'ner': 49.6628324960438}\n",
      "{'ner': 49.6628324960438}\n",
      "{'ner': 49.6628324960438}\n",
      "{'ner': 49.6628324960438}\n",
      "{'ner': 49.6628324960438}\n",
      "{'ner': 49.6628324960438}\n",
      "{'ner': 49.6628324960438}\n",
      "{'ner': 49.6628324960438}\n",
      "{'ner': 49.70215352884354}\n",
      "{'ner': 49.70215352884354}\n",
      "{'ner': 49.70215352884354}\n",
      "{'ner': 49.70215352884354}\n",
      "{'ner': 49.70215352884354}\n",
      "{'ner': 49.707922413632815}\n",
      "{'ner': 49.75163667955809}\n",
      "{'ner': 49.75163667955809}\n",
      "{'ner': 49.75163667955809}\n",
      "{'ner': 49.75163667955809}\n",
      "{'ner': 49.75163667955809}\n",
      "{'ner': 49.75163667955809}\n",
      "{'ner': 49.75163667955809}\n",
      "{'ner': 49.75163667955809}\n",
      "{'ner': 49.75163667955809}\n",
      "{'ner': 49.75163667955809}\n",
      "{'ner': 49.75163667955809}\n",
      "{'ner': 49.75163667955809}\n",
      "{'ner': 50.29832796185451}\n",
      "{'ner': 50.29832796185451}\n",
      "{'ner': 50.29832796185451}\n",
      "{'ner': 50.29832796185451}\n",
      "{'ner': 50.29832796185451}\n",
      "{'ner': 60.849275855686734}\n",
      "{'ner': 60.849275855686734}\n",
      "{'ner': 60.849275855686734}\n",
      "{'ner': 65.18035459720309}\n",
      "{'ner': 65.18035459720309}\n",
      "{'ner': 74.58104884663939}\n",
      "{'ner': 74.58104884663939}\n",
      "{'ner': 74.58104884663939}\n",
      "{'ner': 74.58104884663939}\n",
      "{'ner': 74.58104884663939}\n",
      "{'ner': 74.58104884663939}\n",
      "{'ner': 74.58104884663939}\n",
      "{'ner': 74.58104884663939}\n",
      "{'ner': 74.58104884663939}\n",
      "{'ner': 74.58104884663939}\n",
      "{'ner': 74.58104884663939}\n",
      "{'ner': 74.58104884663939}\n",
      "{'ner': 74.58104884663939}\n",
      "{'ner': 74.58104884663939}\n",
      "{'ner': 74.58104884663939}\n",
      "{'ner': 74.58104884663939}\n",
      "{'ner': 76.9674721503772}\n",
      "{'ner': 76.9674721503772}\n",
      "{'ner': 76.9674721503772}\n",
      "{'ner': 76.9674721503772}\n",
      "{'ner': 76.9674721503772}\n",
      "{'ner': 82.49372417511266}\n",
      "{'ner': 82.85386938163542}\n",
      "{'ner': 82.85386938163542}\n",
      "{'ner': 82.85386938163542}\n",
      "{'ner': 82.85386938163542}\n",
      "{'ner': 82.85386938163542}\n",
      "{'ner': 82.85386938163542}\n",
      "{'ner': 82.85386938163542}\n",
      "{'ner': 87.79894734733162}\n",
      "{'ner': 87.79894734733162}\n",
      "{'ner': 87.79894734733162}\n",
      "{'ner': 87.79894734733162}\n",
      "{'ner': 87.79894734733162}\n",
      "{'ner': 87.79894734733162}\n",
      "{'ner': 89.74051882773233}\n",
      "{'ner': 89.74051882773233}\n",
      "{'ner': 89.74051882773233}\n",
      "{'ner': 89.74051882773233}\n",
      "Starting iteration\n",
      "{'ner': 0.0}\n",
      "{'ner': 0.0}\n",
      "{'ner': 0.0}\n",
      "{'ner': 0.0}\n",
      "{'ner': 0.0}\n",
      "{'ner': 0.0}\n",
      "{'ner': 0.0}\n",
      "{'ner': 0.0}\n",
      "{'ner': 0.0}\n",
      "{'ner': 0.0}\n",
      "{'ner': 0.0}\n",
      "{'ner': 0.0}\n",
      "{'ner': 0.0}\n",
      "{'ner': 0.0}\n",
      "{'ner': 0.0}\n",
      "{'ner': 0.0}\n",
      "{'ner': 4.4605756701492805}\n",
      "{'ner': 4.4605756701492805}\n",
      "{'ner': 4.4605756701492805}\n",
      "{'ner': 4.4605756701492805}\n",
      "{'ner': 4.4605756701492805}\n",
      "{'ner': 4.4605756701492805}\n",
      "{'ner': 6.513407751720208}\n",
      "{'ner': 6.513407751720208}\n",
      "{'ner': 6.6928788547208065}\n",
      "{'ner': 6.6928788547208065}\n",
      "{'ner': 6.6928788547208065}\n",
      "{'ner': 6.6928788547208065}\n",
      "{'ner': 6.6928788547208065}\n",
      "{'ner': 6.6928788547208065}\n",
      "{'ner': 6.6928788547208065}\n",
      "{'ner': 6.696428561642337}\n",
      "{'ner': 6.696428561642337}\n",
      "{'ner': 6.696428561642337}\n",
      "{'ner': 6.696428561642337}\n",
      "{'ner': 6.696428561642337}\n",
      "{'ner': 6.696428561642337}\n",
      "{'ner': 6.696428561642337}\n",
      "{'ner': 6.696428561642337}\n",
      "{'ner': 6.696428561642337}\n",
      "{'ner': 6.696428561642337}\n",
      "{'ner': 8.500245866557712}\n",
      "{'ner': 8.500245866557712}\n",
      "{'ner': 8.500245866557712}\n",
      "{'ner': 8.500245866557712}\n",
      "{'ner': 10.596818497038056}\n",
      "{'ner': 10.596818497038056}\n",
      "{'ner': 10.596818497038056}\n",
      "{'ner': 10.596818497038056}\n",
      "{'ner': 10.596818497038056}\n",
      "{'ner': 10.596818497038056}\n",
      "{'ner': 10.596818497038056}\n",
      "{'ner': 10.596818497038056}\n",
      "{'ner': 10.596818497038056}\n",
      "{'ner': 10.596818497038056}\n",
      "{'ner': 10.596818497038056}\n",
      "{'ner': 10.596818497038056}\n",
      "{'ner': 10.596818497038056}\n",
      "{'ner': 10.596818497038056}\n",
      "{'ner': 10.596818497038056}\n",
      "{'ner': 10.652411778284218}\n",
      "{'ner': 10.652411778284218}\n",
      "{'ner': 10.652411778284218}\n",
      "{'ner': 10.652411778284218}\n",
      "{'ner': 10.652411778284218}\n",
      "{'ner': 10.652411778284218}\n",
      "{'ner': 10.652411778284218}\n",
      "{'ner': 10.673748627141984}\n",
      "{'ner': 10.673748627141984}\n",
      "{'ner': 10.673748627141984}\n",
      "{'ner': 10.673748627141984}\n",
      "{'ner': 10.673748627141984}\n",
      "{'ner': 10.673748627141984}\n",
      "{'ner': 10.673748627141984}\n",
      "{'ner': 10.673748627141984}\n",
      "{'ner': 10.673748627141984}\n",
      "{'ner': 10.673748627141984}\n",
      "{'ner': 10.673748627141984}\n",
      "{'ner': 14.718354891172224}\n",
      "{'ner': 14.718354891172224}\n",
      "{'ner': 14.718354891172224}\n",
      "{'ner': 14.718354891172224}\n",
      "{'ner': 14.718354891172224}\n",
      "{'ner': 14.718354891172224}\n",
      "{'ner': 14.718354891172224}\n",
      "{'ner': 14.718354891172224}\n",
      "{'ner': 14.718354891172224}\n",
      "{'ner': 14.718354891172224}\n",
      "{'ner': 14.718354891172224}\n",
      "{'ner': 14.718354891172224}\n",
      "{'ner': 14.718354891172224}\n",
      "{'ner': 14.718354891172224}\n",
      "{'ner': 14.718354891172224}\n",
      "{'ner': 14.71961518935021}\n",
      "{'ner': 14.719619838253161}\n",
      "{'ner': 14.719619838253161}\n",
      "{'ner': 14.719619838253161}\n",
      "{'ner': 14.719619838253161}\n",
      "{'ner': 14.719619838253161}\n",
      "{'ner': 14.719619838253161}\n",
      "{'ner': 14.719619838253161}\n",
      "{'ner': 14.719619838253161}\n",
      "{'ner': 14.719619838253161}\n",
      "{'ner': 14.719619838253161}\n",
      "{'ner': 18.29785203081001}\n",
      "{'ner': 18.99131835292764}\n",
      "{'ner': 18.99131835292764}\n",
      "{'ner': 18.99131835292764}\n",
      "{'ner': 18.99131835292764}\n",
      "{'ner': 18.99131835292764}\n",
      "{'ner': 18.99131835292764}\n",
      "{'ner': 18.99131835292764}\n",
      "{'ner': 18.99131835292764}\n",
      "{'ner': 18.99131835292764}\n",
      "{'ner': 18.99131835292764}\n",
      "{'ner': 18.99131835292764}\n",
      "{'ner': 18.99131835292764}\n",
      "{'ner': 23.872565400918575}\n",
      "{'ner': 23.872565400918575}\n",
      "{'ner': 23.872565400918575}\n",
      "{'ner': 23.872565400918575}\n",
      "{'ner': 23.872565400918575}\n",
      "{'ner': 29.017376711402186}\n",
      "{'ner': 29.017376711402186}\n",
      "{'ner': 29.017376711402186}\n",
      "{'ner': 29.017376711402186}\n",
      "{'ner': 29.017376711402186}\n",
      "{'ner': 29.017376711402186}\n",
      "{'ner': 29.017376711402186}\n",
      "{'ner': 29.017376711402186}\n",
      "{'ner': 31.16738081488147}\n",
      "{'ner': 31.16738081488147}\n",
      "{'ner': 31.16738081488147}\n",
      "{'ner': 31.167382870866415}\n",
      "{'ner': 31.167382870866415}\n",
      "{'ner': 31.167382870866415}\n",
      "{'ner': 32.913271329698325}\n",
      "{'ner': 32.913271329698325}\n",
      "{'ner': 32.913271329698325}\n",
      "{'ner': 32.913271329698325}\n",
      "{'ner': 32.913271329698325}\n",
      "{'ner': 32.913271329698325}\n",
      "{'ner': 32.913271329698325}\n",
      "{'ner': 32.913271329698325}\n",
      "{'ner': 32.913271329698325}\n",
      "{'ner': 32.913271329698325}\n",
      "{'ner': 32.913271329698325}\n",
      "{'ner': 32.913271329698325}\n",
      "{'ner': 32.913271329698325}\n",
      "{'ner': 32.913271329698325}\n",
      "{'ner': 32.913271329698325}\n",
      "{'ner': 32.913271329698325}\n",
      "{'ner': 32.913271329698325}\n",
      "{'ner': 32.913271329698325}\n",
      "{'ner': 32.913271329698325}\n",
      "{'ner': 32.913271329698325}\n",
      "{'ner': 32.913271329698325}\n",
      "{'ner': 32.913271329698325}\n",
      "{'ner': 32.913271329698325}\n",
      "{'ner': 32.913271329698325}\n",
      "{'ner': 32.913271329698325}\n",
      "{'ner': 32.913271329698325}\n",
      "{'ner': 32.913271329698325}\n",
      "{'ner': 32.913271329698325}\n",
      "{'ner': 32.913271329698325}\n",
      "{'ner': 32.913271329698325}\n",
      "{'ner': 32.913271329698325}\n",
      "{'ner': 32.913271329698325}\n",
      "{'ner': 32.913271329698325}\n",
      "{'ner': 32.913271329698325}\n",
      "{'ner': 32.913271329698325}\n",
      "{'ner': 32.913271329698325}\n",
      "{'ner': 35.59172721996967}\n",
      "{'ner': 35.59172721996967}\n",
      "{'ner': 35.59172721996967}\n",
      "{'ner': 35.59172721996967}\n",
      "{'ner': 35.59172721996967}\n",
      "{'ner': 35.59172721996967}\n",
      "{'ner': 37.02431411554271}\n",
      "{'ner': 37.02431411554271}\n",
      "{'ner': 37.25495301192766}\n",
      "{'ner': 37.25495301192766}\n",
      "{'ner': 37.25495301192766}\n",
      "{'ner': 37.25495301192766}\n",
      "{'ner': 37.25495301192766}\n",
      "{'ner': 41.044091472166336}\n",
      "{'ner': 41.044091472166336}\n",
      "{'ner': 41.04413607412025}\n",
      "{'ner': 41.04413607412025}\n",
      "{'ner': 41.04413607412025}\n",
      "{'ner': 41.04413607412025}\n",
      "{'ner': 41.04413607412025}\n",
      "{'ner': 41.04413607412025}\n",
      "{'ner': 43.04339635921574}\n",
      "{'ner': 46.709946809585055}\n",
      "{'ner': 46.709946809585055}\n",
      "{'ner': 46.709946809585055}\n",
      "{'ner': 46.709946809585055}\n",
      "{'ner': 46.709946809585055}\n",
      "Starting iteration\n",
      "{'ner': 0.0}\n",
      "{'ner': 0.0}\n",
      "{'ner': 0.0}\n",
      "{'ner': 0.0}\n",
      "{'ner': 0.0}\n",
      "{'ner': 0.0}\n",
      "{'ner': 0.0}\n",
      "{'ner': 0.0}\n",
      "{'ner': 0.0}\n",
      "{'ner': 0.0}\n",
      "{'ner': 0.0}\n",
      "{'ner': 0.0}\n",
      "{'ner': 0.0}\n",
      "{'ner': 0.0}\n",
      "{'ner': 0.0}\n",
      "{'ner': 1.3229943979122687}\n",
      "{'ner': 1.3229943979122687}\n",
      "{'ner': 1.3229943979122687}\n",
      "{'ner': 1.3229943979122687}\n",
      "{'ner': 1.3229943979122687}\n",
      "{'ner': 1.3229943979122687}\n",
      "{'ner': 1.3229943979122687}\n",
      "{'ner': 1.3229943979122687}\n",
      "{'ner': 4.6831810119262745}\n",
      "{'ner': 4.6831810119262745}\n",
      "{'ner': 4.6831810119262745}\n",
      "{'ner': 4.6831810119262745}\n",
      "{'ner': 4.6831810119262745}\n",
      "{'ner': 4.6831810119262745}\n",
      "{'ner': 4.6831810119262745}\n",
      "{'ner': 4.6831810119262745}\n",
      "{'ner': 4.6831810119262745}\n",
      "{'ner': 4.6831810119262745}\n",
      "{'ner': 4.6831810119262745}\n",
      "{'ner': 4.6831810119262745}\n",
      "{'ner': 4.6831810119262745}\n",
      "{'ner': 4.6831810119262745}\n",
      "{'ner': 4.6831810119262745}\n",
      "{'ner': 4.6831810119262745}\n",
      "{'ner': 4.6831810119262745}\n",
      "{'ner': 4.6831810119262745}\n",
      "{'ner': 4.6831810119262745}\n",
      "{'ner': 4.6831810119262745}\n",
      "{'ner': 4.691019881833512}\n",
      "{'ner': 4.691019881833512}\n",
      "{'ner': 4.691019881833512}\n",
      "{'ner': 4.691019881833512}\n",
      "{'ner': 4.691019881833512}\n",
      "{'ner': 4.691019881833512}\n",
      "{'ner': 4.691019881833512}\n",
      "{'ner': 4.691019881833512}\n",
      "{'ner': 4.691019881833512}\n",
      "{'ner': 4.691019881833512}\n",
      "{'ner': 4.691019881833512}\n",
      "{'ner': 4.691019881833512}\n",
      "{'ner': 4.691019881833512}\n",
      "{'ner': 4.691019881833512}\n",
      "{'ner': 4.691019881833512}\n",
      "{'ner': 4.691019881833512}\n",
      "{'ner': 4.693112632677734}\n",
      "{'ner': 4.693112632677734}\n",
      "{'ner': 4.693112632677734}\n",
      "{'ner': 4.693112632677734}\n",
      "{'ner': 4.693112632677734}\n",
      "{'ner': 4.693112632677734}\n",
      "{'ner': 4.693112632677734}\n",
      "{'ner': 4.693112632677734}\n",
      "{'ner': 4.693112632677734}\n",
      "{'ner': 4.693112632677734}\n",
      "{'ner': 4.693112632677734}\n",
      "{'ner': 4.693112632677734}\n",
      "{'ner': 4.693112632677734}\n",
      "{'ner': 4.693112632677734}\n",
      "{'ner': 4.693112632677734}\n",
      "{'ner': 5.311132703795564}\n",
      "{'ner': 7.310800869274433}\n",
      "{'ner': 7.310800869274433}\n",
      "{'ner': 7.310800869274433}\n",
      "{'ner': 9.072271855481079}\n",
      "{'ner': 9.072271855481079}\n",
      "{'ner': 9.072271855481079}\n",
      "{'ner': 9.072271855481079}\n",
      "{'ner': 9.072271855481079}\n",
      "{'ner': 9.072271855481079}\n",
      "{'ner': 9.072271855481079}\n",
      "{'ner': 10.262972964406996}\n",
      "{'ner': 10.262972964406996}\n",
      "{'ner': 10.262972964406996}\n",
      "{'ner': 10.262972964406996}\n",
      "{'ner': 10.262972964406996}\n",
      "{'ner': 10.262972964406996}\n",
      "{'ner': 10.262972964406996}\n",
      "{'ner': 10.262972964406996}\n",
      "{'ner': 10.262972964406996}\n",
      "{'ner': 10.262972964406996}\n",
      "{'ner': 20.54482519130869}\n",
      "{'ner': 20.54482519130869}\n",
      "{'ner': 20.54482519130869}\n",
      "{'ner': 20.54482519130869}\n",
      "{'ner': 20.54482519130869}\n",
      "{'ner': 20.579406546086755}\n",
      "{'ner': 20.579406546086755}\n",
      "{'ner': 20.579406546086755}\n",
      "{'ner': 20.579406546086755}\n",
      "{'ner': 20.579406546086755}\n",
      "{'ner': 20.579406546086755}\n",
      "{'ner': 20.579406546086755}\n",
      "{'ner': 20.579406546086755}\n",
      "{'ner': 20.579406546086755}\n",
      "{'ner': 20.579406546086755}\n",
      "{'ner': 20.579406546086755}\n",
      "{'ner': 20.579406546086755}\n",
      "{'ner': 20.579406546086755}\n",
      "{'ner': 20.579406546086755}\n",
      "{'ner': 20.579406546086755}\n",
      "{'ner': 22.396097805772484}\n",
      "{'ner': 22.396097805772484}\n",
      "{'ner': 22.396097805772484}\n",
      "{'ner': 22.396097805772484}\n",
      "{'ner': 22.396097805772484}\n",
      "{'ner': 22.396097805772484}\n",
      "{'ner': 22.409575147466967}\n",
      "{'ner': 22.409575147466967}\n",
      "{'ner': 22.409575147466967}\n",
      "{'ner': 22.409575147466967}\n",
      "{'ner': 22.409575147466967}\n",
      "{'ner': 22.414187219039924}\n",
      "{'ner': 22.414187219039924}\n",
      "{'ner': 22.414187219039924}\n",
      "{'ner': 22.414187219039924}\n",
      "{'ner': 22.414187219039924}\n",
      "{'ner': 22.414187219039924}\n",
      "{'ner': 22.414187219039924}\n",
      "{'ner': 22.414187219039924}\n",
      "{'ner': 22.414187219039924}\n",
      "{'ner': 22.414187219039924}\n",
      "{'ner': 22.414187219039924}\n",
      "{'ner': 22.414187219039924}\n",
      "{'ner': 22.414187219039924}\n",
      "{'ner': 23.00582711597124}\n",
      "{'ner': 23.00582711597124}\n",
      "{'ner': 23.00582711597124}\n",
      "{'ner': 27.039561066243714}\n",
      "{'ner': 27.039561066243714}\n",
      "{'ner': 27.039561066243714}\n",
      "{'ner': 27.039561066243714}\n",
      "{'ner': 27.039561066243714}\n",
      "{'ner': 27.039561066243714}\n",
      "{'ner': 27.039561066243714}\n",
      "{'ner': 27.039561066243714}\n",
      "{'ner': 27.039561066243714}\n",
      "{'ner': 27.039561066243714}\n",
      "{'ner': 28.27145043502358}\n",
      "{'ner': 28.27145043502358}\n",
      "{'ner': 28.27145043502358}\n",
      "{'ner': 28.27145043502358}\n",
      "{'ner': 28.27145043502358}\n",
      "{'ner': 28.27145043502358}\n",
      "{'ner': 28.27145043502358}\n",
      "{'ner': 28.27145043502358}\n",
      "{'ner': 28.27145043502358}\n",
      "{'ner': 28.27145043502358}\n",
      "{'ner': 28.27145043502358}\n",
      "{'ner': 28.888949533521988}\n",
      "{'ner': 28.888949533521988}\n",
      "{'ner': 31.949302952013415}\n",
      "{'ner': 31.949302952013415}\n",
      "{'ner': 31.949302952013415}\n",
      "{'ner': 31.949302952013415}\n",
      "{'ner': 31.949302952013415}\n",
      "{'ner': 31.949302952013415}\n",
      "{'ner': 34.01126573537977}\n",
      "{'ner': 34.01126573537977}\n",
      "{'ner': 34.01126573537977}\n",
      "{'ner': 34.01126573537977}\n",
      "{'ner': 34.01126573537977}\n",
      "{'ner': 34.01126573537977}\n",
      "{'ner': 34.01126573537977}\n",
      "{'ner': 39.53681562985698}\n",
      "{'ner': 39.53681562985698}\n",
      "{'ner': 39.78657091714241}\n",
      "{'ner': 39.78657091714241}\n",
      "{'ner': 39.78657091714241}\n",
      "{'ner': 39.78884313478933}\n",
      "{'ner': 39.78884313478933}\n",
      "{'ner': 41.49588567313497}\n",
      "{'ner': 41.49588567313497}\n",
      "{'ner': 41.49588567313497}\n",
      "{'ner': 41.49588567313497}\n",
      "{'ner': 41.49588567313497}\n",
      "{'ner': 41.49588567313497}\n",
      "{'ner': 41.49588567313497}\n",
      "{'ner': 41.49588567313497}\n",
      "{'ner': 41.49588567313497}\n",
      "{'ner': 41.49588567313497}\n",
      "{'ner': 41.49588567313497}\n",
      "{'ner': 41.49588567313497}\n",
      "{'ner': 41.49588567313497}\n",
      "{'ner': 41.49588567313497}\n",
      "Starting iteration\n",
      "{'ner': 0.0}\n",
      "{'ner': 0.0}\n",
      "{'ner': 0.0}\n",
      "{'ner': 0.0}\n",
      "{'ner': 0.0011424663893570808}\n",
      "{'ner': 2.324141543360548}\n",
      "{'ner': 2.324141543360548}\n",
      "{'ner': 2.324141543360548}\n",
      "{'ner': 2.324141543360548}\n",
      "{'ner': 2.324141543360548}\n",
      "{'ner': 2.324142209135938}\n",
      "{'ner': 2.324142209135938}\n",
      "{'ner': 2.324142209135938}\n",
      "{'ner': 2.324142209135938}\n",
      "{'ner': 2.324142209135938}\n",
      "{'ner': 2.324142209135938}\n",
      "{'ner': 2.324142209135938}\n",
      "{'ner': 2.324142209135938}\n",
      "{'ner': 2.324142209135938}\n",
      "{'ner': 2.324142209135938}\n",
      "{'ner': 2.324142209135938}\n",
      "{'ner': 2.324142209135938}\n",
      "{'ner': 2.324142209135938}\n",
      "{'ner': 2.324142209135938}\n",
      "{'ner': 2.324142209135938}\n",
      "{'ner': 2.324142209135938}\n",
      "{'ner': 2.324142209135938}\n",
      "{'ner': 2.324142209135938}\n",
      "{'ner': 2.324142209135938}\n",
      "{'ner': 2.324142209135938}\n",
      "{'ner': 2.324142209135938}\n",
      "{'ner': 2.324142209135938}\n",
      "{'ner': 2.324142209135938}\n",
      "{'ner': 2.324142209135938}\n",
      "{'ner': 8.377141367346752}\n",
      "{'ner': 8.377141367346752}\n",
      "{'ner': 8.377141367346752}\n",
      "{'ner': 8.377141367346752}\n",
      "{'ner': 8.377141367346752}\n",
      "{'ner': 8.377141367346752}\n",
      "{'ner': 8.377141367346752}\n",
      "{'ner': 8.377143124560437}\n",
      "{'ner': 8.377143124560437}\n",
      "{'ner': 8.377143124560437}\n",
      "{'ner': 8.377143124560437}\n",
      "{'ner': 8.377143124560437}\n",
      "{'ner': 8.377143124560437}\n",
      "{'ner': 8.377143124560437}\n",
      "{'ner': 8.384307001758264}\n",
      "{'ner': 8.384307001758264}\n",
      "{'ner': 8.384307001758264}\n",
      "{'ner': 8.384307001758264}\n",
      "{'ner': 8.384307001758264}\n",
      "{'ner': 8.384307001758264}\n",
      "{'ner': 8.384307001758264}\n",
      "{'ner': 8.384307001758264}\n",
      "{'ner': 8.384307001758264}\n",
      "{'ner': 8.384307001758264}\n",
      "{'ner': 8.384307001758264}\n",
      "{'ner': 10.374317983160125}\n",
      "{'ner': 10.374317983160125}\n",
      "{'ner': 10.374317983160125}\n",
      "{'ner': 10.374317983160125}\n",
      "{'ner': 10.374317983160125}\n",
      "{'ner': 10.374317983160125}\n",
      "{'ner': 10.3743180752098}\n",
      "{'ner': 10.3743180752098}\n",
      "{'ner': 10.3743180752098}\n",
      "{'ner': 10.3743180752098}\n",
      "{'ner': 10.3743180752098}\n",
      "{'ner': 10.3743180752098}\n",
      "{'ner': 10.3743180752098}\n",
      "{'ner': 10.3743180752098}\n",
      "{'ner': 10.3743180752098}\n",
      "{'ner': 10.3743180752098}\n",
      "{'ner': 10.3743180752098}\n",
      "{'ner': 10.3743180752098}\n",
      "{'ner': 10.3743180752098}\n",
      "{'ner': 10.3743180752098}\n",
      "{'ner': 10.3743180752098}\n",
      "{'ner': 10.377883140517527}\n",
      "{'ner': 10.377883140517527}\n",
      "{'ner': 10.377883140517527}\n",
      "{'ner': 10.377883140517527}\n",
      "{'ner': 10.37788835292312}\n",
      "{'ner': 10.37788835292312}\n",
      "{'ner': 10.37788835292312}\n",
      "{'ner': 10.37788835292312}\n",
      "{'ner': 10.37788835292312}\n",
      "{'ner': 10.37788835292312}\n",
      "{'ner': 10.37788835292312}\n",
      "{'ner': 10.37788835292312}\n",
      "{'ner': 10.37788835292312}\n",
      "{'ner': 10.37788835292312}\n",
      "{'ner': 10.37788835292312}\n",
      "{'ner': 10.37788835292312}\n",
      "{'ner': 12.373318554694142}\n",
      "{'ner': 12.373318554694142}\n",
      "{'ner': 12.373318554694142}\n",
      "{'ner': 12.373318554694142}\n",
      "{'ner': 12.373318554694142}\n",
      "{'ner': 12.373318554694142}\n",
      "{'ner': 12.373318554694142}\n",
      "{'ner': 12.373318554694142}\n",
      "{'ner': 12.373318554694142}\n",
      "{'ner': 12.373318554694142}\n",
      "{'ner': 12.373318554694142}\n",
      "{'ner': 12.373318554694142}\n",
      "{'ner': 12.373318554694142}\n",
      "{'ner': 12.373318554694142}\n",
      "{'ner': 12.373318554694142}\n",
      "{'ner': 12.373318554694142}\n",
      "{'ner': 12.373318554694142}\n",
      "{'ner': 12.373318554694142}\n",
      "{'ner': 12.373318554694142}\n",
      "{'ner': 12.373318554694142}\n",
      "{'ner': 12.373318554694142}\n",
      "{'ner': 12.373318554694142}\n",
      "{'ner': 12.373318554694142}\n",
      "{'ner': 20.60588591699943}\n",
      "{'ner': 20.60588591699943}\n",
      "{'ner': 20.60588591699943}\n",
      "{'ner': 20.60588591699943}\n",
      "{'ner': 20.60588591699943}\n",
      "{'ner': 20.60588591699943}\n",
      "{'ner': 20.60588591699943}\n",
      "{'ner': 20.622323830215755}\n",
      "{'ner': 20.622323830215755}\n",
      "{'ner': 20.622323830215755}\n",
      "{'ner': 20.622323830215755}\n",
      "{'ner': 20.622323830215755}\n",
      "{'ner': 20.622323830215755}\n",
      "{'ner': 20.622323830215755}\n",
      "{'ner': 20.622323830215755}\n",
      "{'ner': 20.622323830215755}\n",
      "{'ner': 20.622323830215755}\n",
      "{'ner': 20.62264048805536}\n",
      "{'ner': 20.62264048805536}\n",
      "{'ner': 20.62264048805536}\n",
      "{'ner': 20.62264048805536}\n",
      "{'ner': 20.62264048805536}\n",
      "{'ner': 20.62264048805536}\n",
      "{'ner': 27.709744579872122}\n",
      "{'ner': 27.709744579872122}\n",
      "{'ner': 27.709744579872122}\n",
      "{'ner': 27.709744579872122}\n",
      "{'ner': 29.166115644264508}\n",
      "{'ner': 29.166115644264508}\n",
      "{'ner': 29.166115644264508}\n",
      "{'ner': 29.166115644264508}\n",
      "{'ner': 29.166115644264508}\n",
      "{'ner': 29.166115644264508}\n",
      "{'ner': 29.166115644264508}\n",
      "{'ner': 29.166115644264508}\n",
      "{'ner': 29.166115644264508}\n",
      "{'ner': 29.166115644264508}\n",
      "{'ner': 32.89943982897321}\n",
      "{'ner': 32.89943982897321}\n",
      "{'ner': 32.89943982897321}\n",
      "{'ner': 32.89943982897321}\n",
      "{'ner': 36.86458612293068}\n",
      "{'ner': 36.86458612293068}\n",
      "{'ner': 36.86458612293068}\n",
      "{'ner': 36.86458612293068}\n",
      "{'ner': 36.86458612293068}\n",
      "{'ner': 36.86458612293068}\n",
      "{'ner': 36.86469233692285}\n",
      "{'ner': 40.53444088583249}\n",
      "{'ner': 40.53444088583249}\n",
      "{'ner': 40.53444088583249}\n",
      "{'ner': 40.53444088583249}\n",
      "{'ner': 40.53444088583249}\n",
      "{'ner': 40.53444088583249}\n",
      "{'ner': 40.53444088583249}\n",
      "{'ner': 41.02047921273786}\n",
      "{'ner': 41.02047921273786}\n",
      "{'ner': 41.02047921273786}\n",
      "{'ner': 41.02047921273786}\n",
      "{'ner': 41.02047921273786}\n",
      "{'ner': 41.02047921273786}\n",
      "{'ner': 41.02047921273786}\n",
      "{'ner': 41.02047921273786}\n",
      "{'ner': 41.02047921273786}\n",
      "{'ner': 41.02047921273786}\n",
      "{'ner': 41.02047921273786}\n",
      "{'ner': 41.02047921273786}\n",
      "{'ner': 42.90544879897846}\n",
      "{'ner': 42.90544879897846}\n",
      "{'ner': 42.90544879897846}\n",
      "{'ner': 42.94381195555719}\n",
      "{'ner': 42.94381195555719}\n",
      "{'ner': 42.94381195555719}\n",
      "{'ner': 42.94381195555719}\n",
      "{'ner': 42.94381195555719}\n",
      "{'ner': 42.94381195555719}\n",
      "{'ner': 42.94381195555719}\n",
      "{'ner': 43.214716176048306}\n",
      "{'ner': 43.214716176048306}\n",
      "{'ner': 43.214716176048306}\n",
      "Starting iteration\n",
      "{'ner': 0.0}\n",
      "{'ner': 0.0}\n",
      "{'ner': 0.0}\n",
      "{'ner': 0.0}\n",
      "{'ner': 0.0}\n",
      "{'ner': 0.0}\n",
      "{'ner': 0.0}\n",
      "{'ner': 0.0}\n",
      "{'ner': 0.0}\n",
      "{'ner': 0.00451619063778287}\n",
      "{'ner': 0.00451619063778287}\n",
      "{'ner': 0.00451619063778287}\n",
      "{'ner': 0.01242410947126029}\n",
      "{'ner': 0.01242410947126029}\n",
      "{'ner': 0.01242410947126029}\n",
      "{'ner': 0.01242410947126029}\n",
      "{'ner': 0.01242410947126029}\n",
      "{'ner': 0.01242410947126029}\n",
      "{'ner': 0.01242410947126029}\n",
      "{'ner': 0.01242410947126029}\n",
      "{'ner': 0.01242410947126029}\n",
      "{'ner': 2.0562969243443363}\n",
      "{'ner': 2.0562969243443363}\n",
      "{'ner': 2.0562969243443363}\n",
      "{'ner': 2.0562969243443363}\n",
      "{'ner': 2.0562969243443363}\n",
      "{'ner': 2.0562969243443363}\n",
      "{'ner': 4.9537500319632315}\n",
      "{'ner': 4.9537500319632315}\n",
      "{'ner': 4.953751959163515}\n",
      "{'ner': 4.953751959163515}\n",
      "{'ner': 4.953751959163515}\n",
      "{'ner': 4.953751959163515}\n",
      "{'ner': 4.953751959163515}\n",
      "{'ner': 4.953751959163515}\n",
      "{'ner': 5.5438639324731245}\n",
      "{'ner': 5.5438639324731245}\n",
      "{'ner': 5.5438639324731245}\n",
      "{'ner': 7.39535953552381}\n",
      "{'ner': 7.39535953552381}\n",
      "{'ner': 7.39535953552381}\n",
      "{'ner': 7.39535953552381}\n",
      "{'ner': 7.39535953552381}\n",
      "{'ner': 7.39535953552381}\n",
      "{'ner': 7.39535953552381}\n",
      "{'ner': 7.39535953552381}\n",
      "{'ner': 7.39535953552381}\n",
      "{'ner': 7.39535953552381}\n",
      "{'ner': 7.39535953552381}\n",
      "{'ner': 7.39535953552381}\n",
      "{'ner': 7.39535953552381}\n",
      "{'ner': 7.39535953552381}\n",
      "{'ner': 7.39535953552381}\n",
      "{'ner': 7.39535953552381}\n",
      "{'ner': 7.395364545718252}\n",
      "{'ner': 7.395364545718252}\n",
      "{'ner': 7.395364545718252}\n",
      "{'ner': 7.395364545718252}\n",
      "{'ner': 7.395364545718252}\n",
      "{'ner': 7.395364545718252}\n",
      "{'ner': 7.395364545718252}\n",
      "{'ner': 7.396356097463955}\n",
      "{'ner': 7.396356097463955}\n",
      "{'ner': 7.396356097463955}\n",
      "{'ner': 7.396356097463955}\n",
      "{'ner': 7.396356097463955}\n",
      "{'ner': 7.396356097463955}\n",
      "{'ner': 7.396356097463955}\n",
      "{'ner': 7.396356097463955}\n",
      "{'ner': 7.396356097463955}\n",
      "{'ner': 7.399964601922296}\n",
      "{'ner': 7.399964601922296}\n",
      "{'ner': 7.399964601922296}\n",
      "{'ner': 7.399964601922296}\n",
      "{'ner': 7.399964601922296}\n",
      "{'ner': 7.399964601922296}\n",
      "{'ner': 7.399964601922296}\n",
      "{'ner': 7.399964601922296}\n",
      "{'ner': 7.399964601922296}\n",
      "{'ner': 7.399964601922296}\n",
      "{'ner': 7.399964601922296}\n",
      "{'ner': 7.399964601922296}\n",
      "{'ner': 7.399964601922296}\n",
      "{'ner': 7.399964601922296}\n",
      "{'ner': 7.399964601922296}\n",
      "{'ner': 7.658400099651021}\n",
      "{'ner': 7.658400099651021}\n",
      "{'ner': 7.658400099651021}\n",
      "{'ner': 7.658400099651021}\n",
      "{'ner': 7.658400099651021}\n",
      "{'ner': 7.658400099651021}\n",
      "{'ner': 7.658400099651021}\n",
      "{'ner': 7.658400099651021}\n",
      "{'ner': 7.658400099651021}\n",
      "{'ner': 7.658400099651021}\n",
      "{'ner': 7.658400099651021}\n",
      "{'ner': 7.658400099651021}\n",
      "{'ner': 7.658400099651021}\n",
      "{'ner': 7.658400099651021}\n",
      "{'ner': 7.716157196971648}\n",
      "{'ner': 7.716157196971648}\n",
      "{'ner': 7.716157196971648}\n",
      "{'ner': 7.716157196971648}\n",
      "{'ner': 7.716157196971648}\n",
      "{'ner': 7.716157196971648}\n",
      "{'ner': 7.716157196971648}\n",
      "{'ner': 7.716157196971648}\n",
      "{'ner': 7.716157196971648}\n",
      "{'ner': 7.716157196971648}\n",
      "{'ner': 7.716157196971648}\n",
      "{'ner': 7.716157196971648}\n",
      "{'ner': 7.716157196971648}\n",
      "{'ner': 7.716157196971648}\n",
      "{'ner': 7.716157196971648}\n",
      "{'ner': 7.716157196971648}\n",
      "{'ner': 8.98062909398065}\n",
      "{'ner': 8.98062909398065}\n",
      "{'ner': 8.98062909398065}\n",
      "{'ner': 8.98062909398065}\n",
      "{'ner': 8.98062909398065}\n",
      "{'ner': 8.98062909398065}\n",
      "{'ner': 8.98062909398065}\n",
      "{'ner': 8.98062909398065}\n",
      "{'ner': 8.98062909398065}\n",
      "{'ner': 8.98062909398065}\n",
      "{'ner': 8.98062909398065}\n",
      "{'ner': 8.98062909398065}\n",
      "{'ner': 8.98062909398065}\n",
      "{'ner': 8.98062909398065}\n",
      "{'ner': 8.980639252630004}\n",
      "{'ner': 8.980639252630004}\n",
      "{'ner': 12.015664363033114}\n",
      "{'ner': 12.015664363033114}\n",
      "{'ner': 12.015664363033114}\n",
      "{'ner': 12.015664363033114}\n",
      "{'ner': 12.015664363033114}\n",
      "{'ner': 12.015676488111628}\n",
      "{'ner': 12.015676488111628}\n",
      "{'ner': 12.015676488111628}\n",
      "{'ner': 12.015676488111628}\n",
      "{'ner': 12.015676488111628}\n",
      "{'ner': 12.015676488111628}\n",
      "{'ner': 12.015676488111628}\n",
      "{'ner': 12.015676488111628}\n",
      "{'ner': 12.015828953749294}\n",
      "{'ner': 12.015828953749294}\n",
      "{'ner': 12.015828953749294}\n",
      "{'ner': 12.015828953749294}\n",
      "{'ner': 12.015828953749294}\n",
      "{'ner': 12.015828953749294}\n",
      "{'ner': 12.015828953749294}\n",
      "{'ner': 12.015828953749294}\n",
      "{'ner': 12.015828953749294}\n",
      "{'ner': 12.015828953749294}\n",
      "{'ner': 12.015828953749294}\n",
      "{'ner': 12.015828953749294}\n",
      "{'ner': 12.015828953749294}\n",
      "{'ner': 12.015828953749294}\n",
      "{'ner': 12.015828953749294}\n",
      "{'ner': 12.015828953749294}\n",
      "{'ner': 12.015828953749294}\n",
      "{'ner': 16.261969208339654}\n",
      "{'ner': 16.261969208339654}\n",
      "{'ner': 16.261969208339654}\n",
      "{'ner': 16.261969208339654}\n",
      "{'ner': 16.261969208339654}\n",
      "{'ner': 16.261969208339654}\n",
      "{'ner': 16.261969208339654}\n",
      "{'ner': 16.261969208339654}\n",
      "{'ner': 16.261969208339654}\n",
      "{'ner': 16.261969208339654}\n",
      "{'ner': 16.261969208339654}\n",
      "{'ner': 16.261969208339654}\n",
      "{'ner': 16.261969208339654}\n",
      "{'ner': 16.261969208339654}\n",
      "{'ner': 16.261969208339654}\n",
      "{'ner': 16.261969208339654}\n",
      "{'ner': 16.261969208339654}\n",
      "{'ner': 16.261969208339654}\n",
      "{'ner': 16.261969208339654}\n",
      "{'ner': 16.261969208339654}\n",
      "{'ner': 16.261969208339654}\n",
      "{'ner': 16.261969208339654}\n",
      "{'ner': 16.261969208339654}\n",
      "{'ner': 23.070885598047887}\n",
      "{'ner': 23.070885598047887}\n",
      "{'ner': 23.070885598047887}\n",
      "{'ner': 23.070885598047887}\n",
      "{'ner': 23.070885598047887}\n",
      "{'ner': 25.03690810211401}\n",
      "{'ner': 25.03690810211401}\n",
      "{'ner': 28.566903803842113}\n",
      "{'ner': 28.566903803842113}\n",
      "{'ner': 28.566903803842113}\n",
      "{'ner': 28.566903803842113}\n",
      "{'ner': 28.566903803842113}\n",
      "{'ner': 28.566903803842113}\n",
      "{'ner': 28.629792954278766}\n",
      "{'ner': 30.007068697613274}\n",
      "Starting iteration\n",
      "{'ner': 0.0}\n",
      "{'ner': 0.0}\n",
      "{'ner': 0.0}\n",
      "{'ner': 0.0}\n",
      "{'ner': 0.0}\n",
      "{'ner': 0.0}\n",
      "{'ner': 0.0}\n",
      "{'ner': 0.0}\n",
      "{'ner': 0.0}\n",
      "{'ner': 0.0}\n",
      "{'ner': 0.0}\n",
      "{'ner': 0.0}\n",
      "{'ner': 0.0}\n",
      "{'ner': 0.0}\n",
      "{'ner': 0.0}\n",
      "{'ner': 2.0000031600286348}\n",
      "{'ner': 2.0000031600286348}\n",
      "{'ner': 2.0000031600286348}\n",
      "{'ner': 2.0000031600286348}\n",
      "{'ner': 2.0000031600286348}\n",
      "{'ner': 2.0000031600286348}\n",
      "{'ner': 2.0000031600286348}\n",
      "{'ner': 2.0000031600286348}\n",
      "{'ner': 2.0000031600286348}\n",
      "{'ner': 2.0000031600286348}\n",
      "{'ner': 2.0000031600286348}\n",
      "{'ner': 2.0000031600286348}\n",
      "{'ner': 2.000110893940313}\n",
      "{'ner': 2.000110893940313}\n",
      "{'ner': 2.000110893940313}\n",
      "{'ner': 2.000110893940313}\n",
      "{'ner': 2.000110893940313}\n",
      "{'ner': 2.000110893940313}\n",
      "{'ner': 2.000110893940313}\n",
      "{'ner': 2.000110893940313}\n",
      "{'ner': 2.000110893940313}\n",
      "{'ner': 2.000110893940313}\n",
      "{'ner': 2.000110893940313}\n",
      "{'ner': 2.000110893940313}\n",
      "{'ner': 2.000110893940313}\n",
      "{'ner': 2.000110893940313}\n",
      "{'ner': 2.000110893940313}\n",
      "{'ner': 2.000110893940313}\n",
      "{'ner': 2.000110893940313}\n",
      "{'ner': 8.409257554440396}\n",
      "{'ner': 8.409257554440396}\n",
      "{'ner': 8.409257554440396}\n",
      "{'ner': 8.409257554440396}\n",
      "{'ner': 8.409257554440396}\n",
      "{'ner': 8.409257554440396}\n",
      "{'ner': 9.820907742185844}\n",
      "{'ner': 9.820907742185844}\n",
      "{'ner': 9.820907742185844}\n",
      "{'ner': 9.820907905408331}\n",
      "{'ner': 9.820907905408331}\n",
      "{'ner': 9.820907905408331}\n",
      "{'ner': 9.820907905408331}\n",
      "{'ner': 9.820907905408331}\n",
      "{'ner': 9.965278134355767}\n",
      "{'ner': 9.965278134355767}\n",
      "{'ner': 9.965278134355767}\n",
      "{'ner': 9.965278134355767}\n",
      "{'ner': 9.965278134355767}\n",
      "{'ner': 9.965278134355767}\n",
      "{'ner': 9.965278134355767}\n",
      "{'ner': 9.965278134355767}\n",
      "{'ner': 9.965278134355767}\n",
      "{'ner': 9.965278134355767}\n",
      "{'ner': 9.965278134355767}\n",
      "{'ner': 9.965278134355767}\n",
      "{'ner': 9.965278134355767}\n",
      "{'ner': 9.965278134355767}\n",
      "{'ner': 9.965287332878518}\n",
      "{'ner': 9.965287332878518}\n",
      "{'ner': 9.965287332878518}\n",
      "{'ner': 9.965287332878518}\n",
      "{'ner': 9.965287332878518}\n",
      "{'ner': 9.965287332878518}\n",
      "{'ner': 9.965287332878518}\n",
      "{'ner': 11.752863624632248}\n",
      "{'ner': 11.752863624632248}\n",
      "{'ner': 11.752863624632248}\n",
      "{'ner': 14.48259834547656}\n",
      "{'ner': 14.48259834547656}\n",
      "{'ner': 14.48259834547656}\n",
      "{'ner': 14.48259834547656}\n",
      "{'ner': 14.482607815763878}\n",
      "{'ner': 14.482607815763878}\n",
      "{'ner': 15.629713053749521}\n",
      "{'ner': 15.629713053749521}\n",
      "{'ner': 17.252425490568186}\n",
      "{'ner': 17.423188184427797}\n",
      "{'ner': 17.423188184427797}\n",
      "{'ner': 17.423188184427797}\n",
      "{'ner': 17.423188184427797}\n",
      "{'ner': 17.423188184427797}\n",
      "{'ner': 17.423188184427797}\n",
      "{'ner': 17.423188184427797}\n",
      "{'ner': 17.423188184427797}\n",
      "{'ner': 17.423188184427797}\n",
      "{'ner': 17.423188184427797}\n",
      "{'ner': 17.427304991502698}\n",
      "{'ner': 17.427304991502698}\n",
      "{'ner': 17.427304991502698}\n",
      "{'ner': 17.427304991502698}\n",
      "{'ner': 17.427304991502698}\n",
      "{'ner': 17.427304991502698}\n",
      "{'ner': 17.427304991502698}\n",
      "{'ner': 17.427304991502698}\n",
      "{'ner': 17.427304991502698}\n",
      "{'ner': 17.427304991502698}\n",
      "{'ner': 17.427304991502698}\n",
      "{'ner': 17.427304991502698}\n",
      "{'ner': 19.27156117403314}\n",
      "{'ner': 19.27156117403314}\n",
      "{'ner': 19.27156117403314}\n",
      "{'ner': 19.27156117403314}\n",
      "{'ner': 19.27156117403314}\n",
      "{'ner': 19.27156117403314}\n",
      "{'ner': 19.27156117403314}\n",
      "{'ner': 19.27156117403314}\n",
      "{'ner': 23.837844834500395}\n",
      "{'ner': 23.837844834500395}\n",
      "{'ner': 23.837844834500395}\n",
      "{'ner': 23.837844834500395}\n",
      "{'ner': 32.05133909056027}\n",
      "{'ner': 32.05184791841197}\n",
      "{'ner': 32.05184791841197}\n",
      "{'ner': 32.05184791841197}\n",
      "{'ner': 32.05184791841197}\n",
      "{'ner': 32.05184791841197}\n",
      "{'ner': 32.05184791841197}\n",
      "{'ner': 32.05184791841197}\n",
      "{'ner': 32.05184791841197}\n",
      "{'ner': 32.05184791841197}\n",
      "{'ner': 32.05184791841197}\n",
      "{'ner': 32.05184791841197}\n",
      "{'ner': 32.05184791841197}\n",
      "{'ner': 32.05184791841197}\n",
      "{'ner': 32.05184791841197}\n",
      "{'ner': 32.05184791841197}\n",
      "{'ner': 34.94830981547025}\n",
      "{'ner': 34.94830981547025}\n",
      "{'ner': 34.94830981547025}\n",
      "{'ner': 34.948414111266786}\n",
      "{'ner': 34.948414111266786}\n",
      "{'ner': 34.948414111266786}\n",
      "{'ner': 34.948414111266786}\n",
      "{'ner': 34.948414111266786}\n",
      "{'ner': 34.948414111266786}\n",
      "{'ner': 34.948414111266786}\n",
      "{'ner': 34.948414111266786}\n",
      "{'ner': 34.948414111266786}\n",
      "{'ner': 34.948414111266786}\n",
      "{'ner': 34.948414111266786}\n",
      "{'ner': 34.948414111266786}\n",
      "{'ner': 34.948414111266786}\n",
      "{'ner': 34.948414111266786}\n",
      "{'ner': 36.7769698064749}\n",
      "{'ner': 36.7769698064749}\n",
      "{'ner': 36.7769698064749}\n",
      "{'ner': 36.7769698064749}\n",
      "{'ner': 36.7769698064749}\n",
      "{'ner': 36.7769698064749}\n",
      "{'ner': 36.7769698064749}\n",
      "{'ner': 36.7769698064749}\n",
      "{'ner': 36.7769698064749}\n",
      "{'ner': 36.7769698064749}\n",
      "{'ner': 36.7769698064749}\n",
      "{'ner': 36.7769698064749}\n",
      "{'ner': 36.81243830281687}\n",
      "{'ner': 37.20648278504152}\n",
      "{'ner': 37.20648278504152}\n",
      "{'ner': 37.20648278504152}\n",
      "{'ner': 37.20648278504152}\n",
      "{'ner': 37.20648278504152}\n",
      "{'ner': 37.20648278504152}\n",
      "{'ner': 37.20648278504152}\n",
      "{'ner': 37.20648278504152}\n",
      "{'ner': 37.20648278504152}\n",
      "{'ner': 37.20648278504152}\n",
      "{'ner': 37.20648278504152}\n",
      "{'ner': 37.20648278504152}\n",
      "{'ner': 37.20648278504152}\n",
      "{'ner': 37.20648278504152}\n",
      "{'ner': 37.20648278504152}\n",
      "{'ner': 37.20648278504152}\n",
      "{'ner': 37.20648278504152}\n",
      "{'ner': 37.20648278504152}\n",
      "{'ner': 37.20648278504152}\n",
      "{'ner': 37.20648278504152}\n",
      "{'ner': 37.20648278504152}\n",
      "{'ner': 37.20648278504152}\n",
      "{'ner': 37.20648278504152}\n",
      "{'ner': 37.20648278504152}\n",
      "{'ner': 37.20648278504152}\n",
      "{'ner': 37.20664126593727}\n",
      "{'ner': 37.20664126593727}\n",
      "{'ner': 37.20664126593727}\n",
      "Starting iteration\n",
      "{'ner': 0.0}\n",
      "{'ner': 0.0}\n",
      "{'ner': 0.0}\n",
      "{'ner': 0.0}\n",
      "{'ner': 0.0}\n",
      "{'ner': 0.0}\n",
      "{'ner': 0.0}\n",
      "{'ner': 0.0}\n",
      "{'ner': 0.0}\n",
      "{'ner': 0.0}\n",
      "{'ner': 0.0}\n",
      "{'ner': 0.8510104451306598}\n",
      "{'ner': 0.8510104451306598}\n",
      "{'ner': 0.8510104451306598}\n",
      "{'ner': 0.8510104451306598}\n",
      "{'ner': 0.8510104451306598}\n",
      "{'ner': 0.8510111802147117}\n",
      "{'ner': 2.7375832936116824}\n",
      "{'ner': 2.7375832936116824}\n",
      "{'ner': 2.7375832936116824}\n",
      "{'ner': 2.7375832936116824}\n",
      "{'ner': 2.7375832936116824}\n",
      "{'ner': 2.7375832936116824}\n",
      "{'ner': 2.7375832936116824}\n",
      "{'ner': 2.7375832936116824}\n",
      "{'ner': 2.7375832936116824}\n",
      "{'ner': 2.7375832936116824}\n",
      "{'ner': 2.7377484979730715}\n",
      "{'ner': 2.7377484979730715}\n",
      "{'ner': 2.7377484979730715}\n",
      "{'ner': 2.7377484979730715}\n",
      "{'ner': 2.7377484979730715}\n",
      "{'ner': 2.7377484979730715}\n",
      "{'ner': 2.7377484979730715}\n",
      "{'ner': 2.7377484979730715}\n",
      "{'ner': 2.7377484979730715}\n",
      "{'ner': 2.7377498424360938}\n",
      "{'ner': 2.737751014309898}\n",
      "{'ner': 2.737751014309898}\n",
      "{'ner': 2.737751014309898}\n",
      "{'ner': 2.737751014309898}\n",
      "{'ner': 2.737751014309898}\n",
      "{'ner': 2.737751014309898}\n",
      "{'ner': 2.737751014309898}\n",
      "{'ner': 2.737751014309898}\n",
      "{'ner': 2.737751014309898}\n",
      "{'ner': 2.737751014309898}\n",
      "{'ner': 2.737751014309898}\n",
      "{'ner': 2.737751014309898}\n",
      "{'ner': 2.737751014309898}\n",
      "{'ner': 2.737751014309898}\n",
      "{'ner': 2.737751014309898}\n",
      "{'ner': 2.737751014309898}\n",
      "{'ner': 2.737751014309898}\n",
      "{'ner': 2.737751014309898}\n",
      "{'ner': 2.737751014309898}\n",
      "{'ner': 2.737751014309898}\n",
      "{'ner': 2.737751014309898}\n",
      "{'ner': 2.737751014309898}\n",
      "{'ner': 2.737751014309898}\n",
      "{'ner': 2.737751014309898}\n",
      "{'ner': 2.737751014309898}\n",
      "{'ner': 2.737751014309898}\n",
      "{'ner': 2.737751014309898}\n",
      "{'ner': 7.926766652468011}\n",
      "{'ner': 7.926766652468011}\n",
      "{'ner': 7.926766652468011}\n",
      "{'ner': 7.926766652468011}\n",
      "{'ner': 7.926766652468011}\n",
      "{'ner': 7.926766652468011}\n",
      "{'ner': 7.926766652468011}\n",
      "{'ner': 8.164665640161317}\n",
      "{'ner': 8.164665640161317}\n",
      "{'ner': 8.164665640161317}\n",
      "{'ner': 8.164665640161317}\n",
      "{'ner': 8.164665640161317}\n",
      "{'ner': 8.164665640161317}\n",
      "{'ner': 8.164665640161317}\n",
      "{'ner': 8.164665640161317}\n",
      "{'ner': 8.164665640161317}\n",
      "{'ner': 10.605311851336872}\n",
      "{'ner': 10.605311851336872}\n",
      "{'ner': 10.605311851336872}\n",
      "{'ner': 10.605311851336872}\n",
      "{'ner': 10.605311851336872}\n",
      "{'ner': 10.605311851336872}\n",
      "{'ner': 10.605311851336872}\n",
      "{'ner': 10.605312532000575}\n",
      "{'ner': 10.605312532000575}\n",
      "{'ner': 10.605312532000575}\n",
      "{'ner': 10.605312532000575}\n",
      "{'ner': 10.605312532000575}\n",
      "{'ner': 10.605312532000575}\n",
      "{'ner': 10.605312532000575}\n",
      "{'ner': 10.605312532000575}\n",
      "{'ner': 10.605312532000575}\n",
      "{'ner': 10.605312532000575}\n",
      "{'ner': 10.605312532000575}\n",
      "{'ner': 10.605312532000575}\n",
      "{'ner': 10.605312532000575}\n",
      "{'ner': 10.605312532000575}\n",
      "{'ner': 10.605312532000575}\n",
      "{'ner': 10.605312532000575}\n",
      "{'ner': 10.605312532000575}\n",
      "{'ner': 10.605312532000575}\n",
      "{'ner': 10.605312532000575}\n",
      "{'ner': 10.605312532000575}\n",
      "{'ner': 10.605312532000575}\n",
      "{'ner': 10.605312532000575}\n",
      "{'ner': 10.605332706430353}\n",
      "{'ner': 10.605332706430353}\n",
      "{'ner': 10.605332706430353}\n",
      "{'ner': 10.605332706430353}\n",
      "{'ner': 10.605332706430353}\n",
      "{'ner': 11.080680270527873}\n",
      "{'ner': 11.080680270527873}\n",
      "{'ner': 11.080680270527873}\n",
      "{'ner': 11.080680270527873}\n",
      "{'ner': 11.080680270527873}\n",
      "{'ner': 11.101932467730188}\n",
      "{'ner': 11.677848015987264}\n",
      "{'ner': 11.677848015987264}\n",
      "{'ner': 11.677848015987264}\n",
      "{'ner': 11.677848015987264}\n",
      "{'ner': 11.677848015987264}\n",
      "{'ner': 11.677848015987264}\n",
      "{'ner': 11.677848015987264}\n",
      "{'ner': 12.081220978080104}\n",
      "{'ner': 12.081220978080104}\n",
      "{'ner': 12.081221538134036}\n",
      "{'ner': 12.081221581046133}\n",
      "{'ner': 12.102238816162222}\n",
      "{'ner': 12.102238816162222}\n",
      "{'ner': 12.102238816162222}\n",
      "{'ner': 12.102238816162222}\n",
      "{'ner': 12.102238816162222}\n",
      "{'ner': 12.102238816162222}\n",
      "{'ner': 17.404145347132943}\n",
      "{'ner': 17.404145347132943}\n",
      "{'ner': 29.116255510966653}\n",
      "{'ner': 29.116255510966653}\n",
      "{'ner': 29.116255510966653}\n",
      "{'ner': 29.116255510966653}\n",
      "{'ner': 29.116255511309443}\n",
      "{'ner': 29.116255511309443}\n",
      "{'ner': 29.116255511309443}\n",
      "{'ner': 29.116255511309443}\n",
      "{'ner': 29.116255511309443}\n",
      "{'ner': 29.116255511309443}\n",
      "{'ner': 29.359272296889497}\n",
      "{'ner': 30.932825005575996}\n",
      "{'ner': 30.932825005575996}\n",
      "{'ner': 30.932825005575996}\n",
      "{'ner': 30.932825005575996}\n",
      "{'ner': 30.932825005575996}\n",
      "{'ner': 30.932825005575996}\n",
      "{'ner': 30.932825005575996}\n",
      "{'ner': 30.932825005575996}\n",
      "{'ner': 30.932825005575996}\n",
      "{'ner': 30.932825005575996}\n",
      "{'ner': 30.932825005575996}\n",
      "{'ner': 30.932825005575996}\n",
      "{'ner': 30.932825005575996}\n",
      "{'ner': 30.932825005575996}\n",
      "{'ner': 30.932825005575996}\n",
      "{'ner': 30.932825005575996}\n",
      "{'ner': 30.932825005575996}\n",
      "{'ner': 30.932825005575996}\n",
      "{'ner': 30.932825005575996}\n",
      "{'ner': 30.932825005575996}\n",
      "{'ner': 30.932825005575996}\n",
      "{'ner': 30.932825005575996}\n",
      "{'ner': 30.932825005575996}\n",
      "{'ner': 30.932825005575996}\n",
      "{'ner': 30.932825005575996}\n",
      "{'ner': 30.932825005575996}\n",
      "{'ner': 30.932825005575996}\n",
      "{'ner': 30.932825005575996}\n",
      "{'ner': 30.932825005575996}\n",
      "{'ner': 30.932825005575996}\n",
      "{'ner': 30.932825005575996}\n",
      "{'ner': 30.932825005575996}\n",
      "{'ner': 30.932825005575996}\n",
      "{'ner': 30.932825005575996}\n",
      "{'ner': 30.932825005575996}\n",
      "{'ner': 30.932825005575996}\n",
      "{'ner': 30.932825005575996}\n",
      "{'ner': 30.932825005575996}\n",
      "{'ner': 30.932825005575996}\n",
      "{'ner': 30.932825005575996}\n",
      "{'ner': 31.884967480426422}\n",
      "{'ner': 31.884967480426422}\n",
      "{'ner': 31.884967480426422}\n",
      "{'ner': 31.884967480426422}\n",
      "{'ner': 31.884967480426422}\n",
      "{'ner': 31.884967480426422}\n",
      "{'ner': 31.884967480426422}\n",
      "{'ner': 31.884967480426422}\n",
      "{'ner': 31.884967480426422}\n"
     ]
    }
   ],
   "source": [
    "# train model, save it locally & load it to memory based on the dataTurk format\n",
    "train_model_dt = train_model_dt(resume_dt)\n",
    "nlp_model_dt = spacy_load_model('nlp_model_dt')"
   ]
  },
  {
   "cell_type": "code",
   "execution_count": 7,
   "metadata": {},
   "outputs": [
    {
     "name": "stdout",
     "output_type": "stream",
     "text": [
      "NAME\t\t - Praveen BhaskarProgram\n"
     ]
    }
   ],
   "source": [
    "# Entities recognized in arbitrary way. ie. different outcome depending on the content selected.\n",
    "text  = ''.join(resume_dt[139]['content'].split('\\n'))\n",
    "doc_test = nlp_model_sp(text)\n",
    "for ent in doc_test.ents:\n",
    "    print('{}\\t\\t - {}'.format(ent.label_.upper(), ent.text))"
   ]
  },
  {
   "cell_type": "code",
   "execution_count": 8,
   "metadata": {},
   "outputs": [
    {
     "data": {
      "text/plain": [
       "{'spancat': ['Companies worked at',\n",
       "  'Skills',\n",
       "  'Graduation Year',\n",
       "  'College Name',\n",
       "  'Degree',\n",
       "  'Designation',\n",
       "  'Email Address',\n",
       "  'Location',\n",
       "  'Name',\n",
       "  'Years of Experience',\n",
       "  'UNKNOWN']}"
      ]
     },
     "execution_count": 8,
     "metadata": {},
     "output_type": "execute_result"
    }
   ],
   "source": [
    "nlp_model_sc.pipe_labels"
   ]
  },
  {
   "cell_type": "code",
   "execution_count": 4,
   "metadata": {},
   "outputs": [
    {
     "data": {
      "text/plain": [
       "('Govardhana K\\nSenior Software Engineer\\n\\nBengaluru, Karnataka, Karnataka - Email me on Indeed: indeed.com/r/Govardhana-K/\\nb2de315d95905b68\\n\\nTotal IT experience 5 Years 6 Months\\nCloud Lending Solutions INC 4 Month • Salesforce Developer\\nOracle 5 Years 2 Month • Core Java Developer\\nLanguages Core Java, Go Lang\\nOracle PL-SQL programming,\\nSales Force Developer with APEX.\\n\\nDesignations & Promotions\\n\\nWilling to relocate: Anywhere\\n\\nWORK EXPERIENCE\\n\\nSenior Software Engineer\\n\\nCloud Lending Solutions -  Bangalore, Karnataka -\\n\\nJanuary 2018 to Present\\n\\nPresent\\n\\nSenior Consultant\\n\\nOracle -  Bangalore, Karnataka -\\n\\nNovember 2016 to December 2017\\n\\nStaff Consultant\\n\\nOracle -  Bangalore, Karnataka -\\n\\nJanuary 2014 to October 2016\\n\\nAssociate Consultant\\n\\nOracle -  Bangalore, Karnataka -\\n\\nNovember 2012 to December 2013\\n\\nEDUCATION\\n\\nB.E in Computer Science Engineering\\n\\nAdithya Institute of Technology -  Tamil Nadu\\n\\nSeptember 2008 to June 2012\\n\\nhttps://www.indeed.com/r/Govardhana-K/b2de315d95905b68?isid=rex-download&ikw=download-top&co=IN\\nhttps://www.indeed.com/r/Govardhana-K/b2de315d95905b68?isid=rex-download&ikw=download-top&co=IN\\n\\n\\nSKILLS\\n\\nAPEX. (Less than 1 year), Data Structures (3 years), FLEXCUBE (5 years), Oracle (5 years),\\nAlgorithms (3 years)\\n\\nLINKS\\n\\nhttps://www.linkedin.com/in/govardhana-k-61024944/\\n\\nADDITIONAL INFORMATION\\n\\nTechnical Proficiency:\\n\\nLanguages: Core Java, Go Lang, Data Structures & Algorithms, Oracle\\nPL-SQL programming, Sales Force with APEX.\\nTools: RADTool, Jdeveloper, NetBeans, Eclipse, SQL developer,\\nPL/SQL Developer, WinSCP, Putty\\nWeb Technologies: JavaScript, XML, HTML, Webservice\\n\\nOperating Systems: Linux, Windows\\nVersion control system SVN & Git-Hub\\nDatabases: Oracle\\nMiddleware: Web logic, OC4J\\nProduct FLEXCUBE: Oracle FLEXCUBE Versions 10.x, 11.x and 12.x\\n\\nhttps://www.linkedin.com/in/govardhana-k-61024944/',\n",
       " {'entities': [(1749, 1755, 'Companies worked at'),\n",
       "   (1696, 1702, 'Companies worked at'),\n",
       "   (1417, 1423, 'Companies worked at'),\n",
       "   (1356, 1793, 'Skills'),\n",
       "   (1209, 1215, 'Companies worked at'),\n",
       "   (1136, 1247, 'Skills'),\n",
       "   (928, 932, 'Graduation Year'),\n",
       "   (858, 889, 'College Name'),\n",
       "   (821, 856, 'Degree'),\n",
       "   (787, 791, 'Graduation Year'),\n",
       "   (744, 750, 'Companies worked at'),\n",
       "   (722, 742, 'Designation'),\n",
       "   (658, 664, 'Companies worked at'),\n",
       "   (640, 656, 'Designation'),\n",
       "   (574, 580, 'Companies worked at'),\n",
       "   (555, 572, 'Designation'),\n",
       "   (470, 493, 'Companies worked at'),\n",
       "   (444, 468, 'Designation'),\n",
       "   (308, 314, 'Companies worked at'),\n",
       "   (234, 240, 'Companies worked at'),\n",
       "   (175, 198, 'Companies worked at'),\n",
       "   (93, 136, 'Email Address'),\n",
       "   (39, 48, 'Location'),\n",
       "   (13, 37, 'Designation'),\n",
       "   (0, 12, 'Name')]})"
      ]
     },
     "execution_count": 4,
     "metadata": {},
     "output_type": "execute_result"
    }
   ],
   "source": [
    "resume_sp[0]"
   ]
  },
  {
   "cell_type": "markdown",
   "metadata": {},
   "source": [
    "# Learnt Concepts"
   ]
  },
  {
   "cell_type": "code",
   "execution_count": null,
   "metadata": {},
   "outputs": [],
   "source": [
    "#print([x['points'] for x in item['annotation']])\n",
    "# print([(start, end) for [start,end] in x['start','end'] for x in y['points'] for y in item['annotation']])\n",
    "# print([((x['start'], x['end'] ) for x in (y['points'][0] for y in item['annotation']), [y['label'][0] for y in item['annotation']])])\n",
    "# print([y['label'][0] for y in item['annotation']])"
   ]
  },
  {
   "cell_type": "code",
   "execution_count": null,
   "metadata": {},
   "outputs": [],
   "source": [
    "\n",
    "#Utilizing list comprehension foe the check_annotation method\n",
    "def check_annotation_(annotation):\n",
    "    rmv_idx = []                    #list to hold annotations to be removed\n",
    "\n",
    "    rmv_idx = [annotation.index(x) for x in annotation for y in annotation if y[0] <= x[1] <= y[1] and x != y ]\n",
    "    for i in rmv_idx:\n",
    "        print(annotation[i])\n",
    "    # for item in annotation:\n",
    "    #     for comp_item in annotation:    #iterative loops to compare values against each other\n",
    "    #         if comp_item != item:       #skip similar tuples\n",
    "    #             if item[0] <= comp_item[0] <= item[1]:      #check if item has start value between start & end values of other item\n",
    "    #                 print('Comparative Item: \\t{} \\n Item: \\t\\t\\t{}' .format(comp_item, item))\n",
    "    #                 rmv_idx.append(annotation.index(comp_item))\n",
    "    #             if item[0] <= comp_item[1] <= item[1]:      #check if item has end value between start & end values of other item\n",
    "    #                 print('Comparative Item: \\t{} \\n Item: \\t\\t\\t{}' .format(comp_item, item) )\n",
    "    #                 rmv_idx.append(annotation.index(comp_item))\n",
    "                    \n",
    "    for x in sorted(list(set(rmv_idx)),  reverse = True):              #iterate through the list of reverse ordered & unique values of rmv_idx  \n",
    "        annotation.pop(x)                                               # pop\n",
    "    return annotation\n",
    "\n",
    "for item in resume_dt[0:1]:\n",
    "    start_end_points = [[x['start'], x['end']] for x in (y['points'][0] for y in item['annotation'])] #start & end points for the entities\n",
    "    point_labels =  [y['label'][0] for y in item['annotation']]     #Entity labels\n",
    "    annotation =  []                                                #Variable to hold entity start, end & labels\n",
    "    text = item['content']              \n",
    "    i = 0\n",
    "    for x in start_end_points:      #Combine the entity start, end & labels lists\n",
    "        x.append(point_labels[i])\n",
    "        i+=1\n",
    "        annotation.append(tuple(x))\n",
    "    annotation = check_annotation_(annotation)\n",
    "    print(annotation)\n",
    "        \n",
    "            "
   ]
  },
  {
   "cell_type": "code",
   "execution_count": null,
   "metadata": {},
   "outputs": [],
   "source": [
    "for item in resume_dt[0:1]"
   ]
  },
  {
   "cell_type": "code",
   "execution_count": null,
   "metadata": {},
   "outputs": [],
   "source": [
    "doc = nlp(test)\n",
    "print([[X.text , X.pos_] for X in doc])"
   ]
  },
  {
   "cell_type": "code",
   "execution_count": null,
   "metadata": {},
   "outputs": [],
   "source": [
    "test = \"\"\"European authorities fined Google a record $5.1 billion on Wednesday for\n",
    " abusing its power in the mobile phone market and ordered the company to alter its practices.\"\"\""
   ]
  }
 ],
 "metadata": {
  "interpreter": {
   "hash": "0e9b41925516d81d0c21765c74d27c062a8b54401018308de7a468fb50059a44"
  },
  "kernelspec": {
   "display_name": "Python 3.9.7 64-bit ('NLP_env': conda)",
   "language": "python",
   "name": "python3"
  },
  "language_info": {
   "codemirror_mode": {
    "name": "ipython",
    "version": 3
   },
   "file_extension": ".py",
   "mimetype": "text/x-python",
   "name": "python",
   "nbconvert_exporter": "python",
   "pygments_lexer": "ipython3",
   "version": "3.9.7"
  },
  "orig_nbformat": 4
 },
 "nbformat": 4,
 "nbformat_minor": 2
}
