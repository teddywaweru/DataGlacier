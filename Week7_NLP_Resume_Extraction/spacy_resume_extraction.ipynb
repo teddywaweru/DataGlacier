{
 "cells": [
  {
   "cell_type": "code",
   "execution_count": 2,
   "metadata": {},
   "outputs": [],
   "source": [
    "from data_manipulation import train_model_dt, train_model_sp, load_data, spacy_load_model\n",
    "# nlp = spacy.load(\"en_core_web_sm\")\n"
   ]
  },
  {
   "cell_type": "code",
   "execution_count": 3,
   "metadata": {},
   "outputs": [],
   "source": [
    "# Load data in two formats: Spacy NLP, DataTurks respectively\n",
    "resume_sp , resume_dt = load_data('datasets/resume.json')"
   ]
  },
  {
   "cell_type": "code",
   "execution_count": 4,
   "metadata": {},
   "outputs": [
    {
     "name": "stdout",
     "output_type": "stream",
     "text": [
      "Starting iteration\n"
     ]
    },
    {
     "name": "stderr",
     "output_type": "stream",
     "text": [
      "C:\\Users\\teddy\\miniconda3\\envs\\NLP_env\\lib\\site-packages\\spacy\\training\\iob_utils.py:141: UserWarning: [W030] Some entities could not be aligned in the text \"Kandrapu Reddy\n",
      "Senior Travel Operations (Domestic,...\" with entities \"[(843, 877, 'Companies worked at'), (114, 127, 'Lo...\". Use `spacy.training.offsets_to_biluo_tags(nlp.make_doc(text), entities)` to check the alignment. Misaligned entities ('-') will be ignored during training.\n",
      "  warnings.warn(\n"
     ]
    },
    {
     "name": "stdout",
     "output_type": "stream",
     "text": [
      "{'ner': 1716.4937198162079}\n"
     ]
    },
    {
     "name": "stderr",
     "output_type": "stream",
     "text": [
      "C:\\Users\\teddy\\miniconda3\\envs\\NLP_env\\lib\\site-packages\\spacy\\training\\iob_utils.py:141: UserWarning: [W030] Some entities could not be aligned in the text \"Tejasri Gunnam\n",
      "Bengaluru, Karnataka - Email me on ...\" with entities \"[(908, 930, 'Companies worked at'), (0, 14, 'Name'...\". Use `spacy.training.offsets_to_biluo_tags(nlp.make_doc(text), entities)` to check the alignment. Misaligned entities ('-') will be ignored during training.\n",
      "  warnings.warn(\n"
     ]
    },
    {
     "name": "stdout",
     "output_type": "stream",
     "text": [
      "{'ner': 3154.426376104355}\n"
     ]
    },
    {
     "name": "stderr",
     "output_type": "stream",
     "text": [
      "C:\\Users\\teddy\\miniconda3\\envs\\NLP_env\\lib\\site-packages\\spacy\\training\\iob_utils.py:141: UserWarning: [W030] Some entities could not be aligned in the text \"Raja Chandra Mouli\n",
      "Cuddapah, Andhra Pradesh - Emai...\" with entities \"[(19, 27, 'Location'), (269, 277, 'Location'), (66...\". Use `spacy.training.offsets_to_biluo_tags(nlp.make_doc(text), entities)` to check the alignment. Misaligned entities ('-') will be ignored during training.\n",
      "  warnings.warn(\n"
     ]
    },
    {
     "name": "stdout",
     "output_type": "stream",
     "text": [
      "{'ner': 3396.749189466238}\n"
     ]
    },
    {
     "name": "stderr",
     "output_type": "stream",
     "text": [
      "C:\\Users\\teddy\\miniconda3\\envs\\NLP_env\\lib\\site-packages\\spacy\\training\\iob_utils.py:141: UserWarning: [W030] Some entities could not be aligned in the text \"Puran Mal\n",
      "Jaipur, Rajasthan - Email me on Indeed: ...\" with entities \"[(174, 183, 'Degree'), (49, 89, 'Email Address'), ...\". Use `spacy.training.offsets_to_biluo_tags(nlp.make_doc(text), entities)` to check the alignment. Misaligned entities ('-') will be ignored during training.\n",
      "  warnings.warn(\n"
     ]
    },
    {
     "name": "stdout",
     "output_type": "stream",
     "text": [
      "{'ner': 3532.65449962765}\n"
     ]
    },
    {
     "name": "stderr",
     "output_type": "stream",
     "text": [
      "C:\\Users\\teddy\\miniconda3\\envs\\NLP_env\\lib\\site-packages\\spacy\\training\\iob_utils.py:141: UserWarning: [W030] Some entities could not be aligned in the text \"kimaya sonawane\n",
      "Thane, Maharashtra - Email me on I...\" with entities \"[(57, 103, 'Email Address'), (400, 422, 'Degree'),...\". Use `spacy.training.offsets_to_biluo_tags(nlp.make_doc(text), entities)` to check the alignment. Misaligned entities ('-') will be ignored during training.\n",
      "  warnings.warn(\n"
     ]
    },
    {
     "name": "stdout",
     "output_type": "stream",
     "text": [
      "{'ner': 3861.2349375262856}\n"
     ]
    },
    {
     "name": "stderr",
     "output_type": "stream",
     "text": [
      "C:\\Users\\teddy\\miniconda3\\envs\\NLP_env\\lib\\site-packages\\spacy\\training\\iob_utils.py:141: UserWarning: [W030] Some entities could not be aligned in the text \"Yasothai Jayaramachandran\n",
      "Lead Engineer - Automati...\" with entities \"[(5629, 5650, 'Companies worked at'), (7681, 7685,...\". Use `spacy.training.offsets_to_biluo_tags(nlp.make_doc(text), entities)` to check the alignment. Misaligned entities ('-') will be ignored during training.\n",
      "  warnings.warn(\n"
     ]
    },
    {
     "name": "stdout",
     "output_type": "stream",
     "text": [
      "{'ner': 4494.824342466891}\n"
     ]
    },
    {
     "name": "stderr",
     "output_type": "stream",
     "text": [
      "C:\\Users\\teddy\\miniconda3\\envs\\NLP_env\\lib\\site-packages\\spacy\\training\\iob_utils.py:141: UserWarning: [W030] Some entities could not be aligned in the text \"Debasish Dasgupta\n",
      "Trainer-Finacle-Core Banking Sol...\" with entities \"[(93, 98, 'Location'), (0, 17, 'Name'), (1471, 147...\". Use `spacy.training.offsets_to_biluo_tags(nlp.make_doc(text), entities)` to check the alignment. Misaligned entities ('-') will be ignored during training.\n",
      "  warnings.warn(\n"
     ]
    },
    {
     "name": "stdout",
     "output_type": "stream",
     "text": [
      "{'ner': 4538.1177635468775}\n"
     ]
    },
    {
     "name": "stderr",
     "output_type": "stream",
     "text": [
      "C:\\Users\\teddy\\miniconda3\\envs\\NLP_env\\lib\\site-packages\\spacy\\training\\iob_utils.py:141: UserWarning: [W030] Some entities could not be aligned in the text \"Ramkrishan Bhatt\n",
      "python developer\n",
      "\n",
      "Bengaluru, Karn...\" with entities \"[(1439, 1468, 'College Name'), (35, 44, 'Location'...\". Use `spacy.training.offsets_to_biluo_tags(nlp.make_doc(text), entities)` to check the alignment. Misaligned entities ('-') will be ignored during training.\n",
      "  warnings.warn(\n"
     ]
    },
    {
     "name": "stdout",
     "output_type": "stream",
     "text": [
      "{'ner': 4554.084033090482}\n"
     ]
    },
    {
     "name": "stderr",
     "output_type": "stream",
     "text": [
      "C:\\Users\\teddy\\miniconda3\\envs\\NLP_env\\lib\\site-packages\\spacy\\training\\iob_utils.py:141: UserWarning: [W030] Some entities could not be aligned in the text \"R Arunravi\n",
      "Functional Consultant / WM Lead - SAP E...\" with entities \"[(3985, 3989, 'Graduation Year'), (45, 52, 'Compan...\". Use `spacy.training.offsets_to_biluo_tags(nlp.make_doc(text), entities)` to check the alignment. Misaligned entities ('-') will be ignored during training.\n",
      "  warnings.warn(\n"
     ]
    },
    {
     "name": "stdout",
     "output_type": "stream",
     "text": [
      "{'ner': 4586.070544538613}\n"
     ]
    },
    {
     "name": "stderr",
     "output_type": "stream",
     "text": [
      "C:\\Users\\teddy\\miniconda3\\envs\\NLP_env\\lib\\site-packages\\spacy\\training\\iob_utils.py:141: UserWarning: [W030] Some entities could not be aligned in the text \"Kavitha K\n",
      "Senior System Engineer - Infosys Limited...\" with entities \"[(2194, 2243, 'Degree'), (345, 349, 'Graduation Ye...\". Use `spacy.training.offsets_to_biluo_tags(nlp.make_doc(text), entities)` to check the alignment. Misaligned entities ('-') will be ignored during training.\n",
      "  warnings.warn(\n",
      "C:\\Users\\teddy\\miniconda3\\envs\\NLP_env\\lib\\site-packages\\spacy\\training\\iob_utils.py:141: UserWarning: [W030] Some entities could not be aligned in the text \"Kavitha K\n",
      "Senior System Engineer - Infosys Limited...\" with entities \"[(2128, 2144, 'Companies worked at')]\". Use `spacy.training.offsets_to_biluo_tags(nlp.make_doc(text), entities)` to check the alignment. Misaligned entities ('-') will be ignored during training.\n",
      "  warnings.warn(\n"
     ]
    },
    {
     "name": "stdout",
     "output_type": "stream",
     "text": [
      "{'ner': 4622.5697302435265}\n"
     ]
    },
    {
     "name": "stderr",
     "output_type": "stream",
     "text": [
      "C:\\Users\\teddy\\miniconda3\\envs\\NLP_env\\lib\\site-packages\\spacy\\training\\iob_utils.py:141: UserWarning: [W030] Some entities could not be aligned in the text \"Priyesh Dubey\n",
      "Azure Developer with 9 Yrs 8 months ...\" with entities \"[(140, 184, 'Email Address'), (97, 106, 'Location'...\". Use `spacy.training.offsets_to_biluo_tags(nlp.make_doc(text), entities)` to check the alignment. Misaligned entities ('-') will be ignored during training.\n",
      "  warnings.warn(\n",
      "C:\\Users\\teddy\\miniconda3\\envs\\NLP_env\\lib\\site-packages\\spacy\\training\\iob_utils.py:141: UserWarning: [W030] Some entities could not be aligned in the text \"Priyesh Dubey\n",
      "Azure Developer with 9 Yrs 8 months ...\" with entities \"[(2537, 2546, 'Companies worked at'), (2733, 2742,...\". Use `spacy.training.offsets_to_biluo_tags(nlp.make_doc(text), entities)` to check the alignment. Misaligned entities ('-') will be ignored during training.\n",
      "  warnings.warn(\n"
     ]
    },
    {
     "name": "stdout",
     "output_type": "stream",
     "text": [
      "{'ner': 4640.569714988633}\n"
     ]
    },
    {
     "name": "stderr",
     "output_type": "stream",
     "text": [
      "C:\\Users\\teddy\\miniconda3\\envs\\NLP_env\\lib\\site-packages\\spacy\\training\\iob_utils.py:141: UserWarning: [W030] Some entities could not be aligned in the text \"Sridevi H\n",
      "Bangalore, Karnataka - Email me on Indee...\" with entities \"[(457, 1171, 'Skills'), (393, 417, 'Degree'), (419...\". Use `spacy.training.offsets_to_biluo_tags(nlp.make_doc(text), entities)` to check the alignment. Misaligned entities ('-') will be ignored during training.\n",
      "  warnings.warn(\n"
     ]
    },
    {
     "name": "stdout",
     "output_type": "stream",
     "text": [
      "{'ner': 4802.0702567825565}\n"
     ]
    },
    {
     "name": "stderr",
     "output_type": "stream",
     "text": [
      "C:\\Users\\teddy\\miniconda3\\envs\\NLP_env\\lib\\site-packages\\spacy\\training\\iob_utils.py:141: UserWarning: [W030] Some entities could not be aligned in the text \"Madhava Konjeti\n",
      "HR Executive\n",
      "\n",
      "Bengaluru, Karnataka...\" with entities \"[(354, 374, 'Designation'), (1666, 1682, 'Degree')...\". Use `spacy.training.offsets_to_biluo_tags(nlp.make_doc(text), entities)` to check the alignment. Misaligned entities ('-') will be ignored during training.\n",
      "  warnings.warn(\n"
     ]
    },
    {
     "name": "stdout",
     "output_type": "stream",
     "text": [
      "{'ner': 4834.069680297863}\n"
     ]
    },
    {
     "name": "stderr",
     "output_type": "stream",
     "text": [
      "C:\\Users\\teddy\\miniconda3\\envs\\NLP_env\\lib\\site-packages\\spacy\\training\\iob_utils.py:141: UserWarning: [W030] Some entities could not be aligned in the text \"Pradeep Kumar\n",
      "Security Analyst in Infosys - Career...\" with entities \"[(14, 30, 'Designation'), (177, 193, 'Designation'...\". Use `spacy.training.offsets_to_biluo_tags(nlp.make_doc(text), entities)` to check the alignment. Misaligned entities ('-') will be ignored during training.\n",
      "  warnings.warn(\n"
     ]
    },
    {
     "name": "stdout",
     "output_type": "stream",
     "text": [
      "{'ner': 4844.069568097503}\n"
     ]
    },
    {
     "name": "stderr",
     "output_type": "stream",
     "text": [
      "C:\\Users\\teddy\\miniconda3\\envs\\NLP_env\\lib\\site-packages\\spacy\\training\\iob_utils.py:141: UserWarning: [W030] Some entities could not be aligned in the text \"Puneeth R\n",
      "Escalation Specialist - HiPower Support ...\" with entities \"[(33, 56, 'Companies worked at'), (443, 464, 'Desi...\". Use `spacy.training.offsets_to_biluo_tags(nlp.make_doc(text), entities)` to check the alignment. Misaligned entities ('-') will be ignored during training.\n",
      "  warnings.warn(\n"
     ]
    },
    {
     "name": "stdout",
     "output_type": "stream",
     "text": [
      "{'ner': 4852.0682490763975}\n"
     ]
    },
    {
     "name": "stderr",
     "output_type": "stream",
     "text": [
      "C:\\Users\\teddy\\miniconda3\\envs\\NLP_env\\lib\\site-packages\\spacy\\training\\iob_utils.py:141: UserWarning: [W030] Some entities could not be aligned in the text \"Mahesh Vijay\n",
      "Bengaluru, Karnataka - Email me on In...\" with entities \"[(0, 12, 'Name'), (876, 885, 'Location'), (210, 21...\". Use `spacy.training.offsets_to_biluo_tags(nlp.make_doc(text), entities)` to check the alignment. Misaligned entities ('-') will be ignored during training.\n",
      "  warnings.warn(\n"
     ]
    },
    {
     "name": "stdout",
     "output_type": "stream",
     "text": [
      "{'ner': 5076.672539891861}\n"
     ]
    },
    {
     "name": "stderr",
     "output_type": "stream",
     "text": [
      "C:\\Users\\teddy\\miniconda3\\envs\\NLP_env\\lib\\site-packages\\spacy\\training\\iob_utils.py:141: UserWarning: [W030] Some entities could not be aligned in the text \"Prem Koshti\n",
      "Officer-HR & Administration in H.& R. ...\" with entities \"[(0, 11, 'Name'), (12, 65, 'Designation'), (1145, ...\". Use `spacy.training.offsets_to_biluo_tags(nlp.make_doc(text), entities)` to check the alignment. Misaligned entities ('-') will be ignored during training.\n",
      "  warnings.warn(\n"
     ]
    },
    {
     "name": "stdout",
     "output_type": "stream",
     "text": [
      "{'ner': 5114.573056427985}\n"
     ]
    },
    {
     "name": "stderr",
     "output_type": "stream",
     "text": [
      "C:\\Users\\teddy\\miniconda3\\envs\\NLP_env\\lib\\site-packages\\spacy\\training\\iob_utils.py:141: UserWarning: [W030] Some entities could not be aligned in the text \"Nida Khan\n",
      "Tech Support Executive - Teleperformance...\" with entities \"[(66, 72, 'Location'), (10, 33, 'Designation'), (5...\". Use `spacy.training.offsets_to_biluo_tags(nlp.make_doc(text), entities)` to check the alignment. Misaligned entities ('-') will be ignored during training.\n",
      "  warnings.warn(\n"
     ]
    },
    {
     "name": "stdout",
     "output_type": "stream",
     "text": [
      "{'ner': 5122.530661833945}\n"
     ]
    },
    {
     "name": "stderr",
     "output_type": "stream",
     "text": [
      "C:\\Users\\teddy\\miniconda3\\envs\\NLP_env\\lib\\site-packages\\spacy\\training\\iob_utils.py:141: UserWarning: [W030] Some entities could not be aligned in the text \"Girish Acharya\n",
      "Technical Architect & Sr. Software ...\" with entities \"[(593, 602, 'Companies worked at'), (9073, 9082, '...\". Use `spacy.training.offsets_to_biluo_tags(nlp.make_doc(text), entities)` to check the alignment. Misaligned entities ('-') will be ignored during training.\n",
      "  warnings.warn(\n"
     ]
    },
    {
     "name": "stdout",
     "output_type": "stream",
     "text": [
      "{'ner': 5195.10517069276}\n"
     ]
    },
    {
     "name": "stderr",
     "output_type": "stream",
     "text": [
      "C:\\Users\\teddy\\miniconda3\\envs\\NLP_env\\lib\\site-packages\\spacy\\training\\iob_utils.py:141: UserWarning: [W030] Some entities could not be aligned in the text \"Madhuri Sripathi\n",
      "Banglore, Karnataka, Karnataka - ...\" with entities \"[(2295, 2300, 'Companies worked at'), (3353, 3358,...\". Use `spacy.training.offsets_to_biluo_tags(nlp.make_doc(text), entities)` to check the alignment. Misaligned entities ('-') will be ignored during training.\n",
      "  warnings.warn(\n"
     ]
    },
    {
     "name": "stdout",
     "output_type": "stream",
     "text": [
      "{'ner': 5225.5104501871165}\n"
     ]
    },
    {
     "name": "stderr",
     "output_type": "stream",
     "text": [
      "C:\\Users\\teddy\\miniconda3\\envs\\NLP_env\\lib\\site-packages\\spacy\\training\\iob_utils.py:141: UserWarning: [W030] Some entities could not be aligned in the text \"Navjyot Singh Rathore\n",
      "Ulhasnagar, Maharashtra - Em...\" with entities \"[(344, 349, 'Degree'), (338, 342, 'Graduation Year...\". Use `spacy.training.offsets_to_biluo_tags(nlp.make_doc(text), entities)` to check the alignment. Misaligned entities ('-') will be ignored during training.\n",
      "  warnings.warn(\n"
     ]
    },
    {
     "name": "stdout",
     "output_type": "stream",
     "text": [
      "{'ner': 5249.959843867478}\n"
     ]
    },
    {
     "name": "stderr",
     "output_type": "stream",
     "text": [
      "C:\\Users\\teddy\\miniconda3\\envs\\NLP_env\\lib\\site-packages\\spacy\\training\\iob_utils.py:141: UserWarning: [W030] Some entities could not be aligned in the text \"Keshav Dhawale\n",
      "3 TCS Security guard Access Control...\" with entities \"[(145, 189, 'Email Address'), (971, 1015, 'Email A...\". Use `spacy.training.offsets_to_biluo_tags(nlp.make_doc(text), entities)` to check the alignment. Misaligned entities ('-') will be ignored during training.\n",
      "  warnings.warn(\n"
     ]
    },
    {
     "name": "stdout",
     "output_type": "stream",
     "text": [
      "{'ner': 5256.316412694878}\n"
     ]
    },
    {
     "name": "stderr",
     "output_type": "stream",
     "text": [
      "C:\\Users\\teddy\\miniconda3\\envs\\NLP_env\\lib\\site-packages\\spacy\\training\\iob_utils.py:141: UserWarning: [W030] Some entities could not be aligned in the text \"Mohamed Ameen\n",
      "System engineer\n",
      "\n",
      "Bengaluru, Karnatak...\" with entities \"[(319, 340, 'Designation'), (0, 13, 'Name'), (885,...\". Use `spacy.training.offsets_to_biluo_tags(nlp.make_doc(text), entities)` to check the alignment. Misaligned entities ('-') will be ignored during training.\n",
      "  warnings.warn(\n"
     ]
    },
    {
     "name": "stdout",
     "output_type": "stream",
     "text": [
      "{'ner': 5470.463608366097}\n"
     ]
    },
    {
     "name": "stderr",
     "output_type": "stream",
     "text": [
      "C:\\Users\\teddy\\miniconda3\\envs\\NLP_env\\lib\\site-packages\\spacy\\training\\iob_utils.py:141: UserWarning: [W030] Some entities could not be aligned in the text \"Pranay Sathu\n",
      "Software Test Automation Engineer\n",
      "\n",
      "Hy...\" with entities \"[(48, 57, 'Location'), (91, 134, 'Email Address'),...\". Use `spacy.training.offsets_to_biluo_tags(nlp.make_doc(text), entities)` to check the alignment. Misaligned entities ('-') will be ignored during training.\n",
      "  warnings.warn(\n"
     ]
    },
    {
     "name": "stdout",
     "output_type": "stream",
     "text": [
      "{'ner': 5478.069253075449}\n"
     ]
    },
    {
     "name": "stderr",
     "output_type": "stream",
     "text": [
      "C:\\Users\\teddy\\miniconda3\\envs\\NLP_env\\lib\\site-packages\\spacy\\training\\iob_utils.py:141: UserWarning: [W030] Some entities could not be aligned in the text \"Krishna Prasad\n",
      "Patna, Bihar - Email me on Indeed: ...\" with entities \"[(236, 253, 'College Name'), (15, 20, 'Location'),...\". Use `spacy.training.offsets_to_biluo_tags(nlp.make_doc(text), entities)` to check the alignment. Misaligned entities ('-') will be ignored during training.\n",
      "  warnings.warn(\n"
     ]
    },
    {
     "name": "stdout",
     "output_type": "stream",
     "text": [
      "{'ner': 5495.642197216368}\n"
     ]
    },
    {
     "name": "stderr",
     "output_type": "stream",
     "text": [
      "C:\\Users\\teddy\\miniconda3\\envs\\NLP_env\\lib\\site-packages\\spacy\\training\\iob_utils.py:141: UserWarning: [W030] Some entities could not be aligned in the text \"Venkateswara D\n",
      "specialist - Technology Process\n",
      "\n",
      "IN...\" with entities \"[(73, 118, 'Email Address'), (7853, 7856, 'Degree'...\". Use `spacy.training.offsets_to_biluo_tags(nlp.make_doc(text), entities)` to check the alignment. Misaligned entities ('-') will be ignored during training.\n",
      "  warnings.warn(\n"
     ]
    },
    {
     "name": "stdout",
     "output_type": "stream",
     "text": [
      "{'ner': 5507.57081656984}\n",
      "{'ner': 5521.49880134382}\n"
     ]
    },
    {
     "name": "stderr",
     "output_type": "stream",
     "text": [
      "C:\\Users\\teddy\\miniconda3\\envs\\NLP_env\\lib\\site-packages\\spacy\\training\\iob_utils.py:141: UserWarning: [W030] Some entities could not be aligned in the text \"Divesh Singh\n",
      "Bengaluru, Karnataka - Email me on In...\" with entities \"[(527, 536, 'Companies worked at'), (947, 1180, 'S...\". Use `spacy.training.offsets_to_biluo_tags(nlp.make_doc(text), entities)` to check the alignment. Misaligned entities ('-') will be ignored during training.\n",
      "  warnings.warn(\n",
      "C:\\Users\\teddy\\miniconda3\\envs\\NLP_env\\lib\\site-packages\\spacy\\training\\iob_utils.py:141: UserWarning: [W030] Some entities could not be aligned in the text \"Saurabh Saurabh\n",
      "Bengaluru, Karnataka - Email me on...\" with entities \"[(331, 335, 'Graduation Year'), (345, 382, 'Skills...\". Use `spacy.training.offsets_to_biluo_tags(nlp.make_doc(text), entities)` to check the alignment. Misaligned entities ('-') will be ignored during training.\n",
      "  warnings.warn(\n",
      "C:\\Users\\teddy\\miniconda3\\envs\\NLP_env\\lib\\site-packages\\spacy\\training\\iob_utils.py:141: UserWarning: [W030] Some entities could not be aligned in the text \"Saurabh Saurabh\n",
      "Bengaluru, Karnataka - Email me on...\" with entities \"[(295, 305, 'Companies worked at')]\". Use `spacy.training.offsets_to_biluo_tags(nlp.make_doc(text), entities)` to check the alignment. Misaligned entities ('-') will be ignored during training.\n",
      "  warnings.warn(\n"
     ]
    },
    {
     "name": "stdout",
     "output_type": "stream",
     "text": [
      "{'ner': 5531.473653526936}\n"
     ]
    },
    {
     "name": "stderr",
     "output_type": "stream",
     "text": [
      "C:\\Users\\teddy\\miniconda3\\envs\\NLP_env\\lib\\site-packages\\spacy\\training\\iob_utils.py:141: UserWarning: [W030] Some entities could not be aligned in the text \"Suresh Kanagala\n",
      "Architecture SharePoint/Office 365...\" with entities \"[(887, 923, 'Degree'), (313, 317, 'Companies worke...\". Use `spacy.training.offsets_to_biluo_tags(nlp.make_doc(text), entities)` to check the alignment. Misaligned entities ('-') will be ignored during training.\n",
      "  warnings.warn(\n"
     ]
    },
    {
     "name": "stdout",
     "output_type": "stream",
     "text": [
      "{'ner': 5549.439583680161}\n"
     ]
    },
    {
     "name": "stderr",
     "output_type": "stream",
     "text": [
      "C:\\Users\\teddy\\miniconda3\\envs\\NLP_env\\lib\\site-packages\\spacy\\training\\iob_utils.py:141: UserWarning: [W030] Some entities could not be aligned in the text \"Govardhana K\n",
      "Senior Software Engineer\n",
      "\n",
      "Bengaluru, ...\" with entities \"[(1136, 1248, 'Skills'), (744, 750, 'Companies wor...\". Use `spacy.training.offsets_to_biluo_tags(nlp.make_doc(text), entities)` to check the alignment. Misaligned entities ('-') will be ignored during training.\n",
      "  warnings.warn(\n"
     ]
    },
    {
     "name": "stdout",
     "output_type": "stream",
     "text": [
      "{'ner': 5591.281128630849}\n",
      "{'ner': 5613.249119457016}\n"
     ]
    },
    {
     "name": "stderr",
     "output_type": "stream",
     "text": [
      "C:\\Users\\teddy\\miniconda3\\envs\\NLP_env\\lib\\site-packages\\spacy\\training\\iob_utils.py:141: UserWarning: [W030] Some entities could not be aligned in the text \"Pawan Nag\n",
      "Microsoft Certified System Engineer\n",
      "\n",
      "Del...\" with entities \"[(20, 45, 'Designation'), (82, 121, 'Email Address...\". Use `spacy.training.offsets_to_biluo_tags(nlp.make_doc(text), entities)` to check the alignment. Misaligned entities ('-') will be ignored during training.\n",
      "  warnings.warn(\n",
      "C:\\Users\\teddy\\miniconda3\\envs\\NLP_env\\lib\\site-packages\\spacy\\training\\iob_utils.py:141: UserWarning: [W030] Some entities could not be aligned in the text \"Viny Khandelwal\n",
      "Self-employed in Family Business -...\" with entities \"[(3375, 3390, 'Name'), (66, 71, 'Location'), (51, ...\". Use `spacy.training.offsets_to_biluo_tags(nlp.make_doc(text), entities)` to check the alignment. Misaligned entities ('-') will be ignored during training.\n",
      "  warnings.warn(\n"
     ]
    },
    {
     "name": "stdout",
     "output_type": "stream",
     "text": [
      "{'ner': 5625.245128453787}\n"
     ]
    },
    {
     "name": "stderr",
     "output_type": "stream",
     "text": [
      "C:\\Users\\teddy\\miniconda3\\envs\\NLP_env\\lib\\site-packages\\spacy\\training\\iob_utils.py:141: UserWarning: [W030] Some entities could not be aligned in the text \"Sudaya Puranik\n",
      "Principal Engineer Technical Staff ...\" with entities \"[(303, 312, 'Location'), (2436, 2505, 'Degree'), (...\". Use `spacy.training.offsets_to_biluo_tags(nlp.make_doc(text), entities)` to check the alignment. Misaligned entities ('-') will be ignored during training.\n",
      "  warnings.warn(\n"
     ]
    },
    {
     "name": "stdout",
     "output_type": "stream",
     "text": [
      "{'ner': 5644.672146149313}\n"
     ]
    },
    {
     "name": "stderr",
     "output_type": "stream",
     "text": [
      "C:\\Users\\teddy\\miniconda3\\envs\\NLP_env\\lib\\site-packages\\spacy\\training\\iob_utils.py:141: UserWarning: [W030] Some entities could not be aligned in the text \"Nikhileshkumar Ikhar\n",
      "Product development engineer ...\" with entities \"[(2507, 2511, 'Graduation Year'), (2477, 2482, 'Co...\". Use `spacy.training.offsets_to_biluo_tags(nlp.make_doc(text), entities)` to check the alignment. Misaligned entities ('-') will be ignored during training.\n",
      "  warnings.warn(\n"
     ]
    },
    {
     "name": "stdout",
     "output_type": "stream",
     "text": [
      "{'ner': 5691.512216157561}\n"
     ]
    },
    {
     "name": "stderr",
     "output_type": "stream",
     "text": [
      "C:\\Users\\teddy\\miniconda3\\envs\\NLP_env\\lib\\site-packages\\spacy\\training\\iob_utils.py:141: UserWarning: [W030] Some entities could not be aligned in the text \"Hemil Bhavsar\n",
      "Jr. ASP.NET Developer in True Vision...\" with entities \"[(520, 542, 'College Name'), (1085, 1500, 'Skills'...\". Use `spacy.training.offsets_to_biluo_tags(nlp.make_doc(text), entities)` to check the alignment. Misaligned entities ('-') will be ignored during training.\n",
      "  warnings.warn(\n"
     ]
    },
    {
     "name": "stdout",
     "output_type": "stream",
     "text": [
      "{'ner': 5711.268562196376}\n"
     ]
    },
    {
     "name": "stderr",
     "output_type": "stream",
     "text": [
      "C:\\Users\\teddy\\miniconda3\\envs\\NLP_env\\lib\\site-packages\\spacy\\training\\iob_utils.py:141: UserWarning: [W030] Some entities could not be aligned in the text \"Nitin Verma\n",
      "Assisting Microsoft Partners - Exchang...\" with entities \"[(0, 11, 'Name'), (1258, 1273, 'Companies worked a...\". Use `spacy.training.offsets_to_biluo_tags(nlp.make_doc(text), entities)` to check the alignment. Misaligned entities ('-') will be ignored during training.\n",
      "  warnings.warn(\n"
     ]
    },
    {
     "name": "stdout",
     "output_type": "stream",
     "text": [
      "{'ner': 5726.676045748208}\n"
     ]
    },
    {
     "name": "stderr",
     "output_type": "stream",
     "text": [
      "C:\\Users\\teddy\\miniconda3\\envs\\NLP_env\\lib\\site-packages\\spacy\\training\\iob_utils.py:141: UserWarning: [W030] Some entities could not be aligned in the text \"Kartik Sharma\n",
      "Systems Engineer - Infosys Ltd\n",
      "\n",
      "Delh...\" with entities \"[(837, 849, 'Skills'), (2846, 2868, 'Degree'), (29...\". Use `spacy.training.offsets_to_biluo_tags(nlp.make_doc(text), entities)` to check the alignment. Misaligned entities ('-') will be ignored during training.\n",
      "  warnings.warn(\n"
     ]
    },
    {
     "name": "stdout",
     "output_type": "stream",
     "text": [
      "{'ner': 5978.806049221646}\n"
     ]
    },
    {
     "name": "stderr",
     "output_type": "stream",
     "text": [
      "C:\\Users\\teddy\\miniconda3\\envs\\NLP_env\\lib\\site-packages\\spacy\\training\\iob_utils.py:141: UserWarning: [W030] Some entities could not be aligned in the text \"Akila Mohideen\n",
      "System Engineer, Infosys Limited, I...\" with entities \"[(226, 241, 'Companies worked at'), (1945, 1993, '...\". Use `spacy.training.offsets_to_biluo_tags(nlp.make_doc(text), entities)` to check the alignment. Misaligned entities ('-') will be ignored during training.\n",
      "  warnings.warn(\n"
     ]
    },
    {
     "name": "stdout",
     "output_type": "stream",
     "text": [
      "{'ner': 6000.008006292407}\n"
     ]
    },
    {
     "name": "stderr",
     "output_type": "stream",
     "text": [
      "C:\\Users\\teddy\\miniconda3\\envs\\NLP_env\\lib\\site-packages\\spacy\\training\\iob_utils.py:141: UserWarning: [W030] Some entities could not be aligned in the text \"Zaheer Uddin\n",
      "Technical Project Manager\n",
      "\n",
      "Hyderabad,...\" with entities \"[(1404, 1415, 'Companies worked at'), (1369, 1402,...\". Use `spacy.training.offsets_to_biluo_tags(nlp.make_doc(text), entities)` to check the alignment. Misaligned entities ('-') will be ignored during training.\n",
      "  warnings.warn(\n"
     ]
    },
    {
     "name": "stdout",
     "output_type": "stream",
     "text": [
      "{'ner': 6009.726767775704}\n",
      "{'ner': 6016.876413250053}\n"
     ]
    },
    {
     "name": "stderr",
     "output_type": "stream",
     "text": [
      "C:\\Users\\teddy\\miniconda3\\envs\\NLP_env\\lib\\site-packages\\spacy\\training\\iob_utils.py:141: UserWarning: [W030] Some entities could not be aligned in the text \"Sameer Kujur\n",
      "Orrisha - Email me on Indeed: indeed....\" with entities \"[(189, 201, 'College Name'), (117, 126, 'Companies...\". Use `spacy.training.offsets_to_biluo_tags(nlp.make_doc(text), entities)` to check the alignment. Misaligned entities ('-') will be ignored during training.\n",
      "  warnings.warn(\n",
      "C:\\Users\\teddy\\miniconda3\\envs\\NLP_env\\lib\\site-packages\\spacy\\training\\iob_utils.py:141: UserWarning: [W030] Some entities could not be aligned in the text \"Rahul Bollu\n",
      "Software Engineer - Disney\n",
      "\n",
      "Hyderabad,...\" with entities \"[(3940, 4089, 'Skills'), (12, 29, 'Designation'), ...\". Use `spacy.training.offsets_to_biluo_tags(nlp.make_doc(text), entities)` to check the alignment. Misaligned entities ('-') will be ignored during training.\n",
      "  warnings.warn(\n"
     ]
    },
    {
     "name": "stdout",
     "output_type": "stream",
     "text": [
      "{'ner': 6040.459752454043}\n"
     ]
    },
    {
     "name": "stderr",
     "output_type": "stream",
     "text": [
      "C:\\Users\\teddy\\miniconda3\\envs\\NLP_env\\lib\\site-packages\\spacy\\training\\iob_utils.py:141: UserWarning: [W030] Some entities could not be aligned in the text \"Akshay Dubey\n",
      "Actively looking for opportunity in ....\" with entities \"[(1909, 1951, 'Email Address'), (2734, 2846, 'Skil...\". Use `spacy.training.offsets_to_biluo_tags(nlp.make_doc(text), entities)` to check the alignment. Misaligned entities ('-') will be ignored during training.\n",
      "  warnings.warn(\n"
     ]
    },
    {
     "name": "stdout",
     "output_type": "stream",
     "text": [
      "{'ner': 6050.336695993011}\n"
     ]
    },
    {
     "name": "stderr",
     "output_type": "stream",
     "text": [
      "C:\\Users\\teddy\\miniconda3\\envs\\NLP_env\\lib\\site-packages\\spacy\\training\\iob_utils.py:141: UserWarning: [W030] Some entities could not be aligned in the text \"Avani Priya\n",
      "- Email me on Indeed: indeed.com/r/Ava...\" with entities \"[(34, 75, 'Email Address'), (0, 11, 'Name'), (94, ...\". Use `spacy.training.offsets_to_biluo_tags(nlp.make_doc(text), entities)` to check the alignment. Misaligned entities ('-') will be ignored during training.\n",
      "  warnings.warn(\n"
     ]
    },
    {
     "name": "stdout",
     "output_type": "stream",
     "text": [
      "{'ner': 6058.286472915603}\n"
     ]
    },
    {
     "name": "stderr",
     "output_type": "stream",
     "text": [
      "C:\\Users\\teddy\\miniconda3\\envs\\NLP_env\\lib\\site-packages\\spacy\\training\\iob_utils.py:141: UserWarning: [W030] Some entities could not be aligned in the text \"Vamsi krishna\n",
      "hyderbad, Telangana - Email me on In...\" with entities \"[(226, 229, 'Degree'), (183, 192, 'Companies worke...\". Use `spacy.training.offsets_to_biluo_tags(nlp.make_doc(text), entities)` to check the alignment. Misaligned entities ('-') will be ignored during training.\n",
      "  warnings.warn(\n"
     ]
    },
    {
     "name": "stdout",
     "output_type": "stream",
     "text": [
      "{'ner': 6072.128418845229}\n"
     ]
    },
    {
     "name": "stderr",
     "output_type": "stream",
     "text": [
      "C:\\Users\\teddy\\miniconda3\\envs\\NLP_env\\lib\\site-packages\\spacy\\training\\iob_utils.py:141: UserWarning: [W030] Some entities could not be aligned in the text \"Gaurav Soni\n",
      "New Delhi, Delhi - Email me on Indeed:...\" with entities \"[(151, 155, 'Graduation Year'), (907, 911, 'Gradua...\". Use `spacy.training.offsets_to_biluo_tags(nlp.make_doc(text), entities)` to check the alignment. Misaligned entities ('-') will be ignored during training.\n",
      "  warnings.warn(\n"
     ]
    },
    {
     "name": "stdout",
     "output_type": "stream",
     "text": [
      "{'ner': 6149.750468013463}\n"
     ]
    },
    {
     "name": "stderr",
     "output_type": "stream",
     "text": [
      "C:\\Users\\teddy\\miniconda3\\envs\\NLP_env\\lib\\site-packages\\spacy\\training\\iob_utils.py:141: UserWarning: [W030] Some entities could not be aligned in the text \"Akash Gulhane\n",
      "Microsoft Certified System Engineer\n",
      "...\" with entities \"[(913, 921, 'Location'), (95, 139, 'Email Address'...\". Use `spacy.training.offsets_to_biluo_tags(nlp.make_doc(text), entities)` to check the alignment. Misaligned entities ('-') will be ignored during training.\n",
      "  warnings.warn(\n"
     ]
    },
    {
     "name": "stdout",
     "output_type": "stream",
     "text": [
      "{'ner': 6161.658984429806}\n",
      "{'ner': 6185.596386838866}\n"
     ]
    },
    {
     "name": "stderr",
     "output_type": "stream",
     "text": [
      "C:\\Users\\teddy\\miniconda3\\envs\\NLP_env\\lib\\site-packages\\spacy\\training\\iob_utils.py:141: UserWarning: [W030] Some entities could not be aligned in the text \"Karthik Gururaj\n",
      "Technical Lead at Infosys Ltd. - P...\" with entities \"[(2773, 2813, 'Degree'), (1718, 1729, 'Companies w...\". Use `spacy.training.offsets_to_biluo_tags(nlp.make_doc(text), entities)` to check the alignment. Misaligned entities ('-') will be ignored during training.\n",
      "  warnings.warn(\n"
     ]
    },
    {
     "name": "stdout",
     "output_type": "stream",
     "text": [
      "{'ner': 6201.511318767655}\n",
      "{'ner': 6215.465800675252}\n"
     ]
    },
    {
     "name": "stderr",
     "output_type": "stream",
     "text": [
      "C:\\Users\\teddy\\miniconda3\\envs\\NLP_env\\lib\\site-packages\\spacy\\training\\iob_utils.py:141: UserWarning: [W030] Some entities could not be aligned in the text \"pradeep chauhan\n",
      "pradeep chauhan\n",
      "\n",
      "Noida, Uttar Prad...\" with entities \"[(33, 38, 'Location'), (268, 294, 'Degree'), (0, 1...\". Use `spacy.training.offsets_to_biluo_tags(nlp.make_doc(text), entities)` to check the alignment. Misaligned entities ('-') will be ignored during training.\n",
      "  warnings.warn(\n",
      "C:\\Users\\teddy\\miniconda3\\envs\\NLP_env\\lib\\site-packages\\spacy\\training\\iob_utils.py:141: UserWarning: [W030] Some entities could not be aligned in the text \"Karthik G V\n",
      "Program Manager, Product Manager, Prod...\" with entities \"[(1467, 1476, 'Companies worked at'), (12, 28, 'De...\". Use `spacy.training.offsets_to_biluo_tags(nlp.make_doc(text), entities)` to check the alignment. Misaligned entities ('-') will be ignored during training.\n",
      "  warnings.warn(\n"
     ]
    },
    {
     "name": "stdout",
     "output_type": "stream",
     "text": [
      "{'ner': 6227.410733029018}\n"
     ]
    },
    {
     "name": "stderr",
     "output_type": "stream",
     "text": [
      "C:\\Users\\teddy\\miniconda3\\envs\\NLP_env\\lib\\site-packages\\spacy\\training\\iob_utils.py:141: UserWarning: [W030] Some entities could not be aligned in the text \"Yogi Pesaru\n",
      "Developer - Infosys Limited\n",
      "\n",
      "Hyderabad...\" with entities \"[(3569, 3617, 'Skills'), (1811, 1827, 'Companies w...\". Use `spacy.training.offsets_to_biluo_tags(nlp.make_doc(text), entities)` to check the alignment. Misaligned entities ('-') will be ignored during training.\n",
      "  warnings.warn(\n"
     ]
    },
    {
     "name": "stdout",
     "output_type": "stream",
     "text": [
      "{'ner': 6258.732064266102}\n",
      "{'ner': 6272.642163433733}\n"
     ]
    },
    {
     "name": "stderr",
     "output_type": "stream",
     "text": [
      "C:\\Users\\teddy\\miniconda3\\envs\\NLP_env\\lib\\site-packages\\spacy\\training\\iob_utils.py:141: UserWarning: [W030] Some entities could not be aligned in the text \"Ramesh chokkala\n",
      "Telangana - Email me on Indeed: in...\" with entities \"[(250, 278, 'College Name'), (0, 15, 'Name'), (48,...\". Use `spacy.training.offsets_to_biluo_tags(nlp.make_doc(text), entities)` to check the alignment. Misaligned entities ('-') will be ignored during training.\n",
      "  warnings.warn(\n",
      "C:\\Users\\teddy\\miniconda3\\envs\\NLP_env\\lib\\site-packages\\spacy\\training\\iob_utils.py:141: UserWarning: [W030] Some entities could not be aligned in the text \"Mohini Gupta\n",
      "Server Support Engineer\n",
      "\n",
      "Gurgaon, Har...\" with entities \"[(38, 45, 'Location'), (13, 36, 'Designation'), (1...\". Use `spacy.training.offsets_to_biluo_tags(nlp.make_doc(text), entities)` to check the alignment. Misaligned entities ('-') will be ignored during training.\n",
      "  warnings.warn(\n"
     ]
    },
    {
     "name": "stdout",
     "output_type": "stream",
     "text": [
      "{'ner': 6294.486758924424}\n"
     ]
    },
    {
     "name": "stderr",
     "output_type": "stream",
     "text": [
      "C:\\Users\\teddy\\miniconda3\\envs\\NLP_env\\lib\\site-packages\\spacy\\training\\iob_utils.py:141: UserWarning: [W030] Some entities could not be aligned in the text \"Soumya Balan\n",
      "IT SUPPORT\n",
      "\n",
      "Sulthan Bathery, Kerala, ...\" with entities \"[(3684, 3725, 'College Name'), (4167, 4176, 'Compa...\". Use `spacy.training.offsets_to_biluo_tags(nlp.make_doc(text), entities)` to check the alignment. Misaligned entities ('-') will be ignored during training.\n",
      "  warnings.warn(\n",
      "C:\\Users\\teddy\\miniconda3\\envs\\NLP_env\\lib\\site-packages\\spacy\\training\\iob_utils.py:141: UserWarning: [W030] Some entities could not be aligned in the text \"Soumya Balan\n",
      "IT SUPPORT\n",
      "\n",
      "Sulthan Bathery, Kerala, ...\" with entities \"[(3898, 3903, 'Graduation Year'), (3939, 3948, 'Co...\". Use `spacy.training.offsets_to_biluo_tags(nlp.make_doc(text), entities)` to check the alignment. Misaligned entities ('-') will be ignored during training.\n",
      "  warnings.warn(\n"
     ]
    },
    {
     "name": "stdout",
     "output_type": "stream",
     "text": [
      "{'ner': 6328.157019450789}\n"
     ]
    },
    {
     "name": "stderr",
     "output_type": "stream",
     "text": [
      "C:\\Users\\teddy\\miniconda3\\envs\\NLP_env\\lib\\site-packages\\spacy\\training\\iob_utils.py:141: UserWarning: [W030] Some entities could not be aligned in the text \"Ram Edupuganti\n",
      "Software Development Director - Ora...\" with entities \"[(15, 44, 'Designation'), (1678, 1688, 'Companies ...\". Use `spacy.training.offsets_to_biluo_tags(nlp.make_doc(text), entities)` to check the alignment. Misaligned entities ('-') will be ignored during training.\n",
      "  warnings.warn(\n",
      "C:\\Users\\teddy\\miniconda3\\envs\\NLP_env\\lib\\site-packages\\spacy\\training\\iob_utils.py:141: UserWarning: [W030] Some entities could not be aligned in the text \"Ram Edupuganti\n",
      "Software Development Director - Ora...\" with entities \"[(15, 45, 'Designation')]\". Use `spacy.training.offsets_to_biluo_tags(nlp.make_doc(text), entities)` to check the alignment. Misaligned entities ('-') will be ignored during training.\n",
      "  warnings.warn(\n"
     ]
    },
    {
     "name": "stdout",
     "output_type": "stream",
     "text": [
      "{'ner': 6363.080383397144}\n"
     ]
    },
    {
     "name": "stderr",
     "output_type": "stream",
     "text": [
      "C:\\Users\\teddy\\miniconda3\\envs\\NLP_env\\lib\\site-packages\\spacy\\training\\iob_utils.py:141: UserWarning: [W030] Some entities could not be aligned in the text \"Prabhu Prasad Mohapatra\n",
      "Need job urgently\n",
      "\n",
      "Bhubane...\" with entities \"[(310, 332, 'Skills'), (158, 169, 'Designation'), ...\". Use `spacy.training.offsets_to_biluo_tags(nlp.make_doc(text), entities)` to check the alignment. Misaligned entities ('-') will be ignored during training.\n",
      "  warnings.warn(\n"
     ]
    },
    {
     "name": "stdout",
     "output_type": "stream",
     "text": [
      "{'ner': 6375.990933817492}\n"
     ]
    },
    {
     "name": "stderr",
     "output_type": "stream",
     "text": [
      "C:\\Users\\teddy\\miniconda3\\envs\\NLP_env\\lib\\site-packages\\spacy\\training\\iob_utils.py:141: UserWarning: [W030] Some entities could not be aligned in the text \"Mayank Shukla\n",
      "Infosys group as a Test Analyst - In...\" with entities \"[(2324, 2328, 'Graduation Year'), (0, 13, 'Name'),...\". Use `spacy.training.offsets_to_biluo_tags(nlp.make_doc(text), entities)` to check the alignment. Misaligned entities ('-') will be ignored during training.\n",
      "  warnings.warn(\n"
     ]
    },
    {
     "name": "stdout",
     "output_type": "stream",
     "text": [
      "{'ner': 6517.644227974115}\n"
     ]
    },
    {
     "name": "stderr",
     "output_type": "stream",
     "text": [
      "C:\\Users\\teddy\\miniconda3\\envs\\NLP_env\\lib\\site-packages\\spacy\\training\\iob_utils.py:141: UserWarning: [W030] Some entities could not be aligned in the text \"Shiksha Bhatnagar\n",
      "chnadigarh - Email me on Indeed:...\" with entities \"[(497, 507, 'Companies worked at'), (18, 28, 'Loca...\". Use `spacy.training.offsets_to_biluo_tags(nlp.make_doc(text), entities)` to check the alignment. Misaligned entities ('-') will be ignored during training.\n",
      "  warnings.warn(\n"
     ]
    },
    {
     "name": "stdout",
     "output_type": "stream",
     "text": [
      "{'ner': 6525.207785801652}\n"
     ]
    },
    {
     "name": "stderr",
     "output_type": "stream",
     "text": [
      "C:\\Users\\teddy\\miniconda3\\envs\\NLP_env\\lib\\site-packages\\spacy\\training\\iob_utils.py:141: UserWarning: [W030] Some entities could not be aligned in the text \"Dilliraja Baskaran\n",
      "Tamil Nadu - Email me on Indeed...\" with entities \"[(19, 29, 'Location'), (129, 137, 'Companies worke...\". Use `spacy.training.offsets_to_biluo_tags(nlp.make_doc(text), entities)` to check the alignment. Misaligned entities ('-') will be ignored during training.\n",
      "  warnings.warn(\n"
     ]
    },
    {
     "name": "stdout",
     "output_type": "stream",
     "text": [
      "{'ner': 6537.187309821242}\n"
     ]
    },
    {
     "name": "stderr",
     "output_type": "stream",
     "text": [
      "C:\\Users\\teddy\\miniconda3\\envs\\NLP_env\\lib\\site-packages\\spacy\\training\\iob_utils.py:141: UserWarning: [W030] Some entities could not be aligned in the text \"Saurabh Sandhikar\n",
      "SAURABH SANDHIKAR\n",
      "\n",
      "Hyderabad, Te...\" with entities \"[(2284, 2293, 'Companies worked at'), (1930, 2063,...\". Use `spacy.training.offsets_to_biluo_tags(nlp.make_doc(text), entities)` to check the alignment. Misaligned entities ('-') will be ignored during training.\n",
      "  warnings.warn(\n"
     ]
    },
    {
     "name": "stdout",
     "output_type": "stream",
     "text": [
      "{'ner': 6557.349724307401}\n"
     ]
    },
    {
     "name": "stderr",
     "output_type": "stream",
     "text": [
      "C:\\Users\\teddy\\miniconda3\\envs\\NLP_env\\lib\\site-packages\\spacy\\training\\iob_utils.py:141: UserWarning: [W030] Some entities could not be aligned in the text \"Tapan kumar Nayak\n",
      "Bhubaneshwar, Orissa - Email me ...\" with entities \"[(61, 110, 'Email Address'), (0, 17, 'Name'), (168...\". Use `spacy.training.offsets_to_biluo_tags(nlp.make_doc(text), entities)` to check the alignment. Misaligned entities ('-') will be ignored during training.\n",
      "  warnings.warn(\n"
     ]
    },
    {
     "name": "stdout",
     "output_type": "stream",
     "text": [
      "{'ner': 6566.936773240433}\n"
     ]
    },
    {
     "name": "stderr",
     "output_type": "stream",
     "text": [
      "C:\\Users\\teddy\\miniconda3\\envs\\NLP_env\\lib\\site-packages\\spacy\\training\\iob_utils.py:141: UserWarning: [W030] Some entities could not be aligned in the text \"Chhaya Prabhale\n",
      "Kharadi, Pune, 411014, IN - Email ...\" with entities \"[(1943, 2050, 'Skills'), (16, 23, 'Location'), (63...\". Use `spacy.training.offsets_to_biluo_tags(nlp.make_doc(text), entities)` to check the alignment. Misaligned entities ('-') will be ignored during training.\n",
      "  warnings.warn(\n"
     ]
    },
    {
     "name": "stdout",
     "output_type": "stream",
     "text": [
      "{'ner': 6573.799046946027}\n"
     ]
    },
    {
     "name": "stderr",
     "output_type": "stream",
     "text": [
      "C:\\Users\\teddy\\miniconda3\\envs\\NLP_env\\lib\\site-packages\\spacy\\training\\iob_utils.py:141: UserWarning: [W030] Some entities could not be aligned in the text \"Koushik Katta\n",
      "Devops\n",
      "\n",
      "Hyderabad, Telangana - Email...\" with entities \"[(2894, 2917, 'College Name'), (2823, 2854, 'Degre...\". Use `spacy.training.offsets_to_biluo_tags(nlp.make_doc(text), entities)` to check the alignment. Misaligned entities ('-') will be ignored during training.\n",
      "  warnings.warn(\n"
     ]
    },
    {
     "name": "stdout",
     "output_type": "stream",
     "text": [
      "{'ner': 6624.164056343352}\n"
     ]
    },
    {
     "name": "stderr",
     "output_type": "stream",
     "text": [
      "C:\\Users\\teddy\\miniconda3\\envs\\NLP_env\\lib\\site-packages\\spacy\\training\\iob_utils.py:141: UserWarning: [W030] Some entities could not be aligned in the text \"Kasturika Borah\n",
      "Team Member - Cisco\n",
      "\n",
      "Bengaluru, Ka...\" with entities \"[(1677, 1688, 'Designation'), (1233, 1238, 'Compan...\". Use `spacy.training.offsets_to_biluo_tags(nlp.make_doc(text), entities)` to check the alignment. Misaligned entities ('-') will be ignored during training.\n",
      "  warnings.warn(\n"
     ]
    },
    {
     "name": "stdout",
     "output_type": "stream",
     "text": [
      "{'ner': 6668.140443871206}\n"
     ]
    },
    {
     "name": "stderr",
     "output_type": "stream",
     "text": [
      "C:\\Users\\teddy\\miniconda3\\envs\\NLP_env\\lib\\site-packages\\spacy\\training\\iob_utils.py:141: UserWarning: [W030] Some entities could not be aligned in the text \"Sivaganesh Selvakumar\n",
      "DevOps Consultant with Infos...\" with entities \"[(1915, 1931, 'Companies worked at'), (1934, 1941,...\". Use `spacy.training.offsets_to_biluo_tags(nlp.make_doc(text), entities)` to check the alignment. Misaligned entities ('-') will be ignored during training.\n",
      "  warnings.warn(\n"
     ]
    },
    {
     "name": "stdout",
     "output_type": "stream",
     "text": [
      "{'ner': 6680.05548378262}\n"
     ]
    },
    {
     "name": "stderr",
     "output_type": "stream",
     "text": [
      "C:\\Users\\teddy\\miniconda3\\envs\\NLP_env\\lib\\site-packages\\spacy\\training\\iob_utils.py:141: UserWarning: [W030] Some entities could not be aligned in the text \"Gunjan Nayyar\n",
      "Hoshiarpur, Punjab - Email me on Ind...\" with entities \"[(1234, 1277, 'Email Address'), (235, 243, 'Years ...\". Use `spacy.training.offsets_to_biluo_tags(nlp.make_doc(text), entities)` to check the alignment. Misaligned entities ('-') will be ignored during training.\n",
      "  warnings.warn(\n"
     ]
    },
    {
     "name": "stdout",
     "output_type": "stream",
     "text": [
      "{'ner': 6697.982855556204}\n"
     ]
    },
    {
     "name": "stderr",
     "output_type": "stream",
     "text": [
      "C:\\Users\\teddy\\miniconda3\\envs\\NLP_env\\lib\\site-packages\\spacy\\training\\iob_utils.py:141: UserWarning: [W030] Some entities could not be aligned in the text \"Rajeev Kumar\n",
      "Senior Associate Consultant - Infosys...\" with entities \"[(13, 40, 'Designation'), (1173, 1200, 'Designatio...\". Use `spacy.training.offsets_to_biluo_tags(nlp.make_doc(text), entities)` to check the alignment. Misaligned entities ('-') will be ignored during training.\n",
      "  warnings.warn(\n",
      "C:\\Users\\teddy\\miniconda3\\envs\\NLP_env\\lib\\site-packages\\spacy\\training\\iob_utils.py:141: UserWarning: [W030] Some entities could not be aligned in the text \"Rajeev Kumar\n",
      "Senior Associate Consultant - Infosys...\" with entities \"[(1180, 1201, 'Designation')]\". Use `spacy.training.offsets_to_biluo_tags(nlp.make_doc(text), entities)` to check the alignment. Misaligned entities ('-') will be ignored during training.\n",
      "  warnings.warn(\n"
     ]
    },
    {
     "name": "stdout",
     "output_type": "stream",
     "text": [
      "{'ner': 6709.939612279533}\n"
     ]
    },
    {
     "name": "stderr",
     "output_type": "stream",
     "text": [
      "C:\\Users\\teddy\\miniconda3\\envs\\NLP_env\\lib\\site-packages\\spacy\\training\\iob_utils.py:141: UserWarning: [W030] Some entities could not be aligned in the text \"Tanmoy Maity\n",
      "Kolkata, West Bengal - Email me on In...\" with entities \"[(202, 223, 'Companies worked at'), (134, 155, 'Co...\". Use `spacy.training.offsets_to_biluo_tags(nlp.make_doc(text), entities)` to check the alignment. Misaligned entities ('-') will be ignored during training.\n",
      "  warnings.warn(\n"
     ]
    },
    {
     "name": "stdout",
     "output_type": "stream",
     "text": [
      "{'ner': 6729.7793795571015}\n"
     ]
    },
    {
     "name": "stderr",
     "output_type": "stream",
     "text": [
      "C:\\Users\\teddy\\miniconda3\\envs\\NLP_env\\lib\\site-packages\\spacy\\training\\iob_utils.py:141: UserWarning: [W030] Some entities could not be aligned in the text \"Santosh Ganta\n",
      "Senior Systems Engineer - mainframe\n",
      "...\" with entities \"[(483, 525, 'College Name'), (0, 13, 'Name'), (608...\". Use `spacy.training.offsets_to_biluo_tags(nlp.make_doc(text), entities)` to check the alignment. Misaligned entities ('-') will be ignored during training.\n",
      "  warnings.warn(\n"
     ]
    },
    {
     "name": "stdout",
     "output_type": "stream",
     "text": [
      "{'ner': 6753.645991734202}\n"
     ]
    },
    {
     "name": "stderr",
     "output_type": "stream",
     "text": [
      "C:\\Users\\teddy\\miniconda3\\envs\\NLP_env\\lib\\site-packages\\spacy\\training\\iob_utils.py:141: UserWarning: [W030] Some entities could not be aligned in the text \"Ravi Shivgond\n",
      "Bidar, Karnataka - Email me on Indee...\" with entities \"[(338, 364, 'Designation'), (366, 370, 'Companies ...\". Use `spacy.training.offsets_to_biluo_tags(nlp.make_doc(text), entities)` to check the alignment. Misaligned entities ('-') will be ignored during training.\n",
      "  warnings.warn(\n"
     ]
    },
    {
     "name": "stdout",
     "output_type": "stream",
     "text": [
      "{'ner': 6773.333239144094}\n"
     ]
    },
    {
     "name": "stderr",
     "output_type": "stream",
     "text": [
      "C:\\Users\\teddy\\miniconda3\\envs\\NLP_env\\lib\\site-packages\\spacy\\training\\iob_utils.py:141: UserWarning: [W030] Some entities could not be aligned in the text \"Sowmya Karanth\n",
      "Finance Analyst\n",
      "\n",
      "Hyderabad, Telanga...\" with entities \"[(32, 41, 'Location'), (447, 467, 'Companies worke...\". Use `spacy.training.offsets_to_biluo_tags(nlp.make_doc(text), entities)` to check the alignment. Misaligned entities ('-') will be ignored during training.\n",
      "  warnings.warn(\n",
      "C:\\Users\\teddy\\miniconda3\\envs\\NLP_env\\lib\\site-packages\\spacy\\training\\iob_utils.py:141: UserWarning: [W030] Some entities could not be aligned in the text \"Sowmya Karanth\n",
      "Finance Analyst\n",
      "\n",
      "Hyderabad, Telanga...\" with entities \"[(1865, 1868, 'Skills'), (2058, 2074, 'Skills'), (...\". Use `spacy.training.offsets_to_biluo_tags(nlp.make_doc(text), entities)` to check the alignment. Misaligned entities ('-') will be ignored during training.\n",
      "  warnings.warn(\n"
     ]
    },
    {
     "name": "stdout",
     "output_type": "stream",
     "text": [
      "{'ner': 6808.836183942955}\n"
     ]
    },
    {
     "name": "stderr",
     "output_type": "stream",
     "text": [
      "C:\\Users\\teddy\\miniconda3\\envs\\NLP_env\\lib\\site-packages\\spacy\\training\\iob_utils.py:141: UserWarning: [W030] Some entities could not be aligned in the text \"B. Gokul\n",
      "Gokul, Uttar Pradesh - Email me on Indeed...\" with entities \"[(863, 868, 'Location'), (632, 651, 'College Name'...\". Use `spacy.training.offsets_to_biluo_tags(nlp.make_doc(text), entities)` to check the alignment. Misaligned entities ('-') will be ignored during training.\n",
      "  warnings.warn(\n",
      "C:\\Users\\teddy\\miniconda3\\envs\\NLP_env\\lib\\site-packages\\spacy\\training\\iob_utils.py:141: UserWarning: [W030] Some entities could not be aligned in the text \"B. Gokul\n",
      "Gokul, Uttar Pradesh - Email me on Indeed...\" with entities \"[(3, 8, 'Location'), (67, 72, 'Location'), (983, 9...\". Use `spacy.training.offsets_to_biluo_tags(nlp.make_doc(text), entities)` to check the alignment. Misaligned entities ('-') will be ignored during training.\n",
      "  warnings.warn(\n"
     ]
    },
    {
     "name": "stdout",
     "output_type": "stream",
     "text": [
      "{'ner': 6820.749710352136}\n"
     ]
    },
    {
     "name": "stderr",
     "output_type": "stream",
     "text": [
      "C:\\Users\\teddy\\miniconda3\\envs\\NLP_env\\lib\\site-packages\\spacy\\training\\iob_utils.py:141: UserWarning: [W030] Some entities could not be aligned in the text \"Sai Vivek Venkatraman\n",
      "Decisive, Data driven and re...\" with entities \"[(4973, 5039, 'Degree'), (1292, 1325, 'Designation...\". Use `spacy.training.offsets_to_biluo_tags(nlp.make_doc(text), entities)` to check the alignment. Misaligned entities ('-') will be ignored during training.\n",
      "  warnings.warn(\n"
     ]
    },
    {
     "name": "stdout",
     "output_type": "stream",
     "text": [
      "{'ner': 6855.996152173101}\n"
     ]
    },
    {
     "name": "stderr",
     "output_type": "stream",
     "text": [
      "C:\\Users\\teddy\\miniconda3\\envs\\NLP_env\\lib\\site-packages\\spacy\\training\\iob_utils.py:141: UserWarning: [W030] Some entities could not be aligned in the text \"Navas Koya\n",
      "Test Engineer\n",
      "\n",
      "Mangalore, Karnataka - E...\" with entities \"[(2110, 2404, 'Skills'), (2055, 2064, 'Location'),...\". Use `spacy.training.offsets_to_biluo_tags(nlp.make_doc(text), entities)` to check the alignment. Misaligned entities ('-') will be ignored during training.\n",
      "  warnings.warn(\n"
     ]
    },
    {
     "name": "stdout",
     "output_type": "stream",
     "text": [
      "{'ner': 6876.966193993476}\n"
     ]
    },
    {
     "name": "stderr",
     "output_type": "stream",
     "text": [
      "C:\\Users\\teddy\\miniconda3\\envs\\NLP_env\\lib\\site-packages\\spacy\\training\\iob_utils.py:141: UserWarning: [W030] Some entities could not be aligned in the text \"Pavithra M\n",
      "\"Infosys\" internship\n",
      "\n",
      "Bengaluru, Karnat...\" with entities \"[(432, 442, 'Designation'), (33, 42, 'Location'), ...\". Use `spacy.training.offsets_to_biluo_tags(nlp.make_doc(text), entities)` to check the alignment. Misaligned entities ('-') will be ignored during training.\n",
      "  warnings.warn(\n"
     ]
    },
    {
     "name": "stdout",
     "output_type": "stream",
     "text": [
      "{'ner': 6901.998197343697}\n"
     ]
    },
    {
     "name": "stderr",
     "output_type": "stream",
     "text": [
      "C:\\Users\\teddy\\miniconda3\\envs\\NLP_env\\lib\\site-packages\\spacy\\training\\iob_utils.py:141: UserWarning: [W030] Some entities could not be aligned in the text \"Shivam Sharma\n",
      "L1 Analyst in Microsoft project - HC...\" with entities \"[(1380, 1525, 'Skills'), (1287, 1296, 'Location'),...\". Use `spacy.training.offsets_to_biluo_tags(nlp.make_doc(text), entities)` to check the alignment. Misaligned entities ('-') will be ignored during training.\n",
      "  warnings.warn(\n"
     ]
    },
    {
     "name": "stdout",
     "output_type": "stream",
     "text": [
      "{'ner': 6916.3643136476185}\n"
     ]
    },
    {
     "name": "stderr",
     "output_type": "stream",
     "text": [
      "C:\\Users\\teddy\\miniconda3\\envs\\NLP_env\\lib\\site-packages\\spacy\\training\\iob_utils.py:141: UserWarning: [W030] Some entities could not be aligned in the text \"Somanath Behera\n",
      "Associate, Cognizant technology So...\" with entities \"[(113, 159, 'Email Address'), (1517, 1561, 'Degree...\". Use `spacy.training.offsets_to_biluo_tags(nlp.make_doc(text), entities)` to check the alignment. Misaligned entities ('-') will be ignored during training.\n",
      "  warnings.warn(\n"
     ]
    },
    {
     "name": "stdout",
     "output_type": "stream",
     "text": [
      "{'ner': 6928.9500277034585}\n"
     ]
    },
    {
     "name": "stderr",
     "output_type": "stream",
     "text": [
      "C:\\Users\\teddy\\miniconda3\\envs\\NLP_env\\lib\\site-packages\\spacy\\training\\iob_utils.py:141: UserWarning: [W030] Some entities could not be aligned in the text \"Dushyant Bhatt\n",
      "BI / Big Data/ Azure\n",
      "\n",
      "Hyderabad-Dec...\" with entities \"[(3495, 3504, 'Companies worked at'), (1887, 1896,...\". Use `spacy.training.offsets_to_biluo_tags(nlp.make_doc(text), entities)` to check the alignment. Misaligned entities ('-') will be ignored during training.\n",
      "  warnings.warn(\n"
     ]
    },
    {
     "name": "stdout",
     "output_type": "stream",
     "text": [
      "{'ner': 6965.760652443684}\n"
     ]
    },
    {
     "name": "stderr",
     "output_type": "stream",
     "text": [
      "C:\\Users\\teddy\\miniconda3\\envs\\NLP_env\\lib\\site-packages\\spacy\\training\\iob_utils.py:141: UserWarning: [W030] Some entities could not be aligned in the text \"Laya A\n",
      "Cluster HR Manager - Velammal New\n",
      "\n",
      "Chennai,...\" with entities \"[(28, 40, 'Companies worked at'), (0, 6, 'Name'), ...\". Use `spacy.training.offsets_to_biluo_tags(nlp.make_doc(text), entities)` to check the alignment. Misaligned entities ('-') will be ignored during training.\n",
      "  warnings.warn(\n"
     ]
    },
    {
     "name": "stdout",
     "output_type": "stream",
     "text": [
      "{'ner': 6973.709864919744}\n"
     ]
    },
    {
     "name": "stderr",
     "output_type": "stream",
     "text": [
      "C:\\Users\\teddy\\miniconda3\\envs\\NLP_env\\lib\\site-packages\\spacy\\training\\iob_utils.py:141: UserWarning: [W030] Some entities could not be aligned in the text \"Prasanna Ignatius\n",
      "MICROSOFT - Backup Administrator...\" with entities \"[(3716, 3727, 'Companies worked at'), (2112, 2121,...\". Use `spacy.training.offsets_to_biluo_tags(nlp.make_doc(text), entities)` to check the alignment. Misaligned entities ('-') will be ignored during training.\n",
      "  warnings.warn(\n"
     ]
    },
    {
     "name": "stdout",
     "output_type": "stream",
     "text": [
      "{'ner': 7018.775025196588}\n"
     ]
    },
    {
     "name": "stderr",
     "output_type": "stream",
     "text": [
      "C:\\Users\\teddy\\miniconda3\\envs\\NLP_env\\lib\\site-packages\\spacy\\training\\iob_utils.py:141: UserWarning: [W030] Some entities could not be aligned in the text \"Khushboo Choudhary\n",
      "Developer\n",
      "\n",
      "Noida, Uttar Pradesh...\" with entities \"[(1466, 1549, 'Skills'), (0, 18, 'Name'), (1025, 1...\". Use `spacy.training.offsets_to_biluo_tags(nlp.make_doc(text), entities)` to check the alignment. Misaligned entities ('-') will be ignored during training.\n",
      "  warnings.warn(\n"
     ]
    },
    {
     "name": "stdout",
     "output_type": "stream",
     "text": [
      "{'ner': 7046.851182166506}\n"
     ]
    },
    {
     "name": "stderr",
     "output_type": "stream",
     "text": [
      "C:\\Users\\teddy\\miniconda3\\envs\\NLP_env\\lib\\site-packages\\spacy\\training\\iob_utils.py:141: UserWarning: [W030] Some entities could not be aligned in the text \"Shreya Agnihotri\n",
      "Senior System Engineer at Infosys...\" with entities \"[(70, 79, 'Location'), (970, 1011, 'Designation'),...\". Use `spacy.training.offsets_to_biluo_tags(nlp.make_doc(text), entities)` to check the alignment. Misaligned entities ('-') will be ignored during training.\n",
      "  warnings.warn(\n",
      "C:\\Users\\teddy\\miniconda3\\envs\\NLP_env\\lib\\site-packages\\spacy\\training\\iob_utils.py:141: UserWarning: [W030] Some entities could not be aligned in the text \"Shreya Agnihotri\n",
      "Senior System Engineer at Infosys...\" with entities \"[(995, 1003, 'Companies worked at'), (1105, 1113, ...\". Use `spacy.training.offsets_to_biluo_tags(nlp.make_doc(text), entities)` to check the alignment. Misaligned entities ('-') will be ignored during training.\n",
      "  warnings.warn(\n"
     ]
    },
    {
     "name": "stdout",
     "output_type": "stream",
     "text": [
      "{'ner': 7062.787067107032}\n"
     ]
    },
    {
     "name": "stderr",
     "output_type": "stream",
     "text": [
      "C:\\Users\\teddy\\miniconda3\\envs\\NLP_env\\lib\\site-packages\\spacy\\training\\iob_utils.py:141: UserWarning: [W030] Some entities could not be aligned in the text \"Roshan Sinha\n",
      "Application Developer - SAP ABAP\n",
      "\n",
      "Kol...\" with entities \"[(1636, 1643, 'Location'), (1624, 1632, 'Companies...\". Use `spacy.training.offsets_to_biluo_tags(nlp.make_doc(text), entities)` to check the alignment. Misaligned entities ('-') will be ignored during training.\n",
      "  warnings.warn(\n",
      "C:\\Users\\teddy\\miniconda3\\envs\\NLP_env\\lib\\site-packages\\spacy\\training\\iob_utils.py:141: UserWarning: [W030] Some entities could not be aligned in the text \"Roshan Sinha\n",
      "Application Developer - SAP ABAP\n",
      "\n",
      "Kol...\" with entities \"[(13, 35, 'Designation'), (370, 392, 'Designation'...\". Use `spacy.training.offsets_to_biluo_tags(nlp.make_doc(text), entities)` to check the alignment. Misaligned entities ('-') will be ignored during training.\n",
      "  warnings.warn(\n"
     ]
    },
    {
     "name": "stdout",
     "output_type": "stream",
     "text": [
      "{'ner': 7144.663679856066}\n"
     ]
    },
    {
     "name": "stderr",
     "output_type": "stream",
     "text": [
      "C:\\Users\\teddy\\miniconda3\\envs\\NLP_env\\lib\\site-packages\\spacy\\training\\iob_utils.py:141: UserWarning: [W030] Some entities could not be aligned in the text \"Srinu Naik Ramavath\n",
      "anymore job\n",
      "\n",
      "Serilingampalle, ...\" with entities \"[(225, 242, 'Designation'), (596, 644, 'Skills'), ...\". Use `spacy.training.offsets_to_biluo_tags(nlp.make_doc(text), entities)` to check the alignment. Misaligned entities ('-') will be ignored during training.\n",
      "  warnings.warn(\n"
     ]
    },
    {
     "name": "stdout",
     "output_type": "stream",
     "text": [
      "{'ner': 7156.618945904299}\n"
     ]
    },
    {
     "name": "stderr",
     "output_type": "stream",
     "text": [
      "C:\\Users\\teddy\\miniconda3\\envs\\NLP_env\\lib\\site-packages\\spacy\\training\\iob_utils.py:141: UserWarning: [W030] Some entities could not be aligned in the text \"Imgeeyaul Ansari\n",
      "java developer\n",
      "\n",
      "Pune, Maharashtra...\" with entities \"[(145, 149, 'Location'), (1726, 1851, 'Skills'), (...\". Use `spacy.training.offsets_to_biluo_tags(nlp.make_doc(text), entities)` to check the alignment. Misaligned entities ('-') will be ignored during training.\n",
      "  warnings.warn(\n"
     ]
    },
    {
     "name": "stdout",
     "output_type": "stream",
     "text": [
      "{'ner': 7178.598159130361}\n"
     ]
    },
    {
     "name": "stderr",
     "output_type": "stream",
     "text": [
      "C:\\Users\\teddy\\miniconda3\\envs\\NLP_env\\lib\\site-packages\\spacy\\training\\iob_utils.py:141: UserWarning: [W030] Some entities could not be aligned in the text \"Shaik Tazuddin\n",
      "Senior Process Executive - STAR Ind...\" with entities \"[(387, 396, 'Location'), (2877, 3031, 'Skills'), (...\". Use `spacy.training.offsets_to_biluo_tags(nlp.make_doc(text), entities)` to check the alignment. Misaligned entities ('-') will be ignored during training.\n",
      "  warnings.warn(\n"
     ]
    },
    {
     "name": "stdout",
     "output_type": "stream",
     "text": [
      "{'ner': 7186.560441765366}\n"
     ]
    },
    {
     "name": "stderr",
     "output_type": "stream",
     "text": [
      "C:\\Users\\teddy\\miniconda3\\envs\\NLP_env\\lib\\site-packages\\spacy\\training\\iob_utils.py:141: UserWarning: [W030] Some entities could not be aligned in the text \"Shivasai Mantri\n",
      "Microsoft dynamics AX Technical co...\" with entities \"[(549, 582, 'Designation'), (755, 800, 'College Na...\". Use `spacy.training.offsets_to_biluo_tags(nlp.make_doc(text), entities)` to check the alignment. Misaligned entities ('-') will be ignored during training.\n",
      "  warnings.warn(\n"
     ]
    },
    {
     "name": "stdout",
     "output_type": "stream",
     "text": [
      "{'ner': 7202.275734890927}\n"
     ]
    },
    {
     "name": "stderr",
     "output_type": "stream",
     "text": [
      "C:\\Users\\teddy\\miniconda3\\envs\\NLP_env\\lib\\site-packages\\spacy\\training\\iob_utils.py:141: UserWarning: [W030] Some entities could not be aligned in the text \"Nidhi Pandit\n",
      "Test Engineer - Infosys Limited\n",
      "\n",
      "- Em...\" with entities \"[(0, 12, 'Name'), (13, 26, 'Designation'), (1656, ...\". Use `spacy.training.offsets_to_biluo_tags(nlp.make_doc(text), entities)` to check the alignment. Misaligned entities ('-') will be ignored during training.\n",
      "  warnings.warn(\n"
     ]
    },
    {
     "name": "stdout",
     "output_type": "stream",
     "text": [
      "{'ner': 7222.43630328493}\n"
     ]
    },
    {
     "name": "stderr",
     "output_type": "stream",
     "text": [
      "C:\\Users\\teddy\\miniconda3\\envs\\NLP_env\\lib\\site-packages\\spacy\\training\\iob_utils.py:141: UserWarning: [W030] Some entities could not be aligned in the text \"Manjari Singh\n",
      "Senior Software Analyst - Accenture\n",
      "...\" with entities \"[(6267, 6290, 'College Name'), (2987, 2996, 'Compa...\". Use `spacy.training.offsets_to_biluo_tags(nlp.make_doc(text), entities)` to check the alignment. Misaligned entities ('-') will be ignored during training.\n",
      "  warnings.warn(\n"
     ]
    },
    {
     "name": "stdout",
     "output_type": "stream",
     "text": [
      "{'ner': 7257.289990113264}\n"
     ]
    },
    {
     "name": "stderr",
     "output_type": "stream",
     "text": [
      "C:\\Users\\teddy\\miniconda3\\envs\\NLP_env\\lib\\site-packages\\spacy\\training\\iob_utils.py:141: UserWarning: [W030] Some entities could not be aligned in the text \"Ashish Indoriya\n",
      "Sr. Systems Engineer at Infosys Li...\" with entities \"[(3753, 3794, 'College Name'), (3559, 3589, 'Colle...\". Use `spacy.training.offsets_to_biluo_tags(nlp.make_doc(text), entities)` to check the alignment. Misaligned entities ('-') will be ignored during training.\n",
      "  warnings.warn(\n"
     ]
    },
    {
     "name": "stdout",
     "output_type": "stream",
     "text": [
      "{'ner': 7267.260797825034}\n"
     ]
    },
    {
     "name": "stderr",
     "output_type": "stream",
     "text": [
      "C:\\Users\\teddy\\miniconda3\\envs\\NLP_env\\lib\\site-packages\\spacy\\training\\iob_utils.py:141: UserWarning: [W030] Some entities could not be aligned in the text \"Syed Sadath ali\n",
      "Coimbatore - Email me on Indeed: i...\" with entities \"[(49, 95, 'Email Address'), (221, 246, 'Skills'), ...\". Use `spacy.training.offsets_to_biluo_tags(nlp.make_doc(text), entities)` to check the alignment. Misaligned entities ('-') will be ignored during training.\n",
      "  warnings.warn(\n"
     ]
    },
    {
     "name": "stdout",
     "output_type": "stream",
     "text": [
      "{'ner': 7278.656460619747}\n"
     ]
    },
    {
     "name": "stderr",
     "output_type": "stream",
     "text": [
      "C:\\Users\\teddy\\miniconda3\\envs\\NLP_env\\lib\\site-packages\\spacy\\training\\iob_utils.py:141: UserWarning: [W030] Some entities could not be aligned in the text \"Karthik GV\n",
      "Architect - Microsoft India\n",
      "\n",
      "Hyderabad,...\" with entities \"[(3804, 3820, 'Designation'), (187, 196, 'Designat...\". Use `spacy.training.offsets_to_biluo_tags(nlp.make_doc(text), entities)` to check the alignment. Misaligned entities ('-') will be ignored during training.\n",
      "  warnings.warn(\n"
     ]
    },
    {
     "name": "stdout",
     "output_type": "stream",
     "text": [
      "{'ner': 7320.048067884135}\n"
     ]
    },
    {
     "name": "stderr",
     "output_type": "stream",
     "text": [
      "C:\\Users\\teddy\\miniconda3\\envs\\NLP_env\\lib\\site-packages\\spacy\\training\\iob_utils.py:141: UserWarning: [W030] Some entities could not be aligned in the text \"Kavya U.\n",
      "Network Ops Associate - Accenture\n",
      "\n",
      "Bengal...\" with entities \"[(1666, 1670, 'Skills'), (1599, 1615, 'Skills'), (...\". Use `spacy.training.offsets_to_biluo_tags(nlp.make_doc(text), entities)` to check the alignment. Misaligned entities ('-') will be ignored during training.\n",
      "  warnings.warn(\n",
      "C:\\Users\\teddy\\miniconda3\\envs\\NLP_env\\lib\\site-packages\\spacy\\training\\iob_utils.py:141: UserWarning: [W030] Some entities could not be aligned in the text \"Kavya U.\n",
      "Network Ops Associate - Accenture\n",
      "\n",
      "Bengal...\" with entities \"[(1765, 1771, 'Skills'), (886, 897, 'Skills'), (11...\". Use `spacy.training.offsets_to_biluo_tags(nlp.make_doc(text), entities)` to check the alignment. Misaligned entities ('-') will be ignored during training.\n",
      "  warnings.warn(\n"
     ]
    },
    {
     "name": "stdout",
     "output_type": "stream",
     "text": [
      "{'ner': 7367.5971683350535}\n"
     ]
    },
    {
     "name": "stderr",
     "output_type": "stream",
     "text": [
      "C:\\Users\\teddy\\miniconda3\\envs\\NLP_env\\lib\\site-packages\\spacy\\training\\iob_utils.py:141: UserWarning: [W030] Some entities could not be aligned in the text \"Chaban kumar Debbarma\n",
      "Tripura - Email me on Indeed...\" with entities \"[(251, 255, 'Degree'), (0, 21, 'Name'), (139, 147,...\". Use `spacy.training.offsets_to_biluo_tags(nlp.make_doc(text), entities)` to check the alignment. Misaligned entities ('-') will be ignored during training.\n",
      "  warnings.warn(\n"
     ]
    },
    {
     "name": "stdout",
     "output_type": "stream",
     "text": [
      "{'ner': 7374.349828320688}\n"
     ]
    },
    {
     "name": "stderr",
     "output_type": "stream",
     "text": [
      "C:\\Users\\teddy\\miniconda3\\envs\\NLP_env\\lib\\site-packages\\spacy\\training\\iob_utils.py:141: UserWarning: [W030] Some entities could not be aligned in the text \"Arpit Godha\n",
      "Senior Process Executive\n",
      "\n",
      "Jaipur, Raja...\" with entities \"[(3144, 3495, 'Skills'), (78, 119, 'Email Address'...\". Use `spacy.training.offsets_to_biluo_tags(nlp.make_doc(text), entities)` to check the alignment. Misaligned entities ('-') will be ignored during training.\n",
      "  warnings.warn(\n"
     ]
    },
    {
     "name": "stdout",
     "output_type": "stream",
     "text": [
      "{'ner': 7382.038868053341}\n"
     ]
    },
    {
     "name": "stderr",
     "output_type": "stream",
     "text": [
      "C:\\Users\\teddy\\miniconda3\\envs\\NLP_env\\lib\\site-packages\\spacy\\training\\iob_utils.py:141: UserWarning: [W030] Some entities could not be aligned in the text \"Soumya Balan\n",
      "IT SUPPORT\n",
      "\n",
      "Sulthan Bathery, Kerala, ...\" with entities \"[(3880, 3884, 'Graduation Year'), (3644, 3683, 'De...\". Use `spacy.training.offsets_to_biluo_tags(nlp.make_doc(text), entities)` to check the alignment. Misaligned entities ('-') will be ignored during training.\n",
      "  warnings.warn(\n",
      "C:\\Users\\teddy\\miniconda3\\envs\\NLP_env\\lib\\site-packages\\spacy\\training\\iob_utils.py:141: UserWarning: [W030] Some entities could not be aligned in the text \"Pratibha P\n",
      "Principal Consultant at Oracle\n",
      "\n",
      "Bengalu...\" with entities \"[(3187, 3225, 'Degree'), (3276, 3313, 'College Nam...\". Use `spacy.training.offsets_to_biluo_tags(nlp.make_doc(text), entities)` to check the alignment. Misaligned entities ('-') will be ignored during training.\n",
      "  warnings.warn(\n"
     ]
    },
    {
     "name": "stdout",
     "output_type": "stream",
     "text": [
      "{'ner': 7382.038868053341}\n",
      "{'ner': 7451.13841235514}\n"
     ]
    },
    {
     "name": "stderr",
     "output_type": "stream",
     "text": [
      "C:\\Users\\teddy\\miniconda3\\envs\\NLP_env\\lib\\site-packages\\spacy\\training\\iob_utils.py:141: UserWarning: [W030] Some entities could not be aligned in the text \"Snehal Jadhav\n",
      "Mumbai, Maharashtra - Email me on In...\" with entities \"[(56, 99, 'Email Address'), (213, 219, 'Companies ...\". Use `spacy.training.offsets_to_biluo_tags(nlp.make_doc(text), entities)` to check the alignment. Misaligned entities ('-') will be ignored during training.\n",
      "  warnings.warn(\n",
      "C:\\Users\\teddy\\miniconda3\\envs\\NLP_env\\lib\\site-packages\\spacy\\training\\iob_utils.py:141: UserWarning: [W030] Some entities could not be aligned in the text \"Snehal Jadhav\n",
      "Mumbai, Maharashtra - Email me on In...\" with entities \"[(1794, 1800, 'Companies worked at'), (0, 14, 'Nam...\". Use `spacy.training.offsets_to_biluo_tags(nlp.make_doc(text), entities)` to check the alignment. Misaligned entities ('-') will be ignored during training.\n",
      "  warnings.warn(\n"
     ]
    },
    {
     "name": "stdout",
     "output_type": "stream",
     "text": [
      "{'ner': 7467.652979964374}\n"
     ]
    },
    {
     "name": "stderr",
     "output_type": "stream",
     "text": [
      "C:\\Users\\teddy\\miniconda3\\envs\\NLP_env\\lib\\site-packages\\spacy\\training\\iob_utils.py:141: UserWarning: [W030] Some entities could not be aligned in the text \"Puneet Singh\n",
      "Associate Software Engineer\n",
      "\n",
      "Bengalur...\" with entities \"[(919, 943, 'Skills'), (536, 547, 'Degree'), (13, ...\". Use `spacy.training.offsets_to_biluo_tags(nlp.make_doc(text), entities)` to check the alignment. Misaligned entities ('-') will be ignored during training.\n",
      "  warnings.warn(\n"
     ]
    },
    {
     "name": "stdout",
     "output_type": "stream",
     "text": [
      "{'ner': 7489.015265669719}\n"
     ]
    },
    {
     "name": "stderr",
     "output_type": "stream",
     "text": [
      "C:\\Users\\teddy\\miniconda3\\envs\\NLP_env\\lib\\site-packages\\spacy\\training\\iob_utils.py:141: UserWarning: [W030] Some entities could not be aligned in the text \"Ganesh AlalaSundaram\n",
      "A Dev-Test Professional with ...\" with entities \"[(3296, 3311, 'College Name'), (0, 20, 'Name'), (3...\". Use `spacy.training.offsets_to_biluo_tags(nlp.make_doc(text), entities)` to check the alignment. Misaligned entities ('-') will be ignored during training.\n",
      "  warnings.warn(\n"
     ]
    },
    {
     "name": "stdout",
     "output_type": "stream",
     "text": [
      "{'ner': 7496.442538915808}\n"
     ]
    },
    {
     "name": "stderr",
     "output_type": "stream",
     "text": [
      "C:\\Users\\teddy\\miniconda3\\envs\\NLP_env\\lib\\site-packages\\spacy\\training\\iob_utils.py:141: UserWarning: [W030] Some entities could not be aligned in the text \"Ramya. P\n",
      "Hyderabad, Telangana - Email me on Indeed...\" with entities \"[(201, 210, 'Companies worked at'), (4031, 4040, '...\". Use `spacy.training.offsets_to_biluo_tags(nlp.make_doc(text), entities)` to check the alignment. Misaligned entities ('-') will be ignored during training.\n",
      "  warnings.warn(\n"
     ]
    },
    {
     "name": "stdout",
     "output_type": "stream",
     "text": [
      "{'ner': 7555.256388005419}\n"
     ]
    },
    {
     "name": "stderr",
     "output_type": "stream",
     "text": [
      "C:\\Users\\teddy\\miniconda3\\envs\\NLP_env\\lib\\site-packages\\spacy\\training\\iob_utils.py:141: UserWarning: [W030] Some entities could not be aligned in the text \"Arpit Jain\n",
      "Quality Analyst - ThoughtWorks Technolo...\" with entities \"[(2301, 2380, 'Skills'), (2025, 2040, 'Designation...\". Use `spacy.training.offsets_to_biluo_tags(nlp.make_doc(text), entities)` to check the alignment. Misaligned entities ('-') will be ignored during training.\n",
      "  warnings.warn(\n"
     ]
    },
    {
     "name": "stdout",
     "output_type": "stream",
     "text": [
      "{'ner': 7567.1340160015725}\n"
     ]
    },
    {
     "name": "stderr",
     "output_type": "stream",
     "text": [
      "C:\\Users\\teddy\\miniconda3\\envs\\NLP_env\\lib\\site-packages\\spacy\\training\\iob_utils.py:141: UserWarning: [W030] Some entities could not be aligned in the text \"Jaspreet Kaur\n",
      "Oceanic Consultants as a HR Executiv...\" with entities \"[(5670, 5781, 'Skills'), (462, 481, 'Designation')...\". Use `spacy.training.offsets_to_biluo_tags(nlp.make_doc(text), entities)` to check the alignment. Misaligned entities ('-') will be ignored during training.\n",
      "  warnings.warn(\n"
     ]
    },
    {
     "name": "stdout",
     "output_type": "stream",
     "text": [
      "{'ner': 7578.995187658038}\n"
     ]
    },
    {
     "name": "stderr",
     "output_type": "stream",
     "text": [
      "C:\\Users\\teddy\\miniconda3\\envs\\NLP_env\\lib\\site-packages\\spacy\\training\\iob_utils.py:141: UserWarning: [W030] Some entities could not be aligned in the text \"Ravi Shankar\n",
      "Working as Escalation Engineer with M...\" with entities \"[(4016, 4025, 'Companies worked at'), (3559, 3568,...\". Use `spacy.training.offsets_to_biluo_tags(nlp.make_doc(text), entities)` to check the alignment. Misaligned entities ('-') will be ignored during training.\n",
      "  warnings.warn(\n"
     ]
    },
    {
     "name": "stdout",
     "output_type": "stream",
     "text": [
      "{'ner': 7653.3391985154985}\n"
     ]
    },
    {
     "name": "stderr",
     "output_type": "stream",
     "text": [
      "C:\\Users\\teddy\\miniconda3\\envs\\NLP_env\\lib\\site-packages\\spacy\\training\\iob_utils.py:141: UserWarning: [W030] Some entities could not be aligned in the text \"Vikas Singh\n",
      "Chandigarh, Chandigarh - Email me on I...\" with entities \"[(0, 11, 'Name'), (887, 891, 'Graduation Year'), (...\". Use `spacy.training.offsets_to_biluo_tags(nlp.make_doc(text), entities)` to check the alignment. Misaligned entities ('-') will be ignored during training.\n",
      "  warnings.warn(\n"
     ]
    },
    {
     "name": "stdout",
     "output_type": "stream",
     "text": [
      "{'ner': 7683.169811951592}\n"
     ]
    },
    {
     "name": "stderr",
     "output_type": "stream",
     "text": [
      "C:\\Users\\teddy\\miniconda3\\envs\\NLP_env\\lib\\site-packages\\spacy\\training\\iob_utils.py:141: UserWarning: [W030] Some entities could not be aligned in the text \"Sharan Adla\n",
      "- Email me on Indeed: indeed.com/r/Sha...\" with entities \"[(2339, 2350, 'Degree'), (2416, 2419, 'Degree'), (...\". Use `spacy.training.offsets_to_biluo_tags(nlp.make_doc(text), entities)` to check the alignment. Misaligned entities ('-') will be ignored during training.\n",
      "  warnings.warn(\n"
     ]
    },
    {
     "name": "stdout",
     "output_type": "stream",
     "text": [
      "{'ner': 7701.069990621237}\n"
     ]
    },
    {
     "name": "stderr",
     "output_type": "stream",
     "text": [
      "C:\\Users\\teddy\\miniconda3\\envs\\NLP_env\\lib\\site-packages\\spacy\\training\\iob_utils.py:141: UserWarning: [W030] Some entities could not be aligned in the text \"Moumita Mitra\n",
      "- Email me on Indeed: indeed.com/r/M...\" with entities \"[(1818, 1926, 'Skills'), (1741, 1759, 'College Nam...\". Use `spacy.training.offsets_to_biluo_tags(nlp.make_doc(text), entities)` to check the alignment. Misaligned entities ('-') will be ignored during training.\n",
      "  warnings.warn(\n"
     ]
    },
    {
     "name": "stdout",
     "output_type": "stream",
     "text": [
      "{'ner': 7719.026013642677}\n"
     ]
    },
    {
     "name": "stderr",
     "output_type": "stream",
     "text": [
      "C:\\Users\\teddy\\miniconda3\\envs\\NLP_env\\lib\\site-packages\\spacy\\training\\iob_utils.py:141: UserWarning: [W030] Some entities could not be aligned in the text \"Anurag Asthana\n",
      "Pune, Maharashtra - Email me on Ind...\" with entities \"[(1211, 1222, 'Companies worked at'), (4273, 4296,...\". Use `spacy.training.offsets_to_biluo_tags(nlp.make_doc(text), entities)` to check the alignment. Misaligned entities ('-') will be ignored during training.\n",
      "  warnings.warn(\n"
     ]
    },
    {
     "name": "stdout",
     "output_type": "stream",
     "text": [
      "{'ner': 7763.198353203356}\n"
     ]
    },
    {
     "name": "stderr",
     "output_type": "stream",
     "text": [
      "C:\\Users\\teddy\\miniconda3\\envs\\NLP_env\\lib\\site-packages\\spacy\\training\\iob_utils.py:141: UserWarning: [W030] Some entities could not be aligned in the text \"Urshila Lohani\n",
      "Senior Corporate Account Executive ...\" with entities \"[(1887, 1894, 'Companies worked at'), (194, 228, '...\". Use `spacy.training.offsets_to_biluo_tags(nlp.make_doc(text), entities)` to check the alignment. Misaligned entities ('-') will be ignored during training.\n",
      "  warnings.warn(\n"
     ]
    },
    {
     "name": "stdout",
     "output_type": "stream",
     "text": [
      "{'ner': 7791.093772818687}\n"
     ]
    },
    {
     "name": "stderr",
     "output_type": "stream",
     "text": [
      "C:\\Users\\teddy\\miniconda3\\envs\\NLP_env\\lib\\site-packages\\spacy\\training\\iob_utils.py:141: UserWarning: [W030] Some entities could not be aligned in the text \"Fenil Francis\n",
      "head of operation and logistics\n",
      "\n",
      "Tri...\" with entities \"[(597, 623, 'College Name'), (566, 596, 'Degree'),...\". Use `spacy.training.offsets_to_biluo_tags(nlp.make_doc(text), entities)` to check the alignment. Misaligned entities ('-') will be ignored during training.\n",
      "  warnings.warn(\n"
     ]
    },
    {
     "name": "stdout",
     "output_type": "stream",
     "text": [
      "{'ner': 7808.972488518389}\n"
     ]
    },
    {
     "name": "stderr",
     "output_type": "stream",
     "text": [
      "C:\\Users\\teddy\\miniconda3\\envs\\NLP_env\\lib\\site-packages\\spacy\\training\\iob_utils.py:141: UserWarning: [W030] Some entities could not be aligned in the text \"Shabnam Saba\n",
      "Offshore SAP CRM Functional Consultan...\" with entities \"[(608, 614, 'Companies worked at'), (88, 138, 'Ema...\". Use `spacy.training.offsets_to_biluo_tags(nlp.make_doc(text), entities)` to check the alignment. Misaligned entities ('-') will be ignored during training.\n",
      "  warnings.warn(\n"
     ]
    },
    {
     "name": "stdout",
     "output_type": "stream",
     "text": [
      "{'ner': 7822.829865206957}\n"
     ]
    },
    {
     "name": "stderr",
     "output_type": "stream",
     "text": [
      "C:\\Users\\teddy\\miniconda3\\envs\\NLP_env\\lib\\site-packages\\spacy\\training\\iob_utils.py:141: UserWarning: [W030] Some entities could not be aligned in the text \"Palani S\n",
      "Senior Technology Support Executive at In...\" with entities \"[(3533, 3537, 'Graduation Year'), (553, 561, 'Comp...\". Use `spacy.training.offsets_to_biluo_tags(nlp.make_doc(text), entities)` to check the alignment. Misaligned entities ('-') will be ignored during training.\n",
      "  warnings.warn(\n"
     ]
    },
    {
     "name": "stdout",
     "output_type": "stream",
     "text": [
      "{'ner': 7828.767635180193}\n",
      "{'ner': 7838.571643110208}\n"
     ]
    },
    {
     "name": "stderr",
     "output_type": "stream",
     "text": [
      "C:\\Users\\teddy\\miniconda3\\envs\\NLP_env\\lib\\site-packages\\spacy\\training\\iob_utils.py:141: UserWarning: [W030] Some entities could not be aligned in the text \"Bangalore Tavarekere\n",
      "Volunteer Contestant, Yappon\n",
      "...\" with entities \"[(164, 192, 'Designation'), (0, 20, 'Name'), (93, ...\". Use `spacy.training.offsets_to_biluo_tags(nlp.make_doc(text), entities)` to check the alignment. Misaligned entities ('-') will be ignored during training.\n",
      "  warnings.warn(\n",
      "C:\\Users\\teddy\\miniconda3\\envs\\NLP_env\\lib\\site-packages\\spacy\\training\\iob_utils.py:141: UserWarning: [W030] Some entities could not be aligned in the text \"Sanand Pal\n",
      "SQL and MSBI Developer with experience ...\" with entities \"[(1263, 1273, 'Location'), (615, 635, 'Designation...\". Use `spacy.training.offsets_to_biluo_tags(nlp.make_doc(text), entities)` to check the alignment. Misaligned entities ('-') will be ignored during training.\n",
      "  warnings.warn(\n"
     ]
    },
    {
     "name": "stdout",
     "output_type": "stream",
     "text": [
      "{'ner': 7859.777054246736}\n"
     ]
    },
    {
     "name": "stderr",
     "output_type": "stream",
     "text": [
      "C:\\Users\\teddy\\miniconda3\\envs\\NLP_env\\lib\\site-packages\\spacy\\training\\iob_utils.py:141: UserWarning: [W030] Some entities could not be aligned in the text \"Ramesh HP\n",
      "CES ASSOCIATE CONSULTANT\n",
      "\n",
      "Bangalore, Kar...\" with entities \"[(2176, 2215, 'Email Address'), (2582, 2616, 'Degr...\". Use `spacy.training.offsets_to_biluo_tags(nlp.make_doc(text), entities)` to check the alignment. Misaligned entities ('-') will be ignored during training.\n",
      "  warnings.warn(\n"
     ]
    },
    {
     "name": "stdout",
     "output_type": "stream",
     "text": [
      "{'ner': 7877.223601058563}\n"
     ]
    },
    {
     "name": "stderr",
     "output_type": "stream",
     "text": [
      "C:\\Users\\teddy\\miniconda3\\envs\\NLP_env\\lib\\site-packages\\spacy\\training\\iob_utils.py:141: UserWarning: [W030] Some entities could not be aligned in the text \"Jatin Arora\n",
      "SDET Automation Engineer, Infosys - CR...\" with entities \"[(82, 88, 'Location'), (3883, 3908, 'Degree'), (15...\". Use `spacy.training.offsets_to_biluo_tags(nlp.make_doc(text), entities)` to check the alignment. Misaligned entities ('-') will be ignored during training.\n",
      "  warnings.warn(\n"
     ]
    },
    {
     "name": "stdout",
     "output_type": "stream",
     "text": [
      "{'ner': 7884.876591630533}\n"
     ]
    },
    {
     "name": "stderr",
     "output_type": "stream",
     "text": [
      "C:\\Users\\teddy\\miniconda3\\envs\\NLP_env\\lib\\site-packages\\spacy\\training\\iob_utils.py:141: UserWarning: [W030] Some entities could not be aligned in the text \"Sai Patha\n",
      "Mule ESB Integration Developer - Cisco S...\" with entities \"[(101, 141, 'Email Address'), (43, 56, 'Companies ...\". Use `spacy.training.offsets_to_biluo_tags(nlp.make_doc(text), entities)` to check the alignment. Misaligned entities ('-') will be ignored during training.\n",
      "  warnings.warn(\n"
     ]
    },
    {
     "name": "stdout",
     "output_type": "stream",
     "text": [
      "{'ner': 8242.968014938697}\n"
     ]
    },
    {
     "name": "stderr",
     "output_type": "stream",
     "text": [
      "C:\\Users\\teddy\\miniconda3\\envs\\NLP_env\\lib\\site-packages\\spacy\\training\\iob_utils.py:141: UserWarning: [W030] Some entities could not be aligned in the text \"Soumya Balan\n",
      "Soumya Balan - BE Computer Science - ...\" with entities \"[(2441, 2446, 'Graduation Year'), (373, 399, 'Desi...\". Use `spacy.training.offsets_to_biluo_tags(nlp.make_doc(text), entities)` to check the alignment. Misaligned entities ('-') will be ignored during training.\n",
      "  warnings.warn(\n"
     ]
    },
    {
     "name": "stdout",
     "output_type": "stream",
     "text": [
      "{'ner': 8479.94419682884}\n"
     ]
    },
    {
     "name": "stderr",
     "output_type": "stream",
     "text": [
      "C:\\Users\\teddy\\miniconda3\\envs\\NLP_env\\lib\\site-packages\\spacy\\training\\iob_utils.py:141: UserWarning: [W030] Some entities could not be aligned in the text \"Praveen Bhaskar\n",
      "Program Manager (Software Delivery...\" with entities \"[(4445, 4450, 'Designation'), (4431, 4443, 'Colleg...\". Use `spacy.training.offsets_to_biluo_tags(nlp.make_doc(text), entities)` to check the alignment. Misaligned entities ('-') will be ignored during training.\n",
      "  warnings.warn(\n"
     ]
    },
    {
     "name": "stdout",
     "output_type": "stream",
     "text": [
      "{'ner': 8493.713004253208}\n"
     ]
    },
    {
     "name": "stderr",
     "output_type": "stream",
     "text": [
      "C:\\Users\\teddy\\miniconda3\\envs\\NLP_env\\lib\\site-packages\\spacy\\training\\iob_utils.py:141: UserWarning: [W030] Some entities could not be aligned in the text \"Shubham Mittal\n",
      "System Engineer - Infosys Limited\n",
      "\n",
      "...\" with entities \"[(0, 14, 'Name'), (2056, 2062, 'Location'), (916, ...\". Use `spacy.training.offsets_to_biluo_tags(nlp.make_doc(text), entities)` to check the alignment. Misaligned entities ('-') will be ignored during training.\n",
      "  warnings.warn(\n"
     ]
    },
    {
     "name": "stdout",
     "output_type": "stream",
     "text": [
      "{'ner': 8517.51836628685}\n"
     ]
    },
    {
     "name": "stderr",
     "output_type": "stream",
     "text": [
      "C:\\Users\\teddy\\miniconda3\\envs\\NLP_env\\lib\\site-packages\\spacy\\training\\iob_utils.py:141: UserWarning: [W030] Some entities could not be aligned in the text \"VARUN AHLUWALIA\n",
      "Quantitative Analyst\n",
      "\n",
      "- Email me o...\" with entities \"[(391, 408, 'Designation'), (687, 729, 'College Na...\". Use `spacy.training.offsets_to_biluo_tags(nlp.make_doc(text), entities)` to check the alignment. Misaligned entities ('-') will be ignored during training.\n",
      "  warnings.warn(\n"
     ]
    },
    {
     "name": "stdout",
     "output_type": "stream",
     "text": [
      "{'ner': 8535.233479226992}\n"
     ]
    },
    {
     "name": "stderr",
     "output_type": "stream",
     "text": [
      "C:\\Users\\teddy\\miniconda3\\envs\\NLP_env\\lib\\site-packages\\spacy\\training\\iob_utils.py:141: UserWarning: [W030] Some entities could not be aligned in the text \"Meenalochani Kondya\n",
      "Systems Engineer, Infosys Bang...\" with entities \"[(3117, 3121, 'Graduation Year'), (2153, 2157, 'Gr...\". Use `spacy.training.offsets_to_biluo_tags(nlp.make_doc(text), entities)` to check the alignment. Misaligned entities ('-') will be ignored during training.\n",
      "  warnings.warn(\n"
     ]
    },
    {
     "name": "stdout",
     "output_type": "stream",
     "text": [
      "{'ner': 8572.79942601197}\n"
     ]
    },
    {
     "name": "stderr",
     "output_type": "stream",
     "text": [
      "C:\\Users\\teddy\\miniconda3\\envs\\NLP_env\\lib\\site-packages\\spacy\\training\\iob_utils.py:141: UserWarning: [W030] Some entities could not be aligned in the text \"Manisha Bharti\n",
      "Software Automation Engineer\n",
      "\n",
      "Pune,...\" with entities \"[(133, 142, 'Years of Experience'), (2833, 4400, '...\". Use `spacy.training.offsets_to_biluo_tags(nlp.make_doc(text), entities)` to check the alignment. Misaligned entities ('-') will be ignored during training.\n",
      "  warnings.warn(\n"
     ]
    },
    {
     "name": "stdout",
     "output_type": "stream",
     "text": [
      "{'ner': 8894.720645553312}\n"
     ]
    },
    {
     "name": "stderr",
     "output_type": "stream",
     "text": [
      "C:\\Users\\teddy\\miniconda3\\envs\\NLP_env\\lib\\site-packages\\spacy\\training\\iob_utils.py:141: UserWarning: [W030] Some entities could not be aligned in the text \"Karan Turkar\n",
      "Balaghat, Madhya Pradesh - Email me o...\" with entities \"[(122, 140, 'Designation'), (210, 212, 'Degree'), ...\". Use `spacy.training.offsets_to_biluo_tags(nlp.make_doc(text), entities)` to check the alignment. Misaligned entities ('-') will be ignored during training.\n",
      "  warnings.warn(\n"
     ]
    },
    {
     "name": "stdout",
     "output_type": "stream",
     "text": [
      "{'ner': 8908.31239510336}\n"
     ]
    },
    {
     "name": "stderr",
     "output_type": "stream",
     "text": [
      "C:\\Users\\teddy\\miniconda3\\envs\\NLP_env\\lib\\site-packages\\spacy\\training\\iob_utils.py:141: UserWarning: [W030] Some entities could not be aligned in the text \"Rupesh Reddy\n",
      "Technology Consultant - EIT Services ...\" with entities \"[(6732, 6848, 'Skills'), (3232, 3241, 'Location'),...\". Use `spacy.training.offsets_to_biluo_tags(nlp.make_doc(text), entities)` to check the alignment. Misaligned entities ('-') will be ignored during training.\n",
      "  warnings.warn(\n"
     ]
    },
    {
     "name": "stdout",
     "output_type": "stream",
     "text": [
      "{'ner': 8916.135382457842}\n"
     ]
    },
    {
     "name": "stderr",
     "output_type": "stream",
     "text": [
      "C:\\Users\\teddy\\miniconda3\\envs\\NLP_env\\lib\\site-packages\\spacy\\training\\iob_utils.py:141: UserWarning: [W030] Some entities could not be aligned in the text \"Aanirudh Razdan\n",
      "Technical Support Executive - Tele...\" with entities \"[(798, 803, 'Graduation Year'), (779, 785, 'Locati...\". Use `spacy.training.offsets_to_biluo_tags(nlp.make_doc(text), entities)` to check the alignment. Misaligned entities ('-') will be ignored during training.\n",
      "  warnings.warn(\n"
     ]
    },
    {
     "name": "stdout",
     "output_type": "stream",
     "text": [
      "{'ner': 8933.622063305571}\n"
     ]
    },
    {
     "name": "stderr",
     "output_type": "stream",
     "text": [
      "C:\\Users\\teddy\\miniconda3\\envs\\NLP_env\\lib\\site-packages\\spacy\\training\\iob_utils.py:141: UserWarning: [W030] Some entities could not be aligned in the text \"Sayani Goswami\n",
      "I Phone solution Consultant\n",
      "\n",
      "Kolkat...\" with entities \"[(44, 51, 'Location'), (151, 179, 'Designation'), ...\". Use `spacy.training.offsets_to_biluo_tags(nlp.make_doc(text), entities)` to check the alignment. Misaligned entities ('-') will be ignored during training.\n",
      "  warnings.warn(\n"
     ]
    },
    {
     "name": "stdout",
     "output_type": "stream",
     "text": [
      "{'ner': 8937.25332661845}\n"
     ]
    },
    {
     "name": "stderr",
     "output_type": "stream",
     "text": [
      "C:\\Users\\teddy\\miniconda3\\envs\\NLP_env\\lib\\site-packages\\spacy\\training\\iob_utils.py:141: UserWarning: [W030] Some entities could not be aligned in the text \"Krishna Prasad\n",
      "Patna City, Bihar - Email me on Ind...\" with entities \"[(190, 208, 'College Name'), (152, 157, 'Location'...\". Use `spacy.training.offsets_to_biluo_tags(nlp.make_doc(text), entities)` to check the alignment. Misaligned entities ('-') will be ignored during training.\n",
      "  warnings.warn(\n"
     ]
    },
    {
     "name": "stdout",
     "output_type": "stream",
     "text": [
      "{'ner': 8952.6977580806}\n",
      "{'ner': 8952.6977580806}\n"
     ]
    },
    {
     "name": "stderr",
     "output_type": "stream",
     "text": [
      "C:\\Users\\teddy\\miniconda3\\envs\\NLP_env\\lib\\site-packages\\spacy\\training\\iob_utils.py:141: UserWarning: [W030] Some entities could not be aligned in the text \"Deepika S\n",
      "Test Engineer - Infosys Ltd\n",
      "\n",
      "- Email me ...\" with entities \"[(0, 9, 'Name'), (25, 37, 'Companies worked at'), ...\". Use `spacy.training.offsets_to_biluo_tags(nlp.make_doc(text), entities)` to check the alignment. Misaligned entities ('-') will be ignored during training.\n",
      "  warnings.warn(\n",
      "C:\\Users\\teddy\\miniconda3\\envs\\NLP_env\\lib\\site-packages\\spacy\\training\\iob_utils.py:141: UserWarning: [W030] Some entities could not be aligned in the text \"Abdul B\n",
      "Arabic Language supporter (Content Analyst...\" with entities \"[(2349, 2472, 'Skills'), (96, 133, 'Email Address'...\". Use `spacy.training.offsets_to_biluo_tags(nlp.make_doc(text), entities)` to check the alignment. Misaligned entities ('-') will be ignored during training.\n",
      "  warnings.warn(\n"
     ]
    },
    {
     "name": "stdout",
     "output_type": "stream",
     "text": [
      "{'ner': 8964.312730182217}\n"
     ]
    },
    {
     "name": "stderr",
     "output_type": "stream",
     "text": [
      "C:\\Users\\teddy\\miniconda3\\envs\\NLP_env\\lib\\site-packages\\spacy\\training\\iob_utils.py:141: UserWarning: [W030] Some entities could not be aligned in the text \"Srinivas VO\n",
      "Sr. Test Manager\n",
      "\n",
      "Mumbai, Maharashtra ...\" with entities \"[(11125, 11145, 'College Name'), (5332, 5338, 'Loc...\". Use `spacy.training.offsets_to_biluo_tags(nlp.make_doc(text), entities)` to check the alignment. Misaligned entities ('-') will be ignored during training.\n",
      "  warnings.warn(\n"
     ]
    },
    {
     "name": "stdout",
     "output_type": "stream",
     "text": [
      "{'ner': 8982.889365690411}\n"
     ]
    },
    {
     "name": "stderr",
     "output_type": "stream",
     "text": [
      "C:\\Users\\teddy\\miniconda3\\envs\\NLP_env\\lib\\site-packages\\spacy\\training\\iob_utils.py:141: UserWarning: [W030] Some entities could not be aligned in the text \"Yathishwaran P\n",
      "Maximo Consultant - Infosys Limited...\" with entities \"[(19125, 19215, 'Degree'), (19216, 19242, 'College...\". Use `spacy.training.offsets_to_biluo_tags(nlp.make_doc(text), entities)` to check the alignment. Misaligned entities ('-') will be ignored during training.\n",
      "  warnings.warn(\n"
     ]
    },
    {
     "name": "stdout",
     "output_type": "stream",
     "text": [
      "{'ner': 9032.367904407181}\n"
     ]
    },
    {
     "name": "stderr",
     "output_type": "stream",
     "text": [
      "C:\\Users\\teddy\\miniconda3\\envs\\NLP_env\\lib\\site-packages\\spacy\\training\\iob_utils.py:141: UserWarning: [W030] Some entities could not be aligned in the text \"Syam Devendla\n",
      "Bengaluru, Karnataka - Email me on I...\" with entities \"[(0, 13, 'Name'), (708, 712, 'Graduation Year'), (...\". Use `spacy.training.offsets_to_biluo_tags(nlp.make_doc(text), entities)` to check the alignment. Misaligned entities ('-') will be ignored during training.\n",
      "  warnings.warn(\n",
      "C:\\Users\\teddy\\miniconda3\\envs\\NLP_env\\lib\\site-packages\\spacy\\training\\iob_utils.py:141: UserWarning: [W030] Some entities could not be aligned in the text \"Syam Devendla\n",
      "Bengaluru, Karnataka - Email me on I...\" with entities \"[(3461, 3465, 'Graduation Year'), (3847, 3851, 'Gr...\". Use `spacy.training.offsets_to_biluo_tags(nlp.make_doc(text), entities)` to check the alignment. Misaligned entities ('-') will be ignored during training.\n",
      "  warnings.warn(\n"
     ]
    },
    {
     "name": "stdout",
     "output_type": "stream",
     "text": [
      "{'ner': 9053.746593214859}\n"
     ]
    },
    {
     "name": "stderr",
     "output_type": "stream",
     "text": [
      "C:\\Users\\teddy\\miniconda3\\envs\\NLP_env\\lib\\site-packages\\spacy\\training\\iob_utils.py:141: UserWarning: [W030] Some entities could not be aligned in the text \"Pulkit Saxena\n",
      "New Delhi, Delhi - Email me on Indee...\" with entities \"[(3121, 3334, 'Skills'), (3482, 3487, 'Companies w...\". Use `spacy.training.offsets_to_biluo_tags(nlp.make_doc(text), entities)` to check the alignment. Misaligned entities ('-') will be ignored during training.\n",
      "  warnings.warn(\n"
     ]
    },
    {
     "name": "stdout",
     "output_type": "stream",
     "text": [
      "{'ner': 9102.132368794159}\n"
     ]
    },
    {
     "name": "stderr",
     "output_type": "stream",
     "text": [
      "C:\\Users\\teddy\\miniconda3\\envs\\NLP_env\\lib\\site-packages\\spacy\\training\\iob_utils.py:141: UserWarning: [W030] Some entities could not be aligned in the text \"Kowsick Somasundaram\n",
      "Certified Network Associate T...\" with entities \"[(107, 158, 'Email Address'), (696, 1129, 'Skills'...\". Use `spacy.training.offsets_to_biluo_tags(nlp.make_doc(text), entities)` to check the alignment. Misaligned entities ('-') will be ignored during training.\n",
      "  warnings.warn(\n"
     ]
    },
    {
     "name": "stdout",
     "output_type": "stream",
     "text": [
      "{'ner': 9118.79485200387}\n"
     ]
    },
    {
     "name": "stderr",
     "output_type": "stream",
     "text": [
      "C:\\Users\\teddy\\miniconda3\\envs\\NLP_env\\lib\\site-packages\\spacy\\training\\iob_utils.py:141: UserWarning: [W030] Some entities could not be aligned in the text \"Pankaj Bhosale\n",
      "Microsoft SQL-SERVER\n",
      "\n",
      "Dhule, Mahara...\" with entities \"[(1331, 1336, 'Location'), (1292, 1296, 'Graduatio...\". Use `spacy.training.offsets_to_biluo_tags(nlp.make_doc(text), entities)` to check the alignment. Misaligned entities ('-') will be ignored during training.\n",
      "  warnings.warn(\n"
     ]
    },
    {
     "name": "stdout",
     "output_type": "stream",
     "text": [
      "{'ner': 9148.610100197036}\n"
     ]
    },
    {
     "name": "stderr",
     "output_type": "stream",
     "text": [
      "C:\\Users\\teddy\\miniconda3\\envs\\NLP_env\\lib\\site-packages\\spacy\\training\\iob_utils.py:141: UserWarning: [W030] Some entities could not be aligned in the text \"Pradeeba V\n",
      "LEAD ENGINEER - CISCO\n",
      "\n",
      "- Email me on In...\" with entities \"[(2670, 2673, 'Skills'), (2487, 2497, 'Skills'), (...\". Use `spacy.training.offsets_to_biluo_tags(nlp.make_doc(text), entities)` to check the alignment. Misaligned entities ('-') will be ignored during training.\n",
      "  warnings.warn(\n",
      "C:\\Users\\teddy\\miniconda3\\envs\\NLP_env\\lib\\site-packages\\spacy\\training\\iob_utils.py:141: UserWarning: [W030] Some entities could not be aligned in the text \"Pradeeba V\n",
      "LEAD ENGINEER - CISCO\n",
      "\n",
      "- Email me on In...\" with entities \"[(210, 214, 'Skills'), (819, 835, 'Designation'), ...\". Use `spacy.training.offsets_to_biluo_tags(nlp.make_doc(text), entities)` to check the alignment. Misaligned entities ('-') will be ignored during training.\n",
      "  warnings.warn(\n"
     ]
    },
    {
     "name": "stdout",
     "output_type": "stream",
     "text": [
      "{'ner': 9248.33580054336}\n"
     ]
    },
    {
     "name": "stderr",
     "output_type": "stream",
     "text": [
      "C:\\Users\\teddy\\miniconda3\\envs\\NLP_env\\lib\\site-packages\\spacy\\training\\iob_utils.py:141: UserWarning: [W030] Some entities could not be aligned in the text \"Senthil Kumar\n",
      "Senior Technical Lead - HCL Cisco\n",
      "\n",
      "-...\" with entities \"[(6646, 7279, 'Skills'), (3905, 3919, 'Designation...\". Use `spacy.training.offsets_to_biluo_tags(nlp.make_doc(text), entities)` to check the alignment. Misaligned entities ('-') will be ignored during training.\n",
      "  warnings.warn(\n"
     ]
    },
    {
     "name": "stdout",
     "output_type": "stream",
     "text": [
      "{'ner': 9327.872822801306}\n"
     ]
    },
    {
     "name": "stderr",
     "output_type": "stream",
     "text": [
      "C:\\Users\\teddy\\miniconda3\\envs\\NLP_env\\lib\\site-packages\\spacy\\training\\iob_utils.py:141: UserWarning: [W030] Some entities could not be aligned in the text \"Sohan Dhakad\n",
      "Shivpuri, Madhya Pradesh - Email me o...\" with entities \"[(0, 12, 'Name'), (870, 894, 'Skills'), (793, 810,...\". Use `spacy.training.offsets_to_biluo_tags(nlp.make_doc(text), entities)` to check the alignment. Misaligned entities ('-') will be ignored during training.\n",
      "  warnings.warn(\n"
     ]
    },
    {
     "name": "stdout",
     "output_type": "stream",
     "text": [
      "{'ner': 9331.358937982792}\n",
      "{'ner': 9342.676870042562}\n"
     ]
    },
    {
     "name": "stderr",
     "output_type": "stream",
     "text": [
      "C:\\Users\\teddy\\miniconda3\\envs\\NLP_env\\lib\\site-packages\\spacy\\training\\iob_utils.py:141: UserWarning: [W030] Some entities could not be aligned in the text \"Ijas Nizamuddin\n",
      "Associate Consultant - State Stree...\" with entities \"[(4410, 4428, 'Companies worked at'), (4441, 4471,...\". Use `spacy.training.offsets_to_biluo_tags(nlp.make_doc(text), entities)` to check the alignment. Misaligned entities ('-') will be ignored during training.\n",
      "  warnings.warn(\n"
     ]
    },
    {
     "name": "stdout",
     "output_type": "stream",
     "text": [
      "{'ner': 9373.698663139021}\n"
     ]
    },
    {
     "name": "stderr",
     "output_type": "stream",
     "text": [
      "C:\\Users\\teddy\\miniconda3\\envs\\NLP_env\\lib\\site-packages\\spacy\\training\\iob_utils.py:141: UserWarning: [W030] Some entities could not be aligned in the text \"Ahmad Bardolia\n",
      "Project Lead for Infosys OpenStack\n",
      "...\" with entities \"[(3827, 4016, 'Skills'), (157, 169, 'Designation')...\". Use `spacy.training.offsets_to_biluo_tags(nlp.make_doc(text), entities)` to check the alignment. Misaligned entities ('-') will be ignored during training.\n",
      "  warnings.warn(\n"
     ]
    },
    {
     "name": "stdout",
     "output_type": "stream",
     "text": [
      "{'ner': 9389.28465522968}\n"
     ]
    },
    {
     "name": "stderr",
     "output_type": "stream",
     "text": [
      "C:\\Users\\teddy\\miniconda3\\envs\\NLP_env\\lib\\site-packages\\spacy\\training\\iob_utils.py:141: UserWarning: [W030] Some entities could not be aligned in the text \"Rishabh soni\n",
      "Anuppur, Madhya Pradesh - Email me on...\" with entities \"[(0, 12, 'Name'), (13, 20, 'Location'), (242, 256,...\". Use `spacy.training.offsets_to_biluo_tags(nlp.make_doc(text), entities)` to check the alignment. Misaligned entities ('-') will be ignored during training.\n",
      "  warnings.warn(\n"
     ]
    },
    {
     "name": "stdout",
     "output_type": "stream",
     "text": [
      "{'ner': 9394.008208690724}\n",
      "{'ner': 9394.008208690724}\n"
     ]
    },
    {
     "name": "stderr",
     "output_type": "stream",
     "text": [
      "C:\\Users\\teddy\\miniconda3\\envs\\NLP_env\\lib\\site-packages\\spacy\\training\\iob_utils.py:141: UserWarning: [W030] Some entities could not be aligned in the text \"Yogesh Ghatole\n",
      "Engineer / Electrical Supervisor, S...\" with entities \"[(48, 101, 'Companies worked at'), (569, 602, 'Des...\". Use `spacy.training.offsets_to_biluo_tags(nlp.make_doc(text), entities)` to check the alignment. Misaligned entities ('-') will be ignored during training.\n",
      "  warnings.warn(\n",
      "C:\\Users\\teddy\\miniconda3\\envs\\NLP_env\\lib\\site-packages\\spacy\\training\\iob_utils.py:141: UserWarning: [W030] Some entities could not be aligned in the text \"Suman Biswas\n",
      "SAP UI5 Lead, Native HANA Developer -...\" with entities \"[(4512, 4534, 'College Name'), (4560, 4564, 'Gradu...\". Use `spacy.training.offsets_to_biluo_tags(nlp.make_doc(text), entities)` to check the alignment. Misaligned entities ('-') will be ignored during training.\n",
      "  warnings.warn(\n"
     ]
    },
    {
     "name": "stdout",
     "output_type": "stream",
     "text": [
      "{'ner': 9394.008208690724}\n"
     ]
    },
    {
     "name": "stderr",
     "output_type": "stream",
     "text": [
      "C:\\Users\\teddy\\miniconda3\\envs\\NLP_env\\lib\\site-packages\\spacy\\training\\iob_utils.py:141: UserWarning: [W030] Some entities could not be aligned in the text \"Lakshika Neelakshi\n",
      "Senior Systems Engineer - Infos...\" with entities \"[(44, 60, 'Companies worked at'), (19, 42, 'Design...\". Use `spacy.training.offsets_to_biluo_tags(nlp.make_doc(text), entities)` to check the alignment. Misaligned entities ('-') will be ignored during training.\n",
      "  warnings.warn(\n"
     ]
    },
    {
     "name": "stdout",
     "output_type": "stream",
     "text": [
      "{'ner': 9394.008208690724}\n"
     ]
    },
    {
     "name": "stderr",
     "output_type": "stream",
     "text": [
      "C:\\Users\\teddy\\miniconda3\\envs\\NLP_env\\lib\\site-packages\\spacy\\training\\iob_utils.py:141: UserWarning: [W030] Some entities could not be aligned in the text \"PRASHANTH BADALA\n",
      "Devops Engineer ,Cloud Engineer -...\" with entities \"[(11962, 11968, 'Skills'), (17, 32, 'Designation')...\". Use `spacy.training.offsets_to_biluo_tags(nlp.make_doc(text), entities)` to check the alignment. Misaligned entities ('-') will be ignored during training.\n",
      "  warnings.warn(\n",
      "C:\\Users\\teddy\\miniconda3\\envs\\NLP_env\\lib\\site-packages\\spacy\\training\\iob_utils.py:141: UserWarning: [W030] Some entities could not be aligned in the text \"PRASHANTH BADALA\n",
      "Devops Engineer ,Cloud Engineer -...\" with entities \"[(11578, 11581, 'Skills'), (667, 671, 'Skills'), (...\". Use `spacy.training.offsets_to_biluo_tags(nlp.make_doc(text), entities)` to check the alignment. Misaligned entities ('-') will be ignored during training.\n",
      "  warnings.warn(\n"
     ]
    },
    {
     "name": "stdout",
     "output_type": "stream",
     "text": [
      "{'ner': 9536.426514122588}\n"
     ]
    },
    {
     "name": "stderr",
     "output_type": "stream",
     "text": [
      "C:\\Users\\teddy\\miniconda3\\envs\\NLP_env\\lib\\site-packages\\spacy\\training\\iob_utils.py:141: UserWarning: [W030] Some entities could not be aligned in the text \"Jyotirbindu Patnaik\n",
      "Associate consultant@SAP labs ...\" with entities \"[(600, 608, 'Companies worked at'), (2951, 2992, '...\". Use `spacy.training.offsets_to_biluo_tags(nlp.make_doc(text), entities)` to check the alignment. Misaligned entities ('-') will be ignored during training.\n",
      "  warnings.warn(\n"
     ]
    },
    {
     "name": "stdout",
     "output_type": "stream",
     "text": [
      "{'ner': 9547.688510655596}\n",
      "{'ner': 9547.688510655596}\n"
     ]
    },
    {
     "name": "stderr",
     "output_type": "stream",
     "text": [
      "C:\\Users\\teddy\\miniconda3\\envs\\NLP_env\\lib\\site-packages\\spacy\\training\\iob_utils.py:141: UserWarning: [W030] Some entities could not be aligned in the text \"Kiran Kumar\n",
      "I Having 2.1 years of Experience in IT...\" with entities \"[(103, 110, 'Companies worked at'), (257, 266, 'Ye...\". Use `spacy.training.offsets_to_biluo_tags(nlp.make_doc(text), entities)` to check the alignment. Misaligned entities ('-') will be ignored during training.\n",
      "  warnings.warn(\n"
     ]
    },
    {
     "name": "stdout",
     "output_type": "stream",
     "text": [
      "{'ner': 9727.798934483588}\n"
     ]
    },
    {
     "name": "stderr",
     "output_type": "stream",
     "text": [
      "C:\\Users\\teddy\\miniconda3\\envs\\NLP_env\\lib\\site-packages\\spacy\\training\\iob_utils.py:141: UserWarning: [W030] Some entities could not be aligned in the text \"Sarfaraz Ahmad\n",
      "Associate network engineer - TATA C...\" with entities \"[(0, 14, 'Name'), (44, 68, 'Companies worked at'),...\". Use `spacy.training.offsets_to_biluo_tags(nlp.make_doc(text), entities)` to check the alignment. Misaligned entities ('-') will be ignored during training.\n",
      "  warnings.warn(\n"
     ]
    },
    {
     "name": "stdout",
     "output_type": "stream",
     "text": [
      "{'ner': 9747.267575567372}\n"
     ]
    },
    {
     "name": "stderr",
     "output_type": "stream",
     "text": [
      "C:\\Users\\teddy\\miniconda3\\envs\\NLP_env\\lib\\site-packages\\spacy\\training\\iob_utils.py:141: UserWarning: [W030] Some entities could not be aligned in the text \"Puneet Bhandari\n",
      "SAP SD lead - Microsoft IT\n",
      "\n",
      "Pune, ...\" with entities \"[(8223, 8280, 'Degree'), (0, 15, 'Name'), (8154, 8...\". Use `spacy.training.offsets_to_biluo_tags(nlp.make_doc(text), entities)` to check the alignment. Misaligned entities ('-') will be ignored during training.\n",
      "  warnings.warn(\n",
      "C:\\Users\\teddy\\miniconda3\\envs\\NLP_env\\lib\\site-packages\\spacy\\training\\iob_utils.py:141: UserWarning: [W030] Some entities could not be aligned in the text \"Puneet Bhandari\n",
      "SAP SD lead - Microsoft IT\n",
      "\n",
      "Pune, ...\" with entities \"[(1576, 1580, 'Location'), (0, 4, 'Location')]\". Use `spacy.training.offsets_to_biluo_tags(nlp.make_doc(text), entities)` to check the alignment. Misaligned entities ('-') will be ignored during training.\n",
      "  warnings.warn(\n"
     ]
    },
    {
     "name": "stdout",
     "output_type": "stream",
     "text": [
      "{'ner': 9777.396532860826}\n"
     ]
    },
    {
     "name": "stderr",
     "output_type": "stream",
     "text": [
      "C:\\Users\\teddy\\miniconda3\\envs\\NLP_env\\lib\\site-packages\\spacy\\training\\iob_utils.py:141: UserWarning: [W030] Some entities could not be aligned in the text \"Srabani Das\n",
      "software engineer - Oracle, Business O...\" with entities \"[(353, 371, 'Designation'), (372, 378, 'Companies ...\". Use `spacy.training.offsets_to_biluo_tags(nlp.make_doc(text), entities)` to check the alignment. Misaligned entities ('-') will be ignored during training.\n",
      "  warnings.warn(\n"
     ]
    },
    {
     "name": "stdout",
     "output_type": "stream",
     "text": [
      "{'ner': 9806.943571237005}\n"
     ]
    },
    {
     "name": "stderr",
     "output_type": "stream",
     "text": [
      "C:\\Users\\teddy\\miniconda3\\envs\\NLP_env\\lib\\site-packages\\spacy\\training\\iob_utils.py:141: UserWarning: [W030] Some entities could not be aligned in the text \"Sweety Garg\n",
      "Bengaluru, Karnataka - Email me on Ind...\" with entities \"[(367, 519, 'Skills'), (185, 189, 'Graduation Year...\". Use `spacy.training.offsets_to_biluo_tags(nlp.make_doc(text), entities)` to check the alignment. Misaligned entities ('-') will be ignored during training.\n",
      "  warnings.warn(\n",
      "C:\\Users\\teddy\\miniconda3\\envs\\NLP_env\\lib\\site-packages\\spacy\\training\\iob_utils.py:141: UserWarning: [W030] Some entities could not be aligned in the text \"Sweety Garg\n",
      "Bengaluru, Karnataka - Email me on Ind...\" with entities \"[(381, 391, 'Companies worked at'), (411, 421, 'Co...\". Use `spacy.training.offsets_to_biluo_tags(nlp.make_doc(text), entities)` to check the alignment. Misaligned entities ('-') will be ignored during training.\n",
      "  warnings.warn(\n"
     ]
    },
    {
     "name": "stdout",
     "output_type": "stream",
     "text": [
      "{'ner': 9818.010536259644}\n"
     ]
    },
    {
     "name": "stderr",
     "output_type": "stream",
     "text": [
      "C:\\Users\\teddy\\miniconda3\\envs\\NLP_env\\lib\\site-packages\\spacy\\training\\iob_utils.py:141: UserWarning: [W030] Some entities could not be aligned in the text \"Pratik Vaidya\n",
      "Pune, Maharashtra - Email me on Inde...\" with entities \"[(645, 649, 'Graduation Year'), (1812, 1816, 'Grad...\". Use `spacy.training.offsets_to_biluo_tags(nlp.make_doc(text), entities)` to check the alignment. Misaligned entities ('-') will be ignored during training.\n",
      "  warnings.warn(\n"
     ]
    },
    {
     "name": "stdout",
     "output_type": "stream",
     "text": [
      "{'ner': 9839.50069038081}\n"
     ]
    },
    {
     "name": "stderr",
     "output_type": "stream",
     "text": [
      "C:\\Users\\teddy\\miniconda3\\envs\\NLP_env\\lib\\site-packages\\spacy\\training\\iob_utils.py:141: UserWarning: [W030] Some entities could not be aligned in the text \"shrikant desai\n",
      "Working as accountant @ infosys\n",
      "\n",
      "Pu...\" with entities \"[(391, 396, 'Degree'), (323, 341, 'College Name'),...\". Use `spacy.training.offsets_to_biluo_tags(nlp.make_doc(text), entities)` to check the alignment. Misaligned entities ('-') will be ignored during training.\n",
      "  warnings.warn(\n"
     ]
    },
    {
     "name": "stdout",
     "output_type": "stream",
     "text": [
      "{'ner': 9854.184135810074}\n"
     ]
    },
    {
     "name": "stderr",
     "output_type": "stream",
     "text": [
      "C:\\Users\\teddy\\miniconda3\\envs\\NLP_env\\lib\\site-packages\\spacy\\training\\iob_utils.py:141: UserWarning: [W030] Some entities could not be aligned in the text \"Akansha Jain\n",
      "Pune, Maharashtra - Email me on Indee...\" with entities \"[(1263, 1379, 'Skills'), (1072, 1095, 'College Nam...\". Use `spacy.training.offsets_to_biluo_tags(nlp.make_doc(text), entities)` to check the alignment. Misaligned entities ('-') will be ignored during training.\n",
      "  warnings.warn(\n",
      "C:\\Users\\teddy\\miniconda3\\envs\\NLP_env\\lib\\site-packages\\spacy\\training\\iob_utils.py:141: UserWarning: [W030] Some entities could not be aligned in the text \"Akansha Jain\n",
      "Pune, Maharashtra - Email me on Indee...\" with entities \"[(1573, 1578, 'Graduation Year'), (1514, 1523, 'Co...\". Use `spacy.training.offsets_to_biluo_tags(nlp.make_doc(text), entities)` to check the alignment. Misaligned entities ('-') will be ignored during training.\n",
      "  warnings.warn(\n"
     ]
    },
    {
     "name": "stdout",
     "output_type": "stream",
     "text": [
      "{'ner': 9863.466886639739}\n"
     ]
    },
    {
     "name": "stderr",
     "output_type": "stream",
     "text": [
      "C:\\Users\\teddy\\miniconda3\\envs\\NLP_env\\lib\\site-packages\\spacy\\training\\iob_utils.py:141: UserWarning: [W030] Some entities could not be aligned in the text \"Asha Subbaiah\n",
      "(Microsoft Partner Readiness Operati...\" with entities \"[(1200, 1209, 'Location'), (137, 181, 'Email Addre...\". Use `spacy.training.offsets_to_biluo_tags(nlp.make_doc(text), entities)` to check the alignment. Misaligned entities ('-') will be ignored during training.\n",
      "  warnings.warn(\n"
     ]
    },
    {
     "name": "stdout",
     "output_type": "stream",
     "text": [
      "{'ner': 9872.8172474687}\n"
     ]
    },
    {
     "name": "stderr",
     "output_type": "stream",
     "text": [
      "C:\\Users\\teddy\\miniconda3\\envs\\NLP_env\\lib\\site-packages\\spacy\\training\\iob_utils.py:141: UserWarning: [W030] Some entities could not be aligned in the text \"Ramakrishna Rao\n",
      "DevOps Consultant - Tech Mahindra ...\" with entities \"[(4581, 4599, 'College Name'), (5795, 5812, 'Compa...\". Use `spacy.training.offsets_to_biluo_tags(nlp.make_doc(text), entities)` to check the alignment. Misaligned entities ('-') will be ignored during training.\n",
      "  warnings.warn(\n"
     ]
    },
    {
     "name": "stdout",
     "output_type": "stream",
     "text": [
      "{'ner': 9892.33156542813}\n",
      "{'ner': 9975.953880022817}\n"
     ]
    },
    {
     "name": "stderr",
     "output_type": "stream",
     "text": [
      "C:\\Users\\teddy\\miniconda3\\envs\\NLP_env\\lib\\site-packages\\spacy\\training\\iob_utils.py:141: UserWarning: [W030] Some entities could not be aligned in the text \"Shaheen Unissa\n",
      "SAP ABAP Consultant\n",
      "\n",
      "Hyderabad, Tel...\" with entities \"[(2250, 2261, 'Designation'), (5349, 5357, 'Compan...\". Use `spacy.training.offsets_to_biluo_tags(nlp.make_doc(text), entities)` to check the alignment. Misaligned entities ('-') will be ignored during training.\n",
      "  warnings.warn(\n"
     ]
    },
    {
     "name": "stdout",
     "output_type": "stream",
     "text": [
      "{'ner': 10009.437271253932}\n"
     ]
    },
    {
     "name": "stderr",
     "output_type": "stream",
     "text": [
      "C:\\Users\\teddy\\miniconda3\\envs\\NLP_env\\lib\\site-packages\\spacy\\training\\iob_utils.py:141: UserWarning: [W030] Some entities could not be aligned in the text \"Jitendra Babu\n",
      "FI/CO Consultant in Tech Mahindra - ...\" with entities \"[(1555, 1563, 'Companies worked at'), (50, 58, 'Co...\". Use `spacy.training.offsets_to_biluo_tags(nlp.make_doc(text), entities)` to check the alignment. Misaligned entities ('-') will be ignored during training.\n",
      "  warnings.warn(\n"
     ]
    },
    {
     "name": "stdout",
     "output_type": "stream",
     "text": [
      "{'ner': 10033.389206719343}\n"
     ]
    },
    {
     "name": "stderr",
     "output_type": "stream",
     "text": [
      "C:\\Users\\teddy\\miniconda3\\envs\\NLP_env\\lib\\site-packages\\spacy\\training\\iob_utils.py:141: UserWarning: [W030] Some entities could not be aligned in the text \"Jay Madhavi\n",
      "Navi Mumbai, Maharashtra - Email me on...\" with entities \"[(1488, 1492, 'Graduation Year'), (1415, 1439, 'De...\". Use `spacy.training.offsets_to_biluo_tags(nlp.make_doc(text), entities)` to check the alignment. Misaligned entities ('-') will be ignored during training.\n",
      "  warnings.warn(\n"
     ]
    },
    {
     "name": "stdout",
     "output_type": "stream",
     "text": [
      "{'ner': 10056.817706095615}\n"
     ]
    },
    {
     "name": "stderr",
     "output_type": "stream",
     "text": [
      "C:\\Users\\teddy\\miniconda3\\envs\\NLP_env\\lib\\site-packages\\spacy\\training\\iob_utils.py:141: UserWarning: [W030] Some entities could not be aligned in the text \"Srushti Bhadale\n",
      "Mumbai, Maharashtra - Email me on ...\" with entities \"[(58, 103, 'Email Address'), (1397, 1401, 'Graduat...\". Use `spacy.training.offsets_to_biluo_tags(nlp.make_doc(text), entities)` to check the alignment. Misaligned entities ('-') will be ignored during training.\n",
      "  warnings.warn(\n"
     ]
    },
    {
     "name": "stdout",
     "output_type": "stream",
     "text": [
      "{'ner': 10132.259245442787}\n"
     ]
    },
    {
     "name": "stderr",
     "output_type": "stream",
     "text": [
      "C:\\Users\\teddy\\miniconda3\\envs\\NLP_env\\lib\\site-packages\\spacy\\training\\iob_utils.py:141: UserWarning: [W030] Some entities could not be aligned in the text \"Madas Peddaiah\n",
      "Anantapur, Andhra Pradesh - Email m...\" with entities \"[(2917, 2921, 'Graduation Year'), (2418, 2422, 'Gr...\". Use `spacy.training.offsets_to_biluo_tags(nlp.make_doc(text), entities)` to check the alignment. Misaligned entities ('-') will be ignored during training.\n",
      "  warnings.warn(\n"
     ]
    },
    {
     "name": "stdout",
     "output_type": "stream",
     "text": [
      "{'ner': 10175.934328698182}\n"
     ]
    },
    {
     "name": "stderr",
     "output_type": "stream",
     "text": [
      "C:\\Users\\teddy\\miniconda3\\envs\\NLP_env\\lib\\site-packages\\spacy\\training\\iob_utils.py:141: UserWarning: [W030] Some entities could not be aligned in the text \"Siddhartha Chetri\n",
      "7 years of experience in IT Netw...\" with entities \"[(4215, 4219, 'Graduation Year'), (18, 25, 'Years ...\". Use `spacy.training.offsets_to_biluo_tags(nlp.make_doc(text), entities)` to check the alignment. Misaligned entities ('-') will be ignored during training.\n",
      "  warnings.warn(\n"
     ]
    },
    {
     "name": "stdout",
     "output_type": "stream",
     "text": [
      "{'ner': 10183.147919714702}\n"
     ]
    },
    {
     "name": "stderr",
     "output_type": "stream",
     "text": [
      "C:\\Users\\teddy\\miniconda3\\envs\\NLP_env\\lib\\site-packages\\spacy\\training\\iob_utils.py:141: UserWarning: [W030] Some entities could not be aligned in the text \"Sumit Kubade\n",
      "SAP - FI Support Consultant - SAP FI\n",
      "...\" with entities \"[(2845, 2849, 'Location'), (51, 55, 'Location'), (...\". Use `spacy.training.offsets_to_biluo_tags(nlp.make_doc(text), entities)` to check the alignment. Misaligned entities ('-') will be ignored during training.\n",
      "  warnings.warn(\n"
     ]
    },
    {
     "name": "stdout",
     "output_type": "stream",
     "text": [
      "{'ner': 10216.178358050522}\n"
     ]
    },
    {
     "name": "stderr",
     "output_type": "stream",
     "text": [
      "C:\\Users\\teddy\\miniconda3\\envs\\NLP_env\\lib\\site-packages\\spacy\\training\\iob_utils.py:141: UserWarning: [W030] Some entities could not be aligned in the text \"Shivam Rathi\n",
      "Microsoft technology Associate (MTA)\n",
      "...\" with entities \"[(13, 49, 'Designation'), (1144, 1176, 'College Na...\". Use `spacy.training.offsets_to_biluo_tags(nlp.make_doc(text), entities)` to check the alignment. Misaligned entities ('-') will be ignored during training.\n",
      "  warnings.warn(\n"
     ]
    },
    {
     "name": "stdout",
     "output_type": "stream",
     "text": [
      "{'ner': 10227.905762803675}\n"
     ]
    },
    {
     "name": "stderr",
     "output_type": "stream",
     "text": [
      "C:\\Users\\teddy\\miniconda3\\envs\\NLP_env\\lib\\site-packages\\spacy\\training\\iob_utils.py:141: UserWarning: [W030] Some entities could not be aligned in the text \"Bike Rally\n",
      "Chief Coordinator of LEAR\n",
      "\n",
      "Palghat, Ker...\" with entities \"[(76, 117, 'Email Address'), (686, 695, 'Companies...\". Use `spacy.training.offsets_to_biluo_tags(nlp.make_doc(text), entities)` to check the alignment. Misaligned entities ('-') will be ignored during training.\n",
      "  warnings.warn(\n"
     ]
    },
    {
     "name": "stdout",
     "output_type": "stream",
     "text": [
      "{'ner': 10239.384574724512}\n"
     ]
    },
    {
     "name": "stderr",
     "output_type": "stream",
     "text": [
      "C:\\Users\\teddy\\miniconda3\\envs\\NLP_env\\lib\\site-packages\\spacy\\training\\iob_utils.py:141: UserWarning: [W030] Some entities could not be aligned in the text \"Jacob Philip\n",
      "Kottayam, Kerala - Email me on Indeed...\" with entities \"[(2165, 2215, 'Skills'), (2145, 2155, 'Degree'), (...\". Use `spacy.training.offsets_to_biluo_tags(nlp.make_doc(text), entities)` to check the alignment. Misaligned entities ('-') will be ignored during training.\n",
      "  warnings.warn(\n"
     ]
    },
    {
     "name": "stdout",
     "output_type": "stream",
     "text": [
      "{'ner': 10248.495154296073}\n",
      "{'ner': 10248.495154296073}\n"
     ]
    },
    {
     "name": "stderr",
     "output_type": "stream",
     "text": [
      "C:\\Users\\teddy\\miniconda3\\envs\\NLP_env\\lib\\site-packages\\spacy\\training\\iob_utils.py:141: UserWarning: [W030] Some entities could not be aligned in the text \"Shrinidhi Selva Kumar\n",
      "NOC and QA Engineer at Skava...\" with entities \"[(44, 69, 'Companies worked at'), (85, 95, 'Locati...\". Use `spacy.training.offsets_to_biluo_tags(nlp.make_doc(text), entities)` to check the alignment. Misaligned entities ('-') will be ignored during training.\n",
      "  warnings.warn(\n",
      "C:\\Users\\teddy\\miniconda3\\envs\\NLP_env\\lib\\site-packages\\spacy\\training\\iob_utils.py:141: UserWarning: [W030] Some entities could not be aligned in the text \"Vineeth Vijayan\n",
      "\"Store Executive\" - Orange City Ho...\" with entities \"[(79, 85, 'Location'), (700, 715, 'Designation'), ...\". Use `spacy.training.offsets_to_biluo_tags(nlp.make_doc(text), entities)` to check the alignment. Misaligned entities ('-') will be ignored during training.\n",
      "  warnings.warn(\n"
     ]
    },
    {
     "name": "stdout",
     "output_type": "stream",
     "text": [
      "{'ner': 10259.950285783696}\n",
      "{'ner': 10259.950285783696}\n"
     ]
    },
    {
     "name": "stderr",
     "output_type": "stream",
     "text": [
      "C:\\Users\\teddy\\miniconda3\\envs\\NLP_env\\lib\\site-packages\\spacy\\training\\iob_utils.py:141: UserWarning: [W030] Some entities could not be aligned in the text \"K. Siddharth\n",
      "System Administrator (Server) Microso...\" with entities \"[(0, 12, 'Name'), (1749, 1766, 'Location'), (43, 5...\". Use `spacy.training.offsets_to_biluo_tags(nlp.make_doc(text), entities)` to check the alignment. Misaligned entities ('-') will be ignored during training.\n",
      "  warnings.warn(\n",
      "C:\\Users\\teddy\\miniconda3\\envs\\NLP_env\\lib\\site-packages\\spacy\\training\\iob_utils.py:141: UserWarning: [W030] Some entities could not be aligned in the text \"Raktim Podder\n",
      "6+ Exp in banking operations and cre...\" with entities \"[(204, 207, 'Companies worked at'), (199, 202, 'De...\". Use `spacy.training.offsets_to_biluo_tags(nlp.make_doc(text), entities)` to check the alignment. Misaligned entities ('-') will be ignored during training.\n",
      "  warnings.warn(\n"
     ]
    },
    {
     "name": "stdout",
     "output_type": "stream",
     "text": [
      "{'ner': 10269.467601686667}\n"
     ]
    },
    {
     "name": "stderr",
     "output_type": "stream",
     "text": [
      "C:\\Users\\teddy\\miniconda3\\envs\\NLP_env\\lib\\site-packages\\spacy\\training\\iob_utils.py:141: UserWarning: [W030] Some entities could not be aligned in the text \"Shraddha Achar\n",
      "Mathura, Uttar Pradesh - Email me o...\" with entities \"[(0, 14, 'Name'), (151, 159, 'Designation'), (723,...\". Use `spacy.training.offsets_to_biluo_tags(nlp.make_doc(text), entities)` to check the alignment. Misaligned entities ('-') will be ignored during training.\n",
      "  warnings.warn(\n",
      "C:\\Users\\teddy\\miniconda3\\envs\\NLP_env\\lib\\site-packages\\spacy\\training\\iob_utils.py:141: UserWarning: [W030] Some entities could not be aligned in the text \"Shraddha Achar\n",
      "Mathura, Uttar Pradesh - Email me o...\" with entities \"[(142, 151, 'Years of Experience')]\". Use `spacy.training.offsets_to_biluo_tags(nlp.make_doc(text), entities)` to check the alignment. Misaligned entities ('-') will be ignored during training.\n",
      "  warnings.warn(\n"
     ]
    },
    {
     "name": "stdout",
     "output_type": "stream",
     "text": [
      "{'ner': 10275.501666092248}\n",
      "{'ner': 10275.501666092248}\n"
     ]
    },
    {
     "name": "stderr",
     "output_type": "stream",
     "text": [
      "C:\\Users\\teddy\\miniconda3\\envs\\NLP_env\\lib\\site-packages\\spacy\\training\\iob_utils.py:141: UserWarning: [W030] Some entities could not be aligned in the text \"amarjyot sodhi\n",
      "Voice and Accent Trainer :Masters i...\" with entities \"[(86, 93, 'Years of Experience'), (549, 558, 'Loca...\". Use `spacy.training.offsets_to_biluo_tags(nlp.make_doc(text), entities)` to check the alignment. Misaligned entities ('-') will be ignored during training.\n",
      "  warnings.warn(\n"
     ]
    },
    {
     "name": "stdout",
     "output_type": "stream",
     "text": [
      "{'ner': 10298.829072214943}\n",
      "{'ner': 10298.829072214943}\n"
     ]
    },
    {
     "name": "stderr",
     "output_type": "stream",
     "text": [
      "C:\\Users\\teddy\\miniconda3\\envs\\NLP_env\\lib\\site-packages\\spacy\\training\\iob_utils.py:141: UserWarning: [W030] Some entities could not be aligned in the text \"Nitin Tr\n",
      "PeopleSoft Consultant\n",
      "\n",
      "Bangalore Urban, K...\" with entities \"[(81, 119, 'Email Address'), (3242, 3271, 'College...\". Use `spacy.training.offsets_to_biluo_tags(nlp.make_doc(text), entities)` to check the alignment. Misaligned entities ('-') will be ignored during training.\n",
      "  warnings.warn(\n",
      "C:\\Users\\teddy\\miniconda3\\envs\\NLP_env\\lib\\site-packages\\spacy\\training\\iob_utils.py:141: UserWarning: [W030] Some entities could not be aligned in the text \"Valarmathi Dhandapani\n",
      "Investment Banking Operation...\" with entities \"[(2191, 2194, 'Designation'), (57, 66, 'Location')...\". Use `spacy.training.offsets_to_biluo_tags(nlp.make_doc(text), entities)` to check the alignment. Misaligned entities ('-') will be ignored during training.\n",
      "  warnings.warn(\n"
     ]
    },
    {
     "name": "stdout",
     "output_type": "stream",
     "text": [
      "{'ner': 10497.311171986443}\n"
     ]
    },
    {
     "name": "stderr",
     "output_type": "stream",
     "text": [
      "C:\\Users\\teddy\\miniconda3\\envs\\NLP_env\\lib\\site-packages\\spacy\\training\\iob_utils.py:141: UserWarning: [W030] Some entities could not be aligned in the text \"Vijayalakshmi Govindarajan\n",
      "SAP as a Consultant - S...\" with entities \"[(4869, 4878, 'Companies worked at'), (102, 159, '...\". Use `spacy.training.offsets_to_biluo_tags(nlp.make_doc(text), entities)` to check the alignment. Misaligned entities ('-') will be ignored during training.\n",
      "  warnings.warn(\n",
      "C:\\Users\\teddy\\miniconda3\\envs\\NLP_env\\lib\\site-packages\\spacy\\training\\iob_utils.py:141: UserWarning: [W030] Some entities could not be aligned in the text \"Siddharth Choudhary\n",
      "Microsoft Office Suite - Exper...\" with entities \"[(20, 51, 'Designation'), (785, 956, 'Skills'), (6...\". Use `spacy.training.offsets_to_biluo_tags(nlp.make_doc(text), entities)` to check the alignment. Misaligned entities ('-') will be ignored during training.\n",
      "  warnings.warn(\n",
      "C:\\Users\\teddy\\miniconda3\\envs\\NLP_env\\lib\\site-packages\\spacy\\training\\iob_utils.py:141: UserWarning: [W030] Some entities could not be aligned in the text \"Anand S\n",
      "Bangalore, Karnataka - Email me on Indeed:...\" with entities \"[(51, 89, 'Email Address'), (8, 17, 'Location'), (...\". Use `spacy.training.offsets_to_biluo_tags(nlp.make_doc(text), entities)` to check the alignment. Misaligned entities ('-') will be ignored during training.\n",
      "  warnings.warn(\n"
     ]
    },
    {
     "name": "stdout",
     "output_type": "stream",
     "text": [
      "{'ner': 10497.311171986443}\n",
      "{'ner': 10497.311171986443}\n",
      "{'ner': 10509.777439671181}\n"
     ]
    },
    {
     "name": "stderr",
     "output_type": "stream",
     "text": [
      "C:\\Users\\teddy\\miniconda3\\envs\\NLP_env\\lib\\site-packages\\spacy\\training\\iob_utils.py:141: UserWarning: [W030] Some entities could not be aligned in the text \"Rahul Tayade\n",
      "Global Production Support Lead, - Inf...\" with entities \"[(85, 89, 'Location'), (5268, 5272, 'Location'), (...\". Use `spacy.training.offsets_to_biluo_tags(nlp.make_doc(text), entities)` to check the alignment. Misaligned entities ('-') will be ignored during training.\n",
      "  warnings.warn(\n",
      "C:\\Users\\teddy\\miniconda3\\envs\\NLP_env\\lib\\site-packages\\spacy\\training\\iob_utils.py:141: UserWarning: [W030] Some entities could not be aligned in the text \"Rahul Tayade\n",
      "Global Production Support Lead, - Inf...\" with entities \"[(2907, 2937, 'Designation')]\". Use `spacy.training.offsets_to_biluo_tags(nlp.make_doc(text), entities)` to check the alignment. Misaligned entities ('-') will be ignored during training.\n",
      "  warnings.warn(\n"
     ]
    },
    {
     "name": "stdout",
     "output_type": "stream",
     "text": [
      "{'ner': 10509.777439671181}\n"
     ]
    },
    {
     "name": "stderr",
     "output_type": "stream",
     "text": [
      "C:\\Users\\teddy\\miniconda3\\envs\\NLP_env\\lib\\site-packages\\spacy\\training\\iob_utils.py:141: UserWarning: [W030] Some entities could not be aligned in the text \"Anil Kumar\n",
      "Microsoft Azure (Basic Management)\n",
      "\n",
      "Del...\" with entities \"[(0, 10, 'Name'), (2363, 2452, 'Skills'), (555, 58...\". Use `spacy.training.offsets_to_biluo_tags(nlp.make_doc(text), entities)` to check the alignment. Misaligned entities ('-') will be ignored during training.\n",
      "  warnings.warn(\n",
      "C:\\Users\\teddy\\miniconda3\\envs\\NLP_env\\lib\\site-packages\\spacy\\training\\iob_utils.py:141: UserWarning: [W030] Some entities could not be aligned in the text \"Partho Sarathi Mitra\n",
      "Kolkata, West Bengal - Email ...\" with entities \"[(21, 28, 'Location'), (158, 183, 'Companies worke...\". Use `spacy.training.offsets_to_biluo_tags(nlp.make_doc(text), entities)` to check the alignment. Misaligned entities ('-') will be ignored during training.\n",
      "  warnings.warn(\n"
     ]
    },
    {
     "name": "stdout",
     "output_type": "stream",
     "text": [
      "{'ner': 10509.777439671181}\n",
      "{'ner': 10515.204461177977}\n"
     ]
    },
    {
     "name": "stderr",
     "output_type": "stream",
     "text": [
      "C:\\Users\\teddy\\miniconda3\\envs\\NLP_env\\lib\\site-packages\\spacy\\training\\iob_utils.py:141: UserWarning: [W030] Some entities could not be aligned in the text \"Paul Rajiv\n",
      "Secunderabad, Andhra Pradesh - Email me...\" with entities \"[(4729, 4733, 'Graduation Year'), (153, 172, 'Desi...\". Use `spacy.training.offsets_to_biluo_tags(nlp.make_doc(text), entities)` to check the alignment. Misaligned entities ('-') will be ignored during training.\n",
      "  warnings.warn(\n"
     ]
    },
    {
     "name": "stdout",
     "output_type": "stream",
     "text": [
      "{'ner': 10525.90208850224}\n"
     ]
    },
    {
     "name": "stderr",
     "output_type": "stream",
     "text": [
      "C:\\Users\\teddy\\miniconda3\\envs\\NLP_env\\lib\\site-packages\\spacy\\training\\iob_utils.py:141: UserWarning: [W030] Some entities could not be aligned in the text \"Vinay Singhal\n",
      "New Delhi, Delhi - Email me on Indee...\" with entities \"[(937, 980, 'Email Address'), (356, 389, 'Designat...\". Use `spacy.training.offsets_to_biluo_tags(nlp.make_doc(text), entities)` to check the alignment. Misaligned entities ('-') will be ignored during training.\n",
      "  warnings.warn(\n"
     ]
    },
    {
     "name": "stdout",
     "output_type": "stream",
     "text": [
      "{'ner': 10534.106850896902}\n",
      "{'ner': 10534.106850896902}\n"
     ]
    },
    {
     "name": "stderr",
     "output_type": "stream",
     "text": [
      "C:\\Users\\teddy\\miniconda3\\envs\\NLP_env\\lib\\site-packages\\spacy\\training\\iob_utils.py:141: UserWarning: [W030] Some entities could not be aligned in the text \"Karthihayini C\n",
      "Systems Engineer - Infosys Limited\n",
      "...\" with entities \"[(910, 939, 'Degree'), (482, 497, 'Companies worke...\". Use `spacy.training.offsets_to_biluo_tags(nlp.make_doc(text), entities)` to check the alignment. Misaligned entities ('-') will be ignored during training.\n",
      "  warnings.warn(\n",
      "C:\\Users\\teddy\\miniconda3\\envs\\NLP_env\\lib\\site-packages\\spacy\\training\\iob_utils.py:141: UserWarning: [W030] Some entities could not be aligned in the text \"Aarti Pimplay\n",
      "Operations Center Shift Manager (OCS...\" with entities \"[(2333, 2341, 'Companies worked at'), (14, 52, 'De...\". Use `spacy.training.offsets_to_biluo_tags(nlp.make_doc(text), entities)` to check the alignment. Misaligned entities ('-') will be ignored during training.\n",
      "  warnings.warn(\n"
     ]
    },
    {
     "name": "stdout",
     "output_type": "stream",
     "text": [
      "{'ner': 10537.42690242099}\n",
      "{'ner': 10537.42690242099}\n"
     ]
    },
    {
     "name": "stderr",
     "output_type": "stream",
     "text": [
      "C:\\Users\\teddy\\miniconda3\\envs\\NLP_env\\lib\\site-packages\\spacy\\training\\iob_utils.py:141: UserWarning: [W030] Some entities could not be aligned in the text \"Prakriti Shaurya\n",
      "Senior System Engineer - Infosys ...\" with entities \"[(500, 522, 'Designation'), (524, 539, 'Companies ...\". Use `spacy.training.offsets_to_biluo_tags(nlp.make_doc(text), entities)` to check the alignment. Misaligned entities ('-') will be ignored during training.\n",
      "  warnings.warn(\n",
      "C:\\Users\\teddy\\miniconda3\\envs\\NLP_env\\lib\\site-packages\\spacy\\training\\iob_utils.py:141: UserWarning: [W030] Some entities could not be aligned in the text \"Mohammed Murtuza\n",
      "Major Incident Manager / Escalati...\" with entities \"[(234, 249, 'Companies worked at'), (7767, 7803, '...\". Use `spacy.training.offsets_to_biluo_tags(nlp.make_doc(text), entities)` to check the alignment. Misaligned entities ('-') will be ignored during training.\n",
      "  warnings.warn(\n",
      "C:\\Users\\teddy\\miniconda3\\envs\\NLP_env\\lib\\site-packages\\spacy\\training\\iob_utils.py:141: UserWarning: [W030] Some entities could not be aligned in the text \"Sai Dhir\n",
      "- Email me on Indeed: indeed.com/r/Sai-Dh...\" with entities \"[(2956, 3016, 'Skills'), (31, 69, 'Email Address')...\". Use `spacy.training.offsets_to_biluo_tags(nlp.make_doc(text), entities)` to check the alignment. Misaligned entities ('-') will be ignored during training.\n",
      "  warnings.warn(\n"
     ]
    },
    {
     "name": "stdout",
     "output_type": "stream",
     "text": [
      "{'ner': 10537.42690242099}\n",
      "{'ner': 10537.42690242099}\n"
     ]
    },
    {
     "name": "stderr",
     "output_type": "stream",
     "text": [
      "C:\\Users\\teddy\\miniconda3\\envs\\NLP_env\\lib\\site-packages\\spacy\\training\\iob_utils.py:141: UserWarning: [W030] Some entities could not be aligned in the text \"Angad Waghmare\n",
      "Pune, Maharashtra - Email me on Ind...\" with entities \"[(3878, 3937, 'Degree'), (15, 19, 'Location'), (55...\". Use `spacy.training.offsets_to_biluo_tags(nlp.make_doc(text), entities)` to check the alignment. Misaligned entities ('-') will be ignored during training.\n",
      "  warnings.warn(\n",
      "C:\\Users\\teddy\\miniconda3\\envs\\NLP_env\\lib\\site-packages\\spacy\\training\\iob_utils.py:141: UserWarning: [W030] Some entities could not be aligned in the text \"Sameer Kujur\n",
      "Orrisha - Email me on Indeed: indeed....\" with entities \"[(117, 126, 'Companies worked at'), (103, 116, 'De...\". Use `spacy.training.offsets_to_biluo_tags(nlp.make_doc(text), entities)` to check the alignment. Misaligned entities ('-') will be ignored during training.\n",
      "  warnings.warn(\n"
     ]
    },
    {
     "name": "stdout",
     "output_type": "stream",
     "text": [
      "{'ner': 10537.42690242099}\n",
      "{'ner': 10547.183184628815}\n",
      "{'ner': 10547.183184628815}\n"
     ]
    },
    {
     "name": "stderr",
     "output_type": "stream",
     "text": [
      "C:\\Users\\teddy\\miniconda3\\envs\\NLP_env\\lib\\site-packages\\spacy\\training\\iob_utils.py:141: UserWarning: [W030] Some entities could not be aligned in the text \"Gaikwad Dilip\n",
      "Microsoft Dainamic Software Billing ...\" with entities \"[(608, 652, 'Designation'), (951, 990, 'Skills'), ...\". Use `spacy.training.offsets_to_biluo_tags(nlp.make_doc(text), entities)` to check the alignment. Misaligned entities ('-') will be ignored during training.\n",
      "  warnings.warn(\n"
     ]
    },
    {
     "name": "stdout",
     "output_type": "stream",
     "text": [
      "{'ner': 10547.183184628815}\n",
      "{'ner': 10547.183184628815}\n"
     ]
    },
    {
     "name": "stderr",
     "output_type": "stream",
     "text": [
      "C:\\Users\\teddy\\miniconda3\\envs\\NLP_env\\lib\\site-packages\\spacy\\training\\iob_utils.py:141: UserWarning: [W030] Some entities could not be aligned in the text \"Vishwanath P\n",
      "Senior Executive (MIS & Audit) - Job ...\" with entities \"[(2392, 2434, 'Email Address'), (13, 44, 'Designat...\". Use `spacy.training.offsets_to_biluo_tags(nlp.make_doc(text), entities)` to check the alignment. Misaligned entities ('-') will be ignored during training.\n",
      "  warnings.warn(\n",
      "C:\\Users\\teddy\\miniconda3\\envs\\NLP_env\\lib\\site-packages\\spacy\\training\\iob_utils.py:141: UserWarning: [W030] Some entities could not be aligned in the text \"Shreyanshu Gupta\n",
      "Software Development Engineer wit...\" with entities \"[(4088, 4096, 'Skills'), (2069, 2076, 'Skills'), (...\". Use `spacy.training.offsets_to_biluo_tags(nlp.make_doc(text), entities)` to check the alignment. Misaligned entities ('-') will be ignored during training.\n",
      "  warnings.warn(\n",
      "C:\\Users\\teddy\\miniconda3\\envs\\NLP_env\\lib\\site-packages\\spacy\\training\\iob_utils.py:141: UserWarning: [W030] Some entities could not be aligned in the text \"Ajay Elango\n",
      "Software Engineer\n",
      "\n",
      "Bangalore City, Kar...\" with entities \"[(6845, 6875, 'College Name'), (6698, 6729, 'Colle...\". Use `spacy.training.offsets_to_biluo_tags(nlp.make_doc(text), entities)` to check the alignment. Misaligned entities ('-') will be ignored during training.\n",
      "  warnings.warn(\n",
      "C:\\Users\\teddy\\miniconda3\\envs\\NLP_env\\lib\\site-packages\\spacy\\training\\iob_utils.py:141: UserWarning: [W030] Some entities could not be aligned in the text \"Hartej Kathuria\n",
      "Data Analyst Intern - Oracle Retai...\" with entities \"[(96, 141, 'Email Address'), (875, 964, 'Skills'),...\". Use `spacy.training.offsets_to_biluo_tags(nlp.make_doc(text), entities)` to check the alignment. Misaligned entities ('-') will be ignored during training.\n",
      "  warnings.warn(\n"
     ]
    },
    {
     "name": "stdout",
     "output_type": "stream",
     "text": [
      "{'ner': 10547.183184628815}\n",
      "{'ner': 10547.183184628815}\n",
      "Starting iteration\n",
      "{'ner': 0.0}\n",
      "{'ner': 6.6033787068853895}\n",
      "{'ner': 14.414215672518187}\n",
      "{'ner': 14.414215672518187}\n",
      "{'ner': 14.414215672518187}\n",
      "{'ner': 14.414215672518187}\n",
      "{'ner': 14.414215672518187}\n",
      "{'ner': 14.414215672518187}\n",
      "{'ner': 14.414215672518187}\n",
      "{'ner': 14.414215672518187}\n",
      "{'ner': 14.414215672518187}\n",
      "{'ner': 14.414215672518187}\n",
      "{'ner': 14.414215672518187}\n",
      "{'ner': 14.414215672518187}\n",
      "{'ner': 14.414215672518187}\n",
      "{'ner': 14.414215672518187}\n",
      "{'ner': 19.176011437771393}\n",
      "{'ner': 19.176011437771393}\n",
      "{'ner': 19.176011437771393}\n",
      "{'ner': 19.176011437771393}\n",
      "{'ner': 31.14566518894537}\n",
      "{'ner': 31.14566518894537}\n",
      "{'ner': 31.14566518894537}\n",
      "{'ner': 31.14566518894537}\n",
      "{'ner': 31.14566518894537}\n",
      "{'ner': 37.91097643547926}\n",
      "{'ner': 37.91097643547926}\n",
      "{'ner': 37.91097643547926}\n",
      "{'ner': 37.91097643547926}\n",
      "{'ner': 37.91097643547926}\n",
      "{'ner': 37.91097643547926}\n",
      "{'ner': 37.91097643547926}\n",
      "{'ner': 37.91097643547926}\n",
      "{'ner': 37.91097643547926}\n",
      "{'ner': 37.91097643547926}\n",
      "{'ner': 37.91097643547926}\n",
      "{'ner': 37.91097643547926}\n",
      "{'ner': 37.91097643547926}\n",
      "{'ner': 37.91097643547926}\n",
      "{'ner': 37.91097643547926}\n",
      "{'ner': 37.91097643547926}\n",
      "{'ner': 37.91097643547926}\n",
      "{'ner': 37.91097643547926}\n",
      "{'ner': 37.91097643547926}\n",
      "{'ner': 46.687736573918365}\n",
      "{'ner': 46.687736573918365}\n",
      "{'ner': 51.64069807761537}\n",
      "{'ner': 51.64069807761537}\n",
      "{'ner': 51.64069807761537}\n",
      "{'ner': 51.64069807761537}\n",
      "{'ner': 51.64069807761537}\n",
      "{'ner': 51.64069807761537}\n",
      "{'ner': 51.64069807761537}\n",
      "{'ner': 51.64069807761537}\n",
      "{'ner': 51.64069807761537}\n",
      "{'ner': 51.64069807761537}\n",
      "{'ner': 51.64069807761537}\n",
      "{'ner': 51.64069807761537}\n",
      "{'ner': 51.64069807761537}\n",
      "{'ner': 51.64069807761537}\n",
      "{'ner': 51.64069807761537}\n",
      "{'ner': 51.64069807761537}\n",
      "{'ner': 51.64069807761537}\n",
      "{'ner': 51.64069807761537}\n",
      "{'ner': 51.64069807761537}\n",
      "{'ner': 51.64069807761537}\n",
      "{'ner': 51.64069807761537}\n",
      "{'ner': 51.64069807761537}\n",
      "{'ner': 51.64069807761537}\n",
      "{'ner': 51.64069807761537}\n",
      "{'ner': 51.64069807761537}\n",
      "{'ner': 51.64069807761537}\n",
      "{'ner': 51.64069807761537}\n",
      "{'ner': 53.47794664856674}\n",
      "{'ner': 53.47794664856674}\n",
      "{'ner': 53.47794664856674}\n",
      "{'ner': 53.47794664856674}\n",
      "{'ner': 61.37605706391858}\n",
      "{'ner': 61.37605706391858}\n",
      "{'ner': 61.37605706391858}\n",
      "{'ner': 61.37605706391858}\n",
      "{'ner': 61.37605706391858}\n",
      "{'ner': 61.37605706391858}\n",
      "{'ner': 61.37605706391858}\n",
      "{'ner': 61.37605706391858}\n",
      "{'ner': 63.738751715108734}\n",
      "{'ner': 63.738751715108734}\n",
      "{'ner': 63.738751715108734}\n",
      "{'ner': 63.738751715108734}\n",
      "{'ner': 75.22711246818174}\n",
      "{'ner': 75.22711246818174}\n",
      "{'ner': 75.22711246818174}\n",
      "{'ner': 75.22711246818174}\n",
      "{'ner': 75.22711246818174}\n",
      "{'ner': 75.22711246818174}\n",
      "{'ner': 75.22711246818174}\n",
      "{'ner': 75.22711246818174}\n",
      "{'ner': 81.32204902165121}\n",
      "{'ner': 81.32204902165121}\n",
      "{'ner': 84.48312992427309}\n",
      "{'ner': 84.48312992427309}\n",
      "{'ner': 84.48312992427309}\n",
      "{'ner': 84.48312992427309}\n",
      "{'ner': 84.48312992427309}\n",
      "{'ner': 84.48312992427309}\n",
      "{'ner': 84.48312992427309}\n",
      "{'ner': 84.48312992427309}\n",
      "{'ner': 86.93771826269027}\n",
      "{'ner': 86.93771826269027}\n",
      "{'ner': 86.93771826269027}\n",
      "{'ner': 86.93771826269027}\n",
      "{'ner': 86.93771826269027}\n",
      "{'ner': 86.93771826269027}\n",
      "{'ner': 92.19607509767175}\n",
      "{'ner': 92.19607509767175}\n",
      "{'ner': 92.19607509767175}\n",
      "{'ner': 92.19607509767175}\n",
      "{'ner': 92.19607509767175}\n",
      "{'ner': 92.19607509767175}\n",
      "{'ner': 92.19607509767175}\n",
      "{'ner': 92.19607509767175}\n",
      "{'ner': 92.19607509767175}\n",
      "{'ner': 92.19607509767175}\n",
      "{'ner': 92.19607509767175}\n",
      "{'ner': 92.19607509767175}\n",
      "{'ner': 92.19607509767175}\n",
      "{'ner': 92.19607509767175}\n",
      "{'ner': 92.19607509767175}\n",
      "{'ner': 92.19607509767175}\n",
      "{'ner': 99.23297850165999}\n",
      "{'ner': 99.23297850165999}\n",
      "{'ner': 99.23297850165999}\n",
      "{'ner': 110.63255359380051}\n",
      "{'ner': 110.63255359380051}\n",
      "{'ner': 113.14065099726866}\n",
      "{'ner': 113.14065099726866}\n",
      "{'ner': 113.14065099726866}\n",
      "{'ner': 113.14065099726866}\n",
      "{'ner': 113.14065099726866}\n",
      "{'ner': 113.14065099726866}\n",
      "{'ner': 113.14065099726866}\n",
      "{'ner': 118.58105760547579}\n",
      "{'ner': 118.58105760547579}\n",
      "{'ner': 118.58105760547579}\n",
      "{'ner': 118.58105760547579}\n",
      "{'ner': 118.58105760547579}\n",
      "{'ner': 118.58105760547579}\n",
      "{'ner': 118.58105760547579}\n",
      "{'ner': 118.58105760547579}\n",
      "{'ner': 118.58105760547579}\n",
      "{'ner': 118.58105760547579}\n",
      "{'ner': 118.58105760547579}\n",
      "{'ner': 118.58105760547579}\n",
      "{'ner': 124.05710361928169}\n",
      "{'ner': 124.05710361928169}\n",
      "{'ner': 124.05710361928169}\n",
      "{'ner': 124.05710361928169}\n",
      "{'ner': 124.05710361928169}\n",
      "{'ner': 124.05710361928169}\n",
      "{'ner': 124.05710361928169}\n",
      "{'ner': 131.5253218428518}\n",
      "{'ner': 131.5253218428518}\n",
      "{'ner': 131.5253218428518}\n",
      "{'ner': 131.5253218428518}\n",
      "{'ner': 131.5253218428518}\n",
      "{'ner': 131.5253218428518}\n",
      "{'ner': 131.5253218428518}\n",
      "{'ner': 131.5253218428518}\n",
      "{'ner': 134.2273205006303}\n",
      "{'ner': 134.2273205006303}\n",
      "{'ner': 134.2273205006303}\n",
      "{'ner': 135.97241291587488}\n",
      "{'ner': 135.97241291587488}\n",
      "{'ner': 135.97241291587488}\n",
      "{'ner': 135.97241291587488}\n",
      "{'ner': 135.97241291587488}\n",
      "{'ner': 136.34813275296693}\n",
      "{'ner': 136.34813275296693}\n",
      "{'ner': 136.34813275296693}\n",
      "{'ner': 136.34813275296693}\n",
      "{'ner': 136.34813275296693}\n",
      "{'ner': 136.34813275296693}\n",
      "{'ner': 136.34813275296693}\n",
      "{'ner': 143.723471413908}\n",
      "{'ner': 143.723471413908}\n",
      "{'ner': 143.723471413908}\n",
      "{'ner': 148.76250653794003}\n",
      "{'ner': 148.76250653794003}\n",
      "{'ner': 148.76250653794003}\n",
      "{'ner': 148.76250653794003}\n",
      "{'ner': 148.76250653794003}\n",
      "{'ner': 148.76250653794003}\n",
      "{'ner': 148.76250653794003}\n",
      "{'ner': 148.76250653794003}\n",
      "{'ner': 148.76250653794003}\n",
      "{'ner': 148.76250653794003}\n",
      "{'ner': 148.76250653794003}\n",
      "{'ner': 148.76250653794003}\n",
      "{'ner': 148.76250653794003}\n",
      "Starting iteration\n",
      "{'ner': 0.0}\n",
      "{'ner': 0.0}\n",
      "{'ner': 21.246319659815896}\n",
      "{'ner': 21.246319659815896}\n",
      "{'ner': 21.246319659815896}\n",
      "{'ner': 21.246319659815896}\n",
      "{'ner': 21.246319659815896}\n",
      "{'ner': 21.246319659815896}\n",
      "{'ner': 21.246319659815896}\n",
      "{'ner': 21.246319659815896}\n",
      "{'ner': 21.246319659815896}\n",
      "{'ner': 21.246319659815896}\n",
      "{'ner': 21.246319659815896}\n",
      "{'ner': 21.246319659815896}\n",
      "{'ner': 21.246319659815896}\n",
      "{'ner': 21.246319659815896}\n",
      "{'ner': 28.474912465701617}\n",
      "{'ner': 28.474912465701617}\n",
      "{'ner': 28.474912465701617}\n",
      "{'ner': 28.474912465701617}\n",
      "{'ner': 28.474912465701617}\n",
      "{'ner': 28.474912465701617}\n",
      "{'ner': 28.474912465701617}\n",
      "{'ner': 31.567460644750167}\n",
      "{'ner': 31.567460644750167}\n",
      "{'ner': 31.567460644750167}\n",
      "{'ner': 31.567460644750167}\n",
      "{'ner': 31.567460644750167}\n",
      "{'ner': 31.567460644750167}\n",
      "{'ner': 34.719663573747674}\n",
      "{'ner': 34.719663573747674}\n",
      "{'ner': 34.719663573747674}\n",
      "{'ner': 34.719663573747674}\n",
      "{'ner': 34.719663573747674}\n",
      "{'ner': 34.719663573747674}\n",
      "{'ner': 34.719663573747674}\n",
      "{'ner': 47.33837367445948}\n",
      "{'ner': 47.33837367445948}\n",
      "{'ner': 47.33837367445948}\n",
      "{'ner': 50.58054595180932}\n",
      "{'ner': 50.58054595180932}\n",
      "{'ner': 50.58054595180932}\n",
      "{'ner': 50.58054595180932}\n",
      "{'ner': 50.58054595180932}\n",
      "{'ner': 50.58054595180932}\n",
      "{'ner': 50.58054595180932}\n",
      "{'ner': 50.58054595180932}\n",
      "{'ner': 50.58054595180932}\n",
      "{'ner': 50.58054595180932}\n",
      "{'ner': 51.13342959386483}\n",
      "{'ner': 51.13342959386483}\n",
      "{'ner': 51.13342959386483}\n",
      "{'ner': 51.13342959386483}\n",
      "{'ner': 51.13342959386483}\n",
      "{'ner': 51.13342959386483}\n",
      "{'ner': 51.13342959386483}\n",
      "{'ner': 51.13342959386483}\n",
      "{'ner': 51.54599358213879}\n",
      "{'ner': 51.54599358213879}\n",
      "{'ner': 51.54599358213879}\n",
      "{'ner': 51.54599358213879}\n",
      "{'ner': 51.54599358213879}\n",
      "{'ner': 51.54599358213879}\n",
      "{'ner': 51.54599358213879}\n",
      "{'ner': 51.54599358213879}\n",
      "{'ner': 52.84635478520225}\n",
      "{'ner': 52.84635478520225}\n",
      "{'ner': 52.84635478520225}\n",
      "{'ner': 52.84635478520225}\n",
      "{'ner': 52.84635478520225}\n",
      "{'ner': 52.84635478520225}\n",
      "{'ner': 52.84635478520225}\n",
      "{'ner': 52.84635478520225}\n",
      "{'ner': 52.84635478520225}\n",
      "{'ner': 52.84635478520225}\n",
      "{'ner': 52.84635478520225}\n",
      "{'ner': 54.88703761544008}\n",
      "{'ner': 54.88703761544008}\n",
      "{'ner': 54.88703761544008}\n",
      "{'ner': 54.88703761544008}\n",
      "{'ner': 54.88703761544008}\n",
      "{'ner': 54.88703761544008}\n",
      "{'ner': 54.88703761544008}\n",
      "{'ner': 54.88703761544008}\n",
      "{'ner': 54.88703761544008}\n",
      "{'ner': 54.88703761544008}\n",
      "{'ner': 54.88703761544008}\n",
      "{'ner': 54.88703761544008}\n",
      "{'ner': 54.88703761544008}\n",
      "{'ner': 54.88703761544008}\n",
      "{'ner': 54.88703761544008}\n",
      "{'ner': 54.88703761544008}\n",
      "{'ner': 54.88703761544008}\n",
      "{'ner': 54.88703761544008}\n",
      "{'ner': 54.88703761544008}\n",
      "{'ner': 54.88703761544008}\n",
      "{'ner': 54.88703761544008}\n",
      "{'ner': 54.88703761544008}\n",
      "{'ner': 54.88703761544008}\n",
      "{'ner': 54.88703761544008}\n",
      "{'ner': 54.88703761544008}\n",
      "{'ner': 54.88703761544008}\n",
      "{'ner': 62.17465285410067}\n",
      "{'ner': 62.17465285410067}\n",
      "{'ner': 62.17465285410067}\n",
      "{'ner': 62.17465285410067}\n",
      "{'ner': 64.99994862723644}\n",
      "{'ner': 64.99994862723644}\n",
      "{'ner': 64.99994862723644}\n",
      "{'ner': 64.99994862723644}\n",
      "{'ner': 64.99994862723644}\n",
      "{'ner': 65.07526900970882}\n",
      "{'ner': 65.07526900970882}\n",
      "{'ner': 65.07526900970882}\n",
      "{'ner': 65.07526900970882}\n",
      "{'ner': 65.07526900970882}\n",
      "{'ner': 65.07526900970882}\n",
      "{'ner': 65.07526900970882}\n",
      "{'ner': 65.07526900970882}\n",
      "{'ner': 65.07526900970882}\n",
      "{'ner': 65.07526900970882}\n",
      "{'ner': 68.56997154486332}\n",
      "{'ner': 68.56997154486332}\n",
      "{'ner': 68.56997154486332}\n",
      "{'ner': 68.56997154486332}\n",
      "{'ner': 68.56997154486332}\n",
      "{'ner': 68.56997154486332}\n",
      "{'ner': 68.56997154486332}\n",
      "{'ner': 72.59232943301981}\n",
      "{'ner': 72.59232943301981}\n",
      "{'ner': 72.59232943301981}\n",
      "{'ner': 72.59232943301981}\n",
      "{'ner': 72.59232943301981}\n",
      "{'ner': 72.59232943301981}\n",
      "{'ner': 72.59232943301981}\n",
      "{'ner': 77.11820432002975}\n",
      "{'ner': 77.11820432002975}\n",
      "{'ner': 77.11820432002975}\n",
      "{'ner': 77.11820432002975}\n",
      "{'ner': 77.11820432002975}\n",
      "{'ner': 77.11820432002975}\n",
      "{'ner': 77.11820432002975}\n",
      "{'ner': 79.12479414189002}\n",
      "{'ner': 79.12479414189002}\n",
      "{'ner': 83.09818601542655}\n",
      "{'ner': 83.09818601542655}\n",
      "{'ner': 83.09818601542655}\n",
      "{'ner': 83.09818601542655}\n",
      "{'ner': 83.09818601542655}\n",
      "{'ner': 83.09818601542655}\n",
      "{'ner': 83.09818601542655}\n",
      "{'ner': 83.09818601542655}\n",
      "{'ner': 83.09818601542655}\n",
      "{'ner': 83.09818601542655}\n",
      "{'ner': 83.09818601542655}\n",
      "{'ner': 83.09818601542655}\n",
      "{'ner': 83.09818601542655}\n",
      "{'ner': 83.09818601542655}\n",
      "{'ner': 83.09818601542655}\n",
      "{'ner': 84.69249130722902}\n",
      "{'ner': 84.69249130722902}\n",
      "{'ner': 84.69249130722902}\n",
      "{'ner': 84.69249130722902}\n",
      "{'ner': 84.69249130722902}\n",
      "{'ner': 84.69249130722902}\n",
      "{'ner': 84.69249130722902}\n",
      "{'ner': 84.69249130722902}\n",
      "{'ner': 84.69249130722902}\n",
      "{'ner': 84.69249130722902}\n",
      "{'ner': 86.91816549907992}\n",
      "{'ner': 86.91816549907992}\n",
      "{'ner': 86.91816549907992}\n",
      "{'ner': 86.91816549907992}\n",
      "{'ner': 86.91816549907992}\n",
      "{'ner': 86.91816549907992}\n",
      "{'ner': 86.91816549907992}\n",
      "{'ner': 86.91816549907992}\n",
      "{'ner': 90.50609278628902}\n",
      "{'ner': 90.50609278628902}\n",
      "{'ner': 92.9874946030184}\n",
      "{'ner': 92.9874946030184}\n",
      "{'ner': 92.9874946030184}\n",
      "{'ner': 92.9874946030184}\n",
      "{'ner': 92.9874946030184}\n",
      "{'ner': 92.9874946030184}\n",
      "{'ner': 92.9874946030184}\n",
      "{'ner': 92.9874946030184}\n",
      "{'ner': 92.9874946030184}\n",
      "{'ner': 92.9874946030184}\n",
      "{'ner': 92.9874946030184}\n",
      "{'ner': 92.9874946030184}\n",
      "{'ner': 93.84150821519482}\n",
      "{'ner': 93.84150821519482}\n",
      "{'ner': 93.84150821519482}\n",
      "{'ner': 93.84150821519482}\n",
      "{'ner': 93.86346589089479}\n",
      "{'ner': 96.82444333744974}\n",
      "{'ner': 96.82444333744974}\n",
      "{'ner': 96.82444333744974}\n"
     ]
    }
   ],
   "source": [
    "train_model_dt = train_model_dt(resume_dt)"
   ]
  },
  {
   "cell_type": "code",
   "execution_count": 5,
   "metadata": {},
   "outputs": [],
   "source": [
    "nlp_model = spacy_load_model('nlp_model')"
   ]
  },
  {
   "cell_type": "code",
   "execution_count": 28,
   "metadata": {},
   "outputs": [
    {
     "ename": "NameError",
     "evalue": "name 'resume' is not defined",
     "output_type": "error",
     "traceback": [
      "\u001b[1;31m---------------------------------------------------------------------------\u001b[0m",
      "\u001b[1;31mNameError\u001b[0m                                 Traceback (most recent call last)",
      "\u001b[1;32m~\\AppData\\Local\\Temp/ipykernel_12684/776229200.py\u001b[0m in \u001b[0;36m<module>\u001b[1;34m\u001b[0m\n\u001b[1;32m----> 1\u001b[1;33m \u001b[0mtext\u001b[0m  \u001b[1;33m=\u001b[0m \u001b[1;34m''\u001b[0m\u001b[1;33m.\u001b[0m\u001b[0mjoin\u001b[0m\u001b[1;33m(\u001b[0m\u001b[0mresume\u001b[0m\u001b[1;33m[\u001b[0m\u001b[1;34m'content'\u001b[0m\u001b[1;33m]\u001b[0m\u001b[1;33m[\u001b[0m\u001b[1;36m0\u001b[0m\u001b[1;33m]\u001b[0m\u001b[1;33m.\u001b[0m\u001b[0msplit\u001b[0m\u001b[1;33m(\u001b[0m\u001b[1;34m'\\n'\u001b[0m\u001b[1;33m)\u001b[0m\u001b[1;33m)\u001b[0m\u001b[1;33m\u001b[0m\u001b[1;33m\u001b[0m\u001b[0m\n\u001b[0m\u001b[0;32m      2\u001b[0m \u001b[0mdoc_test\u001b[0m \u001b[1;33m=\u001b[0m \u001b[0mnlp_model\u001b[0m\u001b[1;33m(\u001b[0m\u001b[0mtext\u001b[0m\u001b[1;33m)\u001b[0m\u001b[1;33m\u001b[0m\u001b[1;33m\u001b[0m\u001b[0m\n\u001b[0;32m      3\u001b[0m \u001b[1;32mfor\u001b[0m \u001b[0ment\u001b[0m \u001b[1;32min\u001b[0m \u001b[0mdoc_test\u001b[0m\u001b[1;33m.\u001b[0m\u001b[0ments\u001b[0m\u001b[1;33m:\u001b[0m\u001b[1;33m\u001b[0m\u001b[1;33m\u001b[0m\u001b[0m\n\u001b[0;32m      4\u001b[0m     \u001b[0mprint\u001b[0m\u001b[1;33m(\u001b[0m\u001b[1;34m'{}\\t\\t - {}'\u001b[0m\u001b[1;33m.\u001b[0m\u001b[0mformat\u001b[0m\u001b[1;33m(\u001b[0m\u001b[0ment\u001b[0m\u001b[1;33m.\u001b[0m\u001b[0mlabel_\u001b[0m\u001b[1;33m.\u001b[0m\u001b[0mupper\u001b[0m\u001b[1;33m(\u001b[0m\u001b[1;33m)\u001b[0m\u001b[1;33m,\u001b[0m \u001b[0ment\u001b[0m\u001b[1;33m.\u001b[0m\u001b[0mtext\u001b[0m\u001b[1;33m)\u001b[0m\u001b[1;33m)\u001b[0m\u001b[1;33m\u001b[0m\u001b[1;33m\u001b[0m\u001b[0m\n",
      "\u001b[1;31mNameError\u001b[0m: name 'resume' is not defined"
     ]
    }
   ],
   "source": [
    "# Using resume['content'][0] has all entities as LOCATION \n",
    "# Splitting the text based on the \\n gives the name variable okay\n",
    "text  = ''.join(resume['content'][0].split('\\n'))\n",
    "doc_test = nlp_model(text)\n",
    "for ent in doc_test.ents:\n",
    "    print('{}\\t\\t - {}'.format(ent.label_.upper(), ent.text))"
   ]
  },
  {
   "cell_type": "code",
   "execution_count": 7,
   "metadata": {},
   "outputs": [
    {
     "data": {
      "text/plain": [
       "{'ner': ['College Name',\n",
       "  'Companies worked at',\n",
       "  'Degree',\n",
       "  'Designation',\n",
       "  'Email Address',\n",
       "  'Graduation Year',\n",
       "  'Location',\n",
       "  'Name',\n",
       "  'Skills',\n",
       "  'UNKNOWN',\n",
       "  'Years of Experience']}"
      ]
     },
     "execution_count": 7,
     "metadata": {},
     "output_type": "execute_result"
    }
   ],
   "source": [
    "nlp_model.pipe_labels"
   ]
  },
  {
   "cell_type": "markdown",
   "metadata": {},
   "source": [
    "# Learnt Concepts"
   ]
  },
  {
   "cell_type": "code",
   "execution_count": null,
   "metadata": {},
   "outputs": [],
   "source": [
    "#print([x['points'] for x in item['annotation']])\n",
    "# print([(start, end) for [start,end] in x['start','end'] for x in y['points'] for y in item['annotation']])\n",
    "# print([((x['start'], x['end'] ) for x in (y['points'][0] for y in item['annotation']), [y['label'][0] for y in item['annotation']])])\n",
    "# print([y['label'][0] for y in item['annotation']])"
   ]
  },
  {
   "cell_type": "code",
   "execution_count": null,
   "metadata": {},
   "outputs": [],
   "source": [
    "\n",
    "#Utilizing list comprehension foe the check_annotation method\n",
    "def check_annotation_(annotation):\n",
    "    rmv_idx = []                    #list to hold annotations to be removed\n",
    "\n",
    "    rmv_idx = [annotation.index(x) for x in annotation for y in annotation if y[0] <= x[1] <= y[1] and x != y ]\n",
    "    for i in rmv_idx:\n",
    "        print(annotation[i])\n",
    "    # for item in annotation:\n",
    "    #     for comp_item in annotation:    #iterative loops to compare values against each other\n",
    "    #         if comp_item != item:       #skip similar tuples\n",
    "    #             if item[0] <= comp_item[0] <= item[1]:      #check if item has start value between start & end values of other item\n",
    "    #                 print('Comparative Item: \\t{} \\n Item: \\t\\t\\t{}' .format(comp_item, item))\n",
    "    #                 rmv_idx.append(annotation.index(comp_item))\n",
    "    #             if item[0] <= comp_item[1] <= item[1]:      #check if item has end value between start & end values of other item\n",
    "    #                 print('Comparative Item: \\t{} \\n Item: \\t\\t\\t{}' .format(comp_item, item) )\n",
    "    #                 rmv_idx.append(annotation.index(comp_item))\n",
    "                    \n",
    "    for x in sorted(list(set(rmv_idx)),  reverse = True):              #iterate through the list of reverse ordered & unique values of rmv_idx  \n",
    "        annotation.pop(x)                                               # pop\n",
    "    return annotation\n",
    "\n",
    "for item in resume_dt[0:1]:\n",
    "    start_end_points = [[x['start'], x['end']] for x in (y['points'][0] for y in item['annotation'])] #start & end points for the entities\n",
    "    point_labels =  [y['label'][0] for y in item['annotation']]     #Entity labels\n",
    "    annotation =  []                                                #Variable to hold entity start, end & labels\n",
    "    text = item['content']              \n",
    "    i = 0\n",
    "    for x in start_end_points:      #Combine the entity start, end & labels lists\n",
    "        x.append(point_labels[i])\n",
    "        i+=1\n",
    "        annotation.append(tuple(x))\n",
    "    annotation = check_annotation_(annotation)\n",
    "    print(annotation)\n",
    "        \n",
    "            "
   ]
  },
  {
   "cell_type": "code",
   "execution_count": null,
   "metadata": {},
   "outputs": [],
   "source": [
    "for item in resume_dt[0:1]"
   ]
  },
  {
   "cell_type": "code",
   "execution_count": null,
   "metadata": {},
   "outputs": [],
   "source": [
    "doc = nlp(test)\n",
    "print([[X.text , X.pos_] for X in doc])"
   ]
  },
  {
   "cell_type": "code",
   "execution_count": null,
   "metadata": {},
   "outputs": [],
   "source": [
    "test = \"\"\"European authorities fined Google a record $5.1 billion on Wednesday for\n",
    " abusing its power in the mobile phone market and ordered the company to alter its practices.\"\"\""
   ]
  }
 ],
 "metadata": {
  "interpreter": {
   "hash": "0e9b41925516d81d0c21765c74d27c062a8b54401018308de7a468fb50059a44"
  },
  "kernelspec": {
   "display_name": "Python 3.9.7 64-bit ('NLP_env': conda)",
   "language": "python",
   "name": "python3"
  },
  "language_info": {
   "codemirror_mode": {
    "name": "ipython",
    "version": 3
   },
   "file_extension": ".py",
   "mimetype": "text/x-python",
   "name": "python",
   "nbconvert_exporter": "python",
   "pygments_lexer": "ipython3",
   "version": "3.9.7"
  },
  "orig_nbformat": 4
 },
 "nbformat": 4,
 "nbformat_minor": 2
}
