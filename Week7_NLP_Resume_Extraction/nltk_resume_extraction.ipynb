{
 "cells": [
  {
   "cell_type": "code",
   "execution_count": 15,
   "metadata": {},
   "outputs": [
    {
     "name": "stderr",
     "output_type": "stream",
     "text": [
      "[nltk_data] Downloading package averaged_perceptron_tagger to\n",
      "[nltk_data]     C:\\Users\\teddy\\AppData\\Roaming\\nltk_data...\n",
      "[nltk_data]   Package averaged_perceptron_tagger is already up-to-\n",
      "[nltk_data]       date!\n",
      "[nltk_data] Downloading package universal_tagset to\n",
      "[nltk_data]     C:\\Users\\teddy\\AppData\\Roaming\\nltk_data...\n",
      "[nltk_data]   Unzipping taggers\\universal_tagset.zip.\n"
     ]
    },
    {
     "data": {
      "text/plain": [
       "True"
      ]
     },
     "execution_count": 15,
     "metadata": {},
     "output_type": "execute_result"
    }
   ],
   "source": [
    "from nltk import word_tokenize, sent_tokenize\n",
    "from nltk.tag import pos_tag\n",
    "nltk.download('averaged_perceptron_tagger')\n",
    "nltk.download('universal_tagset')\n",
    "\n",
    "\n"
   ]
  },
  {
   "cell_type": "code",
   "execution_count": 3,
   "metadata": {},
   "outputs": [],
   "source": [
    "test = \"\"\"European authorities fined Google a record $5.1 billion on Wednesday for\n",
    " abusing its power in the mobile phone market and ordered the company to alter its practices.\"\"\""
   ]
  },
  {
   "cell_type": "code",
   "execution_count": 16,
   "metadata": {},
   "outputs": [
    {
     "data": {
      "text/plain": [
       "[('European', 'ADJ'),\n",
       " ('authorities', 'NOUN'),\n",
       " ('fined', 'VERB'),\n",
       " ('Google', 'NOUN'),\n",
       " ('a', 'DET'),\n",
       " ('record', 'NOUN'),\n",
       " ('$', '.'),\n",
       " ('5.1', 'NUM'),\n",
       " ('billion', 'NUM'),\n",
       " ('on', 'ADP'),\n",
       " ('Wednesday', 'NOUN'),\n",
       " ('for', 'ADP'),\n",
       " ('abusing', 'VERB'),\n",
       " ('its', 'PRON'),\n",
       " ('power', 'NOUN'),\n",
       " ('in', 'ADP'),\n",
       " ('the', 'DET'),\n",
       " ('mobile', 'ADJ'),\n",
       " ('phone', 'NOUN'),\n",
       " ('market', 'NOUN'),\n",
       " ('and', 'CONJ'),\n",
       " ('ordered', 'VERB'),\n",
       " ('the', 'DET'),\n",
       " ('company', 'NOUN'),\n",
       " ('to', 'PRT'),\n",
       " ('alter', 'VERB'),\n",
       " ('its', 'PRON'),\n",
       " ('practices', 'NOUN'),\n",
       " ('.', '.')]"
      ]
     },
     "execution_count": 16,
     "metadata": {},
     "output_type": "execute_result"
    }
   ],
   "source": [
    "def preprocess (text):\n",
    "    text = nltk.word_tokenize(text)\n",
    "    text = nltk.pos_tag(text, tagset = 'universal')\n",
    "    return text\n",
    "pre_text = preprocess(test)\n",
    "\n",
    "pre_text"
   ]
  },
  {
   "cell_type": "code",
   "execution_count": null,
   "metadata": {},
   "outputs": [],
   "source": []
  }
 ],
 "metadata": {
  "interpreter": {
   "hash": "0e9b41925516d81d0c21765c74d27c062a8b54401018308de7a468fb50059a44"
  },
  "kernelspec": {
   "display_name": "Python 3.9.7 64-bit ('NLP_env': conda)",
   "language": "python",
   "name": "python3"
  },
  "language_info": {
   "codemirror_mode": {
    "name": "ipython",
    "version": 3
   },
   "file_extension": ".py",
   "mimetype": "text/x-python",
   "name": "python",
   "nbconvert_exporter": "python",
   "pygments_lexer": "ipython3",
   "version": "3.9.7"
  },
  "orig_nbformat": 4
 },
 "nbformat": 4,
 "nbformat_minor": 2
}
